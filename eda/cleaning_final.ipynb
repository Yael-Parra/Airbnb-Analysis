{
 "cells": [
  {
   "cell_type": "markdown",
   "metadata": {},
   "source": [
    "#   <center> <span style=\"color:#f6f794\"> 🧼 Cleaning data</span> </center>\n",
    "___"
   ]
  },
  {
   "cell_type": "markdown",
   "metadata": {},
   "source": [
    "### 📚 <span style=\"color:#f6f794\"> Importing libraries and setting displays </span>"
   ]
  },
  {
   "cell_type": "code",
   "execution_count": 96,
   "metadata": {},
   "outputs": [],
   "source": [
    "import pandas as pd\n",
    "import numpy as np\n",
    "import requests\n",
    "import gzip\n",
    "from io import BytesIO\n",
    "import os\n",
    "from pandas.tseries.offsets import DateOffset\n",
    "import matplotlib.pyplot as plt\n",
    "from matplotlib.colors import LinearSegmentedColormap\n",
    "import seaborn as sns\n",
    "from geopy.geocoders import Nominatim\n",
    "import time\n",
    "from geopy.extra.rate_limiter import RateLimiter\n",
    "import csv\n",
    "import re"
   ]
  },
  {
   "cell_type": "code",
   "execution_count": 2,
   "metadata": {},
   "outputs": [],
   "source": [
    "pd.set_option('display.max_rows', 100) \n",
    "pd.set_option('display.max_columns', None) \n",
    "\n",
    "# pd.set_option('display.max_columns', None)  # Show all columns\n",
    "# pd.set_option('display.max_rows', None)     # Show all rows\n",
    "# pd.set_option('display.max_colwidth', None) # Show entire content of each column\n",
    "pd.set_option('display.width', None)        # No limit on display width\n",
    "pd.set_option('display.expand_frame_repr', False)  # Prevent wrapping"
   ]
  },
  {
   "cell_type": "markdown",
   "metadata": {},
   "source": [
    "### 📂 <span style=\"color:#f6f794\"> Opening files and create dataframes of them </span>"
   ]
  },
  {
   "cell_type": "code",
   "execution_count": 3,
   "metadata": {},
   "outputs": [
    {
     "name": "stdout",
     "output_type": "stream",
     "text": [
      "c:\\Users\\yaelp\\Desktop\\Yael\\Bootcamp_FactoriaF5_IA_Promo4\\Proyectos\\Grupales\\Airbnb-Analysis\\eda\n",
      "c:\\Users\\yaelp\\Desktop\\Yael\\Bootcamp_FactoriaF5_IA_Promo4\\Proyectos\\Grupales\\Airbnb-Analysis\n",
      "c:\\Users\\yaelp\\Desktop\\Yael\\Bootcamp_FactoriaF5_IA_Promo4\\Proyectos\\Grupales\\Airbnb-Analysis\\data\n",
      "c:\\Users\\yaelp\\Desktop\\Yael\\Bootcamp_FactoriaF5_IA_Promo4\\Proyectos\\Grupales\\Airbnb-Analysis\\data\\\n"
     ]
    }
   ],
   "source": [
    "# Setting paths\n",
    "current_dir = os.getcwd()                            # \\Airbnb-Analysis\\eda\n",
    "print(current_dir)\n",
    "parent_dir = os.path.dirname(current_dir)            # \\Airbnb-Analysis\n",
    "print(parent_dir)\n",
    "data_dir = os.path.join(parent_dir, \"data\")          # \\Airbnb-Analysis\\data\n",
    "print(data_dir)\n",
    "cleaning_file_path = os.path.join(data_dir, \"\")      # \\Airbnb-Analysis\\data\\\n",
    "print(cleaning_file_path)\n",
    "\n"
   ]
  },
  {
   "cell_type": "code",
   "execution_count": 4,
   "metadata": {},
   "outputs": [
    {
     "name": "stdout",
     "output_type": "stream",
     "text": [
      "🔗 Downloading data from GitHub...\n",
      "📊 Processing compressed file..\n",
      "✅ Data downloaded succesfully!\n",
      "   📋 Rows: 220,031\n",
      "   📋 Columns: 17\n",
      "   📋 Cities: 6\n"
     ]
    },
    {
     "name": "stderr",
     "output_type": "stream",
     "text": [
      "C:\\Users\\yaelp\\AppData\\Local\\Temp\\ipykernel_32584\\2533526765.py:18: DtypeWarning: Columns (4) have mixed types. Specify dtype option on import or set low_memory=False.\n",
      "  df = pd.read_csv(f)\n"
     ]
    }
   ],
   "source": [
    "GITHUB_RAW_URL = \"https://raw.githubusercontent.com/Yael-Parra/Airbnb-Analysis/feature/data-processing-pipeline/processed_data/airbnb_complete.csv.gz\"\n",
    "\n",
    "def load_airbnb_data_from_github(url):\n",
    "    \"\"\"\n",
    "    Downloading and processing Airbnb data from GitHub repository.\n",
    "    \"\"\"\n",
    "    print(\"🔗 Downloading data from GitHub...\")\n",
    "\n",
    "    try:\n",
    "        # Download the compressed CSV file from GitHub\n",
    "        response = requests.get(url)\n",
    "        response.raise_for_status()\n",
    "\n",
    "        print(\"📊 Processing compressed file..\")\n",
    "\n",
    "        # Decompressing and reading the CSV file\n",
    "        with gzip.open(BytesIO(response.content), 'rt', encoding='utf-8') as f:\n",
    "            df = pd.read_csv(f)\n",
    "\n",
    "        print(f\"✅ Data downloaded succesfully!\")\n",
    "        print(f\"   📋 Rows: {len(df):,}\")\n",
    "        print(f\"   📋 Columns: {len(df.columns)}\")\n",
    "        print(f\"   📋 Cities: {df['city'].nunique() if 'city' in df.columns else 'N/A'}\")\n",
    "\n",
    "        return df\n",
    "\n",
    "    except Exception as e:\n",
    "        print(f\"❌ Error while downloading data: {e}\")\n",
    "        return None\n",
    "\n",
    "# Creating dataframe from GitHub URL\n",
    "df_raw_1 = load_airbnb_data_from_github(GITHUB_RAW_URL)\n"
   ]
  },
  {
   "cell_type": "markdown",
   "metadata": {},
   "source": [
    "____\n",
    "##    <center> 🧹🧹🧹🧹🧹🧹🧹 <span style=\"color:#f6f794\"> START CLEANING </span>  🧹🧹🧹🧹🧹🧹🧹 </center> "
   ]
  },
  {
   "cell_type": "markdown",
   "metadata": {},
   "source": [
    "___\n",
    "####  <span style=\"color:#f6f794\"> <strong> 1️⃣ Columns </strong> </span>\n",
    "\n",
    "#####  <span style=\"color:#f05593\"> Checking columns names </span>"
   ]
  },
  {
   "cell_type": "code",
   "execution_count": 5,
   "metadata": {},
   "outputs": [
    {
     "data": {
      "text/plain": [
       "Index(['id', 'name', 'host_id', 'host_name', 'neighbourhood_group',\n",
       "       'neighbourhood', 'latitude', 'longitude', 'room_type', 'price',\n",
       "       'minimum_nights', 'number_of_reviews', 'last_review',\n",
       "       'reviews_per_month', 'calculated_host_listings_count',\n",
       "       'availability_365', 'city'],\n",
       "      dtype='object')"
      ]
     },
     "execution_count": 5,
     "metadata": {},
     "output_type": "execute_result"
    }
   ],
   "source": [
    "df_raw_1.columns"
   ]
  },
  {
   "cell_type": "code",
   "execution_count": 6,
   "metadata": {},
   "outputs": [
    {
     "data": {
      "application/vnd.microsoft.datawrangler.viewer.v0+json": {
       "columns": [
        {
         "name": "index",
         "rawType": "int64",
         "type": "integer"
        },
        {
         "name": "id",
         "rawType": "int64",
         "type": "integer"
        },
        {
         "name": "name",
         "rawType": "object",
         "type": "unknown"
        },
        {
         "name": "host_id",
         "rawType": "int64",
         "type": "integer"
        },
        {
         "name": "host_name",
         "rawType": "object",
         "type": "unknown"
        },
        {
         "name": "neighbourhood_group",
         "rawType": "object",
         "type": "unknown"
        },
        {
         "name": "neighbourhood",
         "rawType": "object",
         "type": "string"
        },
        {
         "name": "latitude",
         "rawType": "float64",
         "type": "float"
        },
        {
         "name": "longitude",
         "rawType": "float64",
         "type": "float"
        },
        {
         "name": "room_type",
         "rawType": "object",
         "type": "string"
        },
        {
         "name": "price",
         "rawType": "int64",
         "type": "integer"
        },
        {
         "name": "minimum_nights",
         "rawType": "int64",
         "type": "integer"
        },
        {
         "name": "number_of_reviews",
         "rawType": "int64",
         "type": "integer"
        },
        {
         "name": "last_review",
         "rawType": "object",
         "type": "unknown"
        },
        {
         "name": "reviews_per_month",
         "rawType": "float64",
         "type": "float"
        },
        {
         "name": "calculated_host_listings_count",
         "rawType": "float64",
         "type": "float"
        },
        {
         "name": "availability_365",
         "rawType": "float64",
         "type": "float"
        },
        {
         "name": "city",
         "rawType": "object",
         "type": "string"
        }
       ],
       "ref": "f8ae18a5-aa65-4c37-bee0-d3b4e60d4afd",
       "rows": [
        [
         "0",
         "2539",
         "Clean & quiet apt home by the park",
         "2787",
         "John",
         "Brooklyn",
         "Kensington",
         "40.64749",
         "-73.97237",
         "Private room",
         "149",
         "1",
         "9",
         "2018-10-19",
         "0.21",
         "6.0",
         "365.0",
         "Ny"
        ],
        [
         "1",
         "2595",
         "Skylit Midtown Castle",
         "2845",
         "Jennifer",
         "Manhattan",
         "Midtown",
         "40.75362",
         "-73.98377",
         "Entire home/apt",
         "225",
         "1",
         "45",
         "2019-05-21",
         "0.38",
         "2.0",
         "355.0",
         "Ny"
        ],
        [
         "2",
         "3647",
         "THE VILLAGE OF HARLEM....NEW YORK !",
         "4632",
         "Elisabeth",
         "Manhattan",
         "Harlem",
         "40.80902",
         "-73.9419",
         "Private room",
         "150",
         "3",
         "0",
         null,
         null,
         "1.0",
         "365.0",
         "Ny"
        ],
        [
         "3",
         "3831",
         "Cozy Entire Floor of Brownstone",
         "4869",
         "LisaRoxanne",
         "Brooklyn",
         "Clinton Hill",
         "40.68514",
         "-73.95976",
         "Entire home/apt",
         "89",
         "1",
         "270",
         "2019-07-05",
         "4.64",
         "1.0",
         "194.0",
         "Ny"
        ],
        [
         "4",
         "5022",
         "Entire Apt: Spacious Studio/Loft by central park",
         "7192",
         "Laura",
         "Manhattan",
         "East Harlem",
         "40.79851",
         "-73.94399",
         "Entire home/apt",
         "80",
         "10",
         "9",
         "2018-11-19",
         "0.1",
         "1.0",
         "0.0",
         "Ny"
        ],
        [
         "5",
         "5099",
         "Large Cozy 1 BR Apartment In Midtown East",
         "7322",
         "Chris",
         "Manhattan",
         "Murray Hill",
         "40.74767",
         "-73.975",
         "Entire home/apt",
         "200",
         "3",
         "74",
         "2019-06-22",
         "0.59",
         "1.0",
         "129.0",
         "Ny"
        ],
        [
         "6",
         "5121",
         "BlissArtsSpace!",
         "7356",
         "Garon",
         "Brooklyn",
         "Bedford-Stuyvesant",
         "40.68688",
         "-73.95596",
         "Private room",
         "60",
         "45",
         "49",
         "2017-10-05",
         "0.4",
         "1.0",
         "0.0",
         "Ny"
        ],
        [
         "7",
         "5178",
         "Large Furnished Room Near B'way",
         "8967",
         "Shunichi",
         "Manhattan",
         "Hell's Kitchen",
         "40.76489",
         "-73.98493",
         "Private room",
         "79",
         "2",
         "430",
         "2019-06-24",
         "3.47",
         "1.0",
         "220.0",
         "Ny"
        ],
        [
         "8",
         "5203",
         "Cozy Clean Guest Room - Family Apt",
         "7490",
         "MaryEllen",
         "Manhattan",
         "Upper West Side",
         "40.80178",
         "-73.96723",
         "Private room",
         "79",
         "2",
         "118",
         "2017-07-21",
         "0.99",
         "1.0",
         "0.0",
         "Ny"
        ],
        [
         "9",
         "5238",
         "Cute & Cozy Lower East Side 1 bdrm",
         "7549",
         "Ben",
         "Manhattan",
         "Chinatown",
         "40.71344",
         "-73.99037",
         "Entire home/apt",
         "150",
         "1",
         "160",
         "2019-06-09",
         "1.33",
         "4.0",
         "188.0",
         "Ny"
        ],
        [
         "10",
         "5295",
         "Beautiful 1br on Upper West Side",
         "7702",
         "Lena",
         "Manhattan",
         "Upper West Side",
         "40.80316",
         "-73.96545",
         "Entire home/apt",
         "135",
         "5",
         "53",
         "2019-06-22",
         "0.43",
         "1.0",
         "6.0",
         "Ny"
        ],
        [
         "11",
         "5441",
         "Central Manhattan/near Broadway",
         "7989",
         "Kate",
         "Manhattan",
         "Hell's Kitchen",
         "40.76076",
         "-73.98867",
         "Private room",
         "85",
         "2",
         "188",
         "2019-06-23",
         "1.5",
         "1.0",
         "39.0",
         "Ny"
        ],
        [
         "12",
         "5803",
         "Lovely Room 1, Garden, Best Area, Legal rental",
         "9744",
         "Laurie",
         "Brooklyn",
         "South Slope",
         "40.66829",
         "-73.98779",
         "Private room",
         "89",
         "4",
         "167",
         "2019-06-24",
         "1.34",
         "3.0",
         "314.0",
         "Ny"
        ],
        [
         "13",
         "6021",
         "Wonderful Guest Bedroom in Manhattan for SINGLES",
         "11528",
         "Claudio",
         "Manhattan",
         "Upper West Side",
         "40.79826",
         "-73.96113",
         "Private room",
         "85",
         "2",
         "113",
         "2019-07-05",
         "0.91",
         "1.0",
         "333.0",
         "Ny"
        ],
        [
         "14",
         "6090",
         "West Village Nest - Superhost",
         "11975",
         "Alina",
         "Manhattan",
         "West Village",
         "40.7353",
         "-74.00525",
         "Entire home/apt",
         "120",
         "90",
         "27",
         "2018-10-31",
         "0.22",
         "1.0",
         "0.0",
         "Ny"
        ],
        [
         "15",
         "6848",
         "Only 2 stops to Manhattan studio",
         "15991",
         "Allen & Irina",
         "Brooklyn",
         "Williamsburg",
         "40.70837",
         "-73.95352",
         "Entire home/apt",
         "140",
         "2",
         "148",
         "2019-06-29",
         "1.2",
         "1.0",
         "46.0",
         "Ny"
        ],
        [
         "16",
         "7097",
         "Perfect for Your Parents + Garden",
         "17571",
         "Jane",
         "Brooklyn",
         "Fort Greene",
         "40.69169",
         "-73.97185",
         "Entire home/apt",
         "215",
         "2",
         "198",
         "2019-06-28",
         "1.72",
         "1.0",
         "321.0",
         "Ny"
        ],
        [
         "17",
         "7322",
         "Chelsea Perfect",
         "18946",
         "Doti",
         "Manhattan",
         "Chelsea",
         "40.74192",
         "-73.99501",
         "Private room",
         "140",
         "1",
         "260",
         "2019-07-01",
         "2.12",
         "1.0",
         "12.0",
         "Ny"
        ],
        [
         "18",
         "7726",
         "Hip Historic Brownstone Apartment with Backyard",
         "20950",
         "Adam And Charity",
         "Brooklyn",
         "Crown Heights",
         "40.67592",
         "-73.94694",
         "Entire home/apt",
         "99",
         "3",
         "53",
         "2019-06-22",
         "4.44",
         "1.0",
         "21.0",
         "Ny"
        ],
        [
         "19",
         "7750",
         "Huge 2 BR Upper East  Cental Park",
         "17985",
         "Sing",
         "Manhattan",
         "East Harlem",
         "40.79685",
         "-73.94872",
         "Entire home/apt",
         "190",
         "7",
         "0",
         null,
         null,
         "2.0",
         "249.0",
         "Ny"
        ],
        [
         "20",
         "7801",
         "Sweet and Spacious Brooklyn Loft",
         "21207",
         "Chaya",
         "Brooklyn",
         "Williamsburg",
         "40.71842",
         "-73.95718",
         "Entire home/apt",
         "299",
         "3",
         "9",
         "2011-12-28",
         "0.07",
         "1.0",
         "0.0",
         "Ny"
        ],
        [
         "21",
         "8024",
         "CBG CtyBGd HelpsHaiti rm#1:1-4",
         "22486",
         "Lisel",
         "Brooklyn",
         "Park Slope",
         "40.68069",
         "-73.97706",
         "Private room",
         "130",
         "2",
         "130",
         "2019-07-01",
         "1.09",
         "6.0",
         "347.0",
         "Ny"
        ],
        [
         "22",
         "8025",
         "CBG Helps Haiti Room#2.5",
         "22486",
         "Lisel",
         "Brooklyn",
         "Park Slope",
         "40.67989",
         "-73.97798",
         "Private room",
         "80",
         "1",
         "39",
         "2019-01-01",
         "0.37",
         "6.0",
         "364.0",
         "Ny"
        ],
        [
         "23",
         "8110",
         "CBG Helps Haiti Rm #2",
         "22486",
         "Lisel",
         "Brooklyn",
         "Park Slope",
         "40.68001",
         "-73.97865",
         "Private room",
         "110",
         "2",
         "71",
         "2019-07-02",
         "0.61",
         "6.0",
         "304.0",
         "Ny"
        ],
        [
         "24",
         "8490",
         "MAISON DES SIRENES1,bohemian apartment",
         "25183",
         "Nathalie",
         "Brooklyn",
         "Bedford-Stuyvesant",
         "40.68371",
         "-73.94028",
         "Entire home/apt",
         "120",
         "2",
         "88",
         "2019-06-19",
         "0.73",
         "2.0",
         "233.0",
         "Ny"
        ],
        [
         "25",
         "8505",
         "Sunny Bedroom Across Prospect Park",
         "25326",
         "Gregory",
         "Brooklyn",
         "Windsor Terrace",
         "40.65599",
         "-73.97519",
         "Private room",
         "60",
         "1",
         "19",
         "2019-06-23",
         "1.37",
         "2.0",
         "85.0",
         "Ny"
        ],
        [
         "26",
         "8700",
         "Magnifique Suite au N de Manhattan - vue Cloitres",
         "26394",
         "Claude & Sophie",
         "Manhattan",
         "Inwood",
         "40.86754",
         "-73.92639",
         "Private room",
         "80",
         "4",
         "0",
         null,
         null,
         "1.0",
         "0.0",
         "Ny"
        ],
        [
         "27",
         "9357",
         "Midtown Pied-a-terre",
         "30193",
         "Tommi",
         "Manhattan",
         "Hell's Kitchen",
         "40.76715",
         "-73.98533",
         "Entire home/apt",
         "150",
         "10",
         "58",
         "2017-08-13",
         "0.49",
         "1.0",
         "75.0",
         "Ny"
        ],
        [
         "28",
         "9518",
         "SPACIOUS, LOVELY FURNISHED MANHATTAN BEDROOM",
         "31374",
         "Shon",
         "Manhattan",
         "Inwood",
         "40.86482",
         "-73.92106",
         "Private room",
         "44",
         "3",
         "108",
         "2019-06-15",
         "1.11",
         "3.0",
         "311.0",
         "Ny"
        ],
        [
         "29",
         "9657",
         "Modern 1 BR / NYC / EAST VILLAGE",
         "21904",
         "Dana",
         "Manhattan",
         "East Village",
         "40.7292",
         "-73.98542",
         "Entire home/apt",
         "180",
         "14",
         "29",
         "2019-04-19",
         "0.24",
         "1.0",
         "67.0",
         "Ny"
        ],
        [
         "30",
         "9668",
         "front room/double bed",
         "32294",
         "Ssameer Or Trip",
         "Manhattan",
         "Harlem",
         "40.82245",
         "-73.95104",
         "Private room",
         "50",
         "3",
         "242",
         "2019-06-01",
         "2.04",
         "3.0",
         "355.0",
         "Ny"
        ],
        [
         "31",
         "9704",
         "Spacious 1 bedroom in luxe building",
         "32045",
         "Teri",
         "Manhattan",
         "Harlem",
         "40.81305",
         "-73.95466",
         "Private room",
         "52",
         "2",
         "88",
         "2019-06-14",
         "1.42",
         "1.0",
         "255.0",
         "Ny"
        ],
        [
         "32",
         "9782",
         "Loft in Williamsburg Area w/ Roof",
         "32169",
         "Andrea",
         "Brooklyn",
         "Greenpoint",
         "40.72219",
         "-73.93762",
         "Private room",
         "55",
         "4",
         "197",
         "2019-06-15",
         "1.65",
         "3.0",
         "284.0",
         "Ny"
        ],
        [
         "33",
         "9783",
         "back room/bunk beds",
         "32294",
         "Ssameer Or Trip",
         "Manhattan",
         "Harlem",
         "40.8213",
         "-73.95318",
         "Private room",
         "50",
         "3",
         "273",
         "2019-07-01",
         "2.37",
         "3.0",
         "359.0",
         "Ny"
        ],
        [
         "34",
         "10452",
         "Large B&B Style rooms",
         "35935",
         "Angela",
         "Brooklyn",
         "Bedford-Stuyvesant",
         "40.6831",
         "-73.95473",
         "Private room",
         "70",
         "1",
         "74",
         "2019-05-12",
         "0.66",
         "2.0",
         "269.0",
         "Ny"
        ],
        [
         "35",
         "10962",
         "Lovely room 2 & garden; Best area, Legal rental",
         "9744",
         "Laurie",
         "Brooklyn",
         "South Slope",
         "40.66869",
         "-73.9878",
         "Private room",
         "89",
         "4",
         "168",
         "2019-06-21",
         "1.41",
         "3.0",
         "340.0",
         "Ny"
        ],
        [
         "36",
         "11452",
         "Clean and Quiet in Brooklyn",
         "7355",
         "Vt",
         "Brooklyn",
         "Bedford-Stuyvesant",
         "40.68876",
         "-73.94312",
         "Private room",
         "35",
         "60",
         "0",
         null,
         null,
         "1.0",
         "365.0",
         "Ny"
        ],
        [
         "37",
         "11708",
         "Cute apt in artist's home",
         "44145",
         "Tyrome",
         "Brooklyn",
         "Bushwick",
         "40.70186",
         "-73.92745",
         "Entire home/apt",
         "85",
         "2",
         "231",
         "2019-06-22",
         "1.96",
         "2.0",
         "22.0",
         "Ny"
        ],
        [
         "38",
         "11943",
         "Country space in the city",
         "45445",
         "Harriet",
         "Brooklyn",
         "Flatbush",
         "40.63702",
         "-73.96327",
         "Private room",
         "150",
         "1",
         "0",
         null,
         null,
         "1.0",
         "365.0",
         "Ny"
        ],
        [
         "39",
         "12048",
         "LowerEastSide apt share shortterm 1",
         "7549",
         "Ben",
         "Manhattan",
         "Lower East Side",
         "40.71401",
         "-73.98917",
         "Shared room",
         "40",
         "1",
         "214",
         "2019-07-05",
         "1.81",
         "4.0",
         "188.0",
         "Ny"
        ],
        [
         "40",
         "12192",
         "ENJOY Downtown NYC!",
         "46978",
         "Edward",
         "Manhattan",
         "East Village",
         "40.7229",
         "-73.98199",
         "Private room",
         "68",
         "2",
         "245",
         "2019-06-21",
         "2.08",
         "2.0",
         "96.0",
         "Ny"
        ],
        [
         "41",
         "12299",
         "Beautiful Sunny Park Slope Brooklyn",
         "47610",
         "Abdul",
         "Brooklyn",
         "South Slope",
         "40.66278",
         "-73.97966",
         "Entire home/apt",
         "120",
         "3",
         "15",
         "2019-05-27",
         "0.39",
         "1.0",
         "345.0",
         "Ny"
        ],
        [
         "42",
         "12303",
         "1bdr w private bath. in lofty apt",
         "47618",
         "Yolande",
         "Brooklyn",
         "Fort Greene",
         "40.69673",
         "-73.97584",
         "Private room",
         "120",
         "7",
         "25",
         "2018-09-30",
         "0.23",
         "1.0",
         "311.0",
         "Ny"
        ],
        [
         "43",
         "12318",
         "West Side Retreat",
         "16800",
         "Cyn",
         "Manhattan",
         "Upper West Side",
         "40.79009",
         "-73.97927",
         "Private room",
         "135",
         "4",
         "81",
         "2019-06-16",
         "0.69",
         "1.0",
         "273.0",
         "Ny"
        ],
        [
         "44",
         "12343",
         "BEST BET IN HARLEM",
         "47727",
         "Earl",
         "Manhattan",
         "Harlem",
         "40.81175",
         "-73.94478",
         "Entire home/apt",
         "150",
         "7",
         "97",
         "2019-06-13",
         "0.84",
         "1.0",
         "309.0",
         "Ny"
        ],
        [
         "45",
         "12627",
         "Entire apartment in central Brooklyn neighborhood.",
         "49670",
         "Rana",
         "Brooklyn",
         "Prospect-Lefferts Gardens",
         "40.65944",
         "-73.96238",
         "Entire home/apt",
         "150",
         "29",
         "11",
         "2019-06-05",
         "0.49",
         "1.0",
         "95.0",
         "Ny"
        ],
        [
         "46",
         "12937",
         "1 Stop fr. Manhattan! Private Suite,Landmark Block",
         "50124",
         "Orestes",
         "Queens",
         "Long Island City",
         "40.74771",
         "-73.9474",
         "Private room",
         "130",
         "3",
         "248",
         "2019-07-01",
         "2.25",
         "1.0",
         "215.0",
         "Ny"
        ],
        [
         "47",
         "12940",
         "Charming Brownstone 3 - Near PRATT",
         "50148",
         "Adreinne",
         "Brooklyn",
         "Bedford-Stuyvesant",
         "40.68111",
         "-73.95591",
         "Entire home/apt",
         "110",
         "7",
         "61",
         "2019-05-25",
         "0.52",
         "1.0",
         "265.0",
         "Ny"
        ],
        [
         "48",
         "13050",
         "bright and stylish duplex",
         "50846",
         "Jennifer",
         "Brooklyn",
         "Bedford-Stuyvesant",
         "40.68554",
         "-73.9409",
         "Entire home/apt",
         "115",
         "3",
         "11",
         "2017-01-01",
         "0.1",
         "1.0",
         "0.0",
         "Ny"
        ],
        [
         "49",
         "13394",
         "Fort Greene brownstone",
         "52335",
         "Alexander",
         "Brooklyn",
         "Fort Greene",
         "40.69142",
         "-73.97376",
         "Private room",
         "80",
         "3",
         "135",
         "2019-06-17",
         "1.16",
         "2.0",
         "192.0",
         "Ny"
        ]
       ],
       "shape": {
        "columns": 17,
        "rows": 220031
       }
      },
      "text/html": [
       "<div>\n",
       "<style scoped>\n",
       "    .dataframe tbody tr th:only-of-type {\n",
       "        vertical-align: middle;\n",
       "    }\n",
       "\n",
       "    .dataframe tbody tr th {\n",
       "        vertical-align: top;\n",
       "    }\n",
       "\n",
       "    .dataframe thead th {\n",
       "        text-align: right;\n",
       "    }\n",
       "</style>\n",
       "<table border=\"1\" class=\"dataframe\">\n",
       "  <thead>\n",
       "    <tr style=\"text-align: right;\">\n",
       "      <th></th>\n",
       "      <th>id</th>\n",
       "      <th>name</th>\n",
       "      <th>host_id</th>\n",
       "      <th>host_name</th>\n",
       "      <th>neighbourhood_group</th>\n",
       "      <th>neighbourhood</th>\n",
       "      <th>latitude</th>\n",
       "      <th>longitude</th>\n",
       "      <th>room_type</th>\n",
       "      <th>price</th>\n",
       "      <th>minimum_nights</th>\n",
       "      <th>number_of_reviews</th>\n",
       "      <th>last_review</th>\n",
       "      <th>reviews_per_month</th>\n",
       "      <th>calculated_host_listings_count</th>\n",
       "      <th>availability_365</th>\n",
       "      <th>city</th>\n",
       "    </tr>\n",
       "  </thead>\n",
       "  <tbody>\n",
       "    <tr>\n",
       "      <th>0</th>\n",
       "      <td>2539</td>\n",
       "      <td>Clean &amp; quiet apt home by the park</td>\n",
       "      <td>2787</td>\n",
       "      <td>John</td>\n",
       "      <td>Brooklyn</td>\n",
       "      <td>Kensington</td>\n",
       "      <td>40.64749</td>\n",
       "      <td>-73.97237</td>\n",
       "      <td>Private room</td>\n",
       "      <td>149</td>\n",
       "      <td>1</td>\n",
       "      <td>9</td>\n",
       "      <td>2018-10-19</td>\n",
       "      <td>0.21</td>\n",
       "      <td>6.0</td>\n",
       "      <td>365.0</td>\n",
       "      <td>Ny</td>\n",
       "    </tr>\n",
       "    <tr>\n",
       "      <th>1</th>\n",
       "      <td>2595</td>\n",
       "      <td>Skylit Midtown Castle</td>\n",
       "      <td>2845</td>\n",
       "      <td>Jennifer</td>\n",
       "      <td>Manhattan</td>\n",
       "      <td>Midtown</td>\n",
       "      <td>40.75362</td>\n",
       "      <td>-73.98377</td>\n",
       "      <td>Entire home/apt</td>\n",
       "      <td>225</td>\n",
       "      <td>1</td>\n",
       "      <td>45</td>\n",
       "      <td>2019-05-21</td>\n",
       "      <td>0.38</td>\n",
       "      <td>2.0</td>\n",
       "      <td>355.0</td>\n",
       "      <td>Ny</td>\n",
       "    </tr>\n",
       "    <tr>\n",
       "      <th>2</th>\n",
       "      <td>3647</td>\n",
       "      <td>THE VILLAGE OF HARLEM....NEW YORK !</td>\n",
       "      <td>4632</td>\n",
       "      <td>Elisabeth</td>\n",
       "      <td>Manhattan</td>\n",
       "      <td>Harlem</td>\n",
       "      <td>40.80902</td>\n",
       "      <td>-73.94190</td>\n",
       "      <td>Private room</td>\n",
       "      <td>150</td>\n",
       "      <td>3</td>\n",
       "      <td>0</td>\n",
       "      <td>NaN</td>\n",
       "      <td>NaN</td>\n",
       "      <td>1.0</td>\n",
       "      <td>365.0</td>\n",
       "      <td>Ny</td>\n",
       "    </tr>\n",
       "    <tr>\n",
       "      <th>3</th>\n",
       "      <td>3831</td>\n",
       "      <td>Cozy Entire Floor of Brownstone</td>\n",
       "      <td>4869</td>\n",
       "      <td>LisaRoxanne</td>\n",
       "      <td>Brooklyn</td>\n",
       "      <td>Clinton Hill</td>\n",
       "      <td>40.68514</td>\n",
       "      <td>-73.95976</td>\n",
       "      <td>Entire home/apt</td>\n",
       "      <td>89</td>\n",
       "      <td>1</td>\n",
       "      <td>270</td>\n",
       "      <td>2019-07-05</td>\n",
       "      <td>4.64</td>\n",
       "      <td>1.0</td>\n",
       "      <td>194.0</td>\n",
       "      <td>Ny</td>\n",
       "    </tr>\n",
       "    <tr>\n",
       "      <th>4</th>\n",
       "      <td>5022</td>\n",
       "      <td>Entire Apt: Spacious Studio/Loft by central park</td>\n",
       "      <td>7192</td>\n",
       "      <td>Laura</td>\n",
       "      <td>Manhattan</td>\n",
       "      <td>East Harlem</td>\n",
       "      <td>40.79851</td>\n",
       "      <td>-73.94399</td>\n",
       "      <td>Entire home/apt</td>\n",
       "      <td>80</td>\n",
       "      <td>10</td>\n",
       "      <td>9</td>\n",
       "      <td>2018-11-19</td>\n",
       "      <td>0.10</td>\n",
       "      <td>1.0</td>\n",
       "      <td>0.0</td>\n",
       "      <td>Ny</td>\n",
       "    </tr>\n",
       "    <tr>\n",
       "      <th>...</th>\n",
       "      <td>...</td>\n",
       "      <td>...</td>\n",
       "      <td>...</td>\n",
       "      <td>...</td>\n",
       "      <td>...</td>\n",
       "      <td>...</td>\n",
       "      <td>...</td>\n",
       "      <td>...</td>\n",
       "      <td>...</td>\n",
       "      <td>...</td>\n",
       "      <td>...</td>\n",
       "      <td>...</td>\n",
       "      <td>...</td>\n",
       "      <td>...</td>\n",
       "      <td>...</td>\n",
       "      <td>...</td>\n",
       "      <td>...</td>\n",
       "    </tr>\n",
       "    <tr>\n",
       "      <th>220026</th>\n",
       "      <td>49185822</td>\n",
       "      <td>Habitación con TV con Netflix en Lavapiés</td>\n",
       "      <td>172011610</td>\n",
       "      <td>Belaid</td>\n",
       "      <td>Centro</td>\n",
       "      <td>Embajadores</td>\n",
       "      <td>40.40756</td>\n",
       "      <td>-3.69937</td>\n",
       "      <td>Private room</td>\n",
       "      <td>23</td>\n",
       "      <td>30</td>\n",
       "      <td>0</td>\n",
       "      <td>NaN</td>\n",
       "      <td>NaN</td>\n",
       "      <td>8.0</td>\n",
       "      <td>349.0</td>\n",
       "      <td>Madrid</td>\n",
       "    </tr>\n",
       "    <tr>\n",
       "      <th>220027</th>\n",
       "      <td>49186179</td>\n",
       "      <td>Habitación con TV con Netflix en Gaztambide</td>\n",
       "      <td>172011610</td>\n",
       "      <td>Belaid</td>\n",
       "      <td>Chamberí</td>\n",
       "      <td>Gaztambide</td>\n",
       "      <td>40.43706</td>\n",
       "      <td>-3.71364</td>\n",
       "      <td>Private room</td>\n",
       "      <td>21</td>\n",
       "      <td>30</td>\n",
       "      <td>0</td>\n",
       "      <td>NaN</td>\n",
       "      <td>NaN</td>\n",
       "      <td>8.0</td>\n",
       "      <td>350.0</td>\n",
       "      <td>Madrid</td>\n",
       "    </tr>\n",
       "    <tr>\n",
       "      <th>220028</th>\n",
       "      <td>49187258</td>\n",
       "      <td>Habitación con TV con Netflix en Chamberí</td>\n",
       "      <td>172011610</td>\n",
       "      <td>Belaid</td>\n",
       "      <td>Chamberí</td>\n",
       "      <td>Arapiles</td>\n",
       "      <td>40.43857</td>\n",
       "      <td>-3.70715</td>\n",
       "      <td>Private room</td>\n",
       "      <td>22</td>\n",
       "      <td>7</td>\n",
       "      <td>0</td>\n",
       "      <td>NaN</td>\n",
       "      <td>NaN</td>\n",
       "      <td>8.0</td>\n",
       "      <td>364.0</td>\n",
       "      <td>Madrid</td>\n",
       "    </tr>\n",
       "    <tr>\n",
       "      <th>220029</th>\n",
       "      <td>49187471</td>\n",
       "      <td>Habitación con TV con Netflix en Goya</td>\n",
       "      <td>172011610</td>\n",
       "      <td>Belaid</td>\n",
       "      <td>Salamanca</td>\n",
       "      <td>Guindalera</td>\n",
       "      <td>40.43027</td>\n",
       "      <td>-3.66759</td>\n",
       "      <td>Private room</td>\n",
       "      <td>19</td>\n",
       "      <td>30</td>\n",
       "      <td>0</td>\n",
       "      <td>NaN</td>\n",
       "      <td>NaN</td>\n",
       "      <td>8.0</td>\n",
       "      <td>349.0</td>\n",
       "      <td>Madrid</td>\n",
       "    </tr>\n",
       "    <tr>\n",
       "      <th>220030</th>\n",
       "      <td>49187791</td>\n",
       "      <td>Habitación con TV con Netflix en Chamberí</td>\n",
       "      <td>172011610</td>\n",
       "      <td>Belaid</td>\n",
       "      <td>Chamberí</td>\n",
       "      <td>Arapiles</td>\n",
       "      <td>40.43484</td>\n",
       "      <td>-3.70667</td>\n",
       "      <td>Private room</td>\n",
       "      <td>20</td>\n",
       "      <td>30</td>\n",
       "      <td>0</td>\n",
       "      <td>NaN</td>\n",
       "      <td>NaN</td>\n",
       "      <td>8.0</td>\n",
       "      <td>349.0</td>\n",
       "      <td>Madrid</td>\n",
       "    </tr>\n",
       "  </tbody>\n",
       "</table>\n",
       "<p>220031 rows × 17 columns</p>\n",
       "</div>"
      ],
      "text/plain": [
       "              id                                              name    host_id    host_name neighbourhood_group neighbourhood  latitude  longitude        room_type  price  minimum_nights  number_of_reviews last_review  reviews_per_month  calculated_host_listings_count  availability_365    city\n",
       "0           2539                Clean & quiet apt home by the park       2787         John            Brooklyn    Kensington  40.64749  -73.97237     Private room    149               1                  9  2018-10-19               0.21                             6.0             365.0      Ny\n",
       "1           2595                             Skylit Midtown Castle       2845     Jennifer           Manhattan       Midtown  40.75362  -73.98377  Entire home/apt    225               1                 45  2019-05-21               0.38                             2.0             355.0      Ny\n",
       "2           3647               THE VILLAGE OF HARLEM....NEW YORK !       4632    Elisabeth           Manhattan        Harlem  40.80902  -73.94190     Private room    150               3                  0         NaN                NaN                             1.0             365.0      Ny\n",
       "3           3831                   Cozy Entire Floor of Brownstone       4869  LisaRoxanne            Brooklyn  Clinton Hill  40.68514  -73.95976  Entire home/apt     89               1                270  2019-07-05               4.64                             1.0             194.0      Ny\n",
       "4           5022  Entire Apt: Spacious Studio/Loft by central park       7192        Laura           Manhattan   East Harlem  40.79851  -73.94399  Entire home/apt     80              10                  9  2018-11-19               0.10                             1.0               0.0      Ny\n",
       "...          ...                                               ...        ...          ...                 ...           ...       ...        ...              ...    ...             ...                ...         ...                ...                             ...               ...     ...\n",
       "220026  49185822         Habitación con TV con Netflix en Lavapiés  172011610       Belaid              Centro   Embajadores  40.40756   -3.69937     Private room     23              30                  0         NaN                NaN                             8.0             349.0  Madrid\n",
       "220027  49186179       Habitación con TV con Netflix en Gaztambide  172011610       Belaid            Chamberí    Gaztambide  40.43706   -3.71364     Private room     21              30                  0         NaN                NaN                             8.0             350.0  Madrid\n",
       "220028  49187258         Habitación con TV con Netflix en Chamberí  172011610       Belaid            Chamberí      Arapiles  40.43857   -3.70715     Private room     22               7                  0         NaN                NaN                             8.0             364.0  Madrid\n",
       "220029  49187471             Habitación con TV con Netflix en Goya  172011610       Belaid           Salamanca    Guindalera  40.43027   -3.66759     Private room     19              30                  0         NaN                NaN                             8.0             349.0  Madrid\n",
       "220030  49187791         Habitación con TV con Netflix en Chamberí  172011610       Belaid            Chamberí      Arapiles  40.43484   -3.70667     Private room     20              30                  0         NaN                NaN                             8.0             349.0  Madrid\n",
       "\n",
       "[220031 rows x 17 columns]"
      ]
     },
     "execution_count": 6,
     "metadata": {},
     "output_type": "execute_result"
    }
   ],
   "source": [
    "df_raw_1"
   ]
  },
  {
   "cell_type": "markdown",
   "metadata": {},
   "source": [
    "#####  <span style=\"color:#f05593\"> Columns Types </span>\n",
    "- Changes:\n",
    "    - [\"last_review\"]\n",
    "        - originally it was like object but since it is a date, it was turn into a datetime type"
   ]
  },
  {
   "cell_type": "code",
   "execution_count": 7,
   "metadata": {},
   "outputs": [
    {
     "data": {
      "application/vnd.microsoft.datawrangler.viewer.v0+json": {
       "columns": [
        {
         "name": "index",
         "rawType": "object",
         "type": "string"
        },
        {
         "name": "0",
         "rawType": "object",
         "type": "unknown"
        }
       ],
       "ref": "77e51e77-0677-4332-8f9e-22f4959ddada",
       "rows": [
        [
         "id",
         "int64"
        ],
        [
         "name",
         "object"
        ],
        [
         "host_id",
         "int64"
        ],
        [
         "host_name",
         "object"
        ],
        [
         "neighbourhood_group",
         "object"
        ],
        [
         "neighbourhood",
         "object"
        ],
        [
         "latitude",
         "float64"
        ],
        [
         "longitude",
         "float64"
        ],
        [
         "room_type",
         "object"
        ],
        [
         "price",
         "int64"
        ],
        [
         "minimum_nights",
         "int64"
        ],
        [
         "number_of_reviews",
         "int64"
        ],
        [
         "last_review",
         "object"
        ],
        [
         "reviews_per_month",
         "float64"
        ],
        [
         "calculated_host_listings_count",
         "float64"
        ],
        [
         "availability_365",
         "float64"
        ],
        [
         "city",
         "object"
        ]
       ],
       "shape": {
        "columns": 1,
        "rows": 17
       }
      },
      "text/plain": [
       "id                                  int64\n",
       "name                               object\n",
       "host_id                             int64\n",
       "host_name                          object\n",
       "neighbourhood_group                object\n",
       "neighbourhood                      object\n",
       "latitude                          float64\n",
       "longitude                         float64\n",
       "room_type                          object\n",
       "price                               int64\n",
       "minimum_nights                      int64\n",
       "number_of_reviews                   int64\n",
       "last_review                        object\n",
       "reviews_per_month                 float64\n",
       "calculated_host_listings_count    float64\n",
       "availability_365                  float64\n",
       "city                               object\n",
       "dtype: object"
      ]
     },
     "execution_count": 7,
     "metadata": {},
     "output_type": "execute_result"
    }
   ],
   "source": [
    "df_raw_1.dtypes"
   ]
  },
  {
   "cell_type": "markdown",
   "metadata": {},
   "source": [
    "#####  <span style=\"color:#f05593\"> Changing types </span>"
   ]
  },
  {
   "cell_type": "code",
   "execution_count": 8,
   "metadata": {},
   "outputs": [],
   "source": [
    "df_raw_1[\"last_review\"] = pd.to_datetime(df_raw_1[\"last_review\"], errors=\"coerce\")\n"
   ]
  },
  {
   "cell_type": "markdown",
   "metadata": {},
   "source": [
    "#####  <span style=\"color:#f05593\"> Changing Column names data </span>\n",
    "\n",
    "For clarity purposes:\n",
    "\n",
    "- id   --> id_announcement\n",
    "- name --> title_announcement"
   ]
  },
  {
   "cell_type": "code",
   "execution_count": 9,
   "metadata": {},
   "outputs": [],
   "source": [
    "# Changing name of columns, id for id_announcement and name for title_announcement\n",
    "df_raw_1 = df_raw_1.rename(columns={\n",
    "    \"id\": \"id_announcement\",\n",
    "    \"name\": \"title_announcement\"\n",
    "})\n"
   ]
  },
  {
   "cell_type": "code",
   "execution_count": 10,
   "metadata": {},
   "outputs": [
    {
     "data": {
      "text/plain": [
       "Index(['id_announcement', 'title_announcement', 'host_id', 'host_name',\n",
       "       'neighbourhood_group', 'neighbourhood', 'latitude', 'longitude',\n",
       "       'room_type', 'price', 'minimum_nights', 'number_of_reviews',\n",
       "       'last_review', 'reviews_per_month', 'calculated_host_listings_count',\n",
       "       'availability_365', 'city'],\n",
       "      dtype='object')"
      ]
     },
     "execution_count": 10,
     "metadata": {},
     "output_type": "execute_result"
    }
   ],
   "source": [
    "df_raw_1.columns"
   ]
  },
  {
   "cell_type": "markdown",
   "metadata": {},
   "source": [
    "______\n",
    "\n",
    "####  <span style=\"color:#f6f794\"> <strong> 2️⃣ Data Rows </strong> </span>"
   ]
  },
  {
   "cell_type": "markdown",
   "metadata": {},
   "source": [
    "#####  <span style=\"color:#f05593\"> Changing Column:</span> <span style=\"color:#fe5608\">  [\"city\"]  </span> <span style=\"color:#f05593\"> data </span>\n",
    "\n"
   ]
  },
  {
   "cell_type": "code",
   "execution_count": 11,
   "metadata": {},
   "outputs": [
    {
     "data": {
      "text/plain": [
       "array(['Ny', 'London', 'Milan', 'Tokyo', 'Sydney', 'Madrid'], dtype=object)"
      ]
     },
     "execution_count": 11,
     "metadata": {},
     "output_type": "execute_result"
    }
   ],
   "source": [
    "df_raw_1[\"city\"].unique()"
   ]
  },
  {
   "cell_type": "code",
   "execution_count": 12,
   "metadata": {},
   "outputs": [],
   "source": [
    "df_raw_1[\"city\"] = df_raw_1[\"city\"].replace(\"Ny\", \"New York\")"
   ]
  },
  {
   "cell_type": "code",
   "execution_count": 13,
   "metadata": {},
   "outputs": [
    {
     "data": {
      "application/vnd.microsoft.datawrangler.viewer.v0+json": {
       "columns": [
        {
         "name": "index",
         "rawType": "int64",
         "type": "integer"
        },
        {
         "name": "id_announcement",
         "rawType": "int64",
         "type": "integer"
        },
        {
         "name": "title_announcement",
         "rawType": "object",
         "type": "unknown"
        },
        {
         "name": "host_id",
         "rawType": "int64",
         "type": "integer"
        },
        {
         "name": "host_name",
         "rawType": "object",
         "type": "unknown"
        },
        {
         "name": "neighbourhood_group",
         "rawType": "object",
         "type": "unknown"
        },
        {
         "name": "neighbourhood",
         "rawType": "object",
         "type": "string"
        },
        {
         "name": "latitude",
         "rawType": "float64",
         "type": "float"
        },
        {
         "name": "longitude",
         "rawType": "float64",
         "type": "float"
        },
        {
         "name": "room_type",
         "rawType": "object",
         "type": "string"
        },
        {
         "name": "price",
         "rawType": "int64",
         "type": "integer"
        },
        {
         "name": "minimum_nights",
         "rawType": "int64",
         "type": "integer"
        },
        {
         "name": "number_of_reviews",
         "rawType": "int64",
         "type": "integer"
        },
        {
         "name": "last_review",
         "rawType": "datetime64[ns]",
         "type": "datetime"
        },
        {
         "name": "reviews_per_month",
         "rawType": "float64",
         "type": "float"
        },
        {
         "name": "calculated_host_listings_count",
         "rawType": "float64",
         "type": "float"
        },
        {
         "name": "availability_365",
         "rawType": "float64",
         "type": "float"
        },
        {
         "name": "city",
         "rawType": "object",
         "type": "string"
        }
       ],
       "ref": "634395a8-9211-425b-82b7-f24690a3d31a",
       "rows": [
        [
         "0",
         "2539",
         "Clean & quiet apt home by the park",
         "2787",
         "John",
         "Brooklyn",
         "Kensington",
         "40.64749",
         "-73.97237",
         "Private room",
         "149",
         "1",
         "9",
         "2018-10-19 00:00:00",
         "0.21",
         "6.0",
         "365.0",
         "New York"
        ],
        [
         "1",
         "2595",
         "Skylit Midtown Castle",
         "2845",
         "Jennifer",
         "Manhattan",
         "Midtown",
         "40.75362",
         "-73.98377",
         "Entire home/apt",
         "225",
         "1",
         "45",
         "2019-05-21 00:00:00",
         "0.38",
         "2.0",
         "355.0",
         "New York"
        ],
        [
         "2",
         "3647",
         "THE VILLAGE OF HARLEM....NEW YORK !",
         "4632",
         "Elisabeth",
         "Manhattan",
         "Harlem",
         "40.80902",
         "-73.9419",
         "Private room",
         "150",
         "3",
         "0",
         null,
         null,
         "1.0",
         "365.0",
         "New York"
        ],
        [
         "3",
         "3831",
         "Cozy Entire Floor of Brownstone",
         "4869",
         "LisaRoxanne",
         "Brooklyn",
         "Clinton Hill",
         "40.68514",
         "-73.95976",
         "Entire home/apt",
         "89",
         "1",
         "270",
         "2019-07-05 00:00:00",
         "4.64",
         "1.0",
         "194.0",
         "New York"
        ],
        [
         "4",
         "5022",
         "Entire Apt: Spacious Studio/Loft by central park",
         "7192",
         "Laura",
         "Manhattan",
         "East Harlem",
         "40.79851",
         "-73.94399",
         "Entire home/apt",
         "80",
         "10",
         "9",
         "2018-11-19 00:00:00",
         "0.1",
         "1.0",
         "0.0",
         "New York"
        ],
        [
         "5",
         "5099",
         "Large Cozy 1 BR Apartment In Midtown East",
         "7322",
         "Chris",
         "Manhattan",
         "Murray Hill",
         "40.74767",
         "-73.975",
         "Entire home/apt",
         "200",
         "3",
         "74",
         "2019-06-22 00:00:00",
         "0.59",
         "1.0",
         "129.0",
         "New York"
        ],
        [
         "6",
         "5121",
         "BlissArtsSpace!",
         "7356",
         "Garon",
         "Brooklyn",
         "Bedford-Stuyvesant",
         "40.68688",
         "-73.95596",
         "Private room",
         "60",
         "45",
         "49",
         "2017-10-05 00:00:00",
         "0.4",
         "1.0",
         "0.0",
         "New York"
        ],
        [
         "7",
         "5178",
         "Large Furnished Room Near B'way",
         "8967",
         "Shunichi",
         "Manhattan",
         "Hell's Kitchen",
         "40.76489",
         "-73.98493",
         "Private room",
         "79",
         "2",
         "430",
         "2019-06-24 00:00:00",
         "3.47",
         "1.0",
         "220.0",
         "New York"
        ],
        [
         "8",
         "5203",
         "Cozy Clean Guest Room - Family Apt",
         "7490",
         "MaryEllen",
         "Manhattan",
         "Upper West Side",
         "40.80178",
         "-73.96723",
         "Private room",
         "79",
         "2",
         "118",
         "2017-07-21 00:00:00",
         "0.99",
         "1.0",
         "0.0",
         "New York"
        ],
        [
         "9",
         "5238",
         "Cute & Cozy Lower East Side 1 bdrm",
         "7549",
         "Ben",
         "Manhattan",
         "Chinatown",
         "40.71344",
         "-73.99037",
         "Entire home/apt",
         "150",
         "1",
         "160",
         "2019-06-09 00:00:00",
         "1.33",
         "4.0",
         "188.0",
         "New York"
        ],
        [
         "10",
         "5295",
         "Beautiful 1br on Upper West Side",
         "7702",
         "Lena",
         "Manhattan",
         "Upper West Side",
         "40.80316",
         "-73.96545",
         "Entire home/apt",
         "135",
         "5",
         "53",
         "2019-06-22 00:00:00",
         "0.43",
         "1.0",
         "6.0",
         "New York"
        ],
        [
         "11",
         "5441",
         "Central Manhattan/near Broadway",
         "7989",
         "Kate",
         "Manhattan",
         "Hell's Kitchen",
         "40.76076",
         "-73.98867",
         "Private room",
         "85",
         "2",
         "188",
         "2019-06-23 00:00:00",
         "1.5",
         "1.0",
         "39.0",
         "New York"
        ],
        [
         "12",
         "5803",
         "Lovely Room 1, Garden, Best Area, Legal rental",
         "9744",
         "Laurie",
         "Brooklyn",
         "South Slope",
         "40.66829",
         "-73.98779",
         "Private room",
         "89",
         "4",
         "167",
         "2019-06-24 00:00:00",
         "1.34",
         "3.0",
         "314.0",
         "New York"
        ],
        [
         "13",
         "6021",
         "Wonderful Guest Bedroom in Manhattan for SINGLES",
         "11528",
         "Claudio",
         "Manhattan",
         "Upper West Side",
         "40.79826",
         "-73.96113",
         "Private room",
         "85",
         "2",
         "113",
         "2019-07-05 00:00:00",
         "0.91",
         "1.0",
         "333.0",
         "New York"
        ],
        [
         "14",
         "6090",
         "West Village Nest - Superhost",
         "11975",
         "Alina",
         "Manhattan",
         "West Village",
         "40.7353",
         "-74.00525",
         "Entire home/apt",
         "120",
         "90",
         "27",
         "2018-10-31 00:00:00",
         "0.22",
         "1.0",
         "0.0",
         "New York"
        ],
        [
         "15",
         "6848",
         "Only 2 stops to Manhattan studio",
         "15991",
         "Allen & Irina",
         "Brooklyn",
         "Williamsburg",
         "40.70837",
         "-73.95352",
         "Entire home/apt",
         "140",
         "2",
         "148",
         "2019-06-29 00:00:00",
         "1.2",
         "1.0",
         "46.0",
         "New York"
        ],
        [
         "16",
         "7097",
         "Perfect for Your Parents + Garden",
         "17571",
         "Jane",
         "Brooklyn",
         "Fort Greene",
         "40.69169",
         "-73.97185",
         "Entire home/apt",
         "215",
         "2",
         "198",
         "2019-06-28 00:00:00",
         "1.72",
         "1.0",
         "321.0",
         "New York"
        ],
        [
         "17",
         "7322",
         "Chelsea Perfect",
         "18946",
         "Doti",
         "Manhattan",
         "Chelsea",
         "40.74192",
         "-73.99501",
         "Private room",
         "140",
         "1",
         "260",
         "2019-07-01 00:00:00",
         "2.12",
         "1.0",
         "12.0",
         "New York"
        ],
        [
         "18",
         "7726",
         "Hip Historic Brownstone Apartment with Backyard",
         "20950",
         "Adam And Charity",
         "Brooklyn",
         "Crown Heights",
         "40.67592",
         "-73.94694",
         "Entire home/apt",
         "99",
         "3",
         "53",
         "2019-06-22 00:00:00",
         "4.44",
         "1.0",
         "21.0",
         "New York"
        ],
        [
         "19",
         "7750",
         "Huge 2 BR Upper East  Cental Park",
         "17985",
         "Sing",
         "Manhattan",
         "East Harlem",
         "40.79685",
         "-73.94872",
         "Entire home/apt",
         "190",
         "7",
         "0",
         null,
         null,
         "2.0",
         "249.0",
         "New York"
        ],
        [
         "20",
         "7801",
         "Sweet and Spacious Brooklyn Loft",
         "21207",
         "Chaya",
         "Brooklyn",
         "Williamsburg",
         "40.71842",
         "-73.95718",
         "Entire home/apt",
         "299",
         "3",
         "9",
         "2011-12-28 00:00:00",
         "0.07",
         "1.0",
         "0.0",
         "New York"
        ],
        [
         "21",
         "8024",
         "CBG CtyBGd HelpsHaiti rm#1:1-4",
         "22486",
         "Lisel",
         "Brooklyn",
         "Park Slope",
         "40.68069",
         "-73.97706",
         "Private room",
         "130",
         "2",
         "130",
         "2019-07-01 00:00:00",
         "1.09",
         "6.0",
         "347.0",
         "New York"
        ],
        [
         "22",
         "8025",
         "CBG Helps Haiti Room#2.5",
         "22486",
         "Lisel",
         "Brooklyn",
         "Park Slope",
         "40.67989",
         "-73.97798",
         "Private room",
         "80",
         "1",
         "39",
         "2019-01-01 00:00:00",
         "0.37",
         "6.0",
         "364.0",
         "New York"
        ],
        [
         "23",
         "8110",
         "CBG Helps Haiti Rm #2",
         "22486",
         "Lisel",
         "Brooklyn",
         "Park Slope",
         "40.68001",
         "-73.97865",
         "Private room",
         "110",
         "2",
         "71",
         "2019-07-02 00:00:00",
         "0.61",
         "6.0",
         "304.0",
         "New York"
        ],
        [
         "24",
         "8490",
         "MAISON DES SIRENES1,bohemian apartment",
         "25183",
         "Nathalie",
         "Brooklyn",
         "Bedford-Stuyvesant",
         "40.68371",
         "-73.94028",
         "Entire home/apt",
         "120",
         "2",
         "88",
         "2019-06-19 00:00:00",
         "0.73",
         "2.0",
         "233.0",
         "New York"
        ],
        [
         "25",
         "8505",
         "Sunny Bedroom Across Prospect Park",
         "25326",
         "Gregory",
         "Brooklyn",
         "Windsor Terrace",
         "40.65599",
         "-73.97519",
         "Private room",
         "60",
         "1",
         "19",
         "2019-06-23 00:00:00",
         "1.37",
         "2.0",
         "85.0",
         "New York"
        ],
        [
         "26",
         "8700",
         "Magnifique Suite au N de Manhattan - vue Cloitres",
         "26394",
         "Claude & Sophie",
         "Manhattan",
         "Inwood",
         "40.86754",
         "-73.92639",
         "Private room",
         "80",
         "4",
         "0",
         null,
         null,
         "1.0",
         "0.0",
         "New York"
        ],
        [
         "27",
         "9357",
         "Midtown Pied-a-terre",
         "30193",
         "Tommi",
         "Manhattan",
         "Hell's Kitchen",
         "40.76715",
         "-73.98533",
         "Entire home/apt",
         "150",
         "10",
         "58",
         "2017-08-13 00:00:00",
         "0.49",
         "1.0",
         "75.0",
         "New York"
        ],
        [
         "28",
         "9518",
         "SPACIOUS, LOVELY FURNISHED MANHATTAN BEDROOM",
         "31374",
         "Shon",
         "Manhattan",
         "Inwood",
         "40.86482",
         "-73.92106",
         "Private room",
         "44",
         "3",
         "108",
         "2019-06-15 00:00:00",
         "1.11",
         "3.0",
         "311.0",
         "New York"
        ],
        [
         "29",
         "9657",
         "Modern 1 BR / NYC / EAST VILLAGE",
         "21904",
         "Dana",
         "Manhattan",
         "East Village",
         "40.7292",
         "-73.98542",
         "Entire home/apt",
         "180",
         "14",
         "29",
         "2019-04-19 00:00:00",
         "0.24",
         "1.0",
         "67.0",
         "New York"
        ],
        [
         "30",
         "9668",
         "front room/double bed",
         "32294",
         "Ssameer Or Trip",
         "Manhattan",
         "Harlem",
         "40.82245",
         "-73.95104",
         "Private room",
         "50",
         "3",
         "242",
         "2019-06-01 00:00:00",
         "2.04",
         "3.0",
         "355.0",
         "New York"
        ],
        [
         "31",
         "9704",
         "Spacious 1 bedroom in luxe building",
         "32045",
         "Teri",
         "Manhattan",
         "Harlem",
         "40.81305",
         "-73.95466",
         "Private room",
         "52",
         "2",
         "88",
         "2019-06-14 00:00:00",
         "1.42",
         "1.0",
         "255.0",
         "New York"
        ],
        [
         "32",
         "9782",
         "Loft in Williamsburg Area w/ Roof",
         "32169",
         "Andrea",
         "Brooklyn",
         "Greenpoint",
         "40.72219",
         "-73.93762",
         "Private room",
         "55",
         "4",
         "197",
         "2019-06-15 00:00:00",
         "1.65",
         "3.0",
         "284.0",
         "New York"
        ],
        [
         "33",
         "9783",
         "back room/bunk beds",
         "32294",
         "Ssameer Or Trip",
         "Manhattan",
         "Harlem",
         "40.8213",
         "-73.95318",
         "Private room",
         "50",
         "3",
         "273",
         "2019-07-01 00:00:00",
         "2.37",
         "3.0",
         "359.0",
         "New York"
        ],
        [
         "34",
         "10452",
         "Large B&B Style rooms",
         "35935",
         "Angela",
         "Brooklyn",
         "Bedford-Stuyvesant",
         "40.6831",
         "-73.95473",
         "Private room",
         "70",
         "1",
         "74",
         "2019-05-12 00:00:00",
         "0.66",
         "2.0",
         "269.0",
         "New York"
        ],
        [
         "35",
         "10962",
         "Lovely room 2 & garden; Best area, Legal rental",
         "9744",
         "Laurie",
         "Brooklyn",
         "South Slope",
         "40.66869",
         "-73.9878",
         "Private room",
         "89",
         "4",
         "168",
         "2019-06-21 00:00:00",
         "1.41",
         "3.0",
         "340.0",
         "New York"
        ],
        [
         "36",
         "11452",
         "Clean and Quiet in Brooklyn",
         "7355",
         "Vt",
         "Brooklyn",
         "Bedford-Stuyvesant",
         "40.68876",
         "-73.94312",
         "Private room",
         "35",
         "60",
         "0",
         null,
         null,
         "1.0",
         "365.0",
         "New York"
        ],
        [
         "37",
         "11708",
         "Cute apt in artist's home",
         "44145",
         "Tyrome",
         "Brooklyn",
         "Bushwick",
         "40.70186",
         "-73.92745",
         "Entire home/apt",
         "85",
         "2",
         "231",
         "2019-06-22 00:00:00",
         "1.96",
         "2.0",
         "22.0",
         "New York"
        ],
        [
         "38",
         "11943",
         "Country space in the city",
         "45445",
         "Harriet",
         "Brooklyn",
         "Flatbush",
         "40.63702",
         "-73.96327",
         "Private room",
         "150",
         "1",
         "0",
         null,
         null,
         "1.0",
         "365.0",
         "New York"
        ],
        [
         "39",
         "12048",
         "LowerEastSide apt share shortterm 1",
         "7549",
         "Ben",
         "Manhattan",
         "Lower East Side",
         "40.71401",
         "-73.98917",
         "Shared room",
         "40",
         "1",
         "214",
         "2019-07-05 00:00:00",
         "1.81",
         "4.0",
         "188.0",
         "New York"
        ],
        [
         "40",
         "12192",
         "ENJOY Downtown NYC!",
         "46978",
         "Edward",
         "Manhattan",
         "East Village",
         "40.7229",
         "-73.98199",
         "Private room",
         "68",
         "2",
         "245",
         "2019-06-21 00:00:00",
         "2.08",
         "2.0",
         "96.0",
         "New York"
        ],
        [
         "41",
         "12299",
         "Beautiful Sunny Park Slope Brooklyn",
         "47610",
         "Abdul",
         "Brooklyn",
         "South Slope",
         "40.66278",
         "-73.97966",
         "Entire home/apt",
         "120",
         "3",
         "15",
         "2019-05-27 00:00:00",
         "0.39",
         "1.0",
         "345.0",
         "New York"
        ],
        [
         "42",
         "12303",
         "1bdr w private bath. in lofty apt",
         "47618",
         "Yolande",
         "Brooklyn",
         "Fort Greene",
         "40.69673",
         "-73.97584",
         "Private room",
         "120",
         "7",
         "25",
         "2018-09-30 00:00:00",
         "0.23",
         "1.0",
         "311.0",
         "New York"
        ],
        [
         "43",
         "12318",
         "West Side Retreat",
         "16800",
         "Cyn",
         "Manhattan",
         "Upper West Side",
         "40.79009",
         "-73.97927",
         "Private room",
         "135",
         "4",
         "81",
         "2019-06-16 00:00:00",
         "0.69",
         "1.0",
         "273.0",
         "New York"
        ],
        [
         "44",
         "12343",
         "BEST BET IN HARLEM",
         "47727",
         "Earl",
         "Manhattan",
         "Harlem",
         "40.81175",
         "-73.94478",
         "Entire home/apt",
         "150",
         "7",
         "97",
         "2019-06-13 00:00:00",
         "0.84",
         "1.0",
         "309.0",
         "New York"
        ],
        [
         "45",
         "12627",
         "Entire apartment in central Brooklyn neighborhood.",
         "49670",
         "Rana",
         "Brooklyn",
         "Prospect-Lefferts Gardens",
         "40.65944",
         "-73.96238",
         "Entire home/apt",
         "150",
         "29",
         "11",
         "2019-06-05 00:00:00",
         "0.49",
         "1.0",
         "95.0",
         "New York"
        ],
        [
         "46",
         "12937",
         "1 Stop fr. Manhattan! Private Suite,Landmark Block",
         "50124",
         "Orestes",
         "Queens",
         "Long Island City",
         "40.74771",
         "-73.9474",
         "Private room",
         "130",
         "3",
         "248",
         "2019-07-01 00:00:00",
         "2.25",
         "1.0",
         "215.0",
         "New York"
        ],
        [
         "47",
         "12940",
         "Charming Brownstone 3 - Near PRATT",
         "50148",
         "Adreinne",
         "Brooklyn",
         "Bedford-Stuyvesant",
         "40.68111",
         "-73.95591",
         "Entire home/apt",
         "110",
         "7",
         "61",
         "2019-05-25 00:00:00",
         "0.52",
         "1.0",
         "265.0",
         "New York"
        ],
        [
         "48",
         "13050",
         "bright and stylish duplex",
         "50846",
         "Jennifer",
         "Brooklyn",
         "Bedford-Stuyvesant",
         "40.68554",
         "-73.9409",
         "Entire home/apt",
         "115",
         "3",
         "11",
         "2017-01-01 00:00:00",
         "0.1",
         "1.0",
         "0.0",
         "New York"
        ],
        [
         "49",
         "13394",
         "Fort Greene brownstone",
         "52335",
         "Alexander",
         "Brooklyn",
         "Fort Greene",
         "40.69142",
         "-73.97376",
         "Private room",
         "80",
         "3",
         "135",
         "2019-06-17 00:00:00",
         "1.16",
         "2.0",
         "192.0",
         "New York"
        ]
       ],
       "shape": {
        "columns": 17,
        "rows": 220031
       }
      },
      "text/html": [
       "<div>\n",
       "<style scoped>\n",
       "    .dataframe tbody tr th:only-of-type {\n",
       "        vertical-align: middle;\n",
       "    }\n",
       "\n",
       "    .dataframe tbody tr th {\n",
       "        vertical-align: top;\n",
       "    }\n",
       "\n",
       "    .dataframe thead th {\n",
       "        text-align: right;\n",
       "    }\n",
       "</style>\n",
       "<table border=\"1\" class=\"dataframe\">\n",
       "  <thead>\n",
       "    <tr style=\"text-align: right;\">\n",
       "      <th></th>\n",
       "      <th>id_announcement</th>\n",
       "      <th>title_announcement</th>\n",
       "      <th>host_id</th>\n",
       "      <th>host_name</th>\n",
       "      <th>neighbourhood_group</th>\n",
       "      <th>neighbourhood</th>\n",
       "      <th>latitude</th>\n",
       "      <th>longitude</th>\n",
       "      <th>room_type</th>\n",
       "      <th>price</th>\n",
       "      <th>minimum_nights</th>\n",
       "      <th>number_of_reviews</th>\n",
       "      <th>last_review</th>\n",
       "      <th>reviews_per_month</th>\n",
       "      <th>calculated_host_listings_count</th>\n",
       "      <th>availability_365</th>\n",
       "      <th>city</th>\n",
       "    </tr>\n",
       "  </thead>\n",
       "  <tbody>\n",
       "    <tr>\n",
       "      <th>0</th>\n",
       "      <td>2539</td>\n",
       "      <td>Clean &amp; quiet apt home by the park</td>\n",
       "      <td>2787</td>\n",
       "      <td>John</td>\n",
       "      <td>Brooklyn</td>\n",
       "      <td>Kensington</td>\n",
       "      <td>40.64749</td>\n",
       "      <td>-73.97237</td>\n",
       "      <td>Private room</td>\n",
       "      <td>149</td>\n",
       "      <td>1</td>\n",
       "      <td>9</td>\n",
       "      <td>2018-10-19</td>\n",
       "      <td>0.21</td>\n",
       "      <td>6.0</td>\n",
       "      <td>365.0</td>\n",
       "      <td>New York</td>\n",
       "    </tr>\n",
       "    <tr>\n",
       "      <th>1</th>\n",
       "      <td>2595</td>\n",
       "      <td>Skylit Midtown Castle</td>\n",
       "      <td>2845</td>\n",
       "      <td>Jennifer</td>\n",
       "      <td>Manhattan</td>\n",
       "      <td>Midtown</td>\n",
       "      <td>40.75362</td>\n",
       "      <td>-73.98377</td>\n",
       "      <td>Entire home/apt</td>\n",
       "      <td>225</td>\n",
       "      <td>1</td>\n",
       "      <td>45</td>\n",
       "      <td>2019-05-21</td>\n",
       "      <td>0.38</td>\n",
       "      <td>2.0</td>\n",
       "      <td>355.0</td>\n",
       "      <td>New York</td>\n",
       "    </tr>\n",
       "    <tr>\n",
       "      <th>2</th>\n",
       "      <td>3647</td>\n",
       "      <td>THE VILLAGE OF HARLEM....NEW YORK !</td>\n",
       "      <td>4632</td>\n",
       "      <td>Elisabeth</td>\n",
       "      <td>Manhattan</td>\n",
       "      <td>Harlem</td>\n",
       "      <td>40.80902</td>\n",
       "      <td>-73.94190</td>\n",
       "      <td>Private room</td>\n",
       "      <td>150</td>\n",
       "      <td>3</td>\n",
       "      <td>0</td>\n",
       "      <td>NaT</td>\n",
       "      <td>NaN</td>\n",
       "      <td>1.0</td>\n",
       "      <td>365.0</td>\n",
       "      <td>New York</td>\n",
       "    </tr>\n",
       "    <tr>\n",
       "      <th>3</th>\n",
       "      <td>3831</td>\n",
       "      <td>Cozy Entire Floor of Brownstone</td>\n",
       "      <td>4869</td>\n",
       "      <td>LisaRoxanne</td>\n",
       "      <td>Brooklyn</td>\n",
       "      <td>Clinton Hill</td>\n",
       "      <td>40.68514</td>\n",
       "      <td>-73.95976</td>\n",
       "      <td>Entire home/apt</td>\n",
       "      <td>89</td>\n",
       "      <td>1</td>\n",
       "      <td>270</td>\n",
       "      <td>2019-07-05</td>\n",
       "      <td>4.64</td>\n",
       "      <td>1.0</td>\n",
       "      <td>194.0</td>\n",
       "      <td>New York</td>\n",
       "    </tr>\n",
       "    <tr>\n",
       "      <th>4</th>\n",
       "      <td>5022</td>\n",
       "      <td>Entire Apt: Spacious Studio/Loft by central park</td>\n",
       "      <td>7192</td>\n",
       "      <td>Laura</td>\n",
       "      <td>Manhattan</td>\n",
       "      <td>East Harlem</td>\n",
       "      <td>40.79851</td>\n",
       "      <td>-73.94399</td>\n",
       "      <td>Entire home/apt</td>\n",
       "      <td>80</td>\n",
       "      <td>10</td>\n",
       "      <td>9</td>\n",
       "      <td>2018-11-19</td>\n",
       "      <td>0.10</td>\n",
       "      <td>1.0</td>\n",
       "      <td>0.0</td>\n",
       "      <td>New York</td>\n",
       "    </tr>\n",
       "    <tr>\n",
       "      <th>...</th>\n",
       "      <td>...</td>\n",
       "      <td>...</td>\n",
       "      <td>...</td>\n",
       "      <td>...</td>\n",
       "      <td>...</td>\n",
       "      <td>...</td>\n",
       "      <td>...</td>\n",
       "      <td>...</td>\n",
       "      <td>...</td>\n",
       "      <td>...</td>\n",
       "      <td>...</td>\n",
       "      <td>...</td>\n",
       "      <td>...</td>\n",
       "      <td>...</td>\n",
       "      <td>...</td>\n",
       "      <td>...</td>\n",
       "      <td>...</td>\n",
       "    </tr>\n",
       "    <tr>\n",
       "      <th>220026</th>\n",
       "      <td>49185822</td>\n",
       "      <td>Habitación con TV con Netflix en Lavapiés</td>\n",
       "      <td>172011610</td>\n",
       "      <td>Belaid</td>\n",
       "      <td>Centro</td>\n",
       "      <td>Embajadores</td>\n",
       "      <td>40.40756</td>\n",
       "      <td>-3.69937</td>\n",
       "      <td>Private room</td>\n",
       "      <td>23</td>\n",
       "      <td>30</td>\n",
       "      <td>0</td>\n",
       "      <td>NaT</td>\n",
       "      <td>NaN</td>\n",
       "      <td>8.0</td>\n",
       "      <td>349.0</td>\n",
       "      <td>Madrid</td>\n",
       "    </tr>\n",
       "    <tr>\n",
       "      <th>220027</th>\n",
       "      <td>49186179</td>\n",
       "      <td>Habitación con TV con Netflix en Gaztambide</td>\n",
       "      <td>172011610</td>\n",
       "      <td>Belaid</td>\n",
       "      <td>Chamberí</td>\n",
       "      <td>Gaztambide</td>\n",
       "      <td>40.43706</td>\n",
       "      <td>-3.71364</td>\n",
       "      <td>Private room</td>\n",
       "      <td>21</td>\n",
       "      <td>30</td>\n",
       "      <td>0</td>\n",
       "      <td>NaT</td>\n",
       "      <td>NaN</td>\n",
       "      <td>8.0</td>\n",
       "      <td>350.0</td>\n",
       "      <td>Madrid</td>\n",
       "    </tr>\n",
       "    <tr>\n",
       "      <th>220028</th>\n",
       "      <td>49187258</td>\n",
       "      <td>Habitación con TV con Netflix en Chamberí</td>\n",
       "      <td>172011610</td>\n",
       "      <td>Belaid</td>\n",
       "      <td>Chamberí</td>\n",
       "      <td>Arapiles</td>\n",
       "      <td>40.43857</td>\n",
       "      <td>-3.70715</td>\n",
       "      <td>Private room</td>\n",
       "      <td>22</td>\n",
       "      <td>7</td>\n",
       "      <td>0</td>\n",
       "      <td>NaT</td>\n",
       "      <td>NaN</td>\n",
       "      <td>8.0</td>\n",
       "      <td>364.0</td>\n",
       "      <td>Madrid</td>\n",
       "    </tr>\n",
       "    <tr>\n",
       "      <th>220029</th>\n",
       "      <td>49187471</td>\n",
       "      <td>Habitación con TV con Netflix en Goya</td>\n",
       "      <td>172011610</td>\n",
       "      <td>Belaid</td>\n",
       "      <td>Salamanca</td>\n",
       "      <td>Guindalera</td>\n",
       "      <td>40.43027</td>\n",
       "      <td>-3.66759</td>\n",
       "      <td>Private room</td>\n",
       "      <td>19</td>\n",
       "      <td>30</td>\n",
       "      <td>0</td>\n",
       "      <td>NaT</td>\n",
       "      <td>NaN</td>\n",
       "      <td>8.0</td>\n",
       "      <td>349.0</td>\n",
       "      <td>Madrid</td>\n",
       "    </tr>\n",
       "    <tr>\n",
       "      <th>220030</th>\n",
       "      <td>49187791</td>\n",
       "      <td>Habitación con TV con Netflix en Chamberí</td>\n",
       "      <td>172011610</td>\n",
       "      <td>Belaid</td>\n",
       "      <td>Chamberí</td>\n",
       "      <td>Arapiles</td>\n",
       "      <td>40.43484</td>\n",
       "      <td>-3.70667</td>\n",
       "      <td>Private room</td>\n",
       "      <td>20</td>\n",
       "      <td>30</td>\n",
       "      <td>0</td>\n",
       "      <td>NaT</td>\n",
       "      <td>NaN</td>\n",
       "      <td>8.0</td>\n",
       "      <td>349.0</td>\n",
       "      <td>Madrid</td>\n",
       "    </tr>\n",
       "  </tbody>\n",
       "</table>\n",
       "<p>220031 rows × 17 columns</p>\n",
       "</div>"
      ],
      "text/plain": [
       "        id_announcement                                title_announcement    host_id    host_name neighbourhood_group neighbourhood  latitude  longitude        room_type  price  minimum_nights  number_of_reviews last_review  reviews_per_month  calculated_host_listings_count  availability_365      city\n",
       "0                  2539                Clean & quiet apt home by the park       2787         John            Brooklyn    Kensington  40.64749  -73.97237     Private room    149               1                  9  2018-10-19               0.21                             6.0             365.0  New York\n",
       "1                  2595                             Skylit Midtown Castle       2845     Jennifer           Manhattan       Midtown  40.75362  -73.98377  Entire home/apt    225               1                 45  2019-05-21               0.38                             2.0             355.0  New York\n",
       "2                  3647               THE VILLAGE OF HARLEM....NEW YORK !       4632    Elisabeth           Manhattan        Harlem  40.80902  -73.94190     Private room    150               3                  0         NaT                NaN                             1.0             365.0  New York\n",
       "3                  3831                   Cozy Entire Floor of Brownstone       4869  LisaRoxanne            Brooklyn  Clinton Hill  40.68514  -73.95976  Entire home/apt     89               1                270  2019-07-05               4.64                             1.0             194.0  New York\n",
       "4                  5022  Entire Apt: Spacious Studio/Loft by central park       7192        Laura           Manhattan   East Harlem  40.79851  -73.94399  Entire home/apt     80              10                  9  2018-11-19               0.10                             1.0               0.0  New York\n",
       "...                 ...                                               ...        ...          ...                 ...           ...       ...        ...              ...    ...             ...                ...         ...                ...                             ...               ...       ...\n",
       "220026         49185822         Habitación con TV con Netflix en Lavapiés  172011610       Belaid              Centro   Embajadores  40.40756   -3.69937     Private room     23              30                  0         NaT                NaN                             8.0             349.0    Madrid\n",
       "220027         49186179       Habitación con TV con Netflix en Gaztambide  172011610       Belaid            Chamberí    Gaztambide  40.43706   -3.71364     Private room     21              30                  0         NaT                NaN                             8.0             350.0    Madrid\n",
       "220028         49187258         Habitación con TV con Netflix en Chamberí  172011610       Belaid            Chamberí      Arapiles  40.43857   -3.70715     Private room     22               7                  0         NaT                NaN                             8.0             364.0    Madrid\n",
       "220029         49187471             Habitación con TV con Netflix en Goya  172011610       Belaid           Salamanca    Guindalera  40.43027   -3.66759     Private room     19              30                  0         NaT                NaN                             8.0             349.0    Madrid\n",
       "220030         49187791         Habitación con TV con Netflix en Chamberí  172011610       Belaid            Chamberí      Arapiles  40.43484   -3.70667     Private room     20              30                  0         NaT                NaN                             8.0             349.0    Madrid\n",
       "\n",
       "[220031 rows x 17 columns]"
      ]
     },
     "execution_count": 13,
     "metadata": {},
     "output_type": "execute_result"
    }
   ],
   "source": [
    "df_raw_1"
   ]
  },
  {
   "cell_type": "markdown",
   "metadata": {},
   "source": [
    "___\n",
    "#### <span style=\"color:#f6f794\"> <strong> 3️⃣ Seeking for duplicates  </strong> </span>\n",
    "\n",
    "- Apparently there are no duplicates rows."
   ]
  },
  {
   "cell_type": "code",
   "execution_count": 14,
   "metadata": {},
   "outputs": [
    {
     "data": {
      "text/plain": [
       "np.int64(0)"
      ]
     },
     "execution_count": 14,
     "metadata": {},
     "output_type": "execute_result"
    }
   ],
   "source": [
    "df_raw_1['id_announcement'].duplicated().sum()\n",
    "df_raw_1.duplicated().sum()"
   ]
  },
  {
   "cell_type": "markdown",
   "metadata": {},
   "source": [
    "_____\n",
    "#### <span style=\"color:#f6f794\"> <strong> 4️⃣ Seeking for nulls </strong> </span>"
   ]
  },
  {
   "cell_type": "code",
   "execution_count": 15,
   "metadata": {},
   "outputs": [
    {
     "data": {
      "application/vnd.microsoft.datawrangler.viewer.v0+json": {
       "columns": [
        {
         "name": "index",
         "rawType": "object",
         "type": "string"
        },
        {
         "name": "0",
         "rawType": "float64",
         "type": "float"
        }
       ],
       "ref": "c14daddc-4838-4afc-9953-e50a6113b408",
       "rows": [
        [
         "neighbourhood_group",
         "68.86"
        ],
        [
         "last_review",
         "30.74"
        ],
        [
         "reviews_per_month",
         "24.71"
        ],
        [
         "availability_365",
         "5.21"
        ],
        [
         "calculated_host_listings_count",
         "5.21"
        ],
        [
         "host_name",
         "0.32"
        ],
        [
         "title_announcement",
         "0.03"
        ],
        [
         "id_announcement",
         "0.0"
        ],
        [
         "host_id",
         "0.0"
        ],
        [
         "room_type",
         "0.0"
        ],
        [
         "longitude",
         "0.0"
        ],
        [
         "latitude",
         "0.0"
        ],
        [
         "neighbourhood",
         "0.0"
        ],
        [
         "number_of_reviews",
         "0.0"
        ],
        [
         "minimum_nights",
         "0.0"
        ],
        [
         "price",
         "0.0"
        ],
        [
         "city",
         "0.0"
        ]
       ],
       "shape": {
        "columns": 1,
        "rows": 17
       }
      },
      "text/plain": [
       "neighbourhood_group               68.86\n",
       "last_review                       30.74\n",
       "reviews_per_month                 24.71\n",
       "availability_365                   5.21\n",
       "calculated_host_listings_count     5.21\n",
       "host_name                          0.32\n",
       "title_announcement                 0.03\n",
       "id_announcement                    0.00\n",
       "host_id                            0.00\n",
       "room_type                          0.00\n",
       "longitude                          0.00\n",
       "latitude                           0.00\n",
       "neighbourhood                      0.00\n",
       "number_of_reviews                  0.00\n",
       "minimum_nights                     0.00\n",
       "price                              0.00\n",
       "city                               0.00\n",
       "dtype: float64"
      ]
     },
     "execution_count": 15,
     "metadata": {},
     "output_type": "execute_result"
    }
   ],
   "source": [
    "# Checking for missing values in the dataset QTY\n",
    "df_raw_1.isna().sum().sort_values(ascending=False)\n",
    "\n",
    "# Checking for missing values in the dataset PERCENTAGE\n",
    "(df_raw_1.isna().mean().sort_values(ascending=False) * 100).round(2)"
   ]
  },
  {
   "cell_type": "markdown",
   "metadata": {},
   "source": [
    "###  <span style=\"color:#f05593\"> Imputing nulls </span> \n",
    "\n",
    "- <span style=\"color:#fe5608\">  neighbourhood_group  </span> THIS COLUMN <u>CANNOT</u> BE TAKEN INTO ACCOUNT\n",
    "    - Original nulls: 151,518 == 68.86%\n",
    "    - Imputed by \"Unknown\" \n",
    "        - There are no neighbourhoods_groups for the cities affected\n",
    "        - The only way to impute is:\n",
    "            - to use the geopy library\n",
    "            - study the administrative division in countries affected\n",
    "            - If there is time and this columns is really needed I'll do it\n",
    "        - In the meantime, the column will be imputed with \"Unknown\"\n",
    "\n",
    "- <span style=\"color:#fe5608\">  last_review </span> THIS COLUMN NEEDS TO BE TAKEN BUT <u>CAREFULLY</u> \n",
    "    - Original nulls: 6,631 = 30.74%\n",
    "        - Imputed with \"1900-01-01\" when \"number_of_reviews\" is 0 and \"reviews_per_month\" is 0.0\n",
    "            - Since a model will be used and it is not possible to have a Nan, it will be imputed with date \"1900-01-01\" \n",
    "            - 67,631 -  13,383 = 54,248 rows where imputed\n",
    "    - After 1st imputation: 13,383 nulls left = 6.08%\n",
    "        - Imputed with a calculation of the estimated missing last_review dates using the number of reviews and reviews per month, assuming a regular review pattern.\n",
    "    - After 2nd imputation:  2,209 nulls left\n",
    "        - There's no way to impute this except by a fake date\n",
    "        - Imputed with \"1900-01-01\" \n",
    "    - After 3rd imputation:      0 nulls left\n",
    "\n",
    "THIS COLUMN CAN BE TAKEN INTO ACCOUNT BUT NEEDS TO BE TAKEN CAREFULLY. APROX 72% OF DATA IS USEFUL\n",
    "\n",
    "- <span style=\"color:#fe5608\">  reviews_per_month </span> THIS COLUMN <u>SHOULD NOT</u> BE TAKEN INTO ACCOUNT\n",
    "    - Original nulls QTY: 54,371 == 24.71 %\n",
    "        - If there are no \"number_of_reviews\", there are no \"reviews_per_month\" therefore, this will be imputed with 0 when there are no reviews to start with\n",
    "    - Afeter 1st imputation:123 nulls left\n",
    "        - When there are no \"last_reviews\", there are no \"reviews_per_month\", which is logic\n",
    "        - Imputing with zero \"0.0\" when \"number_of_reviews\" is 1 and when \"last_review\" is null\n",
    "            - In order not to false any data and since this column means how many reviews they got per month and since they only got 1, this might mean they got the first and only review when the \"guests\" just left\n",
    "    - After 2nd imputation: 6 nulls left\n",
    "        - Imputed by median\n",
    "\n",
    "- <span style=\"color:#fe5608\">  availability_365 </span>\n",
    "    - Original nulls QTY: 11,466 == 5.21%\n",
    "    - Distribuition with outliers\n",
    "    - Tokyo is the only city with no values\n",
    "        - Imputed with the global mean of other cities.\n",
    "\n",
    "    TOKYO NEEDS TO BE LOOKED CAREFULLY \n",
    "- <span style=\"color:#fe5608\">  calculated_host_listings_count </span> NOT TO TAKE INTO ACCOUNT TOKYO in this COLUMN\n",
    "    - Original nulls QTY: 11,466 == 5.21%\n",
    "    - Tokyo is the city with null values\n",
    "    - Imputed with zero \"0\"\n",
    "    - This column has nothing to do with the appartment and everything to do with the host, since in this dataset there's nothing regarding the host, it has no sense to impute.\n",
    "\n",
    "- <span style=\"color:#fe5608\">  host_name </span>\n",
    "    - Original nulls qty: 706 == 0.32%\n",
    "    - host_id : 175128252 has at least 2 different host_names\n",
    "        - It seems the name was changed for company reasons\n",
    "        - It will be changed to \"Team Gospodin\"\n",
    "    - After 1st imputation: qty of nulls: 586\n",
    "    - After 2nd impitation: qty of nulls 0\n",
    "- <span style=\"color:#fe5608\">  title_announcement </span>\n",
    "    - Original nulls qty: 67 == 0.03%\n",
    "    - Too little to keep BUT, let's keep it for the moment\n",
    "        - Since it is necessary for the rows to be filled for the possible future model, let's impute them with \"Unknown title \""
   ]
  },
  {
   "cell_type": "markdown",
   "metadata": {},
   "source": [
    "####  <span style=\"color:#fe5608\"> [\"neighbourhood_group\"] </span>\n",
    "\n",
    "- Original nulls: 151,518 \n",
    "    - Imputed by \"Unknown\" \n",
    "        - There are no neighbourhoods_groups for the cities affected\n",
    "        - The only way to impute is:\n",
    "            - to use the geopy library\n",
    "            - study the administrative division in countries affected\n",
    "            - If there is time and this columns is really needed I'll do it\n",
    "        - In the meantime, the column will be imputed with \"Unknown\""
   ]
  },
  {
   "cell_type": "code",
   "execution_count": 16,
   "metadata": {},
   "outputs": [
    {
     "data": {
      "text/plain": [
       "array([nan], dtype=object)"
      ]
     },
     "execution_count": 16,
     "metadata": {},
     "output_type": "execute_result"
    }
   ],
   "source": [
    "# Checking what neighbourhood appears when neighbourhood_group is null\n",
    "df_raw_1[df_raw_1['neighbourhood_group'].isnull()][[\"neighbourhood_group\",'neighbourhood', 'city']]\n",
    "\n",
    "# Check if that neighbourhood appears in any other neighbourhood_group\n",
    "nbh_group_map = df_raw_1[['neighbourhood', 'neighbourhood_group']].drop_duplicates()\n",
    "nbh_group_conflicts = nbh_group_map.groupby('neighbourhood')['neighbourhood_group'].nunique() # None\n",
    "\n",
    "# Check which Cities are when the neighbourhood_group is null\n",
    "df_raw_1[df_raw_1['neighbourhood_group'].isnull()]['city'].unique() # ['London', 'Milan', 'Tokyo', 'Sydney']\n",
    "\n",
    "# Check how many neighbourhoods are in each City when neighbourhood_group is null\n",
    "df_raw_1[df_raw_1['neighbourhood_group'].isnull()].groupby('city')['neighbourhood'].nunique() # London: 33, Milan: 87, Tokyo: 38, Sydney: 56\n",
    " \n",
    "# Checking now how many neighbourhoods are in each City when neighbourhood_group is NOT null\n",
    "df_raw_1[df_raw_1['neighbourhood_group'].notnull()].groupby('city')['neighbourhood'].nunique() # Madrid: 128, New York: 221\n",
    "\n",
    "# Checking the lenght of neighbourhood by City when neighbourhood_group is null and when it is not null\n",
    "df_raw_1[df_raw_1['neighbourhood_group'].isnull()].groupby('city')['neighbourhood'].apply(lambda x: len(x.unique())) # London: 33, Milan: 87, Tokyo: 38, Sydney: 56\n",
    "df_raw_1[df_raw_1['neighbourhood'].isnull()].groupby('city')['neighbourhood_group'].apply(lambda x: len(x.unique())) # 0\n",
    "\n",
    "# Checking which neighbourhoods are in each City when neighbourhood_group is null\n",
    "df_raw_1[df_raw_1['neighbourhood_group'].isnull()].groupby('city')['neighbourhood'].unique() # London: 33, Milan: 87, Tokyo: 38, Sydney: 56\n",
    "\n",
    "# Check unique neighbourhood_group values when city is not Madrid or New York\n",
    "df_raw_1[df_raw_1['city'].isin(['London', 'Milan', 'Tokyo', 'Sydney'])]['neighbourhood_group'].unique() # [nan]"
   ]
  },
  {
   "cell_type": "code",
   "execution_count": 17,
   "metadata": {},
   "outputs": [
    {
     "data": {
      "application/vnd.microsoft.datawrangler.viewer.v0+json": {
       "columns": [
        {
         "name": "city",
         "rawType": "object",
         "type": "string"
        },
        {
         "name": "neighbourhood",
         "rawType": "object",
         "type": "unknown"
        }
       ],
       "ref": "9d8bb1a0-026a-4270-b3da-f2a4bf7917ea",
       "rows": [
        [
         "London",
         "['Lambeth', 'Islington', 'Kensington and Chelsea', 'Westminster', 'Wandsworth', 'Croydon', 'Tower Hamlets', 'Hammersmith and Fulham', 'Barnet', 'Merton', 'Hounslow', 'Camden', 'Haringey', 'Richmond upon Thames', 'Southwark', 'Hackney', 'Brent', 'Ealing', 'Waltham Forest', 'Newham', 'Lewisham', 'Enfield', 'City of London', 'Greenwich', 'Bromley', 'Hillingdon', 'Havering', 'Barking and Dagenham', 'Harrow', 'Redbridge', 'Kingston upon Thames', 'Bexley', 'Sutton']"
        ],
        [
         "Milan",
         "['TIBALDI', 'NAVIGLI', 'SARPI', 'VIALE MONZA', 'BUENOS AIRES - VENEZIA', 'MAGENTA - S. VITTORE', 'CENTRALE', 'XXII MARZO', 'BRERA', 'DUOMO', 'TICINESE', 'ISOLA', 'BANDE NERE', 'WASHINGTON', 'UMBRIA - MOLISE', 'PARCO FORLANINI - ORTICA', 'LAMBRATE', 'VILLAPIZZONE', 'GUASTALLA', \"CITTA' STUDI\", 'STADERA', 'S. SIRO', 'S. CRISTOFORO', 'GIAMBELLINO', 'PADOVA', 'LORETO', 'DE ANGELI - MONTE ROSA', 'BOVISASCA', 'PORTA ROMANA', 'TORTONA', 'GRATOSOGLIO - TICINELLO', 'VIGENTINA', 'BICOCCA', 'GARIBALDI REPUBBLICA', 'GHISOLFA', 'RIPAMONTI', 'PORTELLO', 'SACCO', 'PARCO LAMBRO - CIMIANO', 'RONCHETTO SUL NAVIGLIO', 'BOVISA', 'LODI - CORVETTO', 'FORZE ARMATE', 'BAGGIO', 'BARONA', 'PAGANO', 'FARINI', 'SCALO ROMANA', 'CORSICA', 'GRECO', 'GALLARATESE', 'EX OM - MORIVIONE', 'ORTOMERCATO', 'MACIACHINI - MAGGIOLINA', \"NIGUARDA - CA' GRANDA\", 'MAGGIORE - MUSOCCO', 'LORENTEGGIO', 'DERGANO', 'TRE TORRI', 'ADRIANO', 'QUINTO ROMANO', 'QUARTO CAGNINO', 'COMASINA', 'ROGOREDO', 'QT 8', 'SELINUNTE', 'MECENATE', 'QUARTO OGGIARO', 'TRIULZO SUPERIORE', 'AFFORI', 'BRUZZANO', \"PARCO MONLUE' - PONTE LAMBRO\", 'CHIARAVALLE', 'GIARDINI PORTA VENEZIA', 'PARCO SEMPIONE', 'PARCO BOSCO IN CITT', 'PARCO AGRICOLO SUD', 'FIGINO', 'PARCO NORD', 'PARCO DELLE ABBAZIE', 'PARCO DEI NAVIGLI', 'TRENNO', 'CANTALUPA', 'QUINTOSOLE', 'MUGGIANO', 'STEPHENSON', 'CASCINA TRIULZA - EXPO']"
        ],
        [
         "Sydney",
         "['Sydney', 'Manly', 'Leichhardt', 'Woollahra', 'North Sydney', 'Waverley', 'Mosman', 'Pittwater', 'Lane Cove', 'Marrickville', 'The Hills Shire', 'Hornsby', 'Warringah', 'Randwick', 'Sutherland Shire', 'Ku-Ring-Gai', 'Canterbury', 'Blacktown', 'Willoughby', 'Auburn', 'Canada Bay', 'Ashfield', 'City Of Kogarah', 'Parramatta', 'Hurstville', 'Ryde', 'Rockdale', 'Botany Bay', 'Holroyd', 'Penrith', 'Hunters Hill', 'Burwood', 'Campbelltown', 'Strathfield', 'Camden', 'Liverpool', 'Bankstown', 'Fairfield']"
        ],
        [
         "Tokyo",
         "['Shibuya Ku', 'Sumida Ku', 'Nerima Ku', 'Setagaya Ku', 'Arakawa Ku', 'Shinjuku Ku', 'Mitaka Shi', 'Adachi Ku', 'Katsushika Ku', 'Meguro Ku', 'Toshima Ku', 'Minato Ku', 'Shinagawa Ku', 'Suginami Ku', 'Koto Ku', 'Akishima Shi', 'Bunkyo Ku', 'Taito Ku', 'Itabashi Ku', 'Ota Ku', 'Edogawa Ku', 'Machida Shi', 'Kita Ku', 'Higashimurayama Shi', 'Nakano Ku', 'Hino Shi', 'Hachioji Shi', 'Koganei Shi', 'Kokubunji Shi', 'Ogasawara Mura', 'Musashino Shi', 'Okutama Machi', 'Kodaira Shi', 'Akiruno Shi', 'Chiyoda Ku', 'Chuo Ku', 'Fuchu Shi', 'Inagi Shi', 'Fussa Shi', 'Tama Shi', 'Nishitokyo Shi', 'Komae Shi', 'Chofu Shi', 'Hinohara Mura', 'Ome Shi', 'Oshima Machi', 'Kozushima Mura', 'Higashiyamato Shi', 'Hamura Shi', 'Tachikawa Shi', 'Musashimurayama Shi', 'Niijima Mura', 'Hachijo Machi', 'Miyake Mura', 'Kunitachi Shi', 'Higashikurume Shi']"
        ]
       ],
       "shape": {
        "columns": 1,
        "rows": 4
       }
      },
      "text/plain": [
       "city\n",
       "London    [Lambeth, Islington, Kensington and Chelsea, W...\n",
       "Milan     [TIBALDI, NAVIGLI, SARPI, VIALE MONZA, BUENOS ...\n",
       "Sydney    [Sydney, Manly, Leichhardt, Woollahra, North S...\n",
       "Tokyo     [Shibuya Ku, Sumida Ku, Nerima Ku, Setagaya Ku...\n",
       "Name: neighbourhood, dtype: object"
      ]
     },
     "execution_count": 17,
     "metadata": {},
     "output_type": "execute_result"
    }
   ],
   "source": [
    "# Check the nunique neighbourhood grouped by city when neighbourhood_group is null, so we can determine from which neighbourhood_group the neighbourhoods are\n",
    "df_raw_1[df_raw_1['neighbourhood_group'].isnull()] \\\n",
    "    .groupby('city')['neighbourhood'] \\\n",
    "    .unique() \\\n",
    "    .apply(list)"
   ]
  },
  {
   "cell_type": "code",
   "execution_count": 18,
   "metadata": {},
   "outputs": [
    {
     "name": "stdout",
     "output_type": "stream",
     "text": [
      "London: Lambeth, Islington, Kensington and Chelsea, Westminster, Wandsworth, Croydon, Tower Hamlets, Hammersmith and Fulham, Barnet, Merton, Hounslow, Camden, Haringey, Richmond upon Thames, Southwark, Hackney, Brent, Ealing, Waltham Forest, Newham, Lewisham, Enfield, City of London, Greenwich, Bromley, Hillingdon, Havering, Barking and Dagenham, Harrow, Redbridge, Kingston upon Thames, Bexley, Sutton\n",
      "Milan: TIBALDI, NAVIGLI, SARPI, VIALE MONZA, BUENOS AIRES - VENEZIA, MAGENTA - S. VITTORE, CENTRALE, XXII MARZO, BRERA, DUOMO, TICINESE, ISOLA, BANDE NERE, WASHINGTON, UMBRIA - MOLISE, PARCO FORLANINI - ORTICA, LAMBRATE, VILLAPIZZONE, GUASTALLA, CITTA' STUDI, STADERA, S. SIRO, S. CRISTOFORO, GIAMBELLINO, PADOVA, LORETO, DE ANGELI - MONTE ROSA, BOVISASCA, PORTA ROMANA, TORTONA, GRATOSOGLIO - TICINELLO, VIGENTINA, BICOCCA, GARIBALDI REPUBBLICA, GHISOLFA, RIPAMONTI, PORTELLO, SACCO, PARCO LAMBRO - CIMIANO, RONCHETTO SUL NAVIGLIO, BOVISA, LODI - CORVETTO, FORZE ARMATE, BAGGIO, BARONA, PAGANO, FARINI, SCALO ROMANA, CORSICA, GRECO, GALLARATESE, EX OM - MORIVIONE, ORTOMERCATO, MACIACHINI - MAGGIOLINA, NIGUARDA - CA' GRANDA, MAGGIORE - MUSOCCO, LORENTEGGIO, DERGANO, TRE TORRI, ADRIANO, QUINTO ROMANO, QUARTO CAGNINO, COMASINA, ROGOREDO, QT 8, SELINUNTE, MECENATE, QUARTO OGGIARO, TRIULZO SUPERIORE, AFFORI, BRUZZANO, PARCO MONLUE' - PONTE LAMBRO, CHIARAVALLE, GIARDINI PORTA VENEZIA, PARCO SEMPIONE, PARCO BOSCO IN CITT, PARCO AGRICOLO SUD, FIGINO, PARCO NORD, PARCO DELLE ABBAZIE, PARCO DEI NAVIGLI, TRENNO, CANTALUPA, QUINTOSOLE, MUGGIANO, STEPHENSON, CASCINA TRIULZA - EXPO\n",
      "Sydney: Sydney, Manly, Leichhardt, Woollahra, North Sydney, Waverley, Mosman, Pittwater, Lane Cove, Marrickville, The Hills Shire, Hornsby, Warringah, Randwick, Sutherland Shire, Ku-Ring-Gai, Canterbury, Blacktown, Willoughby, Auburn, Canada Bay, Ashfield, City Of Kogarah, Parramatta, Hurstville, Ryde, Rockdale, Botany Bay, Holroyd, Penrith, Hunters Hill, Burwood, Campbelltown, Strathfield, Camden, Liverpool, Bankstown, Fairfield\n",
      "Tokyo: Shibuya Ku, Sumida Ku, Nerima Ku, Setagaya Ku, Arakawa Ku, Shinjuku Ku, Mitaka Shi, Adachi Ku, Katsushika Ku, Meguro Ku, Toshima Ku, Minato Ku, Shinagawa Ku, Suginami Ku, Koto Ku, Akishima Shi, Bunkyo Ku, Taito Ku, Itabashi Ku, Ota Ku, Edogawa Ku, Machida Shi, Kita Ku, Higashimurayama Shi, Nakano Ku, Hino Shi, Hachioji Shi, Koganei Shi, Kokubunji Shi, Ogasawara Mura, Musashino Shi, Okutama Machi, Kodaira Shi, Akiruno Shi, Chiyoda Ku, Chuo Ku, Fuchu Shi, Inagi Shi, Fussa Shi, Tama Shi, Nishitokyo Shi, Komae Shi, Chofu Shi, Hinohara Mura, Ome Shi, Oshima Machi, Kozushima Mura, Higashiyamato Shi, Hamura Shi, Tachikawa Shi, Musashimurayama Shi, Niijima Mura, Hachijo Machi, Miyake Mura, Kunitachi Shi, Higashikurume Shi\n"
     ]
    }
   ],
   "source": [
    "# Checkin the neighbourhoods grouped by city when city is not Madrid or New York\n",
    "df_raw_1[df_raw_1['city'].isin(['London', 'Milan', 'Tokyo', 'Sydney'])] \\\n",
    "    .groupby('city')['neighbourhood'] \\\n",
    "    .unique() \\\n",
    "    .apply(list)\n",
    "\n",
    "# Printing the neighbourhoods grouped by city when neighbourhood_group is null\n",
    "for city, neighbourhoods in df_raw_1[df_raw_1['neighbourhood_group'].isnull()] \\\n",
    "        .groupby('city')['neighbourhood'] \\\n",
    "        .unique() \\\n",
    "        .items():\n",
    "    print(f\"{city}: {', '.join(neighbourhoods)}\")"
   ]
  },
  {
   "cell_type": "code",
   "execution_count": 19,
   "metadata": {},
   "outputs": [],
   "source": [
    "# from geopy.geocoders import Nominatim\n",
    "# from geopy.extra.rate_limiter import RateLimiter\n",
    "# import pandas as pd\n",
    "# import time\n",
    "\n",
    "# # ---------- CONFIGURACIÓN GENERAL ---------- #\n",
    "# geolocator = Nominatim(user_agent=\"geoapiExercises\")\n",
    "# reverse = RateLimiter(geolocator.reverse, min_delay_seconds=1)\n",
    "\n",
    "# # Función para obtener la área administrativa\n",
    "# def get_admin_area(row):\n",
    "#     try:\n",
    "#         location = reverse((row['latitude'], row['longitude']), exactly_one=True)\n",
    "#         if location and 'address' in location.raw:\n",
    "#             address = location.raw['address']\n",
    "#             return address.get('suburb') or address.get('neighbourhood') or address.get('city_district') or address.get('district')\n",
    "#     except Exception as e:\n",
    "#         print(f\"Error: {e}\")\n",
    "#     return None\n",
    "\n",
    "# # ---------- PROCESAMIENTO POR CIUDADES Y CHUNKS ---------- #\n",
    "# # Lista de ciudades a procesar\n",
    "# cities_to_process = ['London', 'Milan', 'Tokyo', 'Sydney']\n",
    "\n",
    "# # Tamaño del chunk\n",
    "# chunk_size = 50\n",
    "\n",
    "# # Recorremos cada ciudad\n",
    "# for city in cities_to_process:\n",
    "#     df_city = df_missing_group[df_missing_group['city'] == city].copy()\n",
    "#     total_rows = len(df_city)\n",
    "#     print(f\"\\n📍 Procesando ciudad: {city} ({total_rows} filas)\\n\")\n",
    "\n",
    "#     # Dividir en chunks\n",
    "#     for start in range(0, total_rows, chunk_size):\n",
    "#         end = min(start + chunk_size, total_rows)\n",
    "#         chunk = df_city.iloc[start:end].copy()\n",
    "\n",
    "#         # Aplicar función\n",
    "#         print(f\"⏳ Procesando filas {start} a {end}...\")\n",
    "#         chunk['admin_area_guess'] = chunk.apply(get_admin_area, axis=1)\n",
    "\n",
    "#         # Guardar chunk procesado\n",
    "#         filename = f\"reverse_{city.lower()}_chunk_{start}_{end}.csv\"\n",
    "#         chunk.to_csv(filename, index=False)\n",
    "#         print(f\"✅ Guardado: {filename}\")\n",
    "\n",
    "#         # Esperar para no sobrecargar el servicio\n",
    "#         time.sleep(1)\n"
   ]
  },
  {
   "cell_type": "code",
   "execution_count": 20,
   "metadata": {},
   "outputs": [],
   "source": [
    "# Imputing with \"Uknown\" for neighbourhood_group when it is null\n",
    "df_raw_1.loc[:, 'neighbourhood_group'] = df_raw_1['neighbourhood_group'].astype(str).str.strip()\n",
    "\n",
    "# Replacing empty strings and 'nan' strings with NaN\n",
    "df_raw_1.loc[df_raw_1['neighbourhood_group'] == '', 'neighbourhood_group'] = np.nan\n",
    "df_raw_1.loc[df_raw_1['neighbourhood_group'].str.lower() == 'nan', 'neighbourhood_group'] = np.nan\n",
    "\n",
    "# Fill all NaNs with \"Unknown\"\n",
    "df_raw_1.loc[:, 'neighbourhood_group'] = df_raw_1['neighbourhood_group'].fillna(\"Unknown\")\n"
   ]
  },
  {
   "cell_type": "code",
   "execution_count": 21,
   "metadata": {},
   "outputs": [
    {
     "data": {
      "application/vnd.microsoft.datawrangler.viewer.v0+json": {
       "columns": [
        {
         "name": "neighbourhood_group",
         "rawType": "object",
         "type": "string"
        },
        {
         "name": "count",
         "rawType": "int64",
         "type": "integer"
        }
       ],
       "ref": "cf4ce2ba-5ee5-4ba5-bbea-a310b6aebb2d",
       "rows": [
        [
         "Unknown",
         "151518"
        ],
        [
         "Manhattan",
         "21661"
        ],
        [
         "Brooklyn",
         "20104"
        ],
        [
         "Centro",
         "8649"
        ],
        [
         "Queens",
         "5666"
        ],
        [
         "Salamanca",
         "1324"
        ],
        [
         "Chamberí",
         "1252"
        ],
        [
         "Arganzuela",
         "1104"
        ],
        [
         "Bronx",
         "1091"
        ],
        [
         "Tetuán",
         "816"
        ],
        [
         "Carabanchel",
         "708"
        ],
        [
         "Retiro",
         "664"
        ],
        [
         "Ciudad Lineal",
         "649"
        ],
        [
         "Puente de Vallecas",
         "617"
        ],
        [
         "Latina",
         "608"
        ],
        [
         "Chamartín",
         "580"
        ],
        [
         "Moncloa - Aravaca",
         "554"
        ],
        [
         "San Blas - Canillejas",
         "497"
        ],
        [
         "Staten Island",
         "373"
        ],
        [
         "Hortaleza",
         "364"
        ],
        [
         "Fuencarral - El Pardo",
         "315"
        ],
        [
         "Usera",
         "280"
        ],
        [
         "Villaverde",
         "177"
        ],
        [
         "Barajas",
         "172"
        ],
        [
         "Moratalaz",
         "118"
        ],
        [
         "Villa de Vallecas",
         "98"
        ],
        [
         "Vicálvaro",
         "72"
        ]
       ],
       "shape": {
        "columns": 1,
        "rows": 27
       }
      },
      "text/plain": [
       "neighbourhood_group\n",
       "Unknown                  151518\n",
       "Manhattan                 21661\n",
       "Brooklyn                  20104\n",
       "Centro                     8649\n",
       "Queens                     5666\n",
       "Salamanca                  1324\n",
       "Chamberí                   1252\n",
       "Arganzuela                 1104\n",
       "Bronx                      1091\n",
       "Tetuán                      816\n",
       "Carabanchel                 708\n",
       "Retiro                      664\n",
       "Ciudad Lineal               649\n",
       "Puente de Vallecas          617\n",
       "Latina                      608\n",
       "Chamartín                   580\n",
       "Moncloa - Aravaca           554\n",
       "San Blas - Canillejas       497\n",
       "Staten Island               373\n",
       "Hortaleza                   364\n",
       "Fuencarral - El Pardo       315\n",
       "Usera                       280\n",
       "Villaverde                  177\n",
       "Barajas                     172\n",
       "Moratalaz                   118\n",
       "Villa de Vallecas            98\n",
       "Vicálvaro                    72\n",
       "Name: count, dtype: int64"
      ]
     },
     "execution_count": 21,
     "metadata": {},
     "output_type": "execute_result"
    }
   ],
   "source": [
    "df_raw_1[\"neighbourhood_group\"].isnull().sum()  # 0\n",
    "df_raw_1[\"neighbourhood_group\"].unique() \n",
    "df_raw_1[\"neighbourhood_group\"].nunique() # 27\n",
    "df_raw_1[\"neighbourhood_group\"].value_counts()"
   ]
  },
  {
   "cell_type": "markdown",
   "metadata": {},
   "source": [
    "#### <span style=\"color:#fe5608\"> [\"reviews_per_month\"] </span>\n",
    "\n",
    "- Original nulls QTY: 54,371\n",
    "    - If there are no \"number_of_reviews\", there are no \"reviews_per_month\" therefore, this will be imputed with 0 when there are no reviews to start with\n",
    "- Afeter 1st imputation:123 nulls left\n",
    "    - When there are no \"last_reviews\", there are no \"reviews_per_month\", which is logic\n",
    "    - Imputing with zero \"0.0\" when \"number_of_reviews\" is 1 and when \"last_review\" is null\n",
    "        - In order not to false any data and since this column means how many reviews they got per month and since they only got 1, this might mean they got the first and only review when the \"guests\" just left\n",
    "- After 2nd imputation: 6 nulls left\n",
    "    - Imputed by median"
   ]
  },
  {
   "cell_type": "code",
   "execution_count": 22,
   "metadata": {},
   "outputs": [],
   "source": [
    "df_raw_1.loc[df_raw_1['number_of_reviews'] == 0, 'reviews_per_month'] = 0"
   ]
  },
  {
   "cell_type": "code",
   "execution_count": 23,
   "metadata": {},
   "outputs": [
    {
     "data": {
      "text/plain": [
       "np.int64(123)"
      ]
     },
     "execution_count": 23,
     "metadata": {},
     "output_type": "execute_result"
    }
   ],
   "source": [
    "df_raw_1[\"reviews_per_month\"].isnull().sum() # 123"
   ]
  },
  {
   "cell_type": "code",
   "execution_count": 24,
   "metadata": {},
   "outputs": [
    {
     "data": {
      "application/vnd.microsoft.datawrangler.viewer.v0+json": {
       "columns": [
        {
         "name": "index",
         "rawType": "int64",
         "type": "integer"
        },
        {
         "name": "id_announcement",
         "rawType": "int64",
         "type": "integer"
        },
        {
         "name": "title_announcement",
         "rawType": "object",
         "type": "string"
        },
        {
         "name": "number_of_reviews",
         "rawType": "int64",
         "type": "integer"
        },
        {
         "name": "last_review",
         "rawType": "datetime64[ns]",
         "type": "datetime"
        },
        {
         "name": "availability_365",
         "rawType": "float64",
         "type": "float"
        },
        {
         "name": "reviews_per_month",
         "rawType": "float64",
         "type": "float"
        }
       ],
       "ref": "a160d35b-41d6-4beb-9b07-51a0ea7f3788",
       "rows": [
        [
         "197700",
         "29969357",
         "Heart of Redfern",
         "1",
         null,
         "28.0",
         null
        ],
        [
         "190317",
         "24479494",
         "Double Room /w Harbour Bridge view",
         "1",
         null,
         "0.0",
         null
        ],
        [
         "172742",
         "11512611",
         "all amenities supplied",
         "1",
         null,
         "2.0",
         null
        ],
        [
         "198948",
         "30274294",
         "Own space in shared room",
         "1",
         null,
         "45.0",
         null
        ],
        [
         "190026",
         "24252084",
         "Manly beach house",
         "1",
         null,
         "5.0",
         null
        ],
        [
         "198671",
         "30209790",
         "Whole Apartment - Close to Bondi & Harbour views",
         "1",
         null,
         "141.0",
         null
        ],
        [
         "197986",
         "30047986",
         "Naremburn poolside home",
         "1",
         null,
         "35.0",
         null
        ],
        [
         "196693",
         "29617974",
         "Coogee Beachside Living",
         "1",
         null,
         "27.0",
         null
        ],
        [
         "195409",
         "28891694",
         "Rose Bay 5 Bed, 4 bath Family Home with Pool",
         "1",
         null,
         "83.0",
         null
        ],
        [
         "193901",
         "27812722",
         "Beach Garden Paradise with Ocean Views",
         "1",
         null,
         "30.0",
         null
        ]
       ],
       "shape": {
        "columns": 6,
        "rows": 10
       }
      },
      "text/html": [
       "<div>\n",
       "<style scoped>\n",
       "    .dataframe tbody tr th:only-of-type {\n",
       "        vertical-align: middle;\n",
       "    }\n",
       "\n",
       "    .dataframe tbody tr th {\n",
       "        vertical-align: top;\n",
       "    }\n",
       "\n",
       "    .dataframe thead th {\n",
       "        text-align: right;\n",
       "    }\n",
       "</style>\n",
       "<table border=\"1\" class=\"dataframe\">\n",
       "  <thead>\n",
       "    <tr style=\"text-align: right;\">\n",
       "      <th></th>\n",
       "      <th>id_announcement</th>\n",
       "      <th>title_announcement</th>\n",
       "      <th>number_of_reviews</th>\n",
       "      <th>last_review</th>\n",
       "      <th>availability_365</th>\n",
       "      <th>reviews_per_month</th>\n",
       "    </tr>\n",
       "  </thead>\n",
       "  <tbody>\n",
       "    <tr>\n",
       "      <th>197700</th>\n",
       "      <td>29969357</td>\n",
       "      <td>Heart of Redfern</td>\n",
       "      <td>1</td>\n",
       "      <td>NaT</td>\n",
       "      <td>28.0</td>\n",
       "      <td>NaN</td>\n",
       "    </tr>\n",
       "    <tr>\n",
       "      <th>190317</th>\n",
       "      <td>24479494</td>\n",
       "      <td>Double Room /w Harbour Bridge view</td>\n",
       "      <td>1</td>\n",
       "      <td>NaT</td>\n",
       "      <td>0.0</td>\n",
       "      <td>NaN</td>\n",
       "    </tr>\n",
       "    <tr>\n",
       "      <th>172742</th>\n",
       "      <td>11512611</td>\n",
       "      <td>all amenities supplied</td>\n",
       "      <td>1</td>\n",
       "      <td>NaT</td>\n",
       "      <td>2.0</td>\n",
       "      <td>NaN</td>\n",
       "    </tr>\n",
       "    <tr>\n",
       "      <th>198948</th>\n",
       "      <td>30274294</td>\n",
       "      <td>Own space in shared room</td>\n",
       "      <td>1</td>\n",
       "      <td>NaT</td>\n",
       "      <td>45.0</td>\n",
       "      <td>NaN</td>\n",
       "    </tr>\n",
       "    <tr>\n",
       "      <th>190026</th>\n",
       "      <td>24252084</td>\n",
       "      <td>Manly beach house</td>\n",
       "      <td>1</td>\n",
       "      <td>NaT</td>\n",
       "      <td>5.0</td>\n",
       "      <td>NaN</td>\n",
       "    </tr>\n",
       "    <tr>\n",
       "      <th>198671</th>\n",
       "      <td>30209790</td>\n",
       "      <td>Whole Apartment - Close to Bondi &amp; Harbour views</td>\n",
       "      <td>1</td>\n",
       "      <td>NaT</td>\n",
       "      <td>141.0</td>\n",
       "      <td>NaN</td>\n",
       "    </tr>\n",
       "    <tr>\n",
       "      <th>197986</th>\n",
       "      <td>30047986</td>\n",
       "      <td>Naremburn poolside home</td>\n",
       "      <td>1</td>\n",
       "      <td>NaT</td>\n",
       "      <td>35.0</td>\n",
       "      <td>NaN</td>\n",
       "    </tr>\n",
       "    <tr>\n",
       "      <th>196693</th>\n",
       "      <td>29617974</td>\n",
       "      <td>Coogee Beachside Living</td>\n",
       "      <td>1</td>\n",
       "      <td>NaT</td>\n",
       "      <td>27.0</td>\n",
       "      <td>NaN</td>\n",
       "    </tr>\n",
       "    <tr>\n",
       "      <th>195409</th>\n",
       "      <td>28891694</td>\n",
       "      <td>Rose Bay 5 Bed, 4 bath Family Home with Pool</td>\n",
       "      <td>1</td>\n",
       "      <td>NaT</td>\n",
       "      <td>83.0</td>\n",
       "      <td>NaN</td>\n",
       "    </tr>\n",
       "    <tr>\n",
       "      <th>193901</th>\n",
       "      <td>27812722</td>\n",
       "      <td>Beach Garden Paradise with Ocean Views</td>\n",
       "      <td>1</td>\n",
       "      <td>NaT</td>\n",
       "      <td>30.0</td>\n",
       "      <td>NaN</td>\n",
       "    </tr>\n",
       "  </tbody>\n",
       "</table>\n",
       "</div>"
      ],
      "text/plain": [
       "        id_announcement                                title_announcement  number_of_reviews last_review  availability_365  reviews_per_month\n",
       "197700         29969357                                  Heart of Redfern                  1         NaT              28.0                NaN\n",
       "190317         24479494                Double Room /w Harbour Bridge view                  1         NaT               0.0                NaN\n",
       "172742         11512611                            all amenities supplied                  1         NaT               2.0                NaN\n",
       "198948         30274294                          Own space in shared room                  1         NaT              45.0                NaN\n",
       "190026         24252084                                 Manly beach house                  1         NaT               5.0                NaN\n",
       "198671         30209790  Whole Apartment - Close to Bondi & Harbour views                  1         NaT             141.0                NaN\n",
       "197986         30047986                           Naremburn poolside home                  1         NaT              35.0                NaN\n",
       "196693         29617974                           Coogee Beachside Living                  1         NaT              27.0                NaN\n",
       "195409         28891694      Rose Bay 5 Bed, 4 bath Family Home with Pool                  1         NaT              83.0                NaN\n",
       "193901         27812722            Beach Garden Paradise with Ocean Views                  1         NaT              30.0                NaN"
      ]
     },
     "execution_count": 24,
     "metadata": {},
     "output_type": "execute_result"
    }
   ],
   "source": [
    "# Ver los registros con reviews_per_month nulo\n",
    "null_reviews = df_raw_1[df_raw_1['reviews_per_month'].isnull()]\n",
    "null_reviews[['id_announcement', 'title_announcement', 'number_of_reviews', 'last_review', 'availability_365', 'reviews_per_month']].sample(10)\n"
   ]
  },
  {
   "cell_type": "code",
   "execution_count": 25,
   "metadata": {},
   "outputs": [
    {
     "data": {
      "application/vnd.microsoft.datawrangler.viewer.v0+json": {
       "columns": [
        {
         "name": "last_review",
         "rawType": "bool",
         "type": "boolean"
        },
        {
         "name": "count",
         "rawType": "int64",
         "type": "integer"
        }
       ],
       "ref": "0bc6fbb6-1a09-4304-8ab6-9f58632cd533",
       "rows": [
        [
         "True",
         "123"
        ]
       ],
       "shape": {
        "columns": 1,
        "rows": 1
       }
      },
      "text/plain": [
       "last_review\n",
       "True    123\n",
       "Name: count, dtype: int64"
      ]
     },
     "execution_count": 25,
     "metadata": {},
     "output_type": "execute_result"
    }
   ],
   "source": [
    "null_reviews['number_of_reviews'].value_counts() # 1: 117, 2:4, 4:1, 3:1\n",
    "null_reviews['last_review'].isnull().value_counts() # 123 It seems number_of_reviews comes from last_review"
   ]
  },
  {
   "cell_type": "code",
   "execution_count": 26,
   "metadata": {},
   "outputs": [],
   "source": [
    "# Imputing reviews_per_month with 0.0 when number_of_reviews is 1 and last_review is null\n",
    "df_raw_1.loc[(df_raw_1['number_of_reviews'] == 1) & (df_raw_1['last_review'].isnull()),'reviews_per_month'] = 0"
   ]
  },
  {
   "cell_type": "code",
   "execution_count": 27,
   "metadata": {},
   "outputs": [
    {
     "data": {
      "text/plain": [
       "np.int64(6)"
      ]
     },
     "execution_count": 27,
     "metadata": {},
     "output_type": "execute_result"
    }
   ],
   "source": [
    "df_raw_1['reviews_per_month'].isnull().sum() # 6 "
   ]
  },
  {
   "cell_type": "code",
   "execution_count": 28,
   "metadata": {},
   "outputs": [],
   "source": [
    "# Imputing the remaining null values in reviews_per_month with the median\n",
    "median_rpm = df_raw_1['reviews_per_month'].median()\n",
    "df_raw_1.fillna({'reviews_per_month':median_rpm}, inplace=True)"
   ]
  },
  {
   "cell_type": "code",
   "execution_count": 29,
   "metadata": {},
   "outputs": [
    {
     "data": {
      "text/plain": [
       "np.int64(0)"
      ]
     },
     "execution_count": 29,
     "metadata": {},
     "output_type": "execute_result"
    }
   ],
   "source": [
    "df_raw_1['reviews_per_month'].isnull().sum() # 0"
   ]
  },
  {
   "cell_type": "markdown",
   "metadata": {},
   "source": [
    "#### <span style=\"color:#fe5608\">  [\"last_review\"] </span>\n",
    "- Original nulls: 6,631 = 30.74%\n",
    "    - Imputed with \"1900-01-01\" when \"number_of_reviews\" is 0 and \"reviews_per_month\" is 0.0\n",
    "        - Since a model will be used and it is not possible to have a Nan, it will be imputed with date \"1900-01-01\" \n",
    "        - 67,631 -  13,383 = 54,248 rows where imputed\n",
    "- After 1st imputation: 13,383 nulls left = 6.08%\n",
    "    - Imputed with a calculation of the estimated missing last_review dates using the number of reviews and reviews per month, assuming a regular review pattern.\n",
    "- After 2nd imputation:  2,209 nulls left\n",
    "    - There's no way to impute this except by a fake date\n",
    "    - Imputed with \"1900-01-01\" \n",
    "- After 3rd imputation:      0 nulls left\n",
    "\n",
    "THIS COLUMN CAN BE TAKEN INTO ACCOUNT BUT NEEDS TO BE TAKEN CAREFULLY. APROX 72% OF DATA IS USEFUL\n"
   ]
  },
  {
   "cell_type": "code",
   "execution_count": 30,
   "metadata": {},
   "outputs": [
    {
     "data": {
      "text/plain": [
       "np.float64(30.74)"
      ]
     },
     "execution_count": 30,
     "metadata": {},
     "output_type": "execute_result"
    }
   ],
   "source": [
    "# Checking qty and percentage of null values in 'last_review' column\n",
    "df_raw_1['last_review'].isnull().sum()  # 67,631\n",
    "(df_raw_1['last_review'].isnull().mean() * 100).__round__(2)  # 30.74%"
   ]
  },
  {
   "cell_type": "code",
   "execution_count": 31,
   "metadata": {},
   "outputs": [
    {
     "data": {
      "application/vnd.microsoft.datawrangler.viewer.v0+json": {
       "columns": [
        {
         "name": "index",
         "rawType": "int64",
         "type": "integer"
        },
        {
         "name": "id_announcement",
         "rawType": "int64",
         "type": "integer"
        },
        {
         "name": "title_announcement",
         "rawType": "object",
         "type": "string"
        },
        {
         "name": "number_of_reviews",
         "rawType": "int64",
         "type": "integer"
        },
        {
         "name": "reviews_per_month",
         "rawType": "float64",
         "type": "float"
        },
        {
         "name": "last_review",
         "rawType": "datetime64[ns]",
         "type": "datetime"
        }
       ],
       "ref": "2295aab1-ee2c-4f1b-8103-54325fdb5a82",
       "rows": [
        [
         "215680",
         "41846236",
         "Madrid. Recuerdos. Felicidad.",
         "0",
         "0.0",
         null
        ],
        [
         "149874",
         "45086902",
         "casa accogliente e silenziosa • Milano",
         "3",
         "0.5",
         null
        ],
        [
         "19297",
         "15378469",
         "Private room with yard, in the heart of Bushwick",
         "0",
         "0.0",
         null
        ],
        [
         "219296",
         "47901758",
         "2Bedroom 2Bathroom apartament in Nuñez de Balboa",
         "0",
         "0.0",
         null
        ],
        [
         "163722",
         "36040936",
         "温心小麻雀",
         "0",
         "0.0",
         null
        ],
        [
         "197480",
         "29910513",
         "maroubra Sunny Home & Garden",
         "0",
         "0.0",
         null
        ],
        [
         "119505",
         "36036175",
         "Dover Hotel, Triple",
         "0",
         "0.0",
         null
        ],
        [
         "124020",
         "37493562",
         "Double room in Brixton with ensuite bathroom",
         "0",
         "0.0",
         null
        ],
        [
         "218652",
         "46521057",
         "Senior interior suite",
         "0",
         "0.0",
         null
        ],
        [
         "165848",
         "3980101",
         "Clean home in a quiet neighbourhood",
         "0",
         "0.0",
         null
        ]
       ],
       "shape": {
        "columns": 5,
        "rows": 10
       }
      },
      "text/html": [
       "<div>\n",
       "<style scoped>\n",
       "    .dataframe tbody tr th:only-of-type {\n",
       "        vertical-align: middle;\n",
       "    }\n",
       "\n",
       "    .dataframe tbody tr th {\n",
       "        vertical-align: top;\n",
       "    }\n",
       "\n",
       "    .dataframe thead th {\n",
       "        text-align: right;\n",
       "    }\n",
       "</style>\n",
       "<table border=\"1\" class=\"dataframe\">\n",
       "  <thead>\n",
       "    <tr style=\"text-align: right;\">\n",
       "      <th></th>\n",
       "      <th>id_announcement</th>\n",
       "      <th>title_announcement</th>\n",
       "      <th>number_of_reviews</th>\n",
       "      <th>reviews_per_month</th>\n",
       "      <th>last_review</th>\n",
       "    </tr>\n",
       "  </thead>\n",
       "  <tbody>\n",
       "    <tr>\n",
       "      <th>215680</th>\n",
       "      <td>41846236</td>\n",
       "      <td>Madrid. Recuerdos. Felicidad.</td>\n",
       "      <td>0</td>\n",
       "      <td>0.0</td>\n",
       "      <td>NaT</td>\n",
       "    </tr>\n",
       "    <tr>\n",
       "      <th>149874</th>\n",
       "      <td>45086902</td>\n",
       "      <td>casa accogliente e silenziosa • Milano</td>\n",
       "      <td>3</td>\n",
       "      <td>0.5</td>\n",
       "      <td>NaT</td>\n",
       "    </tr>\n",
       "    <tr>\n",
       "      <th>19297</th>\n",
       "      <td>15378469</td>\n",
       "      <td>Private room with yard, in the heart of Bushwick</td>\n",
       "      <td>0</td>\n",
       "      <td>0.0</td>\n",
       "      <td>NaT</td>\n",
       "    </tr>\n",
       "    <tr>\n",
       "      <th>219296</th>\n",
       "      <td>47901758</td>\n",
       "      <td>2Bedroom 2Bathroom apartament in Nuñez de Balboa</td>\n",
       "      <td>0</td>\n",
       "      <td>0.0</td>\n",
       "      <td>NaT</td>\n",
       "    </tr>\n",
       "    <tr>\n",
       "      <th>163722</th>\n",
       "      <td>36040936</td>\n",
       "      <td>温心小麻雀</td>\n",
       "      <td>0</td>\n",
       "      <td>0.0</td>\n",
       "      <td>NaT</td>\n",
       "    </tr>\n",
       "    <tr>\n",
       "      <th>197480</th>\n",
       "      <td>29910513</td>\n",
       "      <td>maroubra Sunny Home &amp; Garden</td>\n",
       "      <td>0</td>\n",
       "      <td>0.0</td>\n",
       "      <td>NaT</td>\n",
       "    </tr>\n",
       "    <tr>\n",
       "      <th>119505</th>\n",
       "      <td>36036175</td>\n",
       "      <td>Dover Hotel, Triple</td>\n",
       "      <td>0</td>\n",
       "      <td>0.0</td>\n",
       "      <td>NaT</td>\n",
       "    </tr>\n",
       "    <tr>\n",
       "      <th>124020</th>\n",
       "      <td>37493562</td>\n",
       "      <td>Double room in Brixton with ensuite bathroom</td>\n",
       "      <td>0</td>\n",
       "      <td>0.0</td>\n",
       "      <td>NaT</td>\n",
       "    </tr>\n",
       "    <tr>\n",
       "      <th>218652</th>\n",
       "      <td>46521057</td>\n",
       "      <td>Senior interior suite</td>\n",
       "      <td>0</td>\n",
       "      <td>0.0</td>\n",
       "      <td>NaT</td>\n",
       "    </tr>\n",
       "    <tr>\n",
       "      <th>165848</th>\n",
       "      <td>3980101</td>\n",
       "      <td>Clean home in a quiet neighbourhood</td>\n",
       "      <td>0</td>\n",
       "      <td>0.0</td>\n",
       "      <td>NaT</td>\n",
       "    </tr>\n",
       "  </tbody>\n",
       "</table>\n",
       "</div>"
      ],
      "text/plain": [
       "        id_announcement                                title_announcement  number_of_reviews  reviews_per_month last_review\n",
       "215680         41846236                     Madrid. Recuerdos. Felicidad.                  0                0.0         NaT\n",
       "149874         45086902            casa accogliente e silenziosa • Milano                  3                0.5         NaT\n",
       "19297          15378469  Private room with yard, in the heart of Bushwick                  0                0.0         NaT\n",
       "219296         47901758  2Bedroom 2Bathroom apartament in Nuñez de Balboa                  0                0.0         NaT\n",
       "163722         36040936                                             温心小麻雀                  0                0.0         NaT\n",
       "197480         29910513                      maroubra Sunny Home & Garden                  0                0.0         NaT\n",
       "119505         36036175                               Dover Hotel, Triple                  0                0.0         NaT\n",
       "124020         37493562      Double room in Brixton with ensuite bathroom                  0                0.0         NaT\n",
       "218652         46521057                             Senior interior suite                  0                0.0         NaT\n",
       "165848          3980101               Clean home in a quiet neighbourhood                  0                0.0         NaT"
      ]
     },
     "execution_count": 31,
     "metadata": {},
     "output_type": "execute_result"
    }
   ],
   "source": [
    "df_raw_1['last_review'].dtypes # M8[ns]\n",
    "df_raw_1['last_review'].sample(10)\n",
    "\n",
    "# Check the number_of_reviews and reviews_per_month when last_review is null\n",
    "df_raw_1[df_raw_1['last_review'].isnull()][['id_announcement', 'title_announcement', 'number_of_reviews', 'reviews_per_month', 'last_review']].sample(10)"
   ]
  },
  {
   "cell_type": "code",
   "execution_count": 32,
   "metadata": {},
   "outputs": [],
   "source": [
    "# Imputing with \"1900-01-01\" for last_review when \"number_of_reviews\" is 0 and \"reviews_per_month\" is 0.0\n",
    "df_raw_1.loc[(df_raw_1['number_of_reviews'] == 0) & (df_raw_1['reviews_per_month'] == 0.0), 'last_review'] = pd.to_datetime(\"1900-01-01\")"
   ]
  },
  {
   "cell_type": "code",
   "execution_count": 33,
   "metadata": {},
   "outputs": [
    {
     "data": {
      "application/vnd.microsoft.datawrangler.viewer.v0+json": {
       "columns": [
        {
         "name": "index",
         "rawType": "int64",
         "type": "integer"
        },
        {
         "name": "id_announcement",
         "rawType": "int64",
         "type": "integer"
        },
        {
         "name": "title_announcement",
         "rawType": "object",
         "type": "string"
        },
        {
         "name": "number_of_reviews",
         "rawType": "int64",
         "type": "integer"
        },
        {
         "name": "reviews_per_month",
         "rawType": "float64",
         "type": "float"
        },
        {
         "name": "last_review",
         "rawType": "datetime64[ns]",
         "type": "datetime"
        }
       ],
       "ref": "f775a863-d415-45d2-a572-4ee1388a5951",
       "rows": [
        [
         "145885",
         "33513321",
         "Spacious, clean, and safe family apartment",
         "2",
         "0.07",
         null
        ],
        [
         "148572",
         "41591592",
         "Casita Milanese",
         "2",
         "0.11",
         null
        ],
        [
         "137842",
         "9203861",
         "Bright and cozy room",
         "1",
         "0.0",
         null
        ],
        [
         "142894",
         "24549620",
         "Rentopolis Apartment Vela 16 - Città Studi",
         "1",
         "0.0",
         null
        ],
        [
         "148037",
         "40131328",
         "ZONA NAVIGLI - MILANO - VIA BINDA , 10 - STANZA  1",
         "7",
         "0.36",
         null
        ],
        [
         "147690",
         "39237589",
         "A SPECIAL \"CASTEL\" IN THE HEART OF MILAN",
         "4",
         "0.99",
         null
        ],
        [
         "134735",
         "1989125",
         "Camera nei pressi di fiera e centro",
         "45",
         "0.59",
         null
        ],
        [
         "138307",
         "11603505",
         "Lambrate - Double shared bathroom",
         "13",
         "0.21",
         null
        ],
        [
         "142262",
         "23912016",
         "CasaSavona , nice place close to Navigli , Mudec",
         "7",
         "0.18",
         null
        ],
        [
         "146722",
         "35336278",
         "NUOVISSIMO BILOCALE CENTRALE con self check-in",
         "57",
         "2.43",
         null
        ]
       ],
       "shape": {
        "columns": 5,
        "rows": 10
       }
      },
      "text/html": [
       "<div>\n",
       "<style scoped>\n",
       "    .dataframe tbody tr th:only-of-type {\n",
       "        vertical-align: middle;\n",
       "    }\n",
       "\n",
       "    .dataframe tbody tr th {\n",
       "        vertical-align: top;\n",
       "    }\n",
       "\n",
       "    .dataframe thead th {\n",
       "        text-align: right;\n",
       "    }\n",
       "</style>\n",
       "<table border=\"1\" class=\"dataframe\">\n",
       "  <thead>\n",
       "    <tr style=\"text-align: right;\">\n",
       "      <th></th>\n",
       "      <th>id_announcement</th>\n",
       "      <th>title_announcement</th>\n",
       "      <th>number_of_reviews</th>\n",
       "      <th>reviews_per_month</th>\n",
       "      <th>last_review</th>\n",
       "    </tr>\n",
       "  </thead>\n",
       "  <tbody>\n",
       "    <tr>\n",
       "      <th>145885</th>\n",
       "      <td>33513321</td>\n",
       "      <td>Spacious, clean, and safe family apartment</td>\n",
       "      <td>2</td>\n",
       "      <td>0.07</td>\n",
       "      <td>NaT</td>\n",
       "    </tr>\n",
       "    <tr>\n",
       "      <th>148572</th>\n",
       "      <td>41591592</td>\n",
       "      <td>Casita Milanese</td>\n",
       "      <td>2</td>\n",
       "      <td>0.11</td>\n",
       "      <td>NaT</td>\n",
       "    </tr>\n",
       "    <tr>\n",
       "      <th>137842</th>\n",
       "      <td>9203861</td>\n",
       "      <td>Bright and cozy room</td>\n",
       "      <td>1</td>\n",
       "      <td>0.00</td>\n",
       "      <td>NaT</td>\n",
       "    </tr>\n",
       "    <tr>\n",
       "      <th>142894</th>\n",
       "      <td>24549620</td>\n",
       "      <td>Rentopolis Apartment Vela 16 - Città Studi</td>\n",
       "      <td>1</td>\n",
       "      <td>0.00</td>\n",
       "      <td>NaT</td>\n",
       "    </tr>\n",
       "    <tr>\n",
       "      <th>148037</th>\n",
       "      <td>40131328</td>\n",
       "      <td>ZONA NAVIGLI - MILANO - VIA BINDA , 10 - STANZ...</td>\n",
       "      <td>7</td>\n",
       "      <td>0.36</td>\n",
       "      <td>NaT</td>\n",
       "    </tr>\n",
       "    <tr>\n",
       "      <th>147690</th>\n",
       "      <td>39237589</td>\n",
       "      <td>A SPECIAL \"CASTEL\" IN THE HEART OF MILAN</td>\n",
       "      <td>4</td>\n",
       "      <td>0.99</td>\n",
       "      <td>NaT</td>\n",
       "    </tr>\n",
       "    <tr>\n",
       "      <th>134735</th>\n",
       "      <td>1989125</td>\n",
       "      <td>Camera nei pressi di fiera e centro</td>\n",
       "      <td>45</td>\n",
       "      <td>0.59</td>\n",
       "      <td>NaT</td>\n",
       "    </tr>\n",
       "    <tr>\n",
       "      <th>138307</th>\n",
       "      <td>11603505</td>\n",
       "      <td>Lambrate - Double shared bathroom</td>\n",
       "      <td>13</td>\n",
       "      <td>0.21</td>\n",
       "      <td>NaT</td>\n",
       "    </tr>\n",
       "    <tr>\n",
       "      <th>142262</th>\n",
       "      <td>23912016</td>\n",
       "      <td>CasaSavona , nice place close to Navigli , Mudec</td>\n",
       "      <td>7</td>\n",
       "      <td>0.18</td>\n",
       "      <td>NaT</td>\n",
       "    </tr>\n",
       "    <tr>\n",
       "      <th>146722</th>\n",
       "      <td>35336278</td>\n",
       "      <td>NUOVISSIMO BILOCALE CENTRALE con self check-in</td>\n",
       "      <td>57</td>\n",
       "      <td>2.43</td>\n",
       "      <td>NaT</td>\n",
       "    </tr>\n",
       "  </tbody>\n",
       "</table>\n",
       "</div>"
      ],
      "text/plain": [
       "        id_announcement                                 title_announcement  number_of_reviews  reviews_per_month last_review\n",
       "145885         33513321         Spacious, clean, and safe family apartment                  2               0.07         NaT\n",
       "148572         41591592                                    Casita Milanese                  2               0.11         NaT\n",
       "137842          9203861                               Bright and cozy room                  1               0.00         NaT\n",
       "142894         24549620         Rentopolis Apartment Vela 16 - Città Studi                  1               0.00         NaT\n",
       "148037         40131328  ZONA NAVIGLI - MILANO - VIA BINDA , 10 - STANZ...                  7               0.36         NaT\n",
       "147690         39237589           A SPECIAL \"CASTEL\" IN THE HEART OF MILAN                  4               0.99         NaT\n",
       "134735          1989125                Camera nei pressi di fiera e centro                 45               0.59         NaT\n",
       "138307         11603505                  Lambrate - Double shared bathroom                 13               0.21         NaT\n",
       "142262         23912016   CasaSavona , nice place close to Navigli , Mudec                  7               0.18         NaT\n",
       "146722         35336278     NUOVISSIMO BILOCALE CENTRALE con self check-in                 57               2.43         NaT"
      ]
     },
     "execution_count": 33,
     "metadata": {},
     "output_type": "execute_result"
    }
   ],
   "source": [
    "df_raw_1['last_review'].isnull().sum() # 13,383\n",
    "(df_raw_1['last_review'].isnull().mean() * 100).__round__(2) # 6.08%\n",
    "df_raw_1[df_raw_1['last_review'].isnull()][['id_announcement', 'title_announcement', 'number_of_reviews', 'reviews_per_month', 'last_review']].sample(10)"
   ]
  },
  {
   "cell_type": "code",
   "execution_count": 34,
   "metadata": {},
   "outputs": [
    {
     "data": {
      "application/vnd.microsoft.datawrangler.viewer.v0+json": {
       "columns": [
        {
         "name": "index",
         "rawType": "object",
         "type": "string"
        },
        {
         "name": "last_review",
         "rawType": "object",
         "type": "unknown"
        }
       ],
       "ref": "6d5fe105-4a51-4c69-96c3-2ea2858653fa",
       "rows": [
        [
         "count",
         "206648"
        ],
        [
         "mean",
         "1987-10-09 12:57:59.865278272"
        ],
        [
         "min",
         "1900-01-01 00:00:00"
        ],
        [
         "25%",
         "1900-01-01 00:00:00"
        ],
        [
         "50%",
         "2018-11-21 00:00:00"
        ],
        [
         "75%",
         "2019-07-08 00:00:00"
        ],
        [
         "max",
         "2021-04-17 00:00:00"
        ]
       ],
       "shape": {
        "columns": 1,
        "rows": 7
       }
      },
      "text/plain": [
       "count                           206648\n",
       "mean     1987-10-09 12:57:59.865278272\n",
       "min                1900-01-01 00:00:00\n",
       "25%                1900-01-01 00:00:00\n",
       "50%                2018-11-21 00:00:00\n",
       "75%                2019-07-08 00:00:00\n",
       "max                2021-04-17 00:00:00\n",
       "Name: last_review, dtype: object"
      ]
     },
     "execution_count": 34,
     "metadata": {},
     "output_type": "execute_result"
    }
   ],
   "source": [
    "# Ensure the 'last_review' column is in datetime format\n",
    "df_raw_1['last_review'] = pd.to_datetime(df_raw_1['last_review'], errors='coerce')\n",
    "\n",
    "# Display basic statistics of 'last_review' dates\n",
    "df_raw_1['last_review'].describe() # latest date  2021-04-17 00:00:00"
   ]
  },
  {
   "cell_type": "code",
   "execution_count": 35,
   "metadata": {},
   "outputs": [
    {
     "data": {
      "image/png": "[encoded data removed]",
      "text/plain": [
       "<Figure size 1200x500 with 1 Axes>"
      ]
     },
     "metadata": {},
     "output_type": "display_data"
    }
   ],
   "source": [
    "# After several revisions and attempts on how to impute las1t_review, we will use the following approach:\n",
    "\n",
    "\n",
    "# Step 1: Identify rows you manually marked as never reviewed\n",
    "mask_artificial_1900 = (\n",
    "    (df_raw_1['number_of_reviews'] == 0) &\n",
    "    (df_raw_1['reviews_per_month'] == 0.0)\n",
    ")\n",
    "\n",
    "# Step 2: Create a mask for rows eligible for imputation\n",
    "mask_impute = (\n",
    "    df_raw_1['last_review'].isnull() &\n",
    "    (df_raw_1['number_of_reviews'] > 0) &\n",
    "    (df_raw_1['reviews_per_month'] > 0)\n",
    ")\n",
    "\n",
    "# Step 3: Estimate duration of review activity in days\n",
    "estimated_months = df_raw_1.loc[mask_impute, 'number_of_reviews'] / df_raw_1.loc[mask_impute, 'reviews_per_month']\n",
    "estimated_days = estimated_months * 30  # Approximate month length\n",
    "\n",
    "# Step 4: Calculate median from valid dates (excluding '1900-01-01')\n",
    "median_valid_date = df_raw_1.loc[~mask_artificial_1900, 'last_review'].dropna().median()\n",
    "\n",
    "# Step 5: Perform imputation for eligible rows\n",
    "df_raw_1.loc[mask_impute, 'last_review'] = median_valid_date - pd.to_timedelta(estimated_days, unit='D')\n",
    "\n",
    "# Step 6: Restore the artificial '1900-01-01' date for manually flagged rows\n",
    "df_raw_1.loc[mask_artificial_1900, 'last_review'] = pd.to_datetime('1900-01-01')\n",
    "\n",
    "# Step 7: Optional — plot the final distribution of 'last_review' dates\n",
    "plt.figure(figsize=(12, 5))\n",
    "df_raw_1['last_review'].dropna().dt.to_period('M').value_counts().sort_index().plot(\n",
    "    kind='bar',\n",
    "    title='Monthly distribution of last reviews (after final imputation)',\n",
    "    color='#e31c5e'\n",
    ")\n",
    "plt.xlabel('Month')\n",
    "plt.ylabel('Number of listings')\n",
    "plt.xticks(rotation=90, fontsize=8)\n",
    "plt.tight_layout()\n",
    "plt.show()"
   ]
  },
  {
   "cell_type": "code",
   "execution_count": 36,
   "metadata": {},
   "outputs": [
    {
     "data": {
      "text/plain": [
       "array([0.])"
      ]
     },
     "execution_count": 36,
     "metadata": {},
     "output_type": "execute_result"
    }
   ],
   "source": [
    "df_raw_1['last_review'].isnull().sum() # 2,209\n",
    "(df_raw_1['last_review'].isnull().mean() * 100).__round__(2) # 1.0%\n",
    "# Checking the number_of_reviews and reviews_per_month when last_review is null\n",
    "df_raw_1[df_raw_1['last_review'].isnull()][['id_announcement', 'title_announcement', 'number_of_reviews', 'reviews_per_month', 'last_review']].sample(10)\n",
    "# Checking the unique values of number_of_reviews and reviews_per_month when last_review is null\n",
    "df_raw_1[df_raw_1['last_review'].isnull()]['number_of_reviews'].unique() # 1\n",
    "df_raw_1[df_raw_1['last_review'].isnull()]['reviews_per_month'].unique() # 0"
   ]
  },
  {
   "cell_type": "code",
   "execution_count": 37,
   "metadata": {},
   "outputs": [],
   "source": [
    "# The nulls left have only 1 review and it's whole history therefore it cannot have a review_per_month value and even less a last_review date. This is why, the remaining nulls will be imputed with \"1900-01-01\".\n",
    "df_raw_1.loc[df_raw_1['last_review'].isnull(), 'last_review'] = pd.to_datetime(\"1900-01-01\")"
   ]
  },
  {
   "cell_type": "code",
   "execution_count": 38,
   "metadata": {},
   "outputs": [
    {
     "data": {
      "text/plain": [
       "np.int64(0)"
      ]
     },
     "execution_count": 38,
     "metadata": {},
     "output_type": "execute_result"
    }
   ],
   "source": [
    "df_raw_1['last_review'].isnull().sum() # 0"
   ]
  },
  {
   "cell_type": "code",
   "execution_count": 39,
   "metadata": {},
   "outputs": [
    {
     "data": {
      "image/png": "[encoded data removed]",
      "text/plain": [
       "<Figure size 1400x500 with 1 Axes>"
      ]
     },
     "metadata": {},
     "output_type": "display_data"
    }
   ],
   "source": [
    "# Checking if this column gives actual good information or if it is unnecessary\n",
    "\n",
    "# Exclude artificial date\n",
    "valid_dates = df_raw_1[df_raw_1['last_review'] != pd.to_datetime('1900-01-01')]['last_review']\n",
    "\n",
    "plt.figure(figsize=(14, 5))\n",
    "sns.histplot(valid_dates, bins=50, kde=True, color='#e31c5e')\n",
    "plt.title('Distribution of Last Review Dates (Excluding 1900-01-01)')\n",
    "plt.xlabel('Date')\n",
    "plt.ylabel('Number of Listings')\n",
    "plt.tight_layout()\n",
    "plt.show()"
   ]
  },
  {
   "cell_type": "code",
   "execution_count": 40,
   "metadata": {},
   "outputs": [
    {
     "data": {
      "image/png": "[encoded data removed]",
      "text/plain": [
       "<Figure size 1000x500 with 1 Axes>"
      ]
     },
     "metadata": {},
     "output_type": "display_data"
    }
   ],
   "source": [
    "# Extract year for aggregation\n",
    "df_valid = df_raw_1[df_raw_1['last_review'] != pd.to_datetime('1900-01-01')].copy()\n",
    "df_valid['review_year'] = df_valid['last_review'].dt.year\n",
    "\n",
    "plt.figure(figsize=(10, 5))\n",
    "sns.countplot(data=df_valid, x='review_year', color='#e31c5e')\n",
    "plt.title('Number of Listings per Year of Last Review')\n",
    "plt.xlabel('Year')\n",
    "plt.ylabel('Count')\n",
    "plt.xticks(rotation=45)\n",
    "plt.tight_layout()\n",
    "plt.show()\n"
   ]
  },
  {
   "cell_type": "code",
   "execution_count": 41,
   "metadata": {},
   "outputs": [
    {
     "data": {
      "image/png": "[encoded data removed]",
      "text/plain": [
       "<Figure size 800x800 with 1 Axes>"
      ]
     },
     "metadata": {},
     "output_type": "display_data"
    }
   ],
   "source": [
    "# Count number of listings by year\n",
    "year_counts = df_valid['review_year'].value_counts().sort_index()\n",
    "\n",
    "plt.figure(figsize=(8, 8))\n",
    "plt.pie(year_counts, labels=year_counts.index, autopct='%1.1f%%', startangle=90, colors=sns.color_palette('pastel'))\n",
    "plt.title('Share of Last Reviews per Year')\n",
    "plt.tight_layout()\n",
    "plt.show()\n"
   ]
  },
  {
   "cell_type": "code",
   "execution_count": 42,
   "metadata": {},
   "outputs": [
    {
     "data": {
      "image/png": "[encoded data removed]",
      "text/plain": [
       "<Figure size 1200x600 with 2 Axes>"
      ]
     },
     "metadata": {},
     "output_type": "display_data"
    }
   ],
   "source": [
    "# Extract year and month\n",
    "df_valid['review_month'] = df_valid['last_review'].dt.month\n",
    "\n",
    "# Create pivot table\n",
    "heatmap_data = df_valid.pivot_table(index='review_year', columns='review_month', values='id_announcement', aggfunc='count')\n",
    "\n",
    "custom_palette = ['#e31c5e', 'gray', 'lightgray', 'black']\n",
    "colors_for_gradient = ['lightgray', 'gray', '#e31c5e'] # From low intensity to high intensity\n",
    "custom_cmap = LinearSegmentedColormap.from_list(\"custom_heatmap_cmap\", colors_for_gradient)\n",
    "\n",
    "plt.figure(figsize=(12, 6))\n",
    "# Apply the custom colormap to the heatmap\n",
    "sns.heatmap(heatmap_data, cmap=custom_cmap, annot=True, fmt='.0f')\n",
    "plt.title('Heatmap of Last Reviews (Year vs Month)')\n",
    "plt.xlabel('Month')\n",
    "plt.ylabel('Year')\n",
    "plt.tight_layout()\n",
    "plt.show()\n"
   ]
  },
  {
   "cell_type": "code",
   "execution_count": 43,
   "metadata": {},
   "outputs": [
    {
     "data": {
      "image/png": "[encoded data removed]",
      "text/plain": [
       "<Figure size 600x400 with 1 Axes>"
      ]
     },
     "metadata": {},
     "output_type": "display_data"
    }
   ],
   "source": [
    "# Comparing presence vs absence of real review dates (incl. 1900-01-01) THIS WILL BE USED TO DECIDE IF WE KEEP THE COLUMN OR NOT (noise vs information)\n",
    "df_raw_1['has_real_last_review'] = df_raw_1['last_review'] != pd.to_datetime('1900-01-01')\n",
    "\n",
    "\n",
    "custom_palette = ['gray', '#e31c5e']\n",
    "plt.figure(figsize=(6, 4)) \n",
    "sns.countplot(x='has_real_last_review', data=df_raw_1, palette=custom_palette, hue='has_real_last_review', order=[False, True], legend=False)\n",
    "\n",
    "plt.title('Listings With vs. Without Valid Last Review Dates', color='black', fontsize=16)\n",
    "plt.xlabel('Has Valid Last Review', color='black', fontsize=12)\n",
    "plt.ylabel('Count', color='black', fontsize=12)\n",
    "\n",
    "plt.xticks([0, 1], ['No (1900-01-01)', 'Yes'], color='black')\n",
    "plt.yticks(color='black')\n",
    "\n",
    "plt.tight_layout() \n",
    "plt.show()\n",
    "\n",
    "# Approximately 72% is useful data, while 28% is noise (1900-01-01).\n",
    "# Deciding to keep the column as it provides useful information about the last review date."
   ]
  },
  {
   "cell_type": "code",
   "execution_count": 44,
   "metadata": {},
   "outputs": [],
   "source": [
    "# Eliminating the column \"last_review\" since it has no useful information after the imputations\n",
    "# df_raw_1.drop(columns=['last_review'], inplace=True)"
   ]
  },
  {
   "cell_type": "markdown",
   "metadata": {},
   "source": [
    "####  <span style=\"color:#fe5608\"> [\"availability_365\"] </span>\n",
    "\n",
    "- Original nulls QTY: 11,466 -- 5.21%\n",
    "- Distribuition with outliers\n",
    "- Tokyo is the only city with no values\n",
    "    - Imputed with the global mean of other cities.\n",
    "\n",
    "TOKYO NEEDS TO BE LOOKED CAREFULLY    "
   ]
  },
  {
   "cell_type": "code",
   "execution_count": 45,
   "metadata": {},
   "outputs": [
    {
     "data": {
      "text/plain": [
       "np.float64(5.21)"
      ]
     },
     "execution_count": 45,
     "metadata": {},
     "output_type": "execute_result"
    }
   ],
   "source": [
    "# Percentage of null values in columns \"availability_365\" round to 2 decimal places\n",
    "null_availability = df_raw_1['availability_365'].isnull().mean() * 100\n",
    "null_availability.round(2)  # 5.21%"
   ]
  },
  {
   "cell_type": "code",
   "execution_count": 46,
   "metadata": {},
   "outputs": [
    {
     "name": "stdout",
     "output_type": "stream",
     "text": [
      "count    208565.000000\n",
      "mean        120.330918\n",
      "std         134.644491\n",
      "min           0.000000\n",
      "25%           0.000000\n",
      "50%          64.000000\n",
      "75%         244.000000\n",
      "max         365.000000\n",
      "Name: availability_365, dtype: float64\n"
     ]
    },
    {
     "data": {
      "image/png": "[encoded data removed]",
      "text/plain": [
       "<Figure size 640x480 with 1 Axes>"
      ]
     },
     "metadata": {},
     "output_type": "display_data"
    }
   ],
   "source": [
    "print(df_raw_1['availability_365'].describe())\n",
    "\n",
    "custom_palette = ['#e31c5e', 'gray', 'lightgray', 'black']\n",
    "\n",
    "df_raw_1['availability_365'].hist(bins=30, edgecolor='black', color=custom_palette[0], alpha=0.8)\n",
    "plt.xticks(color='black')\n",
    "plt.yticks(color='black')\n",
    "plt.tight_layout()\n",
    "plt.show()"
   ]
  },
  {
   "cell_type": "code",
   "execution_count": 47,
   "metadata": {},
   "outputs": [
    {
     "data": {
      "application/vnd.microsoft.datawrangler.viewer.v0+json": {
       "columns": [
        {
         "name": "room_type",
         "rawType": "object",
         "type": "string"
        },
        {
         "name": "availability_365",
         "rawType": "int64",
         "type": "integer"
        }
       ],
       "ref": "25cc552b-2e01-42dd-8f97-c549d8dd19cd",
       "rows": [
        [
         "Entire home/apt",
         "0"
        ],
        [
         "Private room",
         "0"
        ],
        [
         "Shared room",
         "0"
        ]
       ],
       "shape": {
        "columns": 1,
        "rows": 3
       }
      },
      "text/plain": [
       "room_type\n",
       "Entire home/apt    0\n",
       "Private room       0\n",
       "Shared room        0\n",
       "Name: availability_365, dtype: int64"
      ]
     },
     "execution_count": 47,
     "metadata": {},
     "output_type": "execute_result"
    }
   ],
   "source": [
    "# Check unique values in \"room_type\" column\n",
    "df_raw_1['room_type'].nunique() # 4\n",
    "df_raw_1['room_type'].unique()  # ['Private room', 'Entire home/apt', 'Shared room', 'Hotel room']\n",
    "\n",
    "# Check nulls in availability_365 grouped by City\n",
    "df_raw_1[df_raw_1['availability_365'].isnull()].groupby('city')['availability_365'].count() # Only Tokyo has nulls\n",
    "\n",
    "# Check nulls in availability_365 grouped by room_type\n",
    "df_raw_1[df_raw_1['availability_365'].isnull()].groupby('room_type')['availability_365'].count() # It has only 3 types of room and they are all null. Entire home/apt, Private room & Shared room"
   ]
  },
  {
   "cell_type": "code",
   "execution_count": 48,
   "metadata": {},
   "outputs": [
    {
     "name": "stdout",
     "output_type": "stream",
     "text": [
      "        city        room_type  availability_365\n",
      "0     London  Entire home/apt              48.0\n",
      "1     London       Hotel room             308.0\n",
      "2     London     Private room              64.0\n",
      "3     London      Shared room              90.0\n",
      "4     Madrid  Entire home/apt             147.0\n",
      "5     Madrid       Hotel room             269.0\n",
      "6     Madrid     Private room              90.0\n",
      "7     Madrid      Shared room             104.0\n",
      "8      Milan  Entire home/apt             128.0\n",
      "9      Milan       Hotel room             174.0\n",
      "10     Milan     Private room              90.0\n",
      "11     Milan      Shared room              89.0\n",
      "12  New York  Entire home/apt              42.0\n",
      "13  New York     Private room              45.0\n",
      "14  New York      Shared room              90.0\n",
      "15    Sydney  Entire home/apt              41.0\n",
      "16    Sydney     Private room              27.0\n",
      "17    Sydney      Shared room              34.0\n",
      "18     Tokyo  Entire home/apt               NaN\n",
      "19     Tokyo     Private room               NaN\n",
      "20     Tokyo      Shared room               NaN\n"
     ]
    },
    {
     "data": {
      "image/png": "[encoded data removed]",
      "text/plain": [
       "<Figure size 1200x600 with 1 Axes>"
      ]
     },
     "metadata": {},
     "output_type": "display_data"
    }
   ],
   "source": [
    "# Calcular la mediana de availability_365 por city y room_type\n",
    "availability_medians = df_raw_1.groupby(['city', 'room_type'])['availability_365'].median().reset_index()\n",
    "\n",
    "# Ordenamos para visualización más clara\n",
    "availability_medians = availability_medians.sort_values(by=['city', 'room_type'])\n",
    "\n",
    "# Mostramos el resultado\n",
    "print(availability_medians)\n",
    "\n",
    "custom_palette = ['#e31c5e', 'gray', 'lightgray', 'black']\n",
    "\n",
    "plt.figure(figsize=(12,6))\n",
    "sns.boxplot(data=df_raw_1, x='city', y='availability_365', hue='room_type', palette=custom_palette)\n",
    "plt.title('Distribution per days by city and type of room', color='black', fontsize=16)\n",
    "plt.ylabel('Days availabl per year', color='black', fontsize=12)\n",
    "plt.xlabel('Ciudad', color='black', fontsize=12)\n",
    "plt.xticks(rotation=45, ha='right', color='black')\n",
    "plt.yticks(color='black')\n",
    "plt.legend(title='Type of room', bbox_to_anchor=(1.05, 1), loc='upper left', frameon=False, fontsize=10) # Improve legend placement\n",
    "plt.tight_layout() # Adjust layout to prevent labels from overlapping\n",
    "plt.show()\n"
   ]
  },
  {
   "cell_type": "code",
   "execution_count": 49,
   "metadata": {},
   "outputs": [],
   "source": [
    "# Compute global mean availability by room type\n",
    "global_availability_means = df_raw_1.groupby('room_type')['availability_365'].mean()\n",
    "\n",
    "# Function to impute Tokyo rows only\n",
    "def impute_tokyo_availability(row):\n",
    "    if pd.notnull(row['availability_365']):\n",
    "        return row['availability_365']\n",
    "    \n",
    "    if row['city'] == 'Tokyo':\n",
    "        room_type = row['room_type']\n",
    "        if room_type in global_availability_means:\n",
    "            return global_availability_means[room_type]\n",
    "    \n",
    "    return row['availability_365']  # Return original (including NaN) for other cities\n",
    "\n",
    "# Calling function\n",
    "df_raw_1['availability_365'] = df_raw_1.apply(impute_tokyo_availability, axis=1)\n"
   ]
  },
  {
   "cell_type": "code",
   "execution_count": 50,
   "metadata": {},
   "outputs": [
    {
     "data": {
      "text/plain": [
       "np.int64(0)"
      ]
     },
     "execution_count": 50,
     "metadata": {},
     "output_type": "execute_result"
    }
   ],
   "source": [
    "df_raw_1['availability_365'].isnull().sum() # 0"
   ]
  },
  {
   "cell_type": "markdown",
   "metadata": {},
   "source": [
    "####  <span style=\"color:#fe5608\"> [\"calculated_host_listings_count\"] </span>\n",
    "\n",
    "- Original nulls QTY: 11,466 -- 5.21%\n",
    "- Tokyo is the city with null values\n",
    "- Imputed with zero \"0\"\n",
    "- This column has nothing to do with the appartment and everything to do with the host, since in this dataset there's nothing regarding the host, it has no sense to impute.\n",
    "- NOT TO TAKE INTO ACCOUNT TOKYO in this COLUMN"
   ]
  },
  {
   "cell_type": "code",
   "execution_count": 51,
   "metadata": {},
   "outputs": [
    {
     "data": {
      "application/vnd.microsoft.datawrangler.viewer.v0+json": {
       "columns": [
        {
         "name": "city",
         "rawType": "object",
         "type": "string"
        },
        {
         "name": "calculated_host_listings_count",
         "rawType": "int64",
         "type": "integer"
        }
       ],
       "ref": "2a528f08-00fa-4782-8458-3309d7def94a",
       "rows": [
        [
         "Tokyo",
         "0"
        ]
       ],
       "shape": {
        "columns": 1,
        "rows": 1
       }
      },
      "text/plain": [
       "city\n",
       "Tokyo    0\n",
       "Name: calculated_host_listings_count, dtype: int64"
      ]
     },
     "execution_count": 51,
     "metadata": {},
     "output_type": "execute_result"
    }
   ],
   "source": [
    "# Check the nulls groped by city\n",
    "df_raw_1[df_raw_1['calculated_host_listings_count'].isnull()].groupby('city')['calculated_host_listings_count'].count() # Tokyo is completely null"
   ]
  },
  {
   "cell_type": "code",
   "execution_count": 52,
   "metadata": {},
   "outputs": [],
   "source": [
    "# Impute with 0 all Tokyo rows\n",
    "df_raw_1.loc[df_raw_1['city'] == 'Tokyo', 'calculated_host_listings_count'] = 0"
   ]
  },
  {
   "cell_type": "markdown",
   "metadata": {},
   "source": [
    "####  <span style=\"color:#fe5608\"> [\"host_name\"] </span>\n",
    "\n",
    "- Original nulls qty: 706 & 0.32%\n",
    "- host_id : 175128252 has at least 2 different host_names\n",
    "    - It seems the name was changed for company reasons\n",
    "    - It will be changed to \"Team Gospodin\"\n",
    "- After 1st imputation: qty of nulls: 586\n",
    "- After 2nd impitation: qty of nulls 0"
   ]
  },
  {
   "cell_type": "code",
   "execution_count": 53,
   "metadata": {},
   "outputs": [
    {
     "data": {
      "text/plain": [
       "np.float64(0.32)"
      ]
     },
     "execution_count": 53,
     "metadata": {},
     "output_type": "execute_result"
    }
   ],
   "source": [
    "# Checking percentage of nulls in column host_name round to 2 decimal places\n",
    "(df_raw_1['host_name'].isnull().mean() * 100).__round__(2)  # 0.32%"
   ]
  },
  {
   "cell_type": "code",
   "execution_count": 54,
   "metadata": {},
   "outputs": [
    {
     "data": {
      "application/vnd.microsoft.datawrangler.viewer.v0+json": {
       "columns": [
        {
         "name": "index",
         "rawType": "int64",
         "type": "integer"
        },
        {
         "name": "host_id",
         "rawType": "int64",
         "type": "integer"
        },
        {
         "name": "host_name",
         "rawType": "object",
         "type": "string"
        }
       ],
       "ref": "3b547b36-22ac-4955-bf40-b8844ec00542",
       "rows": [
        [
         "103529",
         "175128252",
         "Gospodin"
        ],
        [
         "219624",
         "175128252",
         "Team Gospodin"
        ]
       ],
       "shape": {
        "columns": 2,
        "rows": 2
       }
      },
      "text/html": [
       "<div>\n",
       "<style scoped>\n",
       "    .dataframe tbody tr th:only-of-type {\n",
       "        vertical-align: middle;\n",
       "    }\n",
       "\n",
       "    .dataframe tbody tr th {\n",
       "        vertical-align: top;\n",
       "    }\n",
       "\n",
       "    .dataframe thead th {\n",
       "        text-align: right;\n",
       "    }\n",
       "</style>\n",
       "<table border=\"1\" class=\"dataframe\">\n",
       "  <thead>\n",
       "    <tr style=\"text-align: right;\">\n",
       "      <th></th>\n",
       "      <th>host_id</th>\n",
       "      <th>host_name</th>\n",
       "    </tr>\n",
       "  </thead>\n",
       "  <tbody>\n",
       "    <tr>\n",
       "      <th>103529</th>\n",
       "      <td>175128252</td>\n",
       "      <td>Gospodin</td>\n",
       "    </tr>\n",
       "    <tr>\n",
       "      <th>219624</th>\n",
       "      <td>175128252</td>\n",
       "      <td>Team Gospodin</td>\n",
       "    </tr>\n",
       "  </tbody>\n",
       "</table>\n",
       "</div>"
      ],
      "text/plain": [
       "          host_id      host_name\n",
       "103529  175128252       Gospodin\n",
       "219624  175128252  Team Gospodin"
      ]
     },
     "execution_count": 54,
     "metadata": {},
     "output_type": "execute_result"
    }
   ],
   "source": [
    "# Check for missing values in 'host_name'\n",
    "host_nulls = df_raw_1[df_raw_1['host_name'].isnull()]\n",
    "\n",
    "# Extracting unique host_ids with null 'host_name'\n",
    "host_ids_with_nulls = host_nulls['host_id'].unique()\n",
    "\n",
    "# Look for host rows where the host has a name in some entries but not in others.\n",
    "recoverable_hosts = df_raw_1[\n",
    "    (df_raw_1['host_id'].isin(host_ids_with_nulls)) &\n",
    "    (df_raw_1['host_name'].notnull())\n",
    "].sort_values('host_id')[['host_id', 'host_name']].drop_duplicates()\n",
    "\n",
    "recoverable_hosts"
   ]
  },
  {
   "cell_type": "code",
   "execution_count": 55,
   "metadata": {},
   "outputs": [],
   "source": [
    "df_raw_1.loc[df_raw_1['host_id'] == 175128252, 'host_name'] = \"Team Gospodin\""
   ]
  },
  {
   "cell_type": "code",
   "execution_count": 56,
   "metadata": {},
   "outputs": [],
   "source": [
    "# Imputing \"Unknown host name\" for rows where host_name is null\n",
    "df_raw_1.fillna({\"host_name\": \"Unknown host name\"}, inplace=True)"
   ]
  },
  {
   "cell_type": "code",
   "execution_count": 57,
   "metadata": {},
   "outputs": [
    {
     "data": {
      "text/plain": [
       "np.int64(0)"
      ]
     },
     "execution_count": 57,
     "metadata": {},
     "output_type": "execute_result"
    }
   ],
   "source": [
    "df_raw_1['host_name'].isnull().sum()  # 0"
   ]
  },
  {
   "cell_type": "code",
   "execution_count": 58,
   "metadata": {},
   "outputs": [
    {
     "data": {
      "application/vnd.microsoft.datawrangler.viewer.v0+json": {
       "columns": [
        {
         "name": "index",
         "rawType": "object",
         "type": "string"
        },
        {
         "name": "host_name",
         "rawType": "float64",
         "type": "float"
        }
       ],
       "ref": "aafe782a-63fa-4dc2-b0e0-bd26396522e1",
       "rows": [
        [
         "count",
         "220031.0"
        ],
        [
         "mean",
         "6.56936977062323"
        ],
        [
         "std",
         "3.731976745879722"
        ],
        [
         "min",
         "1.0"
        ],
        [
         "25%",
         "5.0"
        ],
        [
         "50%",
         "6.0"
        ],
        [
         "75%",
         "7.0"
        ],
        [
         "max",
         "35.0"
        ]
       ],
       "shape": {
        "columns": 1,
        "rows": 8
       }
      },
      "text/plain": [
       "count    220031.000000\n",
       "mean          6.569370\n",
       "std           3.731977\n",
       "min           1.000000\n",
       "25%           5.000000\n",
       "50%           6.000000\n",
       "75%           7.000000\n",
       "max          35.000000\n",
       "Name: host_name, dtype: float64"
      ]
     },
     "execution_count": 58,
     "metadata": {},
     "output_type": "execute_result"
    }
   ],
   "source": [
    "# It seems there are nulls in \"host_name\" column, let's check it\n",
    "df_raw_1['host_name'].isnull().sum()  # 0\n",
    "df_raw_1['host_name'].nunique() # 31,496\n",
    "\n",
    "# Let's check it with numpy and regex\n",
    "df_raw_1['host_name'].str.contains(r'^\\s*$', regex=True).sum()  # 0\n",
    "# Check if there are any empty strings in 'host_name'\n",
    "df_raw_1['host_name'].str.strip().eq('').sum()  # 0\n",
    "# Check if there are any strings that contain only whitespace\n",
    "df_raw_1['host_name'].str.strip().eq('').sum()  # 0\n",
    "# Check if there are any strings that contain only whitespace characters\n",
    "df_raw_1['host_name'].str.isspace().sum()  # 0\n",
    "# Check if there are weird characters in 'host_name'\n",
    "df_raw_1['host_name'].str.contains(r'[^\\w\\s]', regex=True).sum()  # 9,108\n",
    "# Check if there are any special characters in 'host_name'\n",
    "df_raw_1['host_name'].str.contains(r'[^a-zA-Z0-9\\s]', regex=True).sum()  # 12,958\n",
    "# Check if there are unusual names in 'host_name'\n",
    "df_raw_1['host_name'].str.contains(r'^[0-9]+$', regex=True).sum()  # 11\n",
    "# Check if there are any names that are just numbers\n",
    "df_raw_1['host_name'].str.contains(r'^[a-zA-Z]+$', regex=True).sum()  # 192,651\n",
    "# Check the lentgh mean, min and max for 'host_name'\n",
    "df_raw_1['host_name'].str.len().describe()  # mean: 6.56936977062323, min: 1, max: 35.0"
   ]
  },
  {
   "cell_type": "code",
   "execution_count": 59,
   "metadata": {},
   "outputs": [
    {
     "name": "stdout",
     "output_type": "stream",
     "text": [
      "--- Preparing 'host_name' column for checks (without modifying the original DataFrame) ---\n",
      "✅ Temporary 'host_name' series created for checks.\n",
      "\n",
      "--- host_name Verification ---\n",
      "------------------------------------------\n",
      "\n",
      "### 1. Count of Original NaN Values ###\n",
      "Total NaN values: 0\n",
      "No NaN values found.\n",
      "\n",
      "### 2. Empty or Whitespace-Only Strings ###\n",
      "Empty or whitespace-only: 0\n",
      "\n",
      "### 3. Zero Width Space (\\u200b) ###\n",
      "Entries with \\u200b: 2\n",
      "Sample:\n",
      "  - '[ZWS] Valéria'\n",
      "  - '[ZWS] Valéria'\n",
      "\n",
      "### 4. Purely Numeric Values ###\n",
      "Purely numeric entries: 11\n",
      "Sample:\n",
      "['475', '475', '475', '475', '0123', '371', '14', '773', '3', '168']\n",
      "\n",
      "### 5. Truly Atypical Characters ###\n",
      "Atypical character entries: 410\n",
      "Sample:\n",
      "[\"O'Dell\", \"Jackie'S Place\", \"Jackie'S Place\", '@ Art House Monique', '@ Art House Monique', '@ Art House Monique', \"Na'Im\", \"Smith O'Brien\", \"Jae (Owen's Wife)\", \"Mindy (...And I'M Jeff)\"]\n",
      "Unique atypical characters: ['#', \"'\", '*', ';', '?', '@', '£', '®', '´', '‘', '’', '“', '”', '∧', '★', '･']\n",
      "\n",
      "### 6. Entries with No Letters (Only Numbers/Symbols/Whitespace) ###\n",
      "Entries with no letters: 1662\n",
      "Sample:\n",
      "['正川', '正川', '文立', '威', '卷妮', '常春', '단비', '常春', '孙浩', '常春']\n",
      "Unique non-letter characters: ['&', 'Α', 'Π', 'ί', 'δ', 'ε', 'η', 'ι', 'ο', 'ρ', 'τ', 'φ', 'А', 'Б', 'В', 'Е', 'З', 'Н', 'О', 'П', 'С', 'Ю', 'а', 'г', 'д', 'е', 'и', 'й', 'к', 'л', 'н', 'о', 'р', 'с', 'т', 'у', 'ф', 'ы', 'ь', 'я', 'і', 'א', 'ד', 'י', 'ל', 'נ', 'ا', 'خ', 'د', 'ل', 'あ', 'い', 'え', 'お', 'か', 'き', 'く', 'ご', 'さ', 'し', 'じ', 'ず', 'だ', 'ち', 'つ', 'と', 'な', 'に', 'の', 'ひ', 'ふ', 'ぶ', 'べ', 'ま', 'み', 'よ', 'ら', 'り', 'ん', '一', '丁', '七', '丈', '三', '上', '下', '丛', '东', '両', '中', '丹', '久', '乔', '也', '二', '云', '井', '京', '亮', '人', '仁', '介', '仲', '任', '伊', '会', '伟', '住', '佐', '佑', '佳', '便', '俊', '俞', '信', '修', '倉', '健', '優', '儿', '元', '光', '克', '八', '六', '其', '内', '冉', '冰', '凤', '刘', '刚', '利', '加', '勝', '十', '千', '博', '卷', '原', '友', '古', '叶', '司', '合', '吉', '君', '呈', '周', '和', '品', '哲', '唐', '啟', '四', '囡', '国', '坤', '夜', '大', '天', '太', '夫', '奇', '奈', '奕', '女', '妃', '妮', '姫', '威', '娟', '娥', '婉', '嫒', '子', '孙', '孟', '宁', '宅', '宇', '安', '宏', '宛', '宣', '室', '宮', '宸', '容', '宿', '密', '富', '寧', '小', '尚', '居', '山', '岑', '岡', '岩', '島', '巍', '川', '希', '常', '平', '幸', '庆', '庵', '式', '弘', '张', '彩', '彼', '徐', '徒', '御', '德', '心', '志', '怜', '思', '急', '恵', '悠', '惠', '愛', '慶', '成', '戸', '扬', '扶', '承', '折', '政', '敏', '敬', '文', '新', '方', '旅', '日', '旭', '昌', '明', '昕', '星', '春', '晓', '晨', '晴', '晶', '智', '曲', '書', '月', '有', '木', '末', '本', '李', '村', '杰', '東', '松', '林', '枝', '枫', '柏', '柴', '株', '格', '桓', '梅', '梦', '森', '楓', '楚', '楠', '槟', '樂', '横', '樹', '橋', '正', '武', '毅', '毓', '民', '永', '江', '池', '治', '泉', '泊', '泡', '泽', '洋', '洪', '浅', '浦', '浩', '海', '润', '深', '淵', '淼', '清', '渋', '渝', '渥', '温', '滝', '潇', '澤', '瀬', '然', '照', '熊', '燕', '爽', '特', '玉', '王', '玲', '珀', '珠', '理', '琴', '瑋', '瑞', '瑶', '瑾', '生', '田', '由', '男', '町', '登', '白', '百', '的', '皎', '直', '相', '真', '睿', '石', '社', '祐', '祟', '祥', '福', '秋', '秦', '程', '穂', '立', '竹', '筱', '糀', '紀', '紅', '純', '素', '結', '絵', '維', '綺', '緯', '红', '级', '纪', '美', '義', '翊', '翔', '聖', '聡', '肖', '自', '致', '艷', '艺', '花', '英', '茉', '茵', '草', '荘', '莉', '莊', '莲', '莹', '菊', '華', '萍', '萱', '葉', '蔵', '藤', '蘭', '衣', '袋', '裕', '西', '要', '角', '評', '誠', '诗', '谷', '豪', '貫', '貴', '超', '越', '輝', '轩', '辣', '达', '逸', '達', '邦', '郁', '郎', '都', '里', '野', '鈴', '鏵', '鑫', '钟', '铨', '锋', '間', '阳', '陳', '陽', '雄', '雅', '雨', '雪', '雯', '雲', '霞', '露', '青', '靖', '静', '非', '韦', '顺', '館', '馆', '香', '馨', '馬', '驴', '高', '麗', '黄', '龍', '가', '나', '단', '던', '러', '런', '례', '리', '림', '브', '비', '빈', '석', '선', '소', '송', '스', '액', '얼', '영', '우', '은', '이', '재', '정', '진', '츄', '태', '하', '현', '형', '･', 'ｨ', 'ｪ', 'ｫ', 'ｬ', 'ｭ', 'ｯ', 'ｰ', 'ｱ', 'ｲ', 'ｳ', 'ｵ', 'ｶ', 'ｷ', 'ｸ', 'ｹ', 'ｻ', 'ｼ', 'ｽ', 'ｾ', 'ﾀ', 'ﾁ', 'ﾂ', 'ﾃ', 'ﾄ', 'ﾅ', 'ﾉ', 'ﾊ', 'ﾋ', 'ﾌ', 'ﾎ', 'ﾏ', 'ﾐ', 'ﾓ', 'ﾔ', 'ﾗ', 'ﾘ', 'ﾙ', 'ﾚ', 'ﾛ', 'ﾜ', 'ﾝ', 'ﾞ', 'ﾟ']\n",
      "\n",
      "------------------------------------------\n",
      "--- SUMMARY OF 'host_name' VERIFICATION ---\n",
      "------------------------------------------\n",
      "\n",
      "1. NaN values: 0\n",
      "2. Empty or whitespace-only: 0\n",
      "3. Zero width space: 2\n",
      "4. Purely numeric: 11\n",
      "5. Atypical characters: 410\n",
      "6. No letters: 1662\n",
      "\n",
      "Note: Accented characters (e.g. 'José'), and common punctuation are allowed.\n"
     ]
    }
   ],
   "source": [
    "def verify_text_column(df: pd.DataFrame, column_name: str):\n",
    "    print(f\"--- Preparing '{column_name}' column for checks (without modifying the original DataFrame) ---\")\n",
    "    \n",
    "    # Fill NaNs and ensure string type\n",
    "    series = df[column_name].fillna('').astype(str)\n",
    "    print(f\"✅ Temporary '{column_name}' series created for checks.\\n\")\n",
    "\n",
    "    print(f\"--- {column_name} Verification ---\")\n",
    "    print(\"------------------------------------------\\n\")\n",
    "\n",
    "    # CHECK 1: Original NaN values\n",
    "    print(\"### 1. Count of Original NaN Values ###\")\n",
    "    null_count = df[column_name].isnull().sum()\n",
    "    print(f\"Total NaN values: {null_count}\")\n",
    "    if null_count > 0:\n",
    "        print(\"Sample NaN entries:\")\n",
    "        print(df[df[column_name].isnull()][column_name].head(10).tolist())\n",
    "    else:\n",
    "        print(\"No NaN values found.\")\n",
    "\n",
    "    # CHECK 2: Empty or whitespace-only strings\n",
    "    print(\"\\n### 2. Empty or Whitespace-Only Strings ###\")\n",
    "    empty_mask = series.str.strip().eq('')\n",
    "    empty_count = empty_mask.sum()\n",
    "    print(f\"Empty or whitespace-only: {empty_count}\")\n",
    "    if empty_count > 0:\n",
    "        print(\"Sample:\")\n",
    "        print(series[empty_mask].head(10).tolist())\n",
    "\n",
    "    # CHECK 3: Zero-width space\n",
    "    print(\"\\n### 3. Zero Width Space (\\\\u200b) ###\")\n",
    "    zws_mask = series.str.contains('\\u200b', regex=False)\n",
    "    zws_series = series[zws_mask]\n",
    "    print(f\"Entries with \\\\u200b: {len(zws_series)}\")\n",
    "    if not zws_series.empty:\n",
    "        print(\"Sample:\")\n",
    "        for name in zws_series.head(10).tolist():\n",
    "            print(f\"  - '{name.replace('\\u200b', '[ZWS]')}'\")\n",
    "\n",
    "    # CHECK 4: Purely numeric values\n",
    "    print(\"\\n### 4. Purely Numeric Values ###\")\n",
    "    numeric_mask = series.str.match(r'^[0-9]+$', na=False)\n",
    "    numeric_series = series[numeric_mask]\n",
    "    print(f\"Purely numeric entries: {len(numeric_series)}\")\n",
    "    if not numeric_series.empty:\n",
    "        print(\"Sample:\")\n",
    "        print(numeric_series.head(10).tolist())\n",
    "\n",
    "    # CHECK 5: Truly atypical symbols\n",
    "    print(\"\\n### 5. Truly Atypical Characters ###\")\n",
    "    atypical_regex = r'[^\\w\\s.,&+\\-()!:\"\\/]'\n",
    "    weird_mask = series.str.contains(atypical_regex, regex=True, flags=re.UNICODE)\n",
    "    atypical_series = series[weird_mask & ~zws_mask & ~numeric_mask]\n",
    "    print(f\"Atypical character entries: {len(atypical_series)}\")\n",
    "    if not atypical_series.empty:\n",
    "        print(\"Sample:\")\n",
    "        print(atypical_series.head(10).tolist())\n",
    "        weird_chars = set()\n",
    "        for val in atypical_series.head(1000):\n",
    "            weird_chars.update(re.findall(atypical_regex, val, flags=re.UNICODE))\n",
    "        print(f\"Unique atypical characters: {sorted(list(weird_chars))}\")\n",
    "\n",
    "    # CHECK 6: Composed only of non-letters\n",
    "    print(\"\\n### 6. Entries with No Letters (Only Numbers/Symbols/Whitespace) ###\")\n",
    "    has_letters = series.str.contains(r'[A-Za-z\\u00C0-\\u017F]', regex=True)\n",
    "    no_letters = ~has_letters\n",
    "    only_non_letters = series[no_letters & ~empty_mask & ~zws_mask & ~numeric_mask]\n",
    "    print(f\"Entries with no letters: {len(only_non_letters)}\")\n",
    "    if not only_non_letters.empty:\n",
    "        print(\"Sample:\")\n",
    "        print(only_non_letters.head(10).tolist())\n",
    "        non_letter_chars = set()\n",
    "        for val in only_non_letters.head(1000):\n",
    "            non_letter_chars.update(re.findall(r'[^A-Za-z\\u00C0-\\u017F\\s]', val, flags=re.UNICODE))\n",
    "        print(f\"Unique non-letter characters: {sorted(list(non_letter_chars))}\")\n",
    "\n",
    "    # SUMMARY\n",
    "    print(\"\\n------------------------------------------\")\n",
    "    print(f\"--- SUMMARY OF '{column_name}' VERIFICATION ---\")\n",
    "    print(\"------------------------------------------\\n\")\n",
    "    print(f\"1. NaN values: {null_count}\")\n",
    "    print(f\"2. Empty or whitespace-only: {empty_count}\")\n",
    "    print(f\"3. Zero width space: {len(zws_series)}\")\n",
    "    print(f\"4. Purely numeric: {len(numeric_series)}\")\n",
    "    print(f\"5. Atypical characters: {len(atypical_series)}\")\n",
    "    print(f\"6. No letters: {len(only_non_letters)}\\n\")\n",
    "    print(\"Note: Accented characters (e.g. 'José'), and common punctuation are allowed.\")\n",
    "\n",
    "# Calling the function\n",
    "verify_text_column(df_raw_1, 'host_name')"
   ]
  },
  {
   "cell_type": "markdown",
   "metadata": {},
   "source": [
    "####  <span style=\"color:#fe5608\"> [\"title_announcement\"]  </span>\n",
    "\n",
    "- Original nulls qty: 67\n",
    "    - Too little to keep BUT, let's keep it for the moment\n",
    "        - Since it is necessary for the rows to be filled for the possible future model, let's impute them with \"Unknown title \""
   ]
  },
  {
   "cell_type": "code",
   "execution_count": 60,
   "metadata": {},
   "outputs": [
    {
     "data": {
      "application/vnd.microsoft.datawrangler.viewer.v0+json": {
       "columns": [
        {
         "name": "index",
         "rawType": "int64",
         "type": "integer"
        },
        {
         "name": "id_announcement",
         "rawType": "int64",
         "type": "integer"
        },
        {
         "name": "title_announcement",
         "rawType": "object",
         "type": "string"
        }
       ],
       "ref": "90710dce-94bf-4bfa-bb0c-65572ac392b0",
       "rows": [],
       "shape": {
        "columns": 2,
        "rows": 0
       }
      },
      "text/html": [
       "<div>\n",
       "<style scoped>\n",
       "    .dataframe tbody tr th:only-of-type {\n",
       "        vertical-align: middle;\n",
       "    }\n",
       "\n",
       "    .dataframe tbody tr th {\n",
       "        vertical-align: top;\n",
       "    }\n",
       "\n",
       "    .dataframe thead th {\n",
       "        text-align: right;\n",
       "    }\n",
       "</style>\n",
       "<table border=\"1\" class=\"dataframe\">\n",
       "  <thead>\n",
       "    <tr style=\"text-align: right;\">\n",
       "      <th></th>\n",
       "      <th>id_announcement</th>\n",
       "      <th>title_announcement</th>\n",
       "    </tr>\n",
       "  </thead>\n",
       "  <tbody>\n",
       "  </tbody>\n",
       "</table>\n",
       "</div>"
      ],
      "text/plain": [
       "Empty DataFrame\n",
       "Columns: [id_announcement, title_announcement]\n",
       "Index: []"
      ]
     },
     "execution_count": 60,
     "metadata": {},
     "output_type": "execute_result"
    }
   ],
   "source": [
    "# Ver cuántos nombres están nulos\n",
    "df_raw_1['title_announcement'].isnull().sum()\n",
    "\n",
    "# Ver si esos ID están duplicados con algún name no nulo\n",
    "ids_with_null_name = df_raw_1[df_raw_1['title_announcement'].isnull()]['id_announcement'].unique()\n",
    "\n",
    "# Buscar si esos ID aparecen en otras filas con name no nulo\n",
    "recoverable_names = df_raw_1[\n",
    "    (df_raw_1['id_announcement'].isin(ids_with_null_name)) &\n",
    "    (df_raw_1['title_announcement'].notnull())\n",
    "][['id_announcement', 'title_announcement']].drop_duplicates()\n",
    "\n",
    "recoverable_names"
   ]
  },
  {
   "cell_type": "code",
   "execution_count": 61,
   "metadata": {},
   "outputs": [],
   "source": [
    "# Fill missing host names with \"Unknown host\"\n",
    "df_raw_1['title_announcement'] = df_raw_1['title_announcement'].fillna(\"Unknown title\")"
   ]
  },
  {
   "cell_type": "code",
   "execution_count": 62,
   "metadata": {},
   "outputs": [
    {
     "data": {
      "text/plain": [
       "np.int64(0)"
      ]
     },
     "execution_count": 62,
     "metadata": {},
     "output_type": "execute_result"
    }
   ],
   "source": [
    "df_raw_1['title_announcement'].isnull().sum()  # 0"
   ]
  },
  {
   "cell_type": "code",
   "execution_count": 63,
   "metadata": {},
   "outputs": [
    {
     "data": {
      "application/vnd.microsoft.datawrangler.viewer.v0+json": {
       "columns": [
        {
         "name": "index",
         "rawType": "object",
         "type": "string"
        },
        {
         "name": "title_announcement",
         "rawType": "float64",
         "type": "float"
        }
       ],
       "ref": "3cf90b1e-db56-4709-9e30-87f67cc6b80f",
       "rows": [
        [
         "count",
         "220031.0"
        ],
        [
         "mean",
         "37.51666356104367"
        ],
        [
         "std",
         "10.867526598044005"
        ],
        [
         "min",
         "1.0"
        ],
        [
         "25%",
         "31.0"
        ],
        [
         "50%",
         "39.0"
        ],
        [
         "75%",
         "47.0"
        ],
        [
         "max",
         "255.0"
        ]
       ],
       "shape": {
        "columns": 1,
        "rows": 8
       }
      },
      "text/plain": [
       "count    220031.000000\n",
       "mean         37.516664\n",
       "std          10.867527\n",
       "min           1.000000\n",
       "25%          31.000000\n",
       "50%          39.000000\n",
       "75%          47.000000\n",
       "max         255.000000\n",
       "Name: title_announcement, dtype: float64"
      ]
     },
     "execution_count": 63,
     "metadata": {},
     "output_type": "execute_result"
    }
   ],
   "source": [
    "# It seems there are nulls in \"title_announcement\" column, let's check it\n",
    "df_raw_1['title_announcement'].isnull().sum()  # 0\n",
    "df_raw_1['title_announcement'].nunique() # 213,252\n",
    "\n",
    "# Let's check it with numpy and regex\n",
    "df_raw_1['title_announcement'].str.contains(r'^\\s*$', regex=True).sum()  # 0\n",
    "# Check if there are any empty strings in 'title_announcement'\n",
    "df_raw_1['title_announcement'].str.strip().eq('').sum()  # 0\n",
    "# Check if there are any strings that contain only whitespace\n",
    "df_raw_1['title_announcement'].str.strip().eq('').sum()  # 0\n",
    "# Check if there are any strings that contain only whitespace characters\n",
    "df_raw_1['title_announcement'].str.isspace().sum()  # 0\n",
    "# Check if there are weird characters in 'title_announcement'\n",
    "df_raw_1['title_announcement'].str.contains(r'[^\\w\\s]', regex=True).sum()  # 110,423\n",
    "# Check if there are any special characters in 'title_announcement'\n",
    "df_raw_1['title_announcement'].str.contains(r'[^a-zA-Z0-9\\s]', regex=True).sum()  # 115,594\n",
    "# Check if there are unusual names in 'title_announcement'\n",
    "df_raw_1['title_announcement'].str.contains(r'^[0-9]+$', regex=True).sum()  # 25\n",
    "# Check if there are any names that are just numbers\n",
    "df_raw_1['title_announcement'].str.contains(r'^[a-zA-Z]+$', regex=True).sum()  # 847\n",
    "# Check the lentgh mean, min and max for 'title_announcement'\n",
    "df_raw_1['title_announcement'].str.len().describe()  # mean: 37.51666356104367, min: 1, max: 255.0"
   ]
  },
  {
   "cell_type": "code",
   "execution_count": 64,
   "metadata": {},
   "outputs": [
    {
     "name": "stdout",
     "output_type": "stream",
     "text": [
      "--- Preparing 'title_announcement' column for checks (without modifying the original DataFrame) ---\n",
      "✅ Temporary 'title_announcement' series created for checks.\n",
      "\n",
      "--- title_announcement Verification ---\n",
      "------------------------------------------\n",
      "\n",
      "### 1. Count of Original NaN Values ###\n",
      "Total NaN values: 0\n",
      "No NaN values found.\n",
      "\n",
      "### 2. Empty or Whitespace-Only Strings ###\n",
      "Empty or whitespace-only: 0\n",
      "\n",
      "### 3. Zero Width Space (\\u200b) ###\n",
      "Entries with \\u200b: 4\n",
      "Sample:\n",
      "  - 'Sweet Inn | Bright 1BR Apt. near [ZWS]Piazza del Duomo'\n",
      "  - 'Cozy duplex in the area of [ZWS][ZWS]Goya.'\n",
      "  - 'Apartamento Luminoso[ZWS] frente al Parque del Retiro'\n",
      "  - 'Luxurious home in the best area of [ZWS][ZWS]Madrid'\n",
      "\n",
      "### 4. Purely Numeric Values ###\n",
      "Purely numeric entries: 25\n",
      "Sample:\n",
      "['3', '2', '1', '86', '1', '1', '36', '1', '251', '00']\n",
      "\n",
      "### 5. Truly Atypical Characters ###\n",
      "Atypical character entries: 18090\n",
      "Sample:\n",
      "[\"Large Furnished Room Near B'way\", 'CBG CtyBGd HelpsHaiti rm#1:1-4', 'CBG Helps Haiti Room#2.5', 'CBG Helps Haiti Rm #2', 'Lovely room 2 & garden; Best area, Legal rental', \"Cute apt in artist's home\", 'Blue Room for 2 in Brownstone for $1350 monthly', '* ORIGINAL BROOKLYN LOFT *', '**Bright Nolita Apt w Doorman/Elevators/Gym**', '*HAVEN LOFT - Entire Floor - Six Windows - Bricks*']\n",
      "Unique atypical characters: ['#', '$', '%', \"'\", '*', ';', '<', '=', '>', '?', '@', '[', '\\\\', ']', '^', '`', '{', '|', '}', '~', '¡', '´', '·', '–', '—', '―', '’', '“', '”', '•', '‿', '™', '◔', '☀', '★', '☆', '☞', '♡', '♥', '⚜', '⚡', '✌', '✦', '✨', '✪', '✿', '❤', '⭐', '【', '】', '︎', '️', '｡', '､']\n",
      "\n",
      "### 6. Entries with No Letters (Only Numbers/Symbols/Whitespace) ###\n",
      "Entries with no letters: 898\n",
      "Sample:\n",
      "['/', '曼哈顿上西区林肯中心附近优质公寓短租!', '汤母小屋', '近地铁及市中心,交通方便,干净,明亮,到曼哈頓只要30分鐘', 'светлая комната с балконом', '哥伦比亚大学附近公寓内客厅一间,30美元一天', '中央公园旁的现代公寓', 'Комната в Манхеттене, 19-24 октября', '曼哈顿上西区比邻哥伦比亚大学一室一厅可住2-3人温馨小屋', '位于曼哈顿纽约上城,高级住宅区']\n",
      "Unique non-letter characters: ['!', '#', '$', '&', '(', ')', '*', '+', ',', '-', '.', '/', '0', '1', '2', '3', '4', '5', '6', '7', '8', '9', ':', ';', '=', '?', '[', ']', '^', '_', '~', '·', 'Б', 'В', 'Д', 'Й', 'К', 'М', 'Н', 'С', 'У', 'Ф', 'а', 'б', 'в', 'г', 'д', 'е', 'ж', 'з', 'и', 'й', 'к', 'л', 'м', 'н', 'о', 'п', 'р', 'с', 'т', 'у', 'х', 'ц', 'ч', 'ы', 'ь', 'ю', 'я', 'ё', 'ก', 'ค', 'ง', 'จ', 'ช', 'ญ', 'ด', 'ต', 'ท', 'น', 'ป', 'ผ', 'พ', 'ม', 'ย', 'ล', 'ส', 'ห', 'อ', 'ฮ', 'ั', 'า', 'ี', 'ุ', 'ู', 'เ', 'แ', 'ไ', '่', '้', '์', '“', '”', '※', '‼', '⇒', '≪', '≫', '★', '☆', '♡', '♩', '♪', '♬', '、', '。', '々', '〇', '《', '》', '【', '】', 'あ', 'い', 'う', 'え', 'お', 'か', 'が', 'き', 'く', 'ぐ', 'け', 'こ', 'ご', 'さ', 'し', 'じ', 'す', 'そ', 'た', 'だ', 'ち', 'っ', 'つ', 'て', 'で', 'と', 'ど', 'な', 'に', 'ぬ', 'の', 'は', 'ば', 'ひ', 'び', 'ぶ', 'へ', 'ほ', 'ま', 'み', 'も', 'ゃ', 'や', 'ゆ', 'よ', 'ら', 'り', 'る', 'れ', 'わ', 'を', 'ん', 'イ', 'オ', 'ナ', 'ハ', 'ム', 'ヶ', 'ー', '㎡', '一', '丁', '七', '丈', '三', '上', '下', '不', '与', '专', '世', '丘', '业', '丛', '东', '丝', '両', '两', '丨', '个', '中', '临', '丸', '为', '主', '丽', '久', '之', '乐', '乘', '也', '乡', '书', '了', '事', '二', '于', '五', '井', '亚', '交', '享', '京', '亮', '亲', '人', '仅', '他', '付', '仙', '代', '令', '以', '们', '件', '价', '任', '份', '伊', '伎', '休', '众', '优', '会', '伝', '传', '伦', '佈', '位', '低', '住', '佐', '体', '何', '你', '佳', '使', '供', '依', '価', '侣', '便', '促', '保', '俩', '修', '俱', '俵', '個', '倫', '值', '假', '做', '停', '健', '側', '偿', '備', '催', '像', '優', '元', '充', '先', '光', '克', '免', '児', '入', '全', '兩', '八', '公', '六', '兰', '共', '其', '具', '典', '内', '円', '农', '冠', '冬', '冷', '净', '准', '凯', '出', '分', '切', '划', '別', '利', '别', '到', '前', '剧', '力', '加', '务', '助', '動', '勢', '包', '化', '北', '匹', '区', '十', '千', '半', '华', '单', '南', '卧', '卫', '即', '卷', '厅', '厕', '原', '厦', '厨', '去', '参', '及', '友', '双', '反', '发', '取', '受', '口', '古', '另', '只', '可', '台', '右', '叶', '号', '吃', '各', '合', '吉', '同', '名', '后', '向', '吕', '吧', '吹', '吾', '呂', '呎', '周', '味', '和', '咫', '品', '哈', '哗', '哥', '哦', '唐', '唯', '商', '善', '喜', '喧', '喫', '單', '四', '回', '团', '団', '园', '国', '圆', '圈', '圏', '園', '土', '圣', '圧', '在', '地', '场', '坂', '均', '坐', '型', '城', '域', '堂', '堡', '堪', '場', '塔', '塚', '境', '墅', '墙', '墨', '士', '売', '处', '変', '复', '夏', '多', '夜', '夢', '大', '天', '太', '夫', '央', '头', '契', '套', '奢', '奥', '女', '好', '如', '妆', '妻', '姆', '始', '威', '娜', '婚', '婦', '嬉', '子', '存', '季', '学', '孩', '宁', '宅', '安', '完', '官', '定', '宜', '宝', '实', '実', '客', '室', '宫', '宮', '家', '容', '宽', '宾', '宿', '寄', '密', '富', '寓', '寝', '寧', '对', '寺', '対', '寿', '専', '射', '對', '小', '少', '尔', '尚', '就', '尺', '尼', '尽', '尾', '局', '层', '居', '届', '屋', '属', '層', '屯', '山', '岛', '岩', '岸', '峰', '島', '崎', '崭', '川', '州', '巢', '巣', '左', '差', '己', '已', '巴', '市', '布', '帅', '师', '希', '带', '帮', '帯', '帰', '常', '帽', '幢', '干', '平', '年', '并', '幸', '幻', '幽', '广', '広', '庄', '庆', '床', '库', '应', '店', '度', '座', '庫', '庭', '庵', '廁', '廈', '廉', '廚', '廳', '建', '开', '异', '式', '张', '弯', '弱', '强', '归', '当', '影', '彼', '往', '待', '很', '後', '徒', '得', '御', '徳', '德', '心', '必', '応', '快', '念', '思', '急', '性', '恩', '息', '恵', '悉', '悠', '您', '情', '惠', '惬', '想', '意', '愛', '感', '成', '我', '或', '戶', '户', '戸', '房', '所', '手', '打', '找', '折', '抜', '抬', '押', '拉', '拎', '招', '拠', '择', '拿', '按', '捷', '掃', '排', '接', '提', '摄', '摩', '撮', '改', '放', '故', '敌', '敞', '散', '敦', '数', '整', '敵', '文', '料', '斯', '新', '方', '於', '施', '旁', '旅', '族', '无', '日', '早', '时', '明', '星', '春', '昭', '是', '显', '時', '晚', '晤', '景', '晴', '晶', '暑', '暖', '暮', '曰', '曳', '更', '曼', '最', '月', '有', '服', '望', '朝', '期', '木', '末', '本', '术', '机', '李', '村', '条', '来', '東', '松', '板', '极', '构', '林', '果', '枢', '枫', '柜', '栄', '标', '栈', '栋', '树', '校', '根', '格', '桑', '档', '桥', '桩', '梅', '條', '梦', '梨', '梯', '棟', '森', '椅', '業', '楼', '楽', '榻', '様', '樓', '模', '権', '横', '橋', '橘', '機', '次', '欢', '欧', '歌', '歓', '正', '此', '步', '武', '歩', '段', '母', '每', '比', '毘', '民', '气', '気', '水', '永', '求', '江', '池', '汤', '沙', '没', '河', '治', '沼', '泉', '泊', '法', '泰', '泳', '洁', '洋', '洒', '洗', '津', '洲', '活', '派', '流', '浅', '济', '浜', '浪', '浮', '浴', '海', '涉', '涩', '淋', '淡', '深', '添', '清', '済', '渋', '温', '港', '游', '湖', '湾', '満', '源', '溫', '滞', '满', '滨', '滿', '漂', '漫', '潔', '澄', '澡', '澳', '激', '濟', '濯', '灣', '火', '点', '烟', '热', '無', '煙', '熊', '爱', '父', '牛', '物', '特', '犬', '独', '猛', '猫', '獨', '玄', '王', '玫', '环', '现', '珍', '珠', '班', '理', '瑰', '生', '産', '用', '田', '由', '电', '男', '町', '畔', '番', '畳', '癒', '登', '白', '百', '的', '皆', '皇', '皎', '盛', '目', '直', '相', '看', '真', '眺', '着', '睡', '知', '短', '矿', '码', '社', '祝', '神', '禁', '福', '离', '秀', '私', '秋', '种', '秒', '秘', '租', '程', '税', '種', '稲', '稻', '空', '窗', '立', '站', '端', '竹', '笠', '第', '等', '筑', '策', '简', '算', '管', '箱', '築', '篠', '米', '类', '粉', '精', '系', '紀', '約', '納', '紐', '素', '紧', '組', '統', '綺', '緑', '緒', '線', '練', '縁', '繁', '红', '约', '级', '纪', '纳', '纽', '线', '经', '结', '绕', '给', '络', '绝', '统', '维', '绿', '缅', '缘', '缸', '网', '置', '美', '群', '羽', '翻', '老', '而', '聊', '聖', '聚', '肖', '肯', '胜', '能', '脚', '腾', '臥', '自', '至', '致', '舍', '舒', '舞', '舟', '船', '良', '色', '艺', '节', '花', '芳', '苑', '英', '茶', '草', '荔', '荘', '药', '荷', '莲', '莺', '華', '营', '落', '葉', '葛', '葵', '蒂', '蒙', '蒲', '蔵', '藏', '蘭', '號', '融', '行', '街', '衣', '表', '袋', '装', '複', '西', '要', '見', '規', '覚', '親', '観', '觀', '见', '观', '规', '视', '觉', '言', '訂', '記', '設', '許', '証', '認', '誠', '読', '調', '计', '订', '让', '许', '设', '证', '试', '语', '请', '调', '谧', '谷', '豆', '豊', '豪', '買', '貸', '費', '賓', '質', '贝', '货', '质', '购', '贴', '费', '资', '赞', '赤', '走', '起', '超', '越', '足', '跃', '距', '跨', '路', '身', '車', '軒', '転', '軽', '輪', '车', '转', '软', '轿', '边', '辺', '込', '达', '迄', '过', '迎', '运', '近', '这', '远', '迦', '迪', '迷', '追', '退', '送', '适', '选', '透', '途', '通', '速', '連', '週', '逸', '過', '道', '達', '遥', '適', '選', '邊', '邮', '邻', '部', '都', '酒', '酬', '酷', '采', '里', '野', '金', '鉄', '銀', '鐘', '鐵', '钟', '铁', '银', '铺', '销', '锁', '锦', '镇', '長', '长', '門', '開', '閑', '間', '関', '门', '闲', '间', '闹', '阔', '阳', '阿', '附', '际', '降', '限', '院', '陽', '隅', '階', '随', '隠', '隣', '隶', '雀', '雅', '集', '離', '雪', '雷', '電', '需', '霸', '青', '靓', '静', '靜', '非', '靠', '面', '韩', '頓', '題', '顶', '顿', '風', '风', '飞', '食', '飲', '餐', '館', '饭', '饮', '馆', '首', '香', '馨', '馬', '駅', '駐', '駒', '験', '马', '驾', '驿', '验', '高', '魅', '鲁', '鴨', '鶯', '鷹', '鸟', '麗', '麻', '黄', '黑', '黒', '鼻', '齐', '龄', '龙', '가', '개', '거', '게', '고', '공', '교', '구', '근', '기', '길', '깨', '께', '끗', '끼', '낼', '냉', '네', '노', '느', '는', '니', '단', '달', '던', '도', '독', '동', '드', '들', '디', '라', '랜', '러', '럭', '런', '렴', '로', '롭', '룸', '리', '마', '많', '맨', '메', '민', '밀', '박', '베', '변', '보', '본', '분', '브', '비', '사', '살', '상', '서', '선', '세', '셔', '소', '수', '숙', '스', '시', '신', '실', '싶', '아', '안', '액', '야', '어', '얼', '에', '역', '오', '욕', '용', '우', '윈', '유', '으', '은', '을', '의', '이', '인', '일', '있', '자', '잠', '장', '저', '전', '점', '조', '족', '주', '즈', '즐', '지', '처', '철', '체', '츄', '층', '친', '카', '컬', '쿄', '쿠', '탁', '터', '통', '트', '튼', '티', '틴', '파', '편', '프', '하', '한', '함', '항', '호', '화', '히', '︎', '，', '｡', '｢', '｣', '､', '･', 'ｧ', 'ｨ', 'ｪ', 'ｫ', 'ｬ', 'ｭ', 'ｮ', 'ｯ', 'ｰ', 'ｱ', 'ｲ', 'ｳ', 'ｴ', 'ｵ', 'ｶ', 'ｷ', 'ｸ', 'ｹ', 'ｺ', 'ｻ', 'ｼ', 'ｽ', 'ｾ', 'ｿ', 'ﾀ', 'ﾁ', 'ﾂ', 'ﾃ', 'ﾄ', 'ﾅ', 'ﾆ', 'ﾈ', 'ﾉ', 'ﾊ', 'ﾋ', 'ﾌ', 'ﾍ', 'ﾎ', 'ﾏ', 'ﾐ', 'ﾑ', 'ﾒ', 'ﾓ', 'ﾔ', 'ﾕ', 'ﾗ', 'ﾘ', 'ﾙ', 'ﾚ', 'ﾛ', 'ﾜ', 'ﾝ', 'ﾞ', 'ﾟ', '￫', '🦋']\n",
      "\n",
      "------------------------------------------\n",
      "--- SUMMARY OF 'title_announcement' VERIFICATION ---\n",
      "------------------------------------------\n",
      "\n",
      "1. NaN values: 0\n",
      "2. Empty or whitespace-only: 0\n",
      "3. Zero width space: 4\n",
      "4. Purely numeric: 25\n",
      "5. Atypical characters: 18090\n",
      "6. No letters: 898\n",
      "\n",
      "Note: Accented characters (e.g. 'José'), and common punctuation are allowed.\n"
     ]
    }
   ],
   "source": [
    "def verify_text_column(df: pd.DataFrame, column_name: str):\n",
    "    print(f\"--- Preparing '{column_name}' column for checks (without modifying the original DataFrame) ---\")\n",
    "    \n",
    "    # Fill NaNs and ensure string type\n",
    "    series = df[column_name].fillna('').astype(str)\n",
    "    print(f\"✅ Temporary '{column_name}' series created for checks.\\n\")\n",
    "\n",
    "    print(f\"--- {column_name} Verification ---\")\n",
    "    print(\"------------------------------------------\\n\")\n",
    "\n",
    "    # CHECK 1: Original NaN values\n",
    "    print(\"### 1. Count of Original NaN Values ###\")\n",
    "    null_count = df[column_name].isnull().sum()\n",
    "    print(f\"Total NaN values: {null_count}\")\n",
    "    if null_count > 0:\n",
    "        print(\"Sample NaN entries:\")\n",
    "        print(df[df[column_name].isnull()][column_name].head(10).tolist())\n",
    "    else:\n",
    "        print(\"No NaN values found.\")\n",
    "\n",
    "    # CHECK 2: Empty or whitespace-only strings\n",
    "    print(\"\\n### 2. Empty or Whitespace-Only Strings ###\")\n",
    "    empty_mask = series.str.strip().eq('')\n",
    "    empty_count = empty_mask.sum()\n",
    "    print(f\"Empty or whitespace-only: {empty_count}\")\n",
    "    if empty_count > 0:\n",
    "        print(\"Sample:\")\n",
    "        print(series[empty_mask].head(10).tolist())\n",
    "\n",
    "    # CHECK 3: Zero-width space\n",
    "    print(\"\\n### 3. Zero Width Space (\\\\u200b) ###\")\n",
    "    zws_mask = series.str.contains('\\u200b', regex=False)\n",
    "    zws_series = series[zws_mask]\n",
    "    print(f\"Entries with \\\\u200b: {len(zws_series)}\")\n",
    "    if not zws_series.empty:\n",
    "        print(\"Sample:\")\n",
    "        for name in zws_series.head(10).tolist():\n",
    "            print(f\"  - '{name.replace('\\u200b', '[ZWS]')}'\")\n",
    "\n",
    "    # CHECK 4: Purely numeric values\n",
    "    print(\"\\n### 4. Purely Numeric Values ###\")\n",
    "    numeric_mask = series.str.match(r'^[0-9]+$', na=False)\n",
    "    numeric_series = series[numeric_mask]\n",
    "    print(f\"Purely numeric entries: {len(numeric_series)}\")\n",
    "    if not numeric_series.empty:\n",
    "        print(\"Sample:\")\n",
    "        print(numeric_series.head(10).tolist())\n",
    "\n",
    "    # CHECK 5: Truly atypical symbols\n",
    "    print(\"\\n### 5. Truly Atypical Characters ###\")\n",
    "    atypical_regex = r'[^\\w\\s.,&+\\-()!:\"\\/]'\n",
    "    weird_mask = series.str.contains(atypical_regex, regex=True, flags=re.UNICODE)\n",
    "    atypical_series = series[weird_mask & ~zws_mask & ~numeric_mask]\n",
    "    print(f\"Atypical character entries: {len(atypical_series)}\")\n",
    "    if not atypical_series.empty:\n",
    "        print(\"Sample:\")\n",
    "        print(atypical_series.head(10).tolist())\n",
    "        weird_chars = set()\n",
    "        for val in atypical_series.head(1000):\n",
    "            weird_chars.update(re.findall(atypical_regex, val, flags=re.UNICODE))\n",
    "        print(f\"Unique atypical characters: {sorted(list(weird_chars))}\")\n",
    "\n",
    "    # CHECK 6: Composed only of non-letters\n",
    "    print(\"\\n### 6. Entries with No Letters (Only Numbers/Symbols/Whitespace) ###\")\n",
    "    has_letters = series.str.contains(r'[A-Za-z\\u00C0-\\u017F]', regex=True)\n",
    "    no_letters = ~has_letters\n",
    "    only_non_letters = series[no_letters & ~empty_mask & ~zws_mask & ~numeric_mask]\n",
    "    print(f\"Entries with no letters: {len(only_non_letters)}\")\n",
    "    if not only_non_letters.empty:\n",
    "        print(\"Sample:\")\n",
    "        print(only_non_letters.head(10).tolist())\n",
    "        non_letter_chars = set()\n",
    "        for val in only_non_letters.head(1000):\n",
    "            non_letter_chars.update(re.findall(r'[^A-Za-z\\u00C0-\\u017F\\s]', val, flags=re.UNICODE))\n",
    "        print(f\"Unique non-letter characters: {sorted(list(non_letter_chars))}\")\n",
    "\n",
    "    # SUMMARY\n",
    "    print(\"\\n------------------------------------------\")\n",
    "    print(f\"--- SUMMARY OF '{column_name}' VERIFICATION ---\")\n",
    "    print(\"------------------------------------------\\n\")\n",
    "    print(f\"1. NaN values: {null_count}\")\n",
    "    print(f\"2. Empty or whitespace-only: {empty_count}\")\n",
    "    print(f\"3. Zero width space: {len(zws_series)}\")\n",
    "    print(f\"4. Purely numeric: {len(numeric_series)}\")\n",
    "    print(f\"5. Atypical characters: {len(atypical_series)}\")\n",
    "    print(f\"6. No letters: {len(only_non_letters)}\\n\")\n",
    "    print(\"Note: Accented characters (e.g. 'José'), and common punctuation are allowed.\")\n",
    "\n",
    "# Calling the function\n",
    "verify_text_column(df_raw_1, 'title_announcement')"
   ]
  },
  {
   "cell_type": "markdown",
   "metadata": {},
   "source": [
    "####  <span style=\"color:#fe5608\"> [\"room_types\"]  </span>\n",
    "\n",
    "- All values are different, no need to change them"
   ]
  },
  {
   "cell_type": "code",
   "execution_count": 65,
   "metadata": {},
   "outputs": [
    {
     "data": {
      "text/plain": [
       "array(['Private room', 'Entire home/apt', 'Shared room', 'Hotel room'],\n",
       "      dtype=object)"
      ]
     },
     "execution_count": 65,
     "metadata": {},
     "output_type": "execute_result"
    }
   ],
   "source": [
    "# Checking unique values in \"room_type\" column\n",
    "df_raw_1[\"room_type\"].nunique()  # 4\n",
    "df_raw_1[\"room_type\"].unique()  # ['Private room', 'Entire home/apt', 'Shared room', 'Hotel room']"
   ]
  },
  {
   "cell_type": "markdown",
   "metadata": {},
   "source": [
    "####  <span style=\"color:#f05593\"> Checking again for nulls </span>"
   ]
  },
  {
   "cell_type": "code",
   "execution_count": 66,
   "metadata": {},
   "outputs": [
    {
     "data": {
      "application/vnd.microsoft.datawrangler.viewer.v0+json": {
       "columns": [
        {
         "name": "index",
         "rawType": "object",
         "type": "string"
        },
        {
         "name": "0",
         "rawType": "int64",
         "type": "integer"
        }
       ],
       "ref": "d4626f2f-3324-4fb8-845f-04e549addb3b",
       "rows": [
        [
         "id_announcement",
         "0"
        ],
        [
         "title_announcement",
         "0"
        ],
        [
         "host_id",
         "0"
        ],
        [
         "host_name",
         "0"
        ],
        [
         "neighbourhood_group",
         "0"
        ],
        [
         "neighbourhood",
         "0"
        ],
        [
         "latitude",
         "0"
        ],
        [
         "longitude",
         "0"
        ],
        [
         "room_type",
         "0"
        ],
        [
         "price",
         "0"
        ],
        [
         "minimum_nights",
         "0"
        ],
        [
         "number_of_reviews",
         "0"
        ],
        [
         "last_review",
         "0"
        ],
        [
         "reviews_per_month",
         "0"
        ],
        [
         "calculated_host_listings_count",
         "0"
        ],
        [
         "availability_365",
         "0"
        ],
        [
         "city",
         "0"
        ],
        [
         "has_real_last_review",
         "0"
        ]
       ],
       "shape": {
        "columns": 1,
        "rows": 18
       }
      },
      "text/plain": [
       "id_announcement                   0\n",
       "title_announcement                0\n",
       "host_id                           0\n",
       "host_name                         0\n",
       "neighbourhood_group               0\n",
       "neighbourhood                     0\n",
       "latitude                          0\n",
       "longitude                         0\n",
       "room_type                         0\n",
       "price                             0\n",
       "minimum_nights                    0\n",
       "number_of_reviews                 0\n",
       "last_review                       0\n",
       "reviews_per_month                 0\n",
       "calculated_host_listings_count    0\n",
       "availability_365                  0\n",
       "city                              0\n",
       "has_real_last_review              0\n",
       "dtype: int64"
      ]
     },
     "execution_count": 66,
     "metadata": {},
     "output_type": "execute_result"
    }
   ],
   "source": [
    "df_raw_1.isna().sum().sort_values(ascending=False)"
   ]
  },
  {
   "cell_type": "markdown",
   "metadata": {},
   "source": [
    "____\n",
    "####  <span style=\"color:#f6f794\"> <strong> 5️⃣ Checking the rest of the columns </strong> </span>"
   ]
  },
  {
   "cell_type": "markdown",
   "metadata": {},
   "source": [
    "\n",
    "####  <span style=\"color:#f05593\"> Changing price from local to USD </span>\n",
    "<span style=\"color:#fe5608\"> [\"price\"] </span>\n",
    "- The Tokyo prices are way off\n",
    "- It seems the prices are in local currency at least for Tokyo\n",
    "- In order to homogenize the prices, they will be all converted to USD currency\n",
    "- Original column will be eliminating for clarity purposes"
   ]
  },
  {
   "cell_type": "code",
   "execution_count": 67,
   "metadata": {},
   "outputs": [
    {
     "data": {
      "application/vnd.microsoft.datawrangler.viewer.v0+json": {
       "columns": [
        {
         "name": "city",
         "rawType": "object",
         "type": "string"
        },
        {
         "name": "count",
         "rawType": "float64",
         "type": "float"
        },
        {
         "name": "mean",
         "rawType": "float64",
         "type": "float"
        },
        {
         "name": "std",
         "rawType": "float64",
         "type": "float"
        },
        {
         "name": "min",
         "rawType": "float64",
         "type": "float"
        },
        {
         "name": "25%",
         "rawType": "float64",
         "type": "float"
        },
        {
         "name": "50%",
         "rawType": "float64",
         "type": "float"
        },
        {
         "name": "75%",
         "rawType": "float64",
         "type": "float"
        },
        {
         "name": "max",
         "rawType": "float64",
         "type": "float"
        }
       ],
       "ref": "10e22e25-e56c-4a36-b072-3da5d671f090",
       "rows": [
        [
         "London",
         "85068.0",
         "122.34",
         "220.75",
         "0.0",
         "47.0",
         "84.0",
         "140.0",
         "12345.0"
        ],
        [
         "Madrid",
         "19618.0",
         "129.27",
         "484.14",
         "0.0",
         "35.0",
         "58.0",
         "100.0",
         "9999.0"
        ],
        [
         "Milan",
         "18322.0",
         "115.09",
         "290.79",
         "8.0",
         "50.0",
         "73.5",
         "110.0",
         "11999.0"
        ],
        [
         "New York",
         "48895.0",
         "152.72",
         "240.15",
         "0.0",
         "69.0",
         "106.0",
         "175.0",
         "10000.0"
        ],
        [
         "Sydney",
         "36662.0",
         "207.69",
         "323.82",
         "0.0",
         "80.0",
         "136.0",
         "223.0",
         "14999.0"
        ],
        [
         "Tokyo",
         "11466.0",
         "14984.7",
         "33273.45",
         "0.0",
         "6026.0",
         "10007.0",
         "17216.0",
         "1000046.0"
        ]
       ],
       "shape": {
        "columns": 8,
        "rows": 6
       }
      },
      "text/html": [
       "<div>\n",
       "<style scoped>\n",
       "    .dataframe tbody tr th:only-of-type {\n",
       "        vertical-align: middle;\n",
       "    }\n",
       "\n",
       "    .dataframe tbody tr th {\n",
       "        vertical-align: top;\n",
       "    }\n",
       "\n",
       "    .dataframe thead th {\n",
       "        text-align: right;\n",
       "    }\n",
       "</style>\n",
       "<table border=\"1\" class=\"dataframe\">\n",
       "  <thead>\n",
       "    <tr style=\"text-align: right;\">\n",
       "      <th></th>\n",
       "      <th>count</th>\n",
       "      <th>mean</th>\n",
       "      <th>std</th>\n",
       "      <th>min</th>\n",
       "      <th>25%</th>\n",
       "      <th>50%</th>\n",
       "      <th>75%</th>\n",
       "      <th>max</th>\n",
       "    </tr>\n",
       "    <tr>\n",
       "      <th>city</th>\n",
       "      <th></th>\n",
       "      <th></th>\n",
       "      <th></th>\n",
       "      <th></th>\n",
       "      <th></th>\n",
       "      <th></th>\n",
       "      <th></th>\n",
       "      <th></th>\n",
       "    </tr>\n",
       "  </thead>\n",
       "  <tbody>\n",
       "    <tr>\n",
       "      <th>London</th>\n",
       "      <td>85068.0</td>\n",
       "      <td>122.34</td>\n",
       "      <td>220.75</td>\n",
       "      <td>0.0</td>\n",
       "      <td>47.0</td>\n",
       "      <td>84.0</td>\n",
       "      <td>140.0</td>\n",
       "      <td>12345.0</td>\n",
       "    </tr>\n",
       "    <tr>\n",
       "      <th>Madrid</th>\n",
       "      <td>19618.0</td>\n",
       "      <td>129.27</td>\n",
       "      <td>484.14</td>\n",
       "      <td>0.0</td>\n",
       "      <td>35.0</td>\n",
       "      <td>58.0</td>\n",
       "      <td>100.0</td>\n",
       "      <td>9999.0</td>\n",
       "    </tr>\n",
       "    <tr>\n",
       "      <th>Milan</th>\n",
       "      <td>18322.0</td>\n",
       "      <td>115.09</td>\n",
       "      <td>290.79</td>\n",
       "      <td>8.0</td>\n",
       "      <td>50.0</td>\n",
       "      <td>73.5</td>\n",
       "      <td>110.0</td>\n",
       "      <td>11999.0</td>\n",
       "    </tr>\n",
       "    <tr>\n",
       "      <th>New York</th>\n",
       "      <td>48895.0</td>\n",
       "      <td>152.72</td>\n",
       "      <td>240.15</td>\n",
       "      <td>0.0</td>\n",
       "      <td>69.0</td>\n",
       "      <td>106.0</td>\n",
       "      <td>175.0</td>\n",
       "      <td>10000.0</td>\n",
       "    </tr>\n",
       "    <tr>\n",
       "      <th>Sydney</th>\n",
       "      <td>36662.0</td>\n",
       "      <td>207.69</td>\n",
       "      <td>323.82</td>\n",
       "      <td>0.0</td>\n",
       "      <td>80.0</td>\n",
       "      <td>136.0</td>\n",
       "      <td>223.0</td>\n",
       "      <td>14999.0</td>\n",
       "    </tr>\n",
       "    <tr>\n",
       "      <th>Tokyo</th>\n",
       "      <td>11466.0</td>\n",
       "      <td>14984.70</td>\n",
       "      <td>33273.45</td>\n",
       "      <td>0.0</td>\n",
       "      <td>6026.0</td>\n",
       "      <td>10007.0</td>\n",
       "      <td>17216.0</td>\n",
       "      <td>1000046.0</td>\n",
       "    </tr>\n",
       "  </tbody>\n",
       "</table>\n",
       "</div>"
      ],
      "text/plain": [
       "            count      mean       std  min     25%      50%      75%        max\n",
       "city                                                                           \n",
       "London    85068.0    122.34    220.75  0.0    47.0     84.0    140.0    12345.0\n",
       "Madrid    19618.0    129.27    484.14  0.0    35.0     58.0    100.0     9999.0\n",
       "Milan     18322.0    115.09    290.79  8.0    50.0     73.5    110.0    11999.0\n",
       "New York  48895.0    152.72    240.15  0.0    69.0    106.0    175.0    10000.0\n",
       "Sydney    36662.0    207.69    323.82  0.0    80.0    136.0    223.0    14999.0\n",
       "Tokyo     11466.0  14984.70  33273.45  0.0  6026.0  10007.0  17216.0  1000046.0"
      ]
     },
     "execution_count": 67,
     "metadata": {},
     "output_type": "execute_result"
    }
   ],
   "source": [
    "# Checking the describe of \"price\" column grouped by \"city\"\n",
    "df_raw_1.groupby('city')['price'].describe().round(2)"
   ]
  },
  {
   "cell_type": "markdown",
   "metadata": {},
   "source": [
    "<span style=\"color:#fe5608\"> [\"price_USD\"] </span>\n",
    "\n",
    "- New column created\n",
    "- Prices converted to USD currency\n",
    "- Convertion made at 17/04/2021 rate\n",
    "    - This is the last updated date which was in the column \"last_review\"\n",
    "    - It is considered the must updated date"
   ]
  },
  {
   "cell_type": "code",
   "execution_count": 68,
   "metadata": {},
   "outputs": [],
   "source": [
    "# Convertion of prices to USD as of last_review's date exchange rate (17 April 2021)\n",
    "\n",
    "def convert_price_to_usd(price, city):\n",
    "    \"\"\"\n",
    "    Convert price to USD based on the city.\n",
    "    \"\"\"\n",
    "    conversion_rates = {\n",
    "        'Madrid':   1.1981314389221223,      # EUR to USD\n",
    "        'New York': 1.00,                    # USD to USD\n",
    "        'London':   1.3834553729076053,      # GBP to USD \n",
    "        'Milan':    1.1981314389221223,      # EUR to USD\n",
    "        'Tokyo':    0.009192860637696393,    # JPY to USD \n",
    "        'Sydney':   0.7735695491590678,      # AUD to USD\n",
    "    }\n",
    "\n",
    "    \n",
    "    if city in conversion_rates:\n",
    "        return price * conversion_rates[city]\n",
    "    else:\n",
    "        return price  # If city not in conversion rates, return original price\n",
    "    \n",
    "\n",
    "# Creating new column \"price_USD\" with the converted prices\n",
    "df_raw_1['price_USD'] = df_raw_1.apply(lambda row: convert_price_to_usd(row['price'], row['city']), axis=1)"
   ]
  },
  {
   "cell_type": "code",
   "execution_count": 69,
   "metadata": {},
   "outputs": [
    {
     "data": {
      "application/vnd.microsoft.datawrangler.viewer.v0+json": {
       "columns": [
        {
         "name": "index",
         "rawType": "int64",
         "type": "integer"
        },
        {
         "name": "price_USD",
         "rawType": "float64",
         "type": "float"
        }
       ],
       "ref": "efd7d112-3f2d-4101-877e-4e842ec9f468",
       "rows": [
        [
         "0",
         "149.0"
        ],
        [
         "1",
         "225.0"
        ],
        [
         "2",
         "150.0"
        ],
        [
         "3",
         "89.0"
        ],
        [
         "4",
         "80.0"
        ],
        [
         "5",
         "200.0"
        ],
        [
         "6",
         "60.0"
        ],
        [
         "7",
         "79.0"
        ],
        [
         "8",
         "79.0"
        ],
        [
         "9",
         "150.0"
        ],
        [
         "10",
         "135.0"
        ],
        [
         "11",
         "85.0"
        ],
        [
         "12",
         "89.0"
        ],
        [
         "13",
         "85.0"
        ],
        [
         "14",
         "120.0"
        ],
        [
         "15",
         "140.0"
        ],
        [
         "16",
         "215.0"
        ],
        [
         "17",
         "140.0"
        ],
        [
         "18",
         "99.0"
        ],
        [
         "19",
         "190.0"
        ],
        [
         "20",
         "299.0"
        ],
        [
         "21",
         "130.0"
        ],
        [
         "22",
         "80.0"
        ],
        [
         "23",
         "110.0"
        ],
        [
         "24",
         "120.0"
        ],
        [
         "25",
         "60.0"
        ],
        [
         "26",
         "80.0"
        ],
        [
         "27",
         "150.0"
        ],
        [
         "28",
         "44.0"
        ],
        [
         "29",
         "180.0"
        ],
        [
         "30",
         "50.0"
        ],
        [
         "31",
         "52.0"
        ],
        [
         "32",
         "55.0"
        ],
        [
         "33",
         "50.0"
        ],
        [
         "34",
         "70.0"
        ],
        [
         "35",
         "89.0"
        ],
        [
         "36",
         "35.0"
        ],
        [
         "37",
         "85.0"
        ],
        [
         "38",
         "150.0"
        ],
        [
         "39",
         "40.0"
        ],
        [
         "40",
         "68.0"
        ],
        [
         "41",
         "120.0"
        ],
        [
         "42",
         "120.0"
        ],
        [
         "43",
         "135.0"
        ],
        [
         "44",
         "150.0"
        ],
        [
         "45",
         "150.0"
        ],
        [
         "46",
         "130.0"
        ],
        [
         "47",
         "110.0"
        ],
        [
         "48",
         "115.0"
        ],
        [
         "49",
         "80.0"
        ]
       ],
       "shape": {
        "columns": 1,
        "rows": 220031
       }
      },
      "text/plain": [
       "0         149.000000\n",
       "1         225.000000\n",
       "2         150.000000\n",
       "3          89.000000\n",
       "4          80.000000\n",
       "             ...    \n",
       "220026     27.557023\n",
       "220027     25.160760\n",
       "220028     26.358892\n",
       "220029     22.764497\n",
       "220030     23.962629\n",
       "Name: price_USD, Length: 220031, dtype: float64"
      ]
     },
     "execution_count": 69,
     "metadata": {},
     "output_type": "execute_result"
    }
   ],
   "source": [
    "df_raw_1['price_USD']"
   ]
  },
  {
   "cell_type": "code",
   "execution_count": 70,
   "metadata": {},
   "outputs": [
    {
     "data": {
      "application/vnd.microsoft.datawrangler.viewer.v0+json": {
       "columns": [
        {
         "name": "index",
         "rawType": "object",
         "type": "string"
        },
        {
         "name": "price_USD",
         "rawType": "float64",
         "type": "float"
        }
       ],
       "ref": "8490293d-8885-4d63-b101-1977bddddd12",
       "rows": [
        [
         "count",
         "220031.0"
        ],
        [
         "mean",
         "158.6122149606192"
        ],
        [
         "std",
         "323.1456505384042"
        ],
        [
         "min",
         "0.0"
        ],
        [
         "25%",
         "61.89"
        ],
        [
         "50%",
         "102.0"
        ],
        [
         "75%",
         "172.93"
        ],
        [
         "max",
         "17078.76"
        ]
       ],
       "shape": {
        "columns": 1,
        "rows": 8
       }
      },
      "text/plain": [
       "count    220031.000000\n",
       "mean        158.612215\n",
       "std         323.145651\n",
       "min           0.000000\n",
       "25%          61.890000\n",
       "50%         102.000000\n",
       "75%         172.930000\n",
       "max       17078.760000\n",
       "Name: price_USD, dtype: float64"
      ]
     },
     "execution_count": 70,
     "metadata": {},
     "output_type": "execute_result"
    }
   ],
   "source": [
    "df_raw_1['price_USD'].describe()\n",
    "df_raw_1['price_USD'] = df_raw_1['price_USD'].round(2)\n",
    "df_raw_1['price_USD'].describe()"
   ]
  },
  {
   "cell_type": "markdown",
   "metadata": {},
   "source": [
    "________________\n",
    "####  <span style=\"color:#f6f794\"> <strong> 6️⃣ Cleaning text </strong> </span>\n",
    "\n",
    "- Eliminating with method <u>.strip()</u> white spaces and other \"invisible characters which might become problematic in the future."
   ]
  },
  {
   "cell_type": "code",
   "execution_count": 71,
   "metadata": {},
   "outputs": [],
   "source": [
    "df_raw_1['title_announcement'] = df_raw_1['title_announcement'].fillna('')\n",
    "df_raw_1['host_name'] = df_raw_1['host_name'].fillna('')"
   ]
  },
  {
   "cell_type": "code",
   "execution_count": 72,
   "metadata": {},
   "outputs": [],
   "source": [
    "df_raw_1['city'] = df_raw_1['city'].str.strip()\n",
    "df_raw_1['host_name'] = df_raw_1['host_name'].str.strip()\n",
    "df_raw_1['neighbourhood_group'] = df_raw_1['neighbourhood_group'].str.strip()\n",
    "df_raw_1['neighbourhood'] = df_raw_1['neighbourhood'].str.strip()"
   ]
  },
  {
   "cell_type": "code",
   "execution_count": 73,
   "metadata": {},
   "outputs": [],
   "source": [
    "def clean_text_column(df, cols):\n",
    "    for col in cols:\n",
    "        if col in df.columns:\n",
    "            # Replace NaNs with empty string before converting to str\n",
    "            df[col] = df[col].fillna('').astype(str)\n",
    "\n",
    "            # Replace newlines and carriage returns with space\n",
    "            df[col] = df[col].str.replace(r'[\\r\\n]', ' ', regex=True)\n",
    "\n",
    "            # Collapse multiple spaces\n",
    "            df[col] = df[col].str.replace(r'\\s+', ' ', regex=True)\n",
    "\n",
    "            # Remove zero-width and invisible unicode characters\n",
    "            df[col] = df[col].str.replace(r'[\\u200b\\u200c\\u200d\\ufeff]', '', regex=True)\n",
    "\n",
    "            # Final trim\n",
    "            df[col] = df[col].str.strip()\n",
    "\n",
    "            # Replace literal string 'nan' with empty\n",
    "            df[col] = df[col].replace('nan', '')\n",
    "    \n",
    "    return df\n",
    "\n",
    "\n",
    "columns_to_clean = ['title_announcement', 'host_name', 'city', 'neighbourhood', 'neighbourhood_group']\n",
    "df_raw_1 = clean_text_column(df_raw_1, columns_to_clean)\n"
   ]
  },
  {
   "cell_type": "code",
   "execution_count": 74,
   "metadata": {},
   "outputs": [
    {
     "data": {
      "application/vnd.microsoft.datawrangler.viewer.v0+json": {
       "columns": [
        {
         "name": "index",
         "rawType": "int64",
         "type": "integer"
        },
        {
         "name": "id_announcement",
         "rawType": "int64",
         "type": "integer"
        },
        {
         "name": "title_announcement",
         "rawType": "object",
         "type": "string"
        },
        {
         "name": "host_id",
         "rawType": "int64",
         "type": "integer"
        },
        {
         "name": "host_name",
         "rawType": "object",
         "type": "string"
        },
        {
         "name": "neighbourhood_group",
         "rawType": "object",
         "type": "string"
        },
        {
         "name": "neighbourhood",
         "rawType": "object",
         "type": "string"
        },
        {
         "name": "latitude",
         "rawType": "float64",
         "type": "float"
        },
        {
         "name": "longitude",
         "rawType": "float64",
         "type": "float"
        },
        {
         "name": "room_type",
         "rawType": "object",
         "type": "string"
        },
        {
         "name": "price",
         "rawType": "int64",
         "type": "integer"
        },
        {
         "name": "minimum_nights",
         "rawType": "int64",
         "type": "integer"
        },
        {
         "name": "number_of_reviews",
         "rawType": "int64",
         "type": "integer"
        },
        {
         "name": "last_review",
         "rawType": "datetime64[ns]",
         "type": "datetime"
        },
        {
         "name": "reviews_per_month",
         "rawType": "float64",
         "type": "float"
        },
        {
         "name": "calculated_host_listings_count",
         "rawType": "float64",
         "type": "float"
        },
        {
         "name": "availability_365",
         "rawType": "float64",
         "type": "float"
        },
        {
         "name": "city",
         "rawType": "object",
         "type": "string"
        },
        {
         "name": "has_real_last_review",
         "rawType": "bool",
         "type": "boolean"
        },
        {
         "name": "price_USD",
         "rawType": "float64",
         "type": "float"
        }
       ],
       "ref": "e486dcee-475d-4a48-98ae-4463ebff880c",
       "rows": [
        [
         "0",
         "2539",
         "Clean & quiet apt home by the park",
         "2787",
         "John",
         "Brooklyn",
         "Kensington",
         "40.64749",
         "-73.97237",
         "Private room",
         "149",
         "1",
         "9",
         "2018-10-19 00:00:00",
         "0.21",
         "6.0",
         "365.0",
         "New York",
         "True",
         "149.0"
        ],
        [
         "1",
         "2595",
         "Skylit Midtown Castle",
         "2845",
         "Jennifer",
         "Manhattan",
         "Midtown",
         "40.75362",
         "-73.98377",
         "Entire home/apt",
         "225",
         "1",
         "45",
         "2019-05-21 00:00:00",
         "0.38",
         "2.0",
         "355.0",
         "New York",
         "True",
         "225.0"
        ],
        [
         "2",
         "3647",
         "THE VILLAGE OF HARLEM....NEW YORK !",
         "4632",
         "Elisabeth",
         "Manhattan",
         "Harlem",
         "40.80902",
         "-73.9419",
         "Private room",
         "150",
         "3",
         "0",
         "1900-01-01 00:00:00",
         "0.0",
         "1.0",
         "365.0",
         "New York",
         "False",
         "150.0"
        ],
        [
         "3",
         "3831",
         "Cozy Entire Floor of Brownstone",
         "4869",
         "LisaRoxanne",
         "Brooklyn",
         "Clinton Hill",
         "40.68514",
         "-73.95976",
         "Entire home/apt",
         "89",
         "1",
         "270",
         "2019-07-05 00:00:00",
         "4.64",
         "1.0",
         "194.0",
         "New York",
         "True",
         "89.0"
        ],
        [
         "4",
         "5022",
         "Entire Apt: Spacious Studio/Loft by central park",
         "7192",
         "Laura",
         "Manhattan",
         "East Harlem",
         "40.79851",
         "-73.94399",
         "Entire home/apt",
         "80",
         "10",
         "9",
         "2018-11-19 00:00:00",
         "0.1",
         "1.0",
         "0.0",
         "New York",
         "True",
         "80.0"
        ],
        [
         "5",
         "5099",
         "Large Cozy 1 BR Apartment In Midtown East",
         "7322",
         "Chris",
         "Manhattan",
         "Murray Hill",
         "40.74767",
         "-73.975",
         "Entire home/apt",
         "200",
         "3",
         "74",
         "2019-06-22 00:00:00",
         "0.59",
         "1.0",
         "129.0",
         "New York",
         "True",
         "200.0"
        ],
        [
         "6",
         "5121",
         "BlissArtsSpace!",
         "7356",
         "Garon",
         "Brooklyn",
         "Bedford-Stuyvesant",
         "40.68688",
         "-73.95596",
         "Private room",
         "60",
         "45",
         "49",
         "2017-10-05 00:00:00",
         "0.4",
         "1.0",
         "0.0",
         "New York",
         "True",
         "60.0"
        ],
        [
         "7",
         "5178",
         "Large Furnished Room Near B'way",
         "8967",
         "Shunichi",
         "Manhattan",
         "Hell's Kitchen",
         "40.76489",
         "-73.98493",
         "Private room",
         "79",
         "2",
         "430",
         "2019-06-24 00:00:00",
         "3.47",
         "1.0",
         "220.0",
         "New York",
         "True",
         "79.0"
        ],
        [
         "8",
         "5203",
         "Cozy Clean Guest Room - Family Apt",
         "7490",
         "MaryEllen",
         "Manhattan",
         "Upper West Side",
         "40.80178",
         "-73.96723",
         "Private room",
         "79",
         "2",
         "118",
         "2017-07-21 00:00:00",
         "0.99",
         "1.0",
         "0.0",
         "New York",
         "True",
         "79.0"
        ],
        [
         "9",
         "5238",
         "Cute & Cozy Lower East Side 1 bdrm",
         "7549",
         "Ben",
         "Manhattan",
         "Chinatown",
         "40.71344",
         "-73.99037",
         "Entire home/apt",
         "150",
         "1",
         "160",
         "2019-06-09 00:00:00",
         "1.33",
         "4.0",
         "188.0",
         "New York",
         "True",
         "150.0"
        ],
        [
         "10",
         "5295",
         "Beautiful 1br on Upper West Side",
         "7702",
         "Lena",
         "Manhattan",
         "Upper West Side",
         "40.80316",
         "-73.96545",
         "Entire home/apt",
         "135",
         "5",
         "53",
         "2019-06-22 00:00:00",
         "0.43",
         "1.0",
         "6.0",
         "New York",
         "True",
         "135.0"
        ],
        [
         "11",
         "5441",
         "Central Manhattan/near Broadway",
         "7989",
         "Kate",
         "Manhattan",
         "Hell's Kitchen",
         "40.76076",
         "-73.98867",
         "Private room",
         "85",
         "2",
         "188",
         "2019-06-23 00:00:00",
         "1.5",
         "1.0",
         "39.0",
         "New York",
         "True",
         "85.0"
        ],
        [
         "12",
         "5803",
         "Lovely Room 1, Garden, Best Area, Legal rental",
         "9744",
         "Laurie",
         "Brooklyn",
         "South Slope",
         "40.66829",
         "-73.98779",
         "Private room",
         "89",
         "4",
         "167",
         "2019-06-24 00:00:00",
         "1.34",
         "3.0",
         "314.0",
         "New York",
         "True",
         "89.0"
        ],
        [
         "13",
         "6021",
         "Wonderful Guest Bedroom in Manhattan for SINGLES",
         "11528",
         "Claudio",
         "Manhattan",
         "Upper West Side",
         "40.79826",
         "-73.96113",
         "Private room",
         "85",
         "2",
         "113",
         "2019-07-05 00:00:00",
         "0.91",
         "1.0",
         "333.0",
         "New York",
         "True",
         "85.0"
        ],
        [
         "14",
         "6090",
         "West Village Nest - Superhost",
         "11975",
         "Alina",
         "Manhattan",
         "West Village",
         "40.7353",
         "-74.00525",
         "Entire home/apt",
         "120",
         "90",
         "27",
         "2018-10-31 00:00:00",
         "0.22",
         "1.0",
         "0.0",
         "New York",
         "True",
         "120.0"
        ],
        [
         "15",
         "6848",
         "Only 2 stops to Manhattan studio",
         "15991",
         "Allen & Irina",
         "Brooklyn",
         "Williamsburg",
         "40.70837",
         "-73.95352",
         "Entire home/apt",
         "140",
         "2",
         "148",
         "2019-06-29 00:00:00",
         "1.2",
         "1.0",
         "46.0",
         "New York",
         "True",
         "140.0"
        ],
        [
         "16",
         "7097",
         "Perfect for Your Parents + Garden",
         "17571",
         "Jane",
         "Brooklyn",
         "Fort Greene",
         "40.69169",
         "-73.97185",
         "Entire home/apt",
         "215",
         "2",
         "198",
         "2019-06-28 00:00:00",
         "1.72",
         "1.0",
         "321.0",
         "New York",
         "True",
         "215.0"
        ],
        [
         "17",
         "7322",
         "Chelsea Perfect",
         "18946",
         "Doti",
         "Manhattan",
         "Chelsea",
         "40.74192",
         "-73.99501",
         "Private room",
         "140",
         "1",
         "260",
         "2019-07-01 00:00:00",
         "2.12",
         "1.0",
         "12.0",
         "New York",
         "True",
         "140.0"
        ],
        [
         "18",
         "7726",
         "Hip Historic Brownstone Apartment with Backyard",
         "20950",
         "Adam And Charity",
         "Brooklyn",
         "Crown Heights",
         "40.67592",
         "-73.94694",
         "Entire home/apt",
         "99",
         "3",
         "53",
         "2019-06-22 00:00:00",
         "4.44",
         "1.0",
         "21.0",
         "New York",
         "True",
         "99.0"
        ],
        [
         "19",
         "7750",
         "Huge 2 BR Upper East Cental Park",
         "17985",
         "Sing",
         "Manhattan",
         "East Harlem",
         "40.79685",
         "-73.94872",
         "Entire home/apt",
         "190",
         "7",
         "0",
         "1900-01-01 00:00:00",
         "0.0",
         "2.0",
         "249.0",
         "New York",
         "False",
         "190.0"
        ],
        [
         "20",
         "7801",
         "Sweet and Spacious Brooklyn Loft",
         "21207",
         "Chaya",
         "Brooklyn",
         "Williamsburg",
         "40.71842",
         "-73.95718",
         "Entire home/apt",
         "299",
         "3",
         "9",
         "2011-12-28 00:00:00",
         "0.07",
         "1.0",
         "0.0",
         "New York",
         "True",
         "299.0"
        ],
        [
         "21",
         "8024",
         "CBG CtyBGd HelpsHaiti rm#1:1-4",
         "22486",
         "Lisel",
         "Brooklyn",
         "Park Slope",
         "40.68069",
         "-73.97706",
         "Private room",
         "130",
         "2",
         "130",
         "2019-07-01 00:00:00",
         "1.09",
         "6.0",
         "347.0",
         "New York",
         "True",
         "130.0"
        ],
        [
         "22",
         "8025",
         "CBG Helps Haiti Room#2.5",
         "22486",
         "Lisel",
         "Brooklyn",
         "Park Slope",
         "40.67989",
         "-73.97798",
         "Private room",
         "80",
         "1",
         "39",
         "2019-01-01 00:00:00",
         "0.37",
         "6.0",
         "364.0",
         "New York",
         "True",
         "80.0"
        ],
        [
         "23",
         "8110",
         "CBG Helps Haiti Rm #2",
         "22486",
         "Lisel",
         "Brooklyn",
         "Park Slope",
         "40.68001",
         "-73.97865",
         "Private room",
         "110",
         "2",
         "71",
         "2019-07-02 00:00:00",
         "0.61",
         "6.0",
         "304.0",
         "New York",
         "True",
         "110.0"
        ],
        [
         "24",
         "8490",
         "MAISON DES SIRENES1,bohemian apartment",
         "25183",
         "Nathalie",
         "Brooklyn",
         "Bedford-Stuyvesant",
         "40.68371",
         "-73.94028",
         "Entire home/apt",
         "120",
         "2",
         "88",
         "2019-06-19 00:00:00",
         "0.73",
         "2.0",
         "233.0",
         "New York",
         "True",
         "120.0"
        ],
        [
         "25",
         "8505",
         "Sunny Bedroom Across Prospect Park",
         "25326",
         "Gregory",
         "Brooklyn",
         "Windsor Terrace",
         "40.65599",
         "-73.97519",
         "Private room",
         "60",
         "1",
         "19",
         "2019-06-23 00:00:00",
         "1.37",
         "2.0",
         "85.0",
         "New York",
         "True",
         "60.0"
        ],
        [
         "26",
         "8700",
         "Magnifique Suite au N de Manhattan - vue Cloitres",
         "26394",
         "Claude & Sophie",
         "Manhattan",
         "Inwood",
         "40.86754",
         "-73.92639",
         "Private room",
         "80",
         "4",
         "0",
         "1900-01-01 00:00:00",
         "0.0",
         "1.0",
         "0.0",
         "New York",
         "False",
         "80.0"
        ],
        [
         "27",
         "9357",
         "Midtown Pied-a-terre",
         "30193",
         "Tommi",
         "Manhattan",
         "Hell's Kitchen",
         "40.76715",
         "-73.98533",
         "Entire home/apt",
         "150",
         "10",
         "58",
         "2017-08-13 00:00:00",
         "0.49",
         "1.0",
         "75.0",
         "New York",
         "True",
         "150.0"
        ],
        [
         "28",
         "9518",
         "SPACIOUS, LOVELY FURNISHED MANHATTAN BEDROOM",
         "31374",
         "Shon",
         "Manhattan",
         "Inwood",
         "40.86482",
         "-73.92106",
         "Private room",
         "44",
         "3",
         "108",
         "2019-06-15 00:00:00",
         "1.11",
         "3.0",
         "311.0",
         "New York",
         "True",
         "44.0"
        ],
        [
         "29",
         "9657",
         "Modern 1 BR / NYC / EAST VILLAGE",
         "21904",
         "Dana",
         "Manhattan",
         "East Village",
         "40.7292",
         "-73.98542",
         "Entire home/apt",
         "180",
         "14",
         "29",
         "2019-04-19 00:00:00",
         "0.24",
         "1.0",
         "67.0",
         "New York",
         "True",
         "180.0"
        ],
        [
         "30",
         "9668",
         "front room/double bed",
         "32294",
         "Ssameer Or Trip",
         "Manhattan",
         "Harlem",
         "40.82245",
         "-73.95104",
         "Private room",
         "50",
         "3",
         "242",
         "2019-06-01 00:00:00",
         "2.04",
         "3.0",
         "355.0",
         "New York",
         "True",
         "50.0"
        ],
        [
         "31",
         "9704",
         "Spacious 1 bedroom in luxe building",
         "32045",
         "Teri",
         "Manhattan",
         "Harlem",
         "40.81305",
         "-73.95466",
         "Private room",
         "52",
         "2",
         "88",
         "2019-06-14 00:00:00",
         "1.42",
         "1.0",
         "255.0",
         "New York",
         "True",
         "52.0"
        ],
        [
         "32",
         "9782",
         "Loft in Williamsburg Area w/ Roof",
         "32169",
         "Andrea",
         "Brooklyn",
         "Greenpoint",
         "40.72219",
         "-73.93762",
         "Private room",
         "55",
         "4",
         "197",
         "2019-06-15 00:00:00",
         "1.65",
         "3.0",
         "284.0",
         "New York",
         "True",
         "55.0"
        ],
        [
         "33",
         "9783",
         "back room/bunk beds",
         "32294",
         "Ssameer Or Trip",
         "Manhattan",
         "Harlem",
         "40.8213",
         "-73.95318",
         "Private room",
         "50",
         "3",
         "273",
         "2019-07-01 00:00:00",
         "2.37",
         "3.0",
         "359.0",
         "New York",
         "True",
         "50.0"
        ],
        [
         "34",
         "10452",
         "Large B&B Style rooms",
         "35935",
         "Angela",
         "Brooklyn",
         "Bedford-Stuyvesant",
         "40.6831",
         "-73.95473",
         "Private room",
         "70",
         "1",
         "74",
         "2019-05-12 00:00:00",
         "0.66",
         "2.0",
         "269.0",
         "New York",
         "True",
         "70.0"
        ],
        [
         "35",
         "10962",
         "Lovely room 2 & garden; Best area, Legal rental",
         "9744",
         "Laurie",
         "Brooklyn",
         "South Slope",
         "40.66869",
         "-73.9878",
         "Private room",
         "89",
         "4",
         "168",
         "2019-06-21 00:00:00",
         "1.41",
         "3.0",
         "340.0",
         "New York",
         "True",
         "89.0"
        ],
        [
         "36",
         "11452",
         "Clean and Quiet in Brooklyn",
         "7355",
         "Vt",
         "Brooklyn",
         "Bedford-Stuyvesant",
         "40.68876",
         "-73.94312",
         "Private room",
         "35",
         "60",
         "0",
         "1900-01-01 00:00:00",
         "0.0",
         "1.0",
         "365.0",
         "New York",
         "False",
         "35.0"
        ],
        [
         "37",
         "11708",
         "Cute apt in artist's home",
         "44145",
         "Tyrome",
         "Brooklyn",
         "Bushwick",
         "40.70186",
         "-73.92745",
         "Entire home/apt",
         "85",
         "2",
         "231",
         "2019-06-22 00:00:00",
         "1.96",
         "2.0",
         "22.0",
         "New York",
         "True",
         "85.0"
        ],
        [
         "38",
         "11943",
         "Country space in the city",
         "45445",
         "Harriet",
         "Brooklyn",
         "Flatbush",
         "40.63702",
         "-73.96327",
         "Private room",
         "150",
         "1",
         "0",
         "1900-01-01 00:00:00",
         "0.0",
         "1.0",
         "365.0",
         "New York",
         "False",
         "150.0"
        ],
        [
         "39",
         "12048",
         "LowerEastSide apt share shortterm 1",
         "7549",
         "Ben",
         "Manhattan",
         "Lower East Side",
         "40.71401",
         "-73.98917",
         "Shared room",
         "40",
         "1",
         "214",
         "2019-07-05 00:00:00",
         "1.81",
         "4.0",
         "188.0",
         "New York",
         "True",
         "40.0"
        ],
        [
         "40",
         "12192",
         "ENJOY Downtown NYC!",
         "46978",
         "Edward",
         "Manhattan",
         "East Village",
         "40.7229",
         "-73.98199",
         "Private room",
         "68",
         "2",
         "245",
         "2019-06-21 00:00:00",
         "2.08",
         "2.0",
         "96.0",
         "New York",
         "True",
         "68.0"
        ],
        [
         "41",
         "12299",
         "Beautiful Sunny Park Slope Brooklyn",
         "47610",
         "Abdul",
         "Brooklyn",
         "South Slope",
         "40.66278",
         "-73.97966",
         "Entire home/apt",
         "120",
         "3",
         "15",
         "2019-05-27 00:00:00",
         "0.39",
         "1.0",
         "345.0",
         "New York",
         "True",
         "120.0"
        ],
        [
         "42",
         "12303",
         "1bdr w private bath. in lofty apt",
         "47618",
         "Yolande",
         "Brooklyn",
         "Fort Greene",
         "40.69673",
         "-73.97584",
         "Private room",
         "120",
         "7",
         "25",
         "2018-09-30 00:00:00",
         "0.23",
         "1.0",
         "311.0",
         "New York",
         "True",
         "120.0"
        ],
        [
         "43",
         "12318",
         "West Side Retreat",
         "16800",
         "Cyn",
         "Manhattan",
         "Upper West Side",
         "40.79009",
         "-73.97927",
         "Private room",
         "135",
         "4",
         "81",
         "2019-06-16 00:00:00",
         "0.69",
         "1.0",
         "273.0",
         "New York",
         "True",
         "135.0"
        ],
        [
         "44",
         "12343",
         "BEST BET IN HARLEM",
         "47727",
         "Earl",
         "Manhattan",
         "Harlem",
         "40.81175",
         "-73.94478",
         "Entire home/apt",
         "150",
         "7",
         "97",
         "2019-06-13 00:00:00",
         "0.84",
         "1.0",
         "309.0",
         "New York",
         "True",
         "150.0"
        ],
        [
         "45",
         "12627",
         "Entire apartment in central Brooklyn neighborhood.",
         "49670",
         "Rana",
         "Brooklyn",
         "Prospect-Lefferts Gardens",
         "40.65944",
         "-73.96238",
         "Entire home/apt",
         "150",
         "29",
         "11",
         "2019-06-05 00:00:00",
         "0.49",
         "1.0",
         "95.0",
         "New York",
         "True",
         "150.0"
        ],
        [
         "46",
         "12937",
         "1 Stop fr. Manhattan! Private Suite,Landmark Block",
         "50124",
         "Orestes",
         "Queens",
         "Long Island City",
         "40.74771",
         "-73.9474",
         "Private room",
         "130",
         "3",
         "248",
         "2019-07-01 00:00:00",
         "2.25",
         "1.0",
         "215.0",
         "New York",
         "True",
         "130.0"
        ],
        [
         "47",
         "12940",
         "Charming Brownstone 3 - Near PRATT",
         "50148",
         "Adreinne",
         "Brooklyn",
         "Bedford-Stuyvesant",
         "40.68111",
         "-73.95591",
         "Entire home/apt",
         "110",
         "7",
         "61",
         "2019-05-25 00:00:00",
         "0.52",
         "1.0",
         "265.0",
         "New York",
         "True",
         "110.0"
        ],
        [
         "48",
         "13050",
         "bright and stylish duplex",
         "50846",
         "Jennifer",
         "Brooklyn",
         "Bedford-Stuyvesant",
         "40.68554",
         "-73.9409",
         "Entire home/apt",
         "115",
         "3",
         "11",
         "2017-01-01 00:00:00",
         "0.1",
         "1.0",
         "0.0",
         "New York",
         "True",
         "115.0"
        ],
        [
         "49",
         "13394",
         "Fort Greene brownstone",
         "52335",
         "Alexander",
         "Brooklyn",
         "Fort Greene",
         "40.69142",
         "-73.97376",
         "Private room",
         "80",
         "3",
         "135",
         "2019-06-17 00:00:00",
         "1.16",
         "2.0",
         "192.0",
         "New York",
         "True",
         "80.0"
        ]
       ],
       "shape": {
        "columns": 19,
        "rows": 220031
       }
      },
      "text/html": [
       "<div>\n",
       "<style scoped>\n",
       "    .dataframe tbody tr th:only-of-type {\n",
       "        vertical-align: middle;\n",
       "    }\n",
       "\n",
       "    .dataframe tbody tr th {\n",
       "        vertical-align: top;\n",
       "    }\n",
       "\n",
       "    .dataframe thead th {\n",
       "        text-align: right;\n",
       "    }\n",
       "</style>\n",
       "<table border=\"1\" class=\"dataframe\">\n",
       "  <thead>\n",
       "    <tr style=\"text-align: right;\">\n",
       "      <th></th>\n",
       "      <th>id_announcement</th>\n",
       "      <th>title_announcement</th>\n",
       "      <th>host_id</th>\n",
       "      <th>host_name</th>\n",
       "      <th>neighbourhood_group</th>\n",
       "      <th>neighbourhood</th>\n",
       "      <th>latitude</th>\n",
       "      <th>longitude</th>\n",
       "      <th>room_type</th>\n",
       "      <th>price</th>\n",
       "      <th>minimum_nights</th>\n",
       "      <th>number_of_reviews</th>\n",
       "      <th>last_review</th>\n",
       "      <th>reviews_per_month</th>\n",
       "      <th>calculated_host_listings_count</th>\n",
       "      <th>availability_365</th>\n",
       "      <th>city</th>\n",
       "      <th>has_real_last_review</th>\n",
       "      <th>price_USD</th>\n",
       "    </tr>\n",
       "  </thead>\n",
       "  <tbody>\n",
       "    <tr>\n",
       "      <th>0</th>\n",
       "      <td>2539</td>\n",
       "      <td>Clean &amp; quiet apt home by the park</td>\n",
       "      <td>2787</td>\n",
       "      <td>John</td>\n",
       "      <td>Brooklyn</td>\n",
       "      <td>Kensington</td>\n",
       "      <td>40.64749</td>\n",
       "      <td>-73.97237</td>\n",
       "      <td>Private room</td>\n",
       "      <td>149</td>\n",
       "      <td>1</td>\n",
       "      <td>9</td>\n",
       "      <td>2018-10-19</td>\n",
       "      <td>0.21</td>\n",
       "      <td>6.0</td>\n",
       "      <td>365.0</td>\n",
       "      <td>New York</td>\n",
       "      <td>True</td>\n",
       "      <td>149.00</td>\n",
       "    </tr>\n",
       "    <tr>\n",
       "      <th>1</th>\n",
       "      <td>2595</td>\n",
       "      <td>Skylit Midtown Castle</td>\n",
       "      <td>2845</td>\n",
       "      <td>Jennifer</td>\n",
       "      <td>Manhattan</td>\n",
       "      <td>Midtown</td>\n",
       "      <td>40.75362</td>\n",
       "      <td>-73.98377</td>\n",
       "      <td>Entire home/apt</td>\n",
       "      <td>225</td>\n",
       "      <td>1</td>\n",
       "      <td>45</td>\n",
       "      <td>2019-05-21</td>\n",
       "      <td>0.38</td>\n",
       "      <td>2.0</td>\n",
       "      <td>355.0</td>\n",
       "      <td>New York</td>\n",
       "      <td>True</td>\n",
       "      <td>225.00</td>\n",
       "    </tr>\n",
       "    <tr>\n",
       "      <th>2</th>\n",
       "      <td>3647</td>\n",
       "      <td>THE VILLAGE OF HARLEM....NEW YORK !</td>\n",
       "      <td>4632</td>\n",
       "      <td>Elisabeth</td>\n",
       "      <td>Manhattan</td>\n",
       "      <td>Harlem</td>\n",
       "      <td>40.80902</td>\n",
       "      <td>-73.94190</td>\n",
       "      <td>Private room</td>\n",
       "      <td>150</td>\n",
       "      <td>3</td>\n",
       "      <td>0</td>\n",
       "      <td>1900-01-01</td>\n",
       "      <td>0.00</td>\n",
       "      <td>1.0</td>\n",
       "      <td>365.0</td>\n",
       "      <td>New York</td>\n",
       "      <td>False</td>\n",
       "      <td>150.00</td>\n",
       "    </tr>\n",
       "    <tr>\n",
       "      <th>3</th>\n",
       "      <td>3831</td>\n",
       "      <td>Cozy Entire Floor of Brownstone</td>\n",
       "      <td>4869</td>\n",
       "      <td>LisaRoxanne</td>\n",
       "      <td>Brooklyn</td>\n",
       "      <td>Clinton Hill</td>\n",
       "      <td>40.68514</td>\n",
       "      <td>-73.95976</td>\n",
       "      <td>Entire home/apt</td>\n",
       "      <td>89</td>\n",
       "      <td>1</td>\n",
       "      <td>270</td>\n",
       "      <td>2019-07-05</td>\n",
       "      <td>4.64</td>\n",
       "      <td>1.0</td>\n",
       "      <td>194.0</td>\n",
       "      <td>New York</td>\n",
       "      <td>True</td>\n",
       "      <td>89.00</td>\n",
       "    </tr>\n",
       "    <tr>\n",
       "      <th>4</th>\n",
       "      <td>5022</td>\n",
       "      <td>Entire Apt: Spacious Studio/Loft by central park</td>\n",
       "      <td>7192</td>\n",
       "      <td>Laura</td>\n",
       "      <td>Manhattan</td>\n",
       "      <td>East Harlem</td>\n",
       "      <td>40.79851</td>\n",
       "      <td>-73.94399</td>\n",
       "      <td>Entire home/apt</td>\n",
       "      <td>80</td>\n",
       "      <td>10</td>\n",
       "      <td>9</td>\n",
       "      <td>2018-11-19</td>\n",
       "      <td>0.10</td>\n",
       "      <td>1.0</td>\n",
       "      <td>0.0</td>\n",
       "      <td>New York</td>\n",
       "      <td>True</td>\n",
       "      <td>80.00</td>\n",
       "    </tr>\n",
       "    <tr>\n",
       "      <th>...</th>\n",
       "      <td>...</td>\n",
       "      <td>...</td>\n",
       "      <td>...</td>\n",
       "      <td>...</td>\n",
       "      <td>...</td>\n",
       "      <td>...</td>\n",
       "      <td>...</td>\n",
       "      <td>...</td>\n",
       "      <td>...</td>\n",
       "      <td>...</td>\n",
       "      <td>...</td>\n",
       "      <td>...</td>\n",
       "      <td>...</td>\n",
       "      <td>...</td>\n",
       "      <td>...</td>\n",
       "      <td>...</td>\n",
       "      <td>...</td>\n",
       "      <td>...</td>\n",
       "      <td>...</td>\n",
       "    </tr>\n",
       "    <tr>\n",
       "      <th>220026</th>\n",
       "      <td>49185822</td>\n",
       "      <td>Habitación con TV con Netflix en Lavapiés</td>\n",
       "      <td>172011610</td>\n",
       "      <td>Belaid</td>\n",
       "      <td>Centro</td>\n",
       "      <td>Embajadores</td>\n",
       "      <td>40.40756</td>\n",
       "      <td>-3.69937</td>\n",
       "      <td>Private room</td>\n",
       "      <td>23</td>\n",
       "      <td>30</td>\n",
       "      <td>0</td>\n",
       "      <td>1900-01-01</td>\n",
       "      <td>0.00</td>\n",
       "      <td>8.0</td>\n",
       "      <td>349.0</td>\n",
       "      <td>Madrid</td>\n",
       "      <td>False</td>\n",
       "      <td>27.56</td>\n",
       "    </tr>\n",
       "    <tr>\n",
       "      <th>220027</th>\n",
       "      <td>49186179</td>\n",
       "      <td>Habitación con TV con Netflix en Gaztambide</td>\n",
       "      <td>172011610</td>\n",
       "      <td>Belaid</td>\n",
       "      <td>Chamberí</td>\n",
       "      <td>Gaztambide</td>\n",
       "      <td>40.43706</td>\n",
       "      <td>-3.71364</td>\n",
       "      <td>Private room</td>\n",
       "      <td>21</td>\n",
       "      <td>30</td>\n",
       "      <td>0</td>\n",
       "      <td>1900-01-01</td>\n",
       "      <td>0.00</td>\n",
       "      <td>8.0</td>\n",
       "      <td>350.0</td>\n",
       "      <td>Madrid</td>\n",
       "      <td>False</td>\n",
       "      <td>25.16</td>\n",
       "    </tr>\n",
       "    <tr>\n",
       "      <th>220028</th>\n",
       "      <td>49187258</td>\n",
       "      <td>Habitación con TV con Netflix en Chamberí</td>\n",
       "      <td>172011610</td>\n",
       "      <td>Belaid</td>\n",
       "      <td>Chamberí</td>\n",
       "      <td>Arapiles</td>\n",
       "      <td>40.43857</td>\n",
       "      <td>-3.70715</td>\n",
       "      <td>Private room</td>\n",
       "      <td>22</td>\n",
       "      <td>7</td>\n",
       "      <td>0</td>\n",
       "      <td>1900-01-01</td>\n",
       "      <td>0.00</td>\n",
       "      <td>8.0</td>\n",
       "      <td>364.0</td>\n",
       "      <td>Madrid</td>\n",
       "      <td>False</td>\n",
       "      <td>26.36</td>\n",
       "    </tr>\n",
       "    <tr>\n",
       "      <th>220029</th>\n",
       "      <td>49187471</td>\n",
       "      <td>Habitación con TV con Netflix en Goya</td>\n",
       "      <td>172011610</td>\n",
       "      <td>Belaid</td>\n",
       "      <td>Salamanca</td>\n",
       "      <td>Guindalera</td>\n",
       "      <td>40.43027</td>\n",
       "      <td>-3.66759</td>\n",
       "      <td>Private room</td>\n",
       "      <td>19</td>\n",
       "      <td>30</td>\n",
       "      <td>0</td>\n",
       "      <td>1900-01-01</td>\n",
       "      <td>0.00</td>\n",
       "      <td>8.0</td>\n",
       "      <td>349.0</td>\n",
       "      <td>Madrid</td>\n",
       "      <td>False</td>\n",
       "      <td>22.76</td>\n",
       "    </tr>\n",
       "    <tr>\n",
       "      <th>220030</th>\n",
       "      <td>49187791</td>\n",
       "      <td>Habitación con TV con Netflix en Chamberí</td>\n",
       "      <td>172011610</td>\n",
       "      <td>Belaid</td>\n",
       "      <td>Chamberí</td>\n",
       "      <td>Arapiles</td>\n",
       "      <td>40.43484</td>\n",
       "      <td>-3.70667</td>\n",
       "      <td>Private room</td>\n",
       "      <td>20</td>\n",
       "      <td>30</td>\n",
       "      <td>0</td>\n",
       "      <td>1900-01-01</td>\n",
       "      <td>0.00</td>\n",
       "      <td>8.0</td>\n",
       "      <td>349.0</td>\n",
       "      <td>Madrid</td>\n",
       "      <td>False</td>\n",
       "      <td>23.96</td>\n",
       "    </tr>\n",
       "  </tbody>\n",
       "</table>\n",
       "<p>220031 rows × 19 columns</p>\n",
       "</div>"
      ],
      "text/plain": [
       "        id_announcement                                title_announcement    host_id    host_name neighbourhood_group neighbourhood  latitude  longitude        room_type  price  minimum_nights  number_of_reviews last_review  reviews_per_month  calculated_host_listings_count  availability_365      city  has_real_last_review  price_USD\n",
       "0                  2539                Clean & quiet apt home by the park       2787         John            Brooklyn    Kensington  40.64749  -73.97237     Private room    149               1                  9  2018-10-19               0.21                             6.0             365.0  New York                  True     149.00\n",
       "1                  2595                             Skylit Midtown Castle       2845     Jennifer           Manhattan       Midtown  40.75362  -73.98377  Entire home/apt    225               1                 45  2019-05-21               0.38                             2.0             355.0  New York                  True     225.00\n",
       "2                  3647               THE VILLAGE OF HARLEM....NEW YORK !       4632    Elisabeth           Manhattan        Harlem  40.80902  -73.94190     Private room    150               3                  0  1900-01-01               0.00                             1.0             365.0  New York                 False     150.00\n",
       "3                  3831                   Cozy Entire Floor of Brownstone       4869  LisaRoxanne            Brooklyn  Clinton Hill  40.68514  -73.95976  Entire home/apt     89               1                270  2019-07-05               4.64                             1.0             194.0  New York                  True      89.00\n",
       "4                  5022  Entire Apt: Spacious Studio/Loft by central park       7192        Laura           Manhattan   East Harlem  40.79851  -73.94399  Entire home/apt     80              10                  9  2018-11-19               0.10                             1.0               0.0  New York                  True      80.00\n",
       "...                 ...                                               ...        ...          ...                 ...           ...       ...        ...              ...    ...             ...                ...         ...                ...                             ...               ...       ...                   ...        ...\n",
       "220026         49185822         Habitación con TV con Netflix en Lavapiés  172011610       Belaid              Centro   Embajadores  40.40756   -3.69937     Private room     23              30                  0  1900-01-01               0.00                             8.0             349.0    Madrid                 False      27.56\n",
       "220027         49186179       Habitación con TV con Netflix en Gaztambide  172011610       Belaid            Chamberí    Gaztambide  40.43706   -3.71364     Private room     21              30                  0  1900-01-01               0.00                             8.0             350.0    Madrid                 False      25.16\n",
       "220028         49187258         Habitación con TV con Netflix en Chamberí  172011610       Belaid            Chamberí      Arapiles  40.43857   -3.70715     Private room     22               7                  0  1900-01-01               0.00                             8.0             364.0    Madrid                 False      26.36\n",
       "220029         49187471             Habitación con TV con Netflix en Goya  172011610       Belaid           Salamanca    Guindalera  40.43027   -3.66759     Private room     19              30                  0  1900-01-01               0.00                             8.0             349.0    Madrid                 False      22.76\n",
       "220030         49187791         Habitación con TV con Netflix en Chamberí  172011610       Belaid            Chamberí      Arapiles  40.43484   -3.70667     Private room     20              30                  0  1900-01-01               0.00                             8.0             349.0    Madrid                 False      23.96\n",
       "\n",
       "[220031 rows x 19 columns]"
      ]
     },
     "execution_count": 74,
     "metadata": {},
     "output_type": "execute_result"
    }
   ],
   "source": [
    "df_raw_1"
   ]
  },
  {
   "cell_type": "markdown",
   "metadata": {},
   "source": [
    "____\n",
    "####  <span style=\"color:#f6f794\">  <strong> 7️⃣ Checking for outliers  </strong> </span>"
   ]
  },
  {
   "cell_type": "code",
   "execution_count": null,
   "metadata": {},
   "outputs": [],
   "source": []
  },
  {
   "cell_type": "markdown",
   "metadata": {},
   "source": [
    "___\n",
    "___\n",
    "###   <span style=\"color:#f6f794\">  <strong>  8️⃣ Saving clean data  </strong></span>"
   ]
  },
  {
   "cell_type": "markdown",
   "metadata": {},
   "source": [
    "####  <span style=\"color:#f05593\"> Rearranging columns </span>"
   ]
  },
  {
   "cell_type": "code",
   "execution_count": 75,
   "metadata": {},
   "outputs": [],
   "source": [
    "# Re arranging columns and eliminating the original \"price\" column since we already have the converted prices in \"price_USD\"\n",
    "\n",
    "df_raw_1= df_raw_1[['id_announcement', 'title_announcement', 'host_id', 'host_name', 'city', 'neighbourhood_group', 'neighbourhood', 'latitude', 'longitude',  \n",
    "                     'room_type', 'minimum_nights', 'number_of_reviews', 'reviews_per_month', 'last_review', 'calculated_host_listings_count', 'availability_365', 'price_USD',]]"
   ]
  },
  {
   "cell_type": "code",
   "execution_count": 76,
   "metadata": {},
   "outputs": [
    {
     "data": {
      "application/vnd.microsoft.datawrangler.viewer.v0+json": {
       "columns": [
        {
         "name": "index",
         "rawType": "int64",
         "type": "integer"
        },
        {
         "name": "id_announcement",
         "rawType": "int64",
         "type": "integer"
        },
        {
         "name": "title_announcement",
         "rawType": "object",
         "type": "string"
        },
        {
         "name": "host_id",
         "rawType": "int64",
         "type": "integer"
        },
        {
         "name": "host_name",
         "rawType": "object",
         "type": "string"
        },
        {
         "name": "city",
         "rawType": "object",
         "type": "string"
        },
        {
         "name": "neighbourhood_group",
         "rawType": "object",
         "type": "string"
        },
        {
         "name": "neighbourhood",
         "rawType": "object",
         "type": "string"
        },
        {
         "name": "latitude",
         "rawType": "float64",
         "type": "float"
        },
        {
         "name": "longitude",
         "rawType": "float64",
         "type": "float"
        },
        {
         "name": "room_type",
         "rawType": "object",
         "type": "string"
        },
        {
         "name": "minimum_nights",
         "rawType": "int64",
         "type": "integer"
        },
        {
         "name": "number_of_reviews",
         "rawType": "int64",
         "type": "integer"
        },
        {
         "name": "reviews_per_month",
         "rawType": "float64",
         "type": "float"
        },
        {
         "name": "last_review",
         "rawType": "datetime64[ns]",
         "type": "datetime"
        },
        {
         "name": "calculated_host_listings_count",
         "rawType": "float64",
         "type": "float"
        },
        {
         "name": "availability_365",
         "rawType": "float64",
         "type": "float"
        },
        {
         "name": "price_USD",
         "rawType": "float64",
         "type": "float"
        }
       ],
       "ref": "8cd7193a-31ac-45f4-9d48-22acea2098f2",
       "rows": [
        [
         "0",
         "2539",
         "Clean & quiet apt home by the park",
         "2787",
         "John",
         "New York",
         "Brooklyn",
         "Kensington",
         "40.64749",
         "-73.97237",
         "Private room",
         "1",
         "9",
         "0.21",
         "2018-10-19 00:00:00",
         "6.0",
         "365.0",
         "149.0"
        ],
        [
         "1",
         "2595",
         "Skylit Midtown Castle",
         "2845",
         "Jennifer",
         "New York",
         "Manhattan",
         "Midtown",
         "40.75362",
         "-73.98377",
         "Entire home/apt",
         "1",
         "45",
         "0.38",
         "2019-05-21 00:00:00",
         "2.0",
         "355.0",
         "225.0"
        ],
        [
         "2",
         "3647",
         "THE VILLAGE OF HARLEM....NEW YORK !",
         "4632",
         "Elisabeth",
         "New York",
         "Manhattan",
         "Harlem",
         "40.80902",
         "-73.9419",
         "Private room",
         "3",
         "0",
         "0.0",
         "1900-01-01 00:00:00",
         "1.0",
         "365.0",
         "150.0"
        ],
        [
         "3",
         "3831",
         "Cozy Entire Floor of Brownstone",
         "4869",
         "LisaRoxanne",
         "New York",
         "Brooklyn",
         "Clinton Hill",
         "40.68514",
         "-73.95976",
         "Entire home/apt",
         "1",
         "270",
         "4.64",
         "2019-07-05 00:00:00",
         "1.0",
         "194.0",
         "89.0"
        ],
        [
         "4",
         "5022",
         "Entire Apt: Spacious Studio/Loft by central park",
         "7192",
         "Laura",
         "New York",
         "Manhattan",
         "East Harlem",
         "40.79851",
         "-73.94399",
         "Entire home/apt",
         "10",
         "9",
         "0.1",
         "2018-11-19 00:00:00",
         "1.0",
         "0.0",
         "80.0"
        ],
        [
         "5",
         "5099",
         "Large Cozy 1 BR Apartment In Midtown East",
         "7322",
         "Chris",
         "New York",
         "Manhattan",
         "Murray Hill",
         "40.74767",
         "-73.975",
         "Entire home/apt",
         "3",
         "74",
         "0.59",
         "2019-06-22 00:00:00",
         "1.0",
         "129.0",
         "200.0"
        ],
        [
         "6",
         "5121",
         "BlissArtsSpace!",
         "7356",
         "Garon",
         "New York",
         "Brooklyn",
         "Bedford-Stuyvesant",
         "40.68688",
         "-73.95596",
         "Private room",
         "45",
         "49",
         "0.4",
         "2017-10-05 00:00:00",
         "1.0",
         "0.0",
         "60.0"
        ],
        [
         "7",
         "5178",
         "Large Furnished Room Near B'way",
         "8967",
         "Shunichi",
         "New York",
         "Manhattan",
         "Hell's Kitchen",
         "40.76489",
         "-73.98493",
         "Private room",
         "2",
         "430",
         "3.47",
         "2019-06-24 00:00:00",
         "1.0",
         "220.0",
         "79.0"
        ],
        [
         "8",
         "5203",
         "Cozy Clean Guest Room - Family Apt",
         "7490",
         "MaryEllen",
         "New York",
         "Manhattan",
         "Upper West Side",
         "40.80178",
         "-73.96723",
         "Private room",
         "2",
         "118",
         "0.99",
         "2017-07-21 00:00:00",
         "1.0",
         "0.0",
         "79.0"
        ],
        [
         "9",
         "5238",
         "Cute & Cozy Lower East Side 1 bdrm",
         "7549",
         "Ben",
         "New York",
         "Manhattan",
         "Chinatown",
         "40.71344",
         "-73.99037",
         "Entire home/apt",
         "1",
         "160",
         "1.33",
         "2019-06-09 00:00:00",
         "4.0",
         "188.0",
         "150.0"
        ],
        [
         "10",
         "5295",
         "Beautiful 1br on Upper West Side",
         "7702",
         "Lena",
         "New York",
         "Manhattan",
         "Upper West Side",
         "40.80316",
         "-73.96545",
         "Entire home/apt",
         "5",
         "53",
         "0.43",
         "2019-06-22 00:00:00",
         "1.0",
         "6.0",
         "135.0"
        ],
        [
         "11",
         "5441",
         "Central Manhattan/near Broadway",
         "7989",
         "Kate",
         "New York",
         "Manhattan",
         "Hell's Kitchen",
         "40.76076",
         "-73.98867",
         "Private room",
         "2",
         "188",
         "1.5",
         "2019-06-23 00:00:00",
         "1.0",
         "39.0",
         "85.0"
        ],
        [
         "12",
         "5803",
         "Lovely Room 1, Garden, Best Area, Legal rental",
         "9744",
         "Laurie",
         "New York",
         "Brooklyn",
         "South Slope",
         "40.66829",
         "-73.98779",
         "Private room",
         "4",
         "167",
         "1.34",
         "2019-06-24 00:00:00",
         "3.0",
         "314.0",
         "89.0"
        ],
        [
         "13",
         "6021",
         "Wonderful Guest Bedroom in Manhattan for SINGLES",
         "11528",
         "Claudio",
         "New York",
         "Manhattan",
         "Upper West Side",
         "40.79826",
         "-73.96113",
         "Private room",
         "2",
         "113",
         "0.91",
         "2019-07-05 00:00:00",
         "1.0",
         "333.0",
         "85.0"
        ],
        [
         "14",
         "6090",
         "West Village Nest - Superhost",
         "11975",
         "Alina",
         "New York",
         "Manhattan",
         "West Village",
         "40.7353",
         "-74.00525",
         "Entire home/apt",
         "90",
         "27",
         "0.22",
         "2018-10-31 00:00:00",
         "1.0",
         "0.0",
         "120.0"
        ],
        [
         "15",
         "6848",
         "Only 2 stops to Manhattan studio",
         "15991",
         "Allen & Irina",
         "New York",
         "Brooklyn",
         "Williamsburg",
         "40.70837",
         "-73.95352",
         "Entire home/apt",
         "2",
         "148",
         "1.2",
         "2019-06-29 00:00:00",
         "1.0",
         "46.0",
         "140.0"
        ],
        [
         "16",
         "7097",
         "Perfect for Your Parents + Garden",
         "17571",
         "Jane",
         "New York",
         "Brooklyn",
         "Fort Greene",
         "40.69169",
         "-73.97185",
         "Entire home/apt",
         "2",
         "198",
         "1.72",
         "2019-06-28 00:00:00",
         "1.0",
         "321.0",
         "215.0"
        ],
        [
         "17",
         "7322",
         "Chelsea Perfect",
         "18946",
         "Doti",
         "New York",
         "Manhattan",
         "Chelsea",
         "40.74192",
         "-73.99501",
         "Private room",
         "1",
         "260",
         "2.12",
         "2019-07-01 00:00:00",
         "1.0",
         "12.0",
         "140.0"
        ],
        [
         "18",
         "7726",
         "Hip Historic Brownstone Apartment with Backyard",
         "20950",
         "Adam And Charity",
         "New York",
         "Brooklyn",
         "Crown Heights",
         "40.67592",
         "-73.94694",
         "Entire home/apt",
         "3",
         "53",
         "4.44",
         "2019-06-22 00:00:00",
         "1.0",
         "21.0",
         "99.0"
        ],
        [
         "19",
         "7750",
         "Huge 2 BR Upper East Cental Park",
         "17985",
         "Sing",
         "New York",
         "Manhattan",
         "East Harlem",
         "40.79685",
         "-73.94872",
         "Entire home/apt",
         "7",
         "0",
         "0.0",
         "1900-01-01 00:00:00",
         "2.0",
         "249.0",
         "190.0"
        ],
        [
         "20",
         "7801",
         "Sweet and Spacious Brooklyn Loft",
         "21207",
         "Chaya",
         "New York",
         "Brooklyn",
         "Williamsburg",
         "40.71842",
         "-73.95718",
         "Entire home/apt",
         "3",
         "9",
         "0.07",
         "2011-12-28 00:00:00",
         "1.0",
         "0.0",
         "299.0"
        ],
        [
         "21",
         "8024",
         "CBG CtyBGd HelpsHaiti rm#1:1-4",
         "22486",
         "Lisel",
         "New York",
         "Brooklyn",
         "Park Slope",
         "40.68069",
         "-73.97706",
         "Private room",
         "2",
         "130",
         "1.09",
         "2019-07-01 00:00:00",
         "6.0",
         "347.0",
         "130.0"
        ],
        [
         "22",
         "8025",
         "CBG Helps Haiti Room#2.5",
         "22486",
         "Lisel",
         "New York",
         "Brooklyn",
         "Park Slope",
         "40.67989",
         "-73.97798",
         "Private room",
         "1",
         "39",
         "0.37",
         "2019-01-01 00:00:00",
         "6.0",
         "364.0",
         "80.0"
        ],
        [
         "23",
         "8110",
         "CBG Helps Haiti Rm #2",
         "22486",
         "Lisel",
         "New York",
         "Brooklyn",
         "Park Slope",
         "40.68001",
         "-73.97865",
         "Private room",
         "2",
         "71",
         "0.61",
         "2019-07-02 00:00:00",
         "6.0",
         "304.0",
         "110.0"
        ],
        [
         "24",
         "8490",
         "MAISON DES SIRENES1,bohemian apartment",
         "25183",
         "Nathalie",
         "New York",
         "Brooklyn",
         "Bedford-Stuyvesant",
         "40.68371",
         "-73.94028",
         "Entire home/apt",
         "2",
         "88",
         "0.73",
         "2019-06-19 00:00:00",
         "2.0",
         "233.0",
         "120.0"
        ],
        [
         "25",
         "8505",
         "Sunny Bedroom Across Prospect Park",
         "25326",
         "Gregory",
         "New York",
         "Brooklyn",
         "Windsor Terrace",
         "40.65599",
         "-73.97519",
         "Private room",
         "1",
         "19",
         "1.37",
         "2019-06-23 00:00:00",
         "2.0",
         "85.0",
         "60.0"
        ],
        [
         "26",
         "8700",
         "Magnifique Suite au N de Manhattan - vue Cloitres",
         "26394",
         "Claude & Sophie",
         "New York",
         "Manhattan",
         "Inwood",
         "40.86754",
         "-73.92639",
         "Private room",
         "4",
         "0",
         "0.0",
         "1900-01-01 00:00:00",
         "1.0",
         "0.0",
         "80.0"
        ],
        [
         "27",
         "9357",
         "Midtown Pied-a-terre",
         "30193",
         "Tommi",
         "New York",
         "Manhattan",
         "Hell's Kitchen",
         "40.76715",
         "-73.98533",
         "Entire home/apt",
         "10",
         "58",
         "0.49",
         "2017-08-13 00:00:00",
         "1.0",
         "75.0",
         "150.0"
        ],
        [
         "28",
         "9518",
         "SPACIOUS, LOVELY FURNISHED MANHATTAN BEDROOM",
         "31374",
         "Shon",
         "New York",
         "Manhattan",
         "Inwood",
         "40.86482",
         "-73.92106",
         "Private room",
         "3",
         "108",
         "1.11",
         "2019-06-15 00:00:00",
         "3.0",
         "311.0",
         "44.0"
        ],
        [
         "29",
         "9657",
         "Modern 1 BR / NYC / EAST VILLAGE",
         "21904",
         "Dana",
         "New York",
         "Manhattan",
         "East Village",
         "40.7292",
         "-73.98542",
         "Entire home/apt",
         "14",
         "29",
         "0.24",
         "2019-04-19 00:00:00",
         "1.0",
         "67.0",
         "180.0"
        ],
        [
         "30",
         "9668",
         "front room/double bed",
         "32294",
         "Ssameer Or Trip",
         "New York",
         "Manhattan",
         "Harlem",
         "40.82245",
         "-73.95104",
         "Private room",
         "3",
         "242",
         "2.04",
         "2019-06-01 00:00:00",
         "3.0",
         "355.0",
         "50.0"
        ],
        [
         "31",
         "9704",
         "Spacious 1 bedroom in luxe building",
         "32045",
         "Teri",
         "New York",
         "Manhattan",
         "Harlem",
         "40.81305",
         "-73.95466",
         "Private room",
         "2",
         "88",
         "1.42",
         "2019-06-14 00:00:00",
         "1.0",
         "255.0",
         "52.0"
        ],
        [
         "32",
         "9782",
         "Loft in Williamsburg Area w/ Roof",
         "32169",
         "Andrea",
         "New York",
         "Brooklyn",
         "Greenpoint",
         "40.72219",
         "-73.93762",
         "Private room",
         "4",
         "197",
         "1.65",
         "2019-06-15 00:00:00",
         "3.0",
         "284.0",
         "55.0"
        ],
        [
         "33",
         "9783",
         "back room/bunk beds",
         "32294",
         "Ssameer Or Trip",
         "New York",
         "Manhattan",
         "Harlem",
         "40.8213",
         "-73.95318",
         "Private room",
         "3",
         "273",
         "2.37",
         "2019-07-01 00:00:00",
         "3.0",
         "359.0",
         "50.0"
        ],
        [
         "34",
         "10452",
         "Large B&B Style rooms",
         "35935",
         "Angela",
         "New York",
         "Brooklyn",
         "Bedford-Stuyvesant",
         "40.6831",
         "-73.95473",
         "Private room",
         "1",
         "74",
         "0.66",
         "2019-05-12 00:00:00",
         "2.0",
         "269.0",
         "70.0"
        ],
        [
         "35",
         "10962",
         "Lovely room 2 & garden; Best area, Legal rental",
         "9744",
         "Laurie",
         "New York",
         "Brooklyn",
         "South Slope",
         "40.66869",
         "-73.9878",
         "Private room",
         "4",
         "168",
         "1.41",
         "2019-06-21 00:00:00",
         "3.0",
         "340.0",
         "89.0"
        ],
        [
         "36",
         "11452",
         "Clean and Quiet in Brooklyn",
         "7355",
         "Vt",
         "New York",
         "Brooklyn",
         "Bedford-Stuyvesant",
         "40.68876",
         "-73.94312",
         "Private room",
         "60",
         "0",
         "0.0",
         "1900-01-01 00:00:00",
         "1.0",
         "365.0",
         "35.0"
        ],
        [
         "37",
         "11708",
         "Cute apt in artist's home",
         "44145",
         "Tyrome",
         "New York",
         "Brooklyn",
         "Bushwick",
         "40.70186",
         "-73.92745",
         "Entire home/apt",
         "2",
         "231",
         "1.96",
         "2019-06-22 00:00:00",
         "2.0",
         "22.0",
         "85.0"
        ],
        [
         "38",
         "11943",
         "Country space in the city",
         "45445",
         "Harriet",
         "New York",
         "Brooklyn",
         "Flatbush",
         "40.63702",
         "-73.96327",
         "Private room",
         "1",
         "0",
         "0.0",
         "1900-01-01 00:00:00",
         "1.0",
         "365.0",
         "150.0"
        ],
        [
         "39",
         "12048",
         "LowerEastSide apt share shortterm 1",
         "7549",
         "Ben",
         "New York",
         "Manhattan",
         "Lower East Side",
         "40.71401",
         "-73.98917",
         "Shared room",
         "1",
         "214",
         "1.81",
         "2019-07-05 00:00:00",
         "4.0",
         "188.0",
         "40.0"
        ],
        [
         "40",
         "12192",
         "ENJOY Downtown NYC!",
         "46978",
         "Edward",
         "New York",
         "Manhattan",
         "East Village",
         "40.7229",
         "-73.98199",
         "Private room",
         "2",
         "245",
         "2.08",
         "2019-06-21 00:00:00",
         "2.0",
         "96.0",
         "68.0"
        ],
        [
         "41",
         "12299",
         "Beautiful Sunny Park Slope Brooklyn",
         "47610",
         "Abdul",
         "New York",
         "Brooklyn",
         "South Slope",
         "40.66278",
         "-73.97966",
         "Entire home/apt",
         "3",
         "15",
         "0.39",
         "2019-05-27 00:00:00",
         "1.0",
         "345.0",
         "120.0"
        ],
        [
         "42",
         "12303",
         "1bdr w private bath. in lofty apt",
         "47618",
         "Yolande",
         "New York",
         "Brooklyn",
         "Fort Greene",
         "40.69673",
         "-73.97584",
         "Private room",
         "7",
         "25",
         "0.23",
         "2018-09-30 00:00:00",
         "1.0",
         "311.0",
         "120.0"
        ],
        [
         "43",
         "12318",
         "West Side Retreat",
         "16800",
         "Cyn",
         "New York",
         "Manhattan",
         "Upper West Side",
         "40.79009",
         "-73.97927",
         "Private room",
         "4",
         "81",
         "0.69",
         "2019-06-16 00:00:00",
         "1.0",
         "273.0",
         "135.0"
        ],
        [
         "44",
         "12343",
         "BEST BET IN HARLEM",
         "47727",
         "Earl",
         "New York",
         "Manhattan",
         "Harlem",
         "40.81175",
         "-73.94478",
         "Entire home/apt",
         "7",
         "97",
         "0.84",
         "2019-06-13 00:00:00",
         "1.0",
         "309.0",
         "150.0"
        ],
        [
         "45",
         "12627",
         "Entire apartment in central Brooklyn neighborhood.",
         "49670",
         "Rana",
         "New York",
         "Brooklyn",
         "Prospect-Lefferts Gardens",
         "40.65944",
         "-73.96238",
         "Entire home/apt",
         "29",
         "11",
         "0.49",
         "2019-06-05 00:00:00",
         "1.0",
         "95.0",
         "150.0"
        ],
        [
         "46",
         "12937",
         "1 Stop fr. Manhattan! Private Suite,Landmark Block",
         "50124",
         "Orestes",
         "New York",
         "Queens",
         "Long Island City",
         "40.74771",
         "-73.9474",
         "Private room",
         "3",
         "248",
         "2.25",
         "2019-07-01 00:00:00",
         "1.0",
         "215.0",
         "130.0"
        ],
        [
         "47",
         "12940",
         "Charming Brownstone 3 - Near PRATT",
         "50148",
         "Adreinne",
         "New York",
         "Brooklyn",
         "Bedford-Stuyvesant",
         "40.68111",
         "-73.95591",
         "Entire home/apt",
         "7",
         "61",
         "0.52",
         "2019-05-25 00:00:00",
         "1.0",
         "265.0",
         "110.0"
        ],
        [
         "48",
         "13050",
         "bright and stylish duplex",
         "50846",
         "Jennifer",
         "New York",
         "Brooklyn",
         "Bedford-Stuyvesant",
         "40.68554",
         "-73.9409",
         "Entire home/apt",
         "3",
         "11",
         "0.1",
         "2017-01-01 00:00:00",
         "1.0",
         "0.0",
         "115.0"
        ],
        [
         "49",
         "13394",
         "Fort Greene brownstone",
         "52335",
         "Alexander",
         "New York",
         "Brooklyn",
         "Fort Greene",
         "40.69142",
         "-73.97376",
         "Private room",
         "3",
         "135",
         "1.16",
         "2019-06-17 00:00:00",
         "2.0",
         "192.0",
         "80.0"
        ]
       ],
       "shape": {
        "columns": 17,
        "rows": 220031
       }
      },
      "text/html": [
       "<div>\n",
       "<style scoped>\n",
       "    .dataframe tbody tr th:only-of-type {\n",
       "        vertical-align: middle;\n",
       "    }\n",
       "\n",
       "    .dataframe tbody tr th {\n",
       "        vertical-align: top;\n",
       "    }\n",
       "\n",
       "    .dataframe thead th {\n",
       "        text-align: right;\n",
       "    }\n",
       "</style>\n",
       "<table border=\"1\" class=\"dataframe\">\n",
       "  <thead>\n",
       "    <tr style=\"text-align: right;\">\n",
       "      <th></th>\n",
       "      <th>id_announcement</th>\n",
       "      <th>title_announcement</th>\n",
       "      <th>host_id</th>\n",
       "      <th>host_name</th>\n",
       "      <th>city</th>\n",
       "      <th>neighbourhood_group</th>\n",
       "      <th>neighbourhood</th>\n",
       "      <th>latitude</th>\n",
       "      <th>longitude</th>\n",
       "      <th>room_type</th>\n",
       "      <th>minimum_nights</th>\n",
       "      <th>number_of_reviews</th>\n",
       "      <th>reviews_per_month</th>\n",
       "      <th>last_review</th>\n",
       "      <th>calculated_host_listings_count</th>\n",
       "      <th>availability_365</th>\n",
       "      <th>price_USD</th>\n",
       "    </tr>\n",
       "  </thead>\n",
       "  <tbody>\n",
       "    <tr>\n",
       "      <th>0</th>\n",
       "      <td>2539</td>\n",
       "      <td>Clean &amp; quiet apt home by the park</td>\n",
       "      <td>2787</td>\n",
       "      <td>John</td>\n",
       "      <td>New York</td>\n",
       "      <td>Brooklyn</td>\n",
       "      <td>Kensington</td>\n",
       "      <td>40.64749</td>\n",
       "      <td>-73.97237</td>\n",
       "      <td>Private room</td>\n",
       "      <td>1</td>\n",
       "      <td>9</td>\n",
       "      <td>0.21</td>\n",
       "      <td>2018-10-19</td>\n",
       "      <td>6.0</td>\n",
       "      <td>365.0</td>\n",
       "      <td>149.00</td>\n",
       "    </tr>\n",
       "    <tr>\n",
       "      <th>1</th>\n",
       "      <td>2595</td>\n",
       "      <td>Skylit Midtown Castle</td>\n",
       "      <td>2845</td>\n",
       "      <td>Jennifer</td>\n",
       "      <td>New York</td>\n",
       "      <td>Manhattan</td>\n",
       "      <td>Midtown</td>\n",
       "      <td>40.75362</td>\n",
       "      <td>-73.98377</td>\n",
       "      <td>Entire home/apt</td>\n",
       "      <td>1</td>\n",
       "      <td>45</td>\n",
       "      <td>0.38</td>\n",
       "      <td>2019-05-21</td>\n",
       "      <td>2.0</td>\n",
       "      <td>355.0</td>\n",
       "      <td>225.00</td>\n",
       "    </tr>\n",
       "    <tr>\n",
       "      <th>2</th>\n",
       "      <td>3647</td>\n",
       "      <td>THE VILLAGE OF HARLEM....NEW YORK !</td>\n",
       "      <td>4632</td>\n",
       "      <td>Elisabeth</td>\n",
       "      <td>New York</td>\n",
       "      <td>Manhattan</td>\n",
       "      <td>Harlem</td>\n",
       "      <td>40.80902</td>\n",
       "      <td>-73.94190</td>\n",
       "      <td>Private room</td>\n",
       "      <td>3</td>\n",
       "      <td>0</td>\n",
       "      <td>0.00</td>\n",
       "      <td>1900-01-01</td>\n",
       "      <td>1.0</td>\n",
       "      <td>365.0</td>\n",
       "      <td>150.00</td>\n",
       "    </tr>\n",
       "    <tr>\n",
       "      <th>3</th>\n",
       "      <td>3831</td>\n",
       "      <td>Cozy Entire Floor of Brownstone</td>\n",
       "      <td>4869</td>\n",
       "      <td>LisaRoxanne</td>\n",
       "      <td>New York</td>\n",
       "      <td>Brooklyn</td>\n",
       "      <td>Clinton Hill</td>\n",
       "      <td>40.68514</td>\n",
       "      <td>-73.95976</td>\n",
       "      <td>Entire home/apt</td>\n",
       "      <td>1</td>\n",
       "      <td>270</td>\n",
       "      <td>4.64</td>\n",
       "      <td>2019-07-05</td>\n",
       "      <td>1.0</td>\n",
       "      <td>194.0</td>\n",
       "      <td>89.00</td>\n",
       "    </tr>\n",
       "    <tr>\n",
       "      <th>4</th>\n",
       "      <td>5022</td>\n",
       "      <td>Entire Apt: Spacious Studio/Loft by central park</td>\n",
       "      <td>7192</td>\n",
       "      <td>Laura</td>\n",
       "      <td>New York</td>\n",
       "      <td>Manhattan</td>\n",
       "      <td>East Harlem</td>\n",
       "      <td>40.79851</td>\n",
       "      <td>-73.94399</td>\n",
       "      <td>Entire home/apt</td>\n",
       "      <td>10</td>\n",
       "      <td>9</td>\n",
       "      <td>0.10</td>\n",
       "      <td>2018-11-19</td>\n",
       "      <td>1.0</td>\n",
       "      <td>0.0</td>\n",
       "      <td>80.00</td>\n",
       "    </tr>\n",
       "    <tr>\n",
       "      <th>...</th>\n",
       "      <td>...</td>\n",
       "      <td>...</td>\n",
       "      <td>...</td>\n",
       "      <td>...</td>\n",
       "      <td>...</td>\n",
       "      <td>...</td>\n",
       "      <td>...</td>\n",
       "      <td>...</td>\n",
       "      <td>...</td>\n",
       "      <td>...</td>\n",
       "      <td>...</td>\n",
       "      <td>...</td>\n",
       "      <td>...</td>\n",
       "      <td>...</td>\n",
       "      <td>...</td>\n",
       "      <td>...</td>\n",
       "      <td>...</td>\n",
       "    </tr>\n",
       "    <tr>\n",
       "      <th>220026</th>\n",
       "      <td>49185822</td>\n",
       "      <td>Habitación con TV con Netflix en Lavapiés</td>\n",
       "      <td>172011610</td>\n",
       "      <td>Belaid</td>\n",
       "      <td>Madrid</td>\n",
       "      <td>Centro</td>\n",
       "      <td>Embajadores</td>\n",
       "      <td>40.40756</td>\n",
       "      <td>-3.69937</td>\n",
       "      <td>Private room</td>\n",
       "      <td>30</td>\n",
       "      <td>0</td>\n",
       "      <td>0.00</td>\n",
       "      <td>1900-01-01</td>\n",
       "      <td>8.0</td>\n",
       "      <td>349.0</td>\n",
       "      <td>27.56</td>\n",
       "    </tr>\n",
       "    <tr>\n",
       "      <th>220027</th>\n",
       "      <td>49186179</td>\n",
       "      <td>Habitación con TV con Netflix en Gaztambide</td>\n",
       "      <td>172011610</td>\n",
       "      <td>Belaid</td>\n",
       "      <td>Madrid</td>\n",
       "      <td>Chamberí</td>\n",
       "      <td>Gaztambide</td>\n",
       "      <td>40.43706</td>\n",
       "      <td>-3.71364</td>\n",
       "      <td>Private room</td>\n",
       "      <td>30</td>\n",
       "      <td>0</td>\n",
       "      <td>0.00</td>\n",
       "      <td>1900-01-01</td>\n",
       "      <td>8.0</td>\n",
       "      <td>350.0</td>\n",
       "      <td>25.16</td>\n",
       "    </tr>\n",
       "    <tr>\n",
       "      <th>220028</th>\n",
       "      <td>49187258</td>\n",
       "      <td>Habitación con TV con Netflix en Chamberí</td>\n",
       "      <td>172011610</td>\n",
       "      <td>Belaid</td>\n",
       "      <td>Madrid</td>\n",
       "      <td>Chamberí</td>\n",
       "      <td>Arapiles</td>\n",
       "      <td>40.43857</td>\n",
       "      <td>-3.70715</td>\n",
       "      <td>Private room</td>\n",
       "      <td>7</td>\n",
       "      <td>0</td>\n",
       "      <td>0.00</td>\n",
       "      <td>1900-01-01</td>\n",
       "      <td>8.0</td>\n",
       "      <td>364.0</td>\n",
       "      <td>26.36</td>\n",
       "    </tr>\n",
       "    <tr>\n",
       "      <th>220029</th>\n",
       "      <td>49187471</td>\n",
       "      <td>Habitación con TV con Netflix en Goya</td>\n",
       "      <td>172011610</td>\n",
       "      <td>Belaid</td>\n",
       "      <td>Madrid</td>\n",
       "      <td>Salamanca</td>\n",
       "      <td>Guindalera</td>\n",
       "      <td>40.43027</td>\n",
       "      <td>-3.66759</td>\n",
       "      <td>Private room</td>\n",
       "      <td>30</td>\n",
       "      <td>0</td>\n",
       "      <td>0.00</td>\n",
       "      <td>1900-01-01</td>\n",
       "      <td>8.0</td>\n",
       "      <td>349.0</td>\n",
       "      <td>22.76</td>\n",
       "    </tr>\n",
       "    <tr>\n",
       "      <th>220030</th>\n",
       "      <td>49187791</td>\n",
       "      <td>Habitación con TV con Netflix en Chamberí</td>\n",
       "      <td>172011610</td>\n",
       "      <td>Belaid</td>\n",
       "      <td>Madrid</td>\n",
       "      <td>Chamberí</td>\n",
       "      <td>Arapiles</td>\n",
       "      <td>40.43484</td>\n",
       "      <td>-3.70667</td>\n",
       "      <td>Private room</td>\n",
       "      <td>30</td>\n",
       "      <td>0</td>\n",
       "      <td>0.00</td>\n",
       "      <td>1900-01-01</td>\n",
       "      <td>8.0</td>\n",
       "      <td>349.0</td>\n",
       "      <td>23.96</td>\n",
       "    </tr>\n",
       "  </tbody>\n",
       "</table>\n",
       "<p>220031 rows × 17 columns</p>\n",
       "</div>"
      ],
      "text/plain": [
       "        id_announcement                                title_announcement    host_id    host_name      city neighbourhood_group neighbourhood  latitude  longitude        room_type  minimum_nights  number_of_reviews  reviews_per_month last_review  calculated_host_listings_count  availability_365  price_USD\n",
       "0                  2539                Clean & quiet apt home by the park       2787         John  New York            Brooklyn    Kensington  40.64749  -73.97237     Private room               1                  9               0.21  2018-10-19                             6.0             365.0     149.00\n",
       "1                  2595                             Skylit Midtown Castle       2845     Jennifer  New York           Manhattan       Midtown  40.75362  -73.98377  Entire home/apt               1                 45               0.38  2019-05-21                             2.0             355.0     225.00\n",
       "2                  3647               THE VILLAGE OF HARLEM....NEW YORK !       4632    Elisabeth  New York           Manhattan        Harlem  40.80902  -73.94190     Private room               3                  0               0.00  1900-01-01                             1.0             365.0     150.00\n",
       "3                  3831                   Cozy Entire Floor of Brownstone       4869  LisaRoxanne  New York            Brooklyn  Clinton Hill  40.68514  -73.95976  Entire home/apt               1                270               4.64  2019-07-05                             1.0             194.0      89.00\n",
       "4                  5022  Entire Apt: Spacious Studio/Loft by central park       7192        Laura  New York           Manhattan   East Harlem  40.79851  -73.94399  Entire home/apt              10                  9               0.10  2018-11-19                             1.0               0.0      80.00\n",
       "...                 ...                                               ...        ...          ...       ...                 ...           ...       ...        ...              ...             ...                ...                ...         ...                             ...               ...        ...\n",
       "220026         49185822         Habitación con TV con Netflix en Lavapiés  172011610       Belaid    Madrid              Centro   Embajadores  40.40756   -3.69937     Private room              30                  0               0.00  1900-01-01                             8.0             349.0      27.56\n",
       "220027         49186179       Habitación con TV con Netflix en Gaztambide  172011610       Belaid    Madrid            Chamberí    Gaztambide  40.43706   -3.71364     Private room              30                  0               0.00  1900-01-01                             8.0             350.0      25.16\n",
       "220028         49187258         Habitación con TV con Netflix en Chamberí  172011610       Belaid    Madrid            Chamberí      Arapiles  40.43857   -3.70715     Private room               7                  0               0.00  1900-01-01                             8.0             364.0      26.36\n",
       "220029         49187471             Habitación con TV con Netflix en Goya  172011610       Belaid    Madrid           Salamanca    Guindalera  40.43027   -3.66759     Private room              30                  0               0.00  1900-01-01                             8.0             349.0      22.76\n",
       "220030         49187791         Habitación con TV con Netflix en Chamberí  172011610       Belaid    Madrid            Chamberí      Arapiles  40.43484   -3.70667     Private room              30                  0               0.00  1900-01-01                             8.0             349.0      23.96\n",
       "\n",
       "[220031 rows x 17 columns]"
      ]
     },
     "execution_count": 76,
     "metadata": {},
     "output_type": "execute_result"
    }
   ],
   "source": [
    "df_raw_1"
   ]
  },
  {
   "cell_type": "markdown",
   "metadata": {},
   "source": [
    "#### <span style=\"color:#f05593\"> Saving CSV in GitHub compressed </span>"
   ]
  },
  {
   "cell_type": "code",
   "execution_count": 77,
   "metadata": {},
   "outputs": [
    {
     "name": "stdout",
     "output_type": "stream",
     "text": [
      "✅ Data saved successfully at c:\\Users\\yaelp\\Desktop\\Yael\\Bootcamp_FactoriaF5_IA_Promo4\\Proyectos\\Grupales\\Airbnb-Analysis\\data\\airbnb_cleaned.csv.gz\n"
     ]
    }
   ],
   "source": [
    "# Saving data in cleaning_file_path and in GitHub so it can be used in the next steps and the rest of the team can access it\n",
    "cleaning_file_path = os.path.join(data_dir, \"airbnb_cleaned.csv.gz\")\n",
    "\n",
    "# Saving the cleaned DataFrame to a compressed CSV file\n",
    "df_raw_1.to_csv(\n",
    "    cleaning_file_path,\n",
    "    index=False,\n",
    "    compression='gzip',\n",
    "    sep=',',                  # Crucial: Specify delimiter even for compressed\n",
    "    encoding='utf-8',         # Crucial: Specify encoding\n",
    "    quoting=csv.QUOTE_MINIMAL # Crucial: Specify quoting behavior\n",
    ")\n",
    "print(f\"✅ Data saved successfully at {cleaning_file_path}\")"
   ]
  },
  {
   "cell_type": "markdown",
   "metadata": {},
   "source": [
    "___\n",
    "\n",
    "###   <span style=\"color:#f6f794\">  <strong>  9️⃣ Report  </strong></span>"
   ]
  },
  {
   "cell_type": "markdown",
   "metadata": {},
   "source": [
    "####   <span style=\"color:#f05593\"> Dictionary updated: </span>\n",
    "\n",
    "\n",
    "| Column Name                       | Meaning                                                                                                                                                |\n",
    "|----------------------------------|---------------------------------------------------------------------------------------------------------------------------------------------------------|\n",
    "| `id_announcement`                | Unique ID of the Airbnb listing.                                                                                                                        |\n",
    "| `title_announcement`             | Title or headline of the listing, written by the host.                                                                                                  |\n",
    "| `host_id`                        | Unique ID of the host.                                                                                                                                  |\n",
    "| `host_name`                      | Name of the person who hosts the Airbnb.                                                                                                                |\n",
    "| `city`                           | City where the Airbnb is located.                                                                                                                       |\n",
    "| `neighbourhood_group`            | Higher-level administrative division within the city, such as a borough or district. For example, in New York, this could be \"Brooklyn\".                |\n",
    "| `neighbourhood`                  | Smaller area or locality within a neighbourhood_group, such as a residential or historical zone. For example, \"Kensington\" within \"Brooklyn\".           |\n",
    "| `latitude`                       | Latitude coordinate of the listing's location.                                                                                                          |\n",
    "| `longitude`                      | Longitude coordinate of the listing's location.                                                                                                         |\n",
    "| `room_type`                      | Type of accommodation offered (e.g., Entire home/apt, Private room, Shared room).                                                                       |\n",
    "| `minimum_nights`                 | Minimum number of nights a guest must book according to the host’s rules.                                                                               |\n",
    "| `number_of_reviews`              | Total number of reviews received for this listing.                                                                                                      |\n",
    "| `reviews_per_month`              | Average number of reviews received per month.                                                                                                           |\n",
    "| `calculated_host_listings_count` | Number of active listings owned by the same host at the time of data collection. Helps indicate whether a host is casual or runs multiple listings.     |\n",
    "| `availability_365`               | Number of days the listing is available for booking in a year (out of 365).                                                                             |\n",
    "| `price_USD`                      | Price per night in USD, converted based on exchange rate as of April 17, 2021.                                                                          |"
   ]
  },
  {
   "cell_type": "markdown",
   "metadata": {},
   "source": [
    "####   <span style=\"color:#f05593\"> Actions done </span>\n",
    "\n",
    "- **Imputation:**\n",
    "\n",
    "\n",
    "| Column                          | % Nulls (Before) | Treatment                                                                                     | Final Nulls | Modeling Note                                                 |\n",
    "|---------------------------------|------------------|-----------------------------------------------------------------------------------------------|-------------|---------------------------------------------------------------|\n",
    "| `neighbourhood_group`           | 68.86%           | Imputed with `\"Unknown\"` due to lack of data for many cities                                  | 0           | ⚠️ Not reliable; better dropped or engineered later           |\n",
    "| `last_review`                   | 30.74%           | Multi-step: logic-based imputation + date estimation + `\"1900-01-01\"` fallback                | 0           | ✅ Use carefully (only ~72% of dates are real)                |\n",
    "| `reviews_per_month`             | 24.71%           | Imputed with `0.0` (when no reviews) + logic-based fills + median                             | 0           | ⚠️ Weak signal; not recommended for modeling                  |\n",
    "| `availability_365`              | 5.21%            | Tokyo rows imputed with global mean                                                           | 0           | ✅ Use with care; Tokyo-specific issues                       |\n",
    "| `calculated_host_listings_count`| 5.21%            | Tokyo rows filled with `0`                                                                    | 0           | ⚠️ Host-based column; discard or treat separately             |\n",
    "| `host_name`                     | 0.32%            | Standardized name inconsistencies + imputed `\"Unknown\"`                                       | 0           | ✅ Can be used if needed                                      |\n",
    "| `title_announcement`            | 0.03%            | Imputed with `\"Unknown title\"`                                                                | 0           | ✅ Kept for completeness; not critical                        |\n",
    "\n",
    "\n",
    "- **Rows eliminated:**\n",
    "\n",
    "`price` : obsolete column\n",
    "\n",
    "- **Standardized text data:**\n",
    "\n",
    "- All text columns were: \n",
    "  - Converted to string type\n",
    "  - Normalized by removing newline characters, extra spaces, and invisible Unicode\n",
    "  - Cleaned of placeholder `\"nan\"` strings\n",
    "\n",
    " `title_announcement` , `host_name`, `city`  , `neighbourhood_group` , `neighbourhood`\n",
    "\n",
    "- **New columns:**\n",
    "\n",
    "`price_USD` : Ensured all price values are in USD, based on a fixed exchange rate from April 17, 2021.\n",
    "\n",
    "- **Types**:\n",
    "\n",
    "- Types columns were adjusted accordingly to it's meaning\n"
   ]
  },
  {
   "cell_type": "markdown",
   "metadata": {},
   "source": [
    "####   <span style=\"color:#f05593\"> Summary </span>\n",
    "\n",
    "- Variables with high \"eyeballed\" imputation (such as neighbourhood_group and reviews_per_month) can contaminate segmentation analyses or predictive models. It is recommended to explore their distribution and correlation with outcomes before giving them any weight.\n",
    "\n",
    "- Artificial imputations in date fields (last_review) should be used to flag missing data, not as actual values.\n",
    "\n",
    "- The unification of prices in USD is useful for comparisons but can hide temporal variations and inflation effects. Consider whether analysis with exact dates and economic context is needed.\n",
    "\n",
    "- The dataset is clean at a syntactic and structural level, but a key step remains: validation of semantic quality and cross-consistency, especially for geographic and availability data."
   ]
  },
  {
   "cell_type": "markdown",
   "metadata": {},
   "source": [
    "___\n",
    "___\n",
    "\n",
    "##  <center> <span style=\"color:#f6f794\"> Saving the CSV in a clasical way for POWER BI </span> </center>"
   ]
  },
  {
   "cell_type": "code",
   "execution_count": 78,
   "metadata": {},
   "outputs": [
    {
     "data": {
      "application/vnd.microsoft.datawrangler.viewer.v0+json": {
       "columns": [
        {
         "name": "index",
         "rawType": "object",
         "type": "string"
        },
        {
         "name": "0",
         "rawType": "object",
         "type": "unknown"
        }
       ],
       "ref": "24c27a0a-da90-4ead-8f5c-64c7158cd416",
       "rows": [
        [
         "id_announcement",
         "int64"
        ],
        [
         "title_announcement",
         "object"
        ],
        [
         "host_id",
         "int64"
        ],
        [
         "host_name",
         "object"
        ],
        [
         "city",
         "object"
        ],
        [
         "neighbourhood_group",
         "object"
        ],
        [
         "neighbourhood",
         "object"
        ],
        [
         "latitude",
         "float64"
        ],
        [
         "longitude",
         "float64"
        ],
        [
         "room_type",
         "object"
        ],
        [
         "minimum_nights",
         "int64"
        ],
        [
         "number_of_reviews",
         "int64"
        ],
        [
         "reviews_per_month",
         "float64"
        ],
        [
         "last_review",
         "datetime64[ns]"
        ],
        [
         "calculated_host_listings_count",
         "float64"
        ],
        [
         "availability_365",
         "float64"
        ],
        [
         "price_USD",
         "float64"
        ]
       ],
       "shape": {
        "columns": 1,
        "rows": 17
       }
      },
      "text/plain": [
       "id_announcement                            int64\n",
       "title_announcement                        object\n",
       "host_id                                    int64\n",
       "host_name                                 object\n",
       "city                                      object\n",
       "neighbourhood_group                       object\n",
       "neighbourhood                             object\n",
       "latitude                                 float64\n",
       "longitude                                float64\n",
       "room_type                                 object\n",
       "minimum_nights                             int64\n",
       "number_of_reviews                          int64\n",
       "reviews_per_month                        float64\n",
       "last_review                       datetime64[ns]\n",
       "calculated_host_listings_count           float64\n",
       "availability_365                         float64\n",
       "price_USD                                float64\n",
       "dtype: object"
      ]
     },
     "execution_count": 78,
     "metadata": {},
     "output_type": "execute_result"
    }
   ],
   "source": [
    "df_raw_1.dtypes"
   ]
  },
  {
   "cell_type": "code",
   "execution_count": 79,
   "metadata": {},
   "outputs": [
    {
     "name": "stderr",
     "output_type": "stream",
     "text": [
      "C:\\Users\\yaelp\\AppData\\Local\\Temp\\ipykernel_32584\\514145755.py:2: SettingWithCopyWarning: \n",
      "A value is trying to be set on a copy of a slice from a DataFrame.\n",
      "Try using .loc[row_indexer,col_indexer] = value instead\n",
      "\n",
      "See the caveats in the documentation: https://pandas.pydata.org/pandas-docs/stable/user_guide/indexing.html#returning-a-view-versus-a-copy\n",
      "  df_raw_1['last_review'] = df_raw_1['last_review'].dt.strftime('%Y-%m-%d')\n"
     ]
    }
   ],
   "source": [
    "# Convert datetime to string (safe export)\n",
    "df_raw_1['last_review'] = df_raw_1['last_review'].dt.strftime('%Y-%m-%d')"
   ]
  },
  {
   "cell_type": "code",
   "execution_count": 80,
   "metadata": {},
   "outputs": [
    {
     "name": "stdout",
     "output_type": "stream",
     "text": [
      "✅ Data saved successfully at c:\\Users\\yaelp\\Desktop\\Yael\\Bootcamp_FactoriaF5_IA_Promo4\\Proyectos\\Grupales\\Airbnb-Analysis\\data\\airbnb_cleaned.csv\n"
     ]
    }
   ],
   "source": [
    "# Saving the cleaned DataFrame to a CSV file with proper encoding and quoting so PowerBI can read it correctly\n",
    "df_raw_1.to_csv(\n",
    "    os.path.join(data_dir, \"airbnb_cleaned.csv\"),\n",
    "    sep=',',                  # Asegura que la coma es el delimitador\n",
    "    index=False,              # No guarda la columna de índice\n",
    "    encoding='utf-8',         # Codificación universal para evitar problemas de caracteres\n",
    "    quoting=csv.QUOTE_MINIMAL # Asegura que se manejen correctamente las comillas en los textos\n",
    ")\n",
    "print(f\"✅ Data saved successfully at {os.path.join(data_dir, 'airbnb_cleaned.csv')}\")"
   ]
  },
  {
   "cell_type": "markdown",
   "metadata": {},
   "source": [
    "___\n",
    "___\n",
    "____\n",
    "\n",
    "##   <center> <span style=\"color:#f6f794\"> Reading the new clean data from github url to check if everything went ok </span> </center>"
   ]
  },
  {
   "cell_type": "code",
   "execution_count": 81,
   "metadata": {},
   "outputs": [
    {
     "name": "stdout",
     "output_type": "stream",
     "text": [
      "🔗 Downloading data from GitHub...\n",
      "📊 Processing compressed file..\n",
      "✅ Data downloaded succesfully!\n"
     ]
    }
   ],
   "source": [
    "GITHUB_CLEAN_URL = \"https://raw.githubusercontent.com/Yael-Parra/Airbnb-Analysis/feature-eda-cleaning/data/airbnb_cleaned.csv.gz\"\n",
    "\n",
    "\n",
    "def load_airbnb_data_from_github(url):\n",
    "    \"\"\"\n",
    "    Downloading and processing Airbnb data from GitHub repository.\n",
    "    \"\"\"\n",
    "    print(\"🔗 Downloading data from GitHub...\")\n",
    "\n",
    "    try:\n",
    "        # Download the compressed CSV file from GitHub\n",
    "        response = requests.get(url)\n",
    "        response.raise_for_status()\n",
    "\n",
    "        print(\"📊 Processing compressed file..\")\n",
    "\n",
    "        # Decompressing and reading the CSV file\n",
    "        with gzip.open(BytesIO(response.content), 'rt', encoding='utf-8') as f:\n",
    "            df = pd.read_csv(\n",
    "                f,\n",
    "                sep=',',                  # Specify the delimiter\n",
    "                encoding='utf-8',         # Specify the encoding\n",
    "                quoting=csv.QUOTE_MINIMAL # Specify the quoting behavior\n",
    "                )\n",
    "\n",
    "        print(f\"✅ Data downloaded succesfully!\")\n",
    "        \n",
    "        return df\n",
    "\n",
    "    except requests.exceptions.RequestException as req_err:\n",
    "        print(f\"❌ Network/Request Error while downloading data: {req_err}\")\n",
    "        return None\n",
    "    except Exception as e:\n",
    "        print(f\"❌ General Error while processing data: {e}\")\n",
    "        return None\n",
    "\n",
    "# Creating dataframe from GitHub URL\n",
    "df_clean_1 = load_airbnb_data_from_github(GITHUB_CLEAN_URL)\n"
   ]
  },
  {
   "cell_type": "code",
   "execution_count": 82,
   "metadata": {},
   "outputs": [
    {
     "data": {
      "application/vnd.microsoft.datawrangler.viewer.v0+json": {
       "columns": [
        {
         "name": "index",
         "rawType": "int64",
         "type": "integer"
        },
        {
         "name": "id_announcement",
         "rawType": "int64",
         "type": "integer"
        },
        {
         "name": "title_announcement",
         "rawType": "object",
         "type": "string"
        },
        {
         "name": "host_id",
         "rawType": "int64",
         "type": "integer"
        },
        {
         "name": "host_name",
         "rawType": "object",
         "type": "string"
        },
        {
         "name": "city",
         "rawType": "object",
         "type": "string"
        },
        {
         "name": "neighbourhood_group",
         "rawType": "object",
         "type": "string"
        },
        {
         "name": "neighbourhood",
         "rawType": "object",
         "type": "string"
        },
        {
         "name": "latitude",
         "rawType": "float64",
         "type": "float"
        },
        {
         "name": "longitude",
         "rawType": "float64",
         "type": "float"
        },
        {
         "name": "room_type",
         "rawType": "object",
         "type": "string"
        },
        {
         "name": "minimum_nights",
         "rawType": "int64",
         "type": "integer"
        },
        {
         "name": "number_of_reviews",
         "rawType": "int64",
         "type": "integer"
        },
        {
         "name": "reviews_per_month",
         "rawType": "float64",
         "type": "float"
        },
        {
         "name": "last_review",
         "rawType": "object",
         "type": "string"
        },
        {
         "name": "calculated_host_listings_count",
         "rawType": "float64",
         "type": "float"
        },
        {
         "name": "availability_365",
         "rawType": "float64",
         "type": "float"
        },
        {
         "name": "price_USD",
         "rawType": "float64",
         "type": "float"
        }
       ],
       "ref": "f0ed4299-cf20-4a3f-bc11-12026856d671",
       "rows": [
        [
         "0",
         "2539",
         "Clean & quiet apt home by the park",
         "2787",
         "John",
         "New York",
         "Brooklyn",
         "Kensington",
         "40.64749",
         "-73.97237",
         "Private room",
         "1",
         "9",
         "0.21",
         "2018-10-19",
         "6.0",
         "365.0",
         "149.0"
        ],
        [
         "1",
         "2595",
         "Skylit Midtown Castle",
         "2845",
         "Jennifer",
         "New York",
         "Manhattan",
         "Midtown",
         "40.75362",
         "-73.98377",
         "Entire home/apt",
         "1",
         "45",
         "0.38",
         "2019-05-21",
         "2.0",
         "355.0",
         "225.0"
        ],
        [
         "2",
         "3647",
         "THE VILLAGE OF HARLEM....NEW YORK !",
         "4632",
         "Elisabeth",
         "New York",
         "Manhattan",
         "Harlem",
         "40.80902",
         "-73.9419",
         "Private room",
         "3",
         "0",
         "0.0",
         "1900-01-01",
         "1.0",
         "365.0",
         "150.0"
        ],
        [
         "3",
         "3831",
         "Cozy Entire Floor of Brownstone",
         "4869",
         "LisaRoxanne",
         "New York",
         "Brooklyn",
         "Clinton Hill",
         "40.68514",
         "-73.95976",
         "Entire home/apt",
         "1",
         "270",
         "4.64",
         "2019-07-05",
         "1.0",
         "194.0",
         "89.0"
        ],
        [
         "4",
         "5022",
         "Entire Apt: Spacious Studio/Loft by central park",
         "7192",
         "Laura",
         "New York",
         "Manhattan",
         "East Harlem",
         "40.79851",
         "-73.94399",
         "Entire home/apt",
         "10",
         "9",
         "0.1",
         "2018-11-19",
         "1.0",
         "0.0",
         "80.0"
        ],
        [
         "5",
         "5099",
         "Large Cozy 1 BR Apartment In Midtown East",
         "7322",
         "Chris",
         "New York",
         "Manhattan",
         "Murray Hill",
         "40.74767",
         "-73.975",
         "Entire home/apt",
         "3",
         "74",
         "0.59",
         "2019-06-22",
         "1.0",
         "129.0",
         "200.0"
        ],
        [
         "6",
         "5121",
         "BlissArtsSpace!",
         "7356",
         "Garon",
         "New York",
         "Brooklyn",
         "Bedford-Stuyvesant",
         "40.68688",
         "-73.95596",
         "Private room",
         "45",
         "49",
         "0.4",
         "2017-10-05",
         "1.0",
         "0.0",
         "60.0"
        ],
        [
         "7",
         "5178",
         "Large Furnished Room Near B'way",
         "8967",
         "Shunichi",
         "New York",
         "Manhattan",
         "Hell's Kitchen",
         "40.76489",
         "-73.98493",
         "Private room",
         "2",
         "430",
         "3.47",
         "2019-06-24",
         "1.0",
         "220.0",
         "79.0"
        ],
        [
         "8",
         "5203",
         "Cozy Clean Guest Room - Family Apt",
         "7490",
         "MaryEllen",
         "New York",
         "Manhattan",
         "Upper West Side",
         "40.80178",
         "-73.96723",
         "Private room",
         "2",
         "118",
         "0.99",
         "2017-07-21",
         "1.0",
         "0.0",
         "79.0"
        ],
        [
         "9",
         "5238",
         "Cute & Cozy Lower East Side 1 bdrm",
         "7549",
         "Ben",
         "New York",
         "Manhattan",
         "Chinatown",
         "40.71344",
         "-73.99037",
         "Entire home/apt",
         "1",
         "160",
         "1.33",
         "2019-06-09",
         "4.0",
         "188.0",
         "150.0"
        ],
        [
         "10",
         "5295",
         "Beautiful 1br on Upper West Side",
         "7702",
         "Lena",
         "New York",
         "Manhattan",
         "Upper West Side",
         "40.80316",
         "-73.96545",
         "Entire home/apt",
         "5",
         "53",
         "0.43",
         "2019-06-22",
         "1.0",
         "6.0",
         "135.0"
        ],
        [
         "11",
         "5441",
         "Central Manhattan/near Broadway",
         "7989",
         "Kate",
         "New York",
         "Manhattan",
         "Hell's Kitchen",
         "40.76076",
         "-73.98867",
         "Private room",
         "2",
         "188",
         "1.5",
         "2019-06-23",
         "1.0",
         "39.0",
         "85.0"
        ],
        [
         "12",
         "5803",
         "Lovely Room 1, Garden, Best Area, Legal rental",
         "9744",
         "Laurie",
         "New York",
         "Brooklyn",
         "South Slope",
         "40.66829",
         "-73.98779",
         "Private room",
         "4",
         "167",
         "1.34",
         "2019-06-24",
         "3.0",
         "314.0",
         "89.0"
        ],
        [
         "13",
         "6021",
         "Wonderful Guest Bedroom in Manhattan for SINGLES",
         "11528",
         "Claudio",
         "New York",
         "Manhattan",
         "Upper West Side",
         "40.79826",
         "-73.96113",
         "Private room",
         "2",
         "113",
         "0.91",
         "2019-07-05",
         "1.0",
         "333.0",
         "85.0"
        ],
        [
         "14",
         "6090",
         "West Village Nest - Superhost",
         "11975",
         "Alina",
         "New York",
         "Manhattan",
         "West Village",
         "40.7353",
         "-74.00525",
         "Entire home/apt",
         "90",
         "27",
         "0.22",
         "2018-10-31",
         "1.0",
         "0.0",
         "120.0"
        ],
        [
         "15",
         "6848",
         "Only 2 stops to Manhattan studio",
         "15991",
         "Allen & Irina",
         "New York",
         "Brooklyn",
         "Williamsburg",
         "40.70837",
         "-73.95352",
         "Entire home/apt",
         "2",
         "148",
         "1.2",
         "2019-06-29",
         "1.0",
         "46.0",
         "140.0"
        ],
        [
         "16",
         "7097",
         "Perfect for Your Parents + Garden",
         "17571",
         "Jane",
         "New York",
         "Brooklyn",
         "Fort Greene",
         "40.69169",
         "-73.97185",
         "Entire home/apt",
         "2",
         "198",
         "1.72",
         "2019-06-28",
         "1.0",
         "321.0",
         "215.0"
        ],
        [
         "17",
         "7322",
         "Chelsea Perfect",
         "18946",
         "Doti",
         "New York",
         "Manhattan",
         "Chelsea",
         "40.74192",
         "-73.99501",
         "Private room",
         "1",
         "260",
         "2.12",
         "2019-07-01",
         "1.0",
         "12.0",
         "140.0"
        ],
        [
         "18",
         "7726",
         "Hip Historic Brownstone Apartment with Backyard",
         "20950",
         "Adam And Charity",
         "New York",
         "Brooklyn",
         "Crown Heights",
         "40.67592",
         "-73.94694",
         "Entire home/apt",
         "3",
         "53",
         "4.44",
         "2019-06-22",
         "1.0",
         "21.0",
         "99.0"
        ],
        [
         "19",
         "7750",
         "Huge 2 BR Upper East Cental Park",
         "17985",
         "Sing",
         "New York",
         "Manhattan",
         "East Harlem",
         "40.79685",
         "-73.94872",
         "Entire home/apt",
         "7",
         "0",
         "0.0",
         "1900-01-01",
         "2.0",
         "249.0",
         "190.0"
        ],
        [
         "20",
         "7801",
         "Sweet and Spacious Brooklyn Loft",
         "21207",
         "Chaya",
         "New York",
         "Brooklyn",
         "Williamsburg",
         "40.71842",
         "-73.95718",
         "Entire home/apt",
         "3",
         "9",
         "0.07",
         "2011-12-28",
         "1.0",
         "0.0",
         "299.0"
        ],
        [
         "21",
         "8024",
         "CBG CtyBGd HelpsHaiti rm#1:1-4",
         "22486",
         "Lisel",
         "New York",
         "Brooklyn",
         "Park Slope",
         "40.68069",
         "-73.97706",
         "Private room",
         "2",
         "130",
         "1.09",
         "2019-07-01",
         "6.0",
         "347.0",
         "130.0"
        ],
        [
         "22",
         "8025",
         "CBG Helps Haiti Room#2.5",
         "22486",
         "Lisel",
         "New York",
         "Brooklyn",
         "Park Slope",
         "40.67989",
         "-73.97798",
         "Private room",
         "1",
         "39",
         "0.37",
         "2019-01-01",
         "6.0",
         "364.0",
         "80.0"
        ],
        [
         "23",
         "8110",
         "CBG Helps Haiti Rm #2",
         "22486",
         "Lisel",
         "New York",
         "Brooklyn",
         "Park Slope",
         "40.68001",
         "-73.97865",
         "Private room",
         "2",
         "71",
         "0.61",
         "2019-07-02",
         "6.0",
         "304.0",
         "110.0"
        ],
        [
         "24",
         "8490",
         "MAISON DES SIRENES1,bohemian apartment",
         "25183",
         "Nathalie",
         "New York",
         "Brooklyn",
         "Bedford-Stuyvesant",
         "40.68371",
         "-73.94028",
         "Entire home/apt",
         "2",
         "88",
         "0.73",
         "2019-06-19",
         "2.0",
         "233.0",
         "120.0"
        ],
        [
         "25",
         "8505",
         "Sunny Bedroom Across Prospect Park",
         "25326",
         "Gregory",
         "New York",
         "Brooklyn",
         "Windsor Terrace",
         "40.65599",
         "-73.97519",
         "Private room",
         "1",
         "19",
         "1.37",
         "2019-06-23",
         "2.0",
         "85.0",
         "60.0"
        ],
        [
         "26",
         "8700",
         "Magnifique Suite au N de Manhattan - vue Cloitres",
         "26394",
         "Claude & Sophie",
         "New York",
         "Manhattan",
         "Inwood",
         "40.86754",
         "-73.92639",
         "Private room",
         "4",
         "0",
         "0.0",
         "1900-01-01",
         "1.0",
         "0.0",
         "80.0"
        ],
        [
         "27",
         "9357",
         "Midtown Pied-a-terre",
         "30193",
         "Tommi",
         "New York",
         "Manhattan",
         "Hell's Kitchen",
         "40.76715",
         "-73.98533",
         "Entire home/apt",
         "10",
         "58",
         "0.49",
         "2017-08-13",
         "1.0",
         "75.0",
         "150.0"
        ],
        [
         "28",
         "9518",
         "SPACIOUS, LOVELY FURNISHED MANHATTAN BEDROOM",
         "31374",
         "Shon",
         "New York",
         "Manhattan",
         "Inwood",
         "40.86482",
         "-73.92106",
         "Private room",
         "3",
         "108",
         "1.11",
         "2019-06-15",
         "3.0",
         "311.0",
         "44.0"
        ],
        [
         "29",
         "9657",
         "Modern 1 BR / NYC / EAST VILLAGE",
         "21904",
         "Dana",
         "New York",
         "Manhattan",
         "East Village",
         "40.7292",
         "-73.98542",
         "Entire home/apt",
         "14",
         "29",
         "0.24",
         "2019-04-19",
         "1.0",
         "67.0",
         "180.0"
        ],
        [
         "30",
         "9668",
         "front room/double bed",
         "32294",
         "Ssameer Or Trip",
         "New York",
         "Manhattan",
         "Harlem",
         "40.82245",
         "-73.95104",
         "Private room",
         "3",
         "242",
         "2.04",
         "2019-06-01",
         "3.0",
         "355.0",
         "50.0"
        ],
        [
         "31",
         "9704",
         "Spacious 1 bedroom in luxe building",
         "32045",
         "Teri",
         "New York",
         "Manhattan",
         "Harlem",
         "40.81305",
         "-73.95466",
         "Private room",
         "2",
         "88",
         "1.42",
         "2019-06-14",
         "1.0",
         "255.0",
         "52.0"
        ],
        [
         "32",
         "9782",
         "Loft in Williamsburg Area w/ Roof",
         "32169",
         "Andrea",
         "New York",
         "Brooklyn",
         "Greenpoint",
         "40.72219",
         "-73.93762",
         "Private room",
         "4",
         "197",
         "1.65",
         "2019-06-15",
         "3.0",
         "284.0",
         "55.0"
        ],
        [
         "33",
         "9783",
         "back room/bunk beds",
         "32294",
         "Ssameer Or Trip",
         "New York",
         "Manhattan",
         "Harlem",
         "40.8213",
         "-73.95318",
         "Private room",
         "3",
         "273",
         "2.37",
         "2019-07-01",
         "3.0",
         "359.0",
         "50.0"
        ],
        [
         "34",
         "10452",
         "Large B&B Style rooms",
         "35935",
         "Angela",
         "New York",
         "Brooklyn",
         "Bedford-Stuyvesant",
         "40.6831",
         "-73.95473",
         "Private room",
         "1",
         "74",
         "0.66",
         "2019-05-12",
         "2.0",
         "269.0",
         "70.0"
        ],
        [
         "35",
         "10962",
         "Lovely room 2 & garden; Best area, Legal rental",
         "9744",
         "Laurie",
         "New York",
         "Brooklyn",
         "South Slope",
         "40.66869",
         "-73.9878",
         "Private room",
         "4",
         "168",
         "1.41",
         "2019-06-21",
         "3.0",
         "340.0",
         "89.0"
        ],
        [
         "36",
         "11452",
         "Clean and Quiet in Brooklyn",
         "7355",
         "Vt",
         "New York",
         "Brooklyn",
         "Bedford-Stuyvesant",
         "40.68876",
         "-73.94312",
         "Private room",
         "60",
         "0",
         "0.0",
         "1900-01-01",
         "1.0",
         "365.0",
         "35.0"
        ],
        [
         "37",
         "11708",
         "Cute apt in artist's home",
         "44145",
         "Tyrome",
         "New York",
         "Brooklyn",
         "Bushwick",
         "40.70186",
         "-73.92745",
         "Entire home/apt",
         "2",
         "231",
         "1.96",
         "2019-06-22",
         "2.0",
         "22.0",
         "85.0"
        ],
        [
         "38",
         "11943",
         "Country space in the city",
         "45445",
         "Harriet",
         "New York",
         "Brooklyn",
         "Flatbush",
         "40.63702",
         "-73.96327",
         "Private room",
         "1",
         "0",
         "0.0",
         "1900-01-01",
         "1.0",
         "365.0",
         "150.0"
        ],
        [
         "39",
         "12048",
         "LowerEastSide apt share shortterm 1",
         "7549",
         "Ben",
         "New York",
         "Manhattan",
         "Lower East Side",
         "40.71401",
         "-73.98917",
         "Shared room",
         "1",
         "214",
         "1.81",
         "2019-07-05",
         "4.0",
         "188.0",
         "40.0"
        ],
        [
         "40",
         "12192",
         "ENJOY Downtown NYC!",
         "46978",
         "Edward",
         "New York",
         "Manhattan",
         "East Village",
         "40.7229",
         "-73.98199",
         "Private room",
         "2",
         "245",
         "2.08",
         "2019-06-21",
         "2.0",
         "96.0",
         "68.0"
        ],
        [
         "41",
         "12299",
         "Beautiful Sunny Park Slope Brooklyn",
         "47610",
         "Abdul",
         "New York",
         "Brooklyn",
         "South Slope",
         "40.66278",
         "-73.97966",
         "Entire home/apt",
         "3",
         "15",
         "0.39",
         "2019-05-27",
         "1.0",
         "345.0",
         "120.0"
        ],
        [
         "42",
         "12303",
         "1bdr w private bath. in lofty apt",
         "47618",
         "Yolande",
         "New York",
         "Brooklyn",
         "Fort Greene",
         "40.69673",
         "-73.97584",
         "Private room",
         "7",
         "25",
         "0.23",
         "2018-09-30",
         "1.0",
         "311.0",
         "120.0"
        ],
        [
         "43",
         "12318",
         "West Side Retreat",
         "16800",
         "Cyn",
         "New York",
         "Manhattan",
         "Upper West Side",
         "40.79009",
         "-73.97927",
         "Private room",
         "4",
         "81",
         "0.69",
         "2019-06-16",
         "1.0",
         "273.0",
         "135.0"
        ],
        [
         "44",
         "12343",
         "BEST BET IN HARLEM",
         "47727",
         "Earl",
         "New York",
         "Manhattan",
         "Harlem",
         "40.81175",
         "-73.94478",
         "Entire home/apt",
         "7",
         "97",
         "0.84",
         "2019-06-13",
         "1.0",
         "309.0",
         "150.0"
        ],
        [
         "45",
         "12627",
         "Entire apartment in central Brooklyn neighborhood.",
         "49670",
         "Rana",
         "New York",
         "Brooklyn",
         "Prospect-Lefferts Gardens",
         "40.65944",
         "-73.96238",
         "Entire home/apt",
         "29",
         "11",
         "0.49",
         "2019-06-05",
         "1.0",
         "95.0",
         "150.0"
        ],
        [
         "46",
         "12937",
         "1 Stop fr. Manhattan! Private Suite,Landmark Block",
         "50124",
         "Orestes",
         "New York",
         "Queens",
         "Long Island City",
         "40.74771",
         "-73.9474",
         "Private room",
         "3",
         "248",
         "2.25",
         "2019-07-01",
         "1.0",
         "215.0",
         "130.0"
        ],
        [
         "47",
         "12940",
         "Charming Brownstone 3 - Near PRATT",
         "50148",
         "Adreinne",
         "New York",
         "Brooklyn",
         "Bedford-Stuyvesant",
         "40.68111",
         "-73.95591",
         "Entire home/apt",
         "7",
         "61",
         "0.52",
         "2019-05-25",
         "1.0",
         "265.0",
         "110.0"
        ],
        [
         "48",
         "13050",
         "bright and stylish duplex",
         "50846",
         "Jennifer",
         "New York",
         "Brooklyn",
         "Bedford-Stuyvesant",
         "40.68554",
         "-73.9409",
         "Entire home/apt",
         "3",
         "11",
         "0.1",
         "2017-01-01",
         "1.0",
         "0.0",
         "115.0"
        ],
        [
         "49",
         "13394",
         "Fort Greene brownstone",
         "52335",
         "Alexander",
         "New York",
         "Brooklyn",
         "Fort Greene",
         "40.69142",
         "-73.97376",
         "Private room",
         "3",
         "135",
         "1.16",
         "2019-06-17",
         "2.0",
         "192.0",
         "80.0"
        ]
       ],
       "shape": {
        "columns": 17,
        "rows": 220031
       }
      },
      "text/html": [
       "<div>\n",
       "<style scoped>\n",
       "    .dataframe tbody tr th:only-of-type {\n",
       "        vertical-align: middle;\n",
       "    }\n",
       "\n",
       "    .dataframe tbody tr th {\n",
       "        vertical-align: top;\n",
       "    }\n",
       "\n",
       "    .dataframe thead th {\n",
       "        text-align: right;\n",
       "    }\n",
       "</style>\n",
       "<table border=\"1\" class=\"dataframe\">\n",
       "  <thead>\n",
       "    <tr style=\"text-align: right;\">\n",
       "      <th></th>\n",
       "      <th>id_announcement</th>\n",
       "      <th>title_announcement</th>\n",
       "      <th>host_id</th>\n",
       "      <th>host_name</th>\n",
       "      <th>city</th>\n",
       "      <th>neighbourhood_group</th>\n",
       "      <th>neighbourhood</th>\n",
       "      <th>latitude</th>\n",
       "      <th>longitude</th>\n",
       "      <th>room_type</th>\n",
       "      <th>minimum_nights</th>\n",
       "      <th>number_of_reviews</th>\n",
       "      <th>reviews_per_month</th>\n",
       "      <th>last_review</th>\n",
       "      <th>calculated_host_listings_count</th>\n",
       "      <th>availability_365</th>\n",
       "      <th>price_USD</th>\n",
       "    </tr>\n",
       "  </thead>\n",
       "  <tbody>\n",
       "    <tr>\n",
       "      <th>0</th>\n",
       "      <td>2539</td>\n",
       "      <td>Clean &amp; quiet apt home by the park</td>\n",
       "      <td>2787</td>\n",
       "      <td>John</td>\n",
       "      <td>New York</td>\n",
       "      <td>Brooklyn</td>\n",
       "      <td>Kensington</td>\n",
       "      <td>40.64749</td>\n",
       "      <td>-73.97237</td>\n",
       "      <td>Private room</td>\n",
       "      <td>1</td>\n",
       "      <td>9</td>\n",
       "      <td>0.21</td>\n",
       "      <td>2018-10-19</td>\n",
       "      <td>6.0</td>\n",
       "      <td>365.0</td>\n",
       "      <td>149.00</td>\n",
       "    </tr>\n",
       "    <tr>\n",
       "      <th>1</th>\n",
       "      <td>2595</td>\n",
       "      <td>Skylit Midtown Castle</td>\n",
       "      <td>2845</td>\n",
       "      <td>Jennifer</td>\n",
       "      <td>New York</td>\n",
       "      <td>Manhattan</td>\n",
       "      <td>Midtown</td>\n",
       "      <td>40.75362</td>\n",
       "      <td>-73.98377</td>\n",
       "      <td>Entire home/apt</td>\n",
       "      <td>1</td>\n",
       "      <td>45</td>\n",
       "      <td>0.38</td>\n",
       "      <td>2019-05-21</td>\n",
       "      <td>2.0</td>\n",
       "      <td>355.0</td>\n",
       "      <td>225.00</td>\n",
       "    </tr>\n",
       "    <tr>\n",
       "      <th>2</th>\n",
       "      <td>3647</td>\n",
       "      <td>THE VILLAGE OF HARLEM....NEW YORK !</td>\n",
       "      <td>4632</td>\n",
       "      <td>Elisabeth</td>\n",
       "      <td>New York</td>\n",
       "      <td>Manhattan</td>\n",
       "      <td>Harlem</td>\n",
       "      <td>40.80902</td>\n",
       "      <td>-73.94190</td>\n",
       "      <td>Private room</td>\n",
       "      <td>3</td>\n",
       "      <td>0</td>\n",
       "      <td>0.00</td>\n",
       "      <td>1900-01-01</td>\n",
       "      <td>1.0</td>\n",
       "      <td>365.0</td>\n",
       "      <td>150.00</td>\n",
       "    </tr>\n",
       "    <tr>\n",
       "      <th>3</th>\n",
       "      <td>3831</td>\n",
       "      <td>Cozy Entire Floor of Brownstone</td>\n",
       "      <td>4869</td>\n",
       "      <td>LisaRoxanne</td>\n",
       "      <td>New York</td>\n",
       "      <td>Brooklyn</td>\n",
       "      <td>Clinton Hill</td>\n",
       "      <td>40.68514</td>\n",
       "      <td>-73.95976</td>\n",
       "      <td>Entire home/apt</td>\n",
       "      <td>1</td>\n",
       "      <td>270</td>\n",
       "      <td>4.64</td>\n",
       "      <td>2019-07-05</td>\n",
       "      <td>1.0</td>\n",
       "      <td>194.0</td>\n",
       "      <td>89.00</td>\n",
       "    </tr>\n",
       "    <tr>\n",
       "      <th>4</th>\n",
       "      <td>5022</td>\n",
       "      <td>Entire Apt: Spacious Studio/Loft by central park</td>\n",
       "      <td>7192</td>\n",
       "      <td>Laura</td>\n",
       "      <td>New York</td>\n",
       "      <td>Manhattan</td>\n",
       "      <td>East Harlem</td>\n",
       "      <td>40.79851</td>\n",
       "      <td>-73.94399</td>\n",
       "      <td>Entire home/apt</td>\n",
       "      <td>10</td>\n",
       "      <td>9</td>\n",
       "      <td>0.10</td>\n",
       "      <td>2018-11-19</td>\n",
       "      <td>1.0</td>\n",
       "      <td>0.0</td>\n",
       "      <td>80.00</td>\n",
       "    </tr>\n",
       "    <tr>\n",
       "      <th>...</th>\n",
       "      <td>...</td>\n",
       "      <td>...</td>\n",
       "      <td>...</td>\n",
       "      <td>...</td>\n",
       "      <td>...</td>\n",
       "      <td>...</td>\n",
       "      <td>...</td>\n",
       "      <td>...</td>\n",
       "      <td>...</td>\n",
       "      <td>...</td>\n",
       "      <td>...</td>\n",
       "      <td>...</td>\n",
       "      <td>...</td>\n",
       "      <td>...</td>\n",
       "      <td>...</td>\n",
       "      <td>...</td>\n",
       "      <td>...</td>\n",
       "    </tr>\n",
       "    <tr>\n",
       "      <th>220026</th>\n",
       "      <td>49185822</td>\n",
       "      <td>Habitación con TV con Netflix en Lavapiés</td>\n",
       "      <td>172011610</td>\n",
       "      <td>Belaid</td>\n",
       "      <td>Madrid</td>\n",
       "      <td>Centro</td>\n",
       "      <td>Embajadores</td>\n",
       "      <td>40.40756</td>\n",
       "      <td>-3.69937</td>\n",
       "      <td>Private room</td>\n",
       "      <td>30</td>\n",
       "      <td>0</td>\n",
       "      <td>0.00</td>\n",
       "      <td>1900-01-01</td>\n",
       "      <td>8.0</td>\n",
       "      <td>349.0</td>\n",
       "      <td>27.56</td>\n",
       "    </tr>\n",
       "    <tr>\n",
       "      <th>220027</th>\n",
       "      <td>49186179</td>\n",
       "      <td>Habitación con TV con Netflix en Gaztambide</td>\n",
       "      <td>172011610</td>\n",
       "      <td>Belaid</td>\n",
       "      <td>Madrid</td>\n",
       "      <td>Chamberí</td>\n",
       "      <td>Gaztambide</td>\n",
       "      <td>40.43706</td>\n",
       "      <td>-3.71364</td>\n",
       "      <td>Private room</td>\n",
       "      <td>30</td>\n",
       "      <td>0</td>\n",
       "      <td>0.00</td>\n",
       "      <td>1900-01-01</td>\n",
       "      <td>8.0</td>\n",
       "      <td>350.0</td>\n",
       "      <td>25.16</td>\n",
       "    </tr>\n",
       "    <tr>\n",
       "      <th>220028</th>\n",
       "      <td>49187258</td>\n",
       "      <td>Habitación con TV con Netflix en Chamberí</td>\n",
       "      <td>172011610</td>\n",
       "      <td>Belaid</td>\n",
       "      <td>Madrid</td>\n",
       "      <td>Chamberí</td>\n",
       "      <td>Arapiles</td>\n",
       "      <td>40.43857</td>\n",
       "      <td>-3.70715</td>\n",
       "      <td>Private room</td>\n",
       "      <td>7</td>\n",
       "      <td>0</td>\n",
       "      <td>0.00</td>\n",
       "      <td>1900-01-01</td>\n",
       "      <td>8.0</td>\n",
       "      <td>364.0</td>\n",
       "      <td>26.36</td>\n",
       "    </tr>\n",
       "    <tr>\n",
       "      <th>220029</th>\n",
       "      <td>49187471</td>\n",
       "      <td>Habitación con TV con Netflix en Goya</td>\n",
       "      <td>172011610</td>\n",
       "      <td>Belaid</td>\n",
       "      <td>Madrid</td>\n",
       "      <td>Salamanca</td>\n",
       "      <td>Guindalera</td>\n",
       "      <td>40.43027</td>\n",
       "      <td>-3.66759</td>\n",
       "      <td>Private room</td>\n",
       "      <td>30</td>\n",
       "      <td>0</td>\n",
       "      <td>0.00</td>\n",
       "      <td>1900-01-01</td>\n",
       "      <td>8.0</td>\n",
       "      <td>349.0</td>\n",
       "      <td>22.76</td>\n",
       "    </tr>\n",
       "    <tr>\n",
       "      <th>220030</th>\n",
       "      <td>49187791</td>\n",
       "      <td>Habitación con TV con Netflix en Chamberí</td>\n",
       "      <td>172011610</td>\n",
       "      <td>Belaid</td>\n",
       "      <td>Madrid</td>\n",
       "      <td>Chamberí</td>\n",
       "      <td>Arapiles</td>\n",
       "      <td>40.43484</td>\n",
       "      <td>-3.70667</td>\n",
       "      <td>Private room</td>\n",
       "      <td>30</td>\n",
       "      <td>0</td>\n",
       "      <td>0.00</td>\n",
       "      <td>1900-01-01</td>\n",
       "      <td>8.0</td>\n",
       "      <td>349.0</td>\n",
       "      <td>23.96</td>\n",
       "    </tr>\n",
       "  </tbody>\n",
       "</table>\n",
       "<p>220031 rows × 17 columns</p>\n",
       "</div>"
      ],
      "text/plain": [
       "        id_announcement                                title_announcement    host_id    host_name      city neighbourhood_group neighbourhood  latitude  longitude        room_type  minimum_nights  number_of_reviews  reviews_per_month last_review  calculated_host_listings_count  availability_365  price_USD\n",
       "0                  2539                Clean & quiet apt home by the park       2787         John  New York            Brooklyn    Kensington  40.64749  -73.97237     Private room               1                  9               0.21  2018-10-19                             6.0             365.0     149.00\n",
       "1                  2595                             Skylit Midtown Castle       2845     Jennifer  New York           Manhattan       Midtown  40.75362  -73.98377  Entire home/apt               1                 45               0.38  2019-05-21                             2.0             355.0     225.00\n",
       "2                  3647               THE VILLAGE OF HARLEM....NEW YORK !       4632    Elisabeth  New York           Manhattan        Harlem  40.80902  -73.94190     Private room               3                  0               0.00  1900-01-01                             1.0             365.0     150.00\n",
       "3                  3831                   Cozy Entire Floor of Brownstone       4869  LisaRoxanne  New York            Brooklyn  Clinton Hill  40.68514  -73.95976  Entire home/apt               1                270               4.64  2019-07-05                             1.0             194.0      89.00\n",
       "4                  5022  Entire Apt: Spacious Studio/Loft by central park       7192        Laura  New York           Manhattan   East Harlem  40.79851  -73.94399  Entire home/apt              10                  9               0.10  2018-11-19                             1.0               0.0      80.00\n",
       "...                 ...                                               ...        ...          ...       ...                 ...           ...       ...        ...              ...             ...                ...                ...         ...                             ...               ...        ...\n",
       "220026         49185822         Habitación con TV con Netflix en Lavapiés  172011610       Belaid    Madrid              Centro   Embajadores  40.40756   -3.69937     Private room              30                  0               0.00  1900-01-01                             8.0             349.0      27.56\n",
       "220027         49186179       Habitación con TV con Netflix en Gaztambide  172011610       Belaid    Madrid            Chamberí    Gaztambide  40.43706   -3.71364     Private room              30                  0               0.00  1900-01-01                             8.0             350.0      25.16\n",
       "220028         49187258         Habitación con TV con Netflix en Chamberí  172011610       Belaid    Madrid            Chamberí      Arapiles  40.43857   -3.70715     Private room               7                  0               0.00  1900-01-01                             8.0             364.0      26.36\n",
       "220029         49187471             Habitación con TV con Netflix en Goya  172011610       Belaid    Madrid           Salamanca    Guindalera  40.43027   -3.66759     Private room              30                  0               0.00  1900-01-01                             8.0             349.0      22.76\n",
       "220030         49187791         Habitación con TV con Netflix en Chamberí  172011610       Belaid    Madrid            Chamberí      Arapiles  40.43484   -3.70667     Private room              30                  0               0.00  1900-01-01                             8.0             349.0      23.96\n",
       "\n",
       "[220031 rows x 17 columns]"
      ]
     },
     "execution_count": 82,
     "metadata": {},
     "output_type": "execute_result"
    }
   ],
   "source": [
    "df_clean_1"
   ]
  },
  {
   "cell_type": "code",
   "execution_count": 83,
   "metadata": {},
   "outputs": [
    {
     "data": {
      "application/vnd.microsoft.datawrangler.viewer.v0+json": {
       "columns": [
        {
         "name": "index",
         "rawType": "object",
         "type": "string"
        },
        {
         "name": "0",
         "rawType": "object",
         "type": "unknown"
        }
       ],
       "ref": "7086061d-66e3-4d76-8f89-af370371d4c5",
       "rows": [
        [
         "id_announcement",
         "int64"
        ],
        [
         "title_announcement",
         "object"
        ],
        [
         "host_id",
         "int64"
        ],
        [
         "host_name",
         "object"
        ],
        [
         "city",
         "object"
        ],
        [
         "neighbourhood_group",
         "object"
        ],
        [
         "neighbourhood",
         "object"
        ],
        [
         "latitude",
         "float64"
        ],
        [
         "longitude",
         "float64"
        ],
        [
         "room_type",
         "object"
        ],
        [
         "minimum_nights",
         "int64"
        ],
        [
         "number_of_reviews",
         "int64"
        ],
        [
         "reviews_per_month",
         "float64"
        ],
        [
         "last_review",
         "object"
        ],
        [
         "calculated_host_listings_count",
         "float64"
        ],
        [
         "availability_365",
         "float64"
        ],
        [
         "price_USD",
         "float64"
        ]
       ],
       "shape": {
        "columns": 1,
        "rows": 17
       }
      },
      "text/plain": [
       "id_announcement                     int64\n",
       "title_announcement                 object\n",
       "host_id                             int64\n",
       "host_name                          object\n",
       "city                               object\n",
       "neighbourhood_group                object\n",
       "neighbourhood                      object\n",
       "latitude                          float64\n",
       "longitude                         float64\n",
       "room_type                          object\n",
       "minimum_nights                      int64\n",
       "number_of_reviews                   int64\n",
       "reviews_per_month                 float64\n",
       "last_review                        object\n",
       "calculated_host_listings_count    float64\n",
       "availability_365                  float64\n",
       "price_USD                         float64\n",
       "dtype: object"
      ]
     },
     "execution_count": 83,
     "metadata": {},
     "output_type": "execute_result"
    }
   ],
   "source": [
    "df_clean_1.shape\n",
    "df_clean_1.dtypes"
   ]
  }
 ],
 "metadata": {
  "kernelspec": {
   "display_name": ".venv",
   "language": "python",
   "name": "python3"
  },
  "language_info": {
   "codemirror_mode": {
    "name": "ipython",
    "version": 3
   },
   "file_extension": ".py",
   "mimetype": "text/x-python",
   "name": "python",
   "nbconvert_exporter": "python",
   "pygments_lexer": "ipython3",
   "version": "3.13.2"
  }
 },
 "nbformat": 4,
 "nbformat_minor": 2
}
