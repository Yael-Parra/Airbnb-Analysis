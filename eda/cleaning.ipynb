{
 "cells": [
  {
   "cell_type": "markdown",
   "metadata": {},
   "source": [
    "#   <center> <span style=\"color:#f6f794\"> 🧼 Cleaning data</span> </center>\n",
    "___"
   ]
  },
  {
   "cell_type": "markdown",
   "metadata": {},
   "source": [
    "#### 📚 <span style=\"color:#f6f794\"> Importing libraries and setting displays </span>"
   ]
  },
  {
   "cell_type": "code",
   "execution_count": 1,
   "metadata": {},
   "outputs": [],
   "source": [
    "import pandas as pd\n",
    "import numpy as np\n",
    "import requests\n",
    "import gzip\n",
    "from io import BytesIO\n",
    "import os\n",
    "from pandas.tseries.offsets import DateOffset\n",
    "import matplotlib.pyplot as plt\n",
    "import seaborn as sns\n",
    "from geopy.geocoders import Nominatim\n",
    "import time\n",
    "from geopy.extra.rate_limiter import RateLimiter"
   ]
  },
  {
   "cell_type": "code",
   "execution_count": 2,
   "metadata": {},
   "outputs": [],
   "source": [
    "pd.set_option('display.max_rows', 100) \n",
    "pd.set_option('display.max_columns', None) \n",
    "\n",
    "# pd.set_option('display.max_columns', None)  # Show all columns\n",
    "# pd.set_option('display.max_rows', None)     # Show all rows\n",
    "# pd.set_option('display.max_colwidth', None) # Show entire content of each column\n",
    "pd.set_option('display.width', None)        # No limit on display width\n",
    "pd.set_option('display.expand_frame_repr', False)  # Prevent wrapping"
   ]
  },
  {
   "cell_type": "markdown",
   "metadata": {},
   "source": [
    "#### 📂 <span style=\"color:#f6f794\"> Opening files and create dataframes of them </span>"
   ]
  },
  {
   "cell_type": "code",
   "execution_count": 3,
   "metadata": {},
   "outputs": [
    {
     "name": "stdout",
     "output_type": "stream",
     "text": [
      "c:\\Users\\yaelp\\Desktop\\Yael\\Bootcamp_FactoriaF5_IA_Promo4\\Proyectos\\Grupales\\Airbnb-Analysis\\eda\n",
      "c:\\Users\\yaelp\\Desktop\\Yael\\Bootcamp_FactoriaF5_IA_Promo4\\Proyectos\\Grupales\\Airbnb-Analysis\n",
      "c:\\Users\\yaelp\\Desktop\\Yael\\Bootcamp_FactoriaF5_IA_Promo4\\Proyectos\\Grupales\\Airbnb-Analysis\\data\n",
      "c:\\Users\\yaelp\\Desktop\\Yael\\Bootcamp_FactoriaF5_IA_Promo4\\Proyectos\\Grupales\\Airbnb-Analysis\\data\\\n"
     ]
    }
   ],
   "source": [
    "# Setting paths\n",
    "current_dir = os.getcwd()                   # \\Airbnb-Analysis\\eda\n",
    "print(current_dir)\n",
    "parent_dir = os.path.dirname(current_dir)   # \\Airbnb-Analysis\n",
    "print(parent_dir)\n",
    "data_dir = os.path.join(parent_dir, \"data\") # \\Airbnb-Analysis\\data\n",
    "print(data_dir)\n",
    "file_path = os.path.join(data_dir, \"\")      # \\Airbnb-Analysis\\data\\\n",
    "print(file_path)\n",
    "\n"
   ]
  },
  {
   "cell_type": "code",
   "execution_count": 4,
   "metadata": {},
   "outputs": [
    {
     "name": "stdout",
     "output_type": "stream",
     "text": [
      "🔗 Downloading data from GitHun...\n",
      "📊 Processing compressed file..\n",
      "✅ Data downloaded succesfully!\n",
      "   📋 Rows: 220,031\n",
      "   📋 Columns: 17\n",
      "   📋 Cities: 6\n"
     ]
    },
    {
     "name": "stderr",
     "output_type": "stream",
     "text": [
      "C:\\Users\\yaelp\\AppData\\Local\\Temp\\ipykernel_26112\\2724234179.py:18: DtypeWarning: Columns (4) have mixed types. Specify dtype option on import or set low_memory=False.\n",
      "  df = pd.read_csv(f)\n"
     ]
    }
   ],
   "source": [
    "GITHUB_RAW_URL = \"https://raw.githubusercontent.com/Yael-Parra/Airbnb-Analysis/feature/data-processing-pipeline/processed_data/airbnb_complete.csv.gz\"\n",
    "\n",
    "def load_airbnb_data_from_github(url):\n",
    "    \"\"\"\n",
    "    Downloading and processing Airbnb data from GitHub repository.\n",
    "    \"\"\"\n",
    "    print(\"🔗 Downloading data from GitHun...\")\n",
    "\n",
    "    try:\n",
    "        # Download the compressed CSV file from GitHub\n",
    "        response = requests.get(url)\n",
    "        response.raise_for_status()\n",
    "\n",
    "        print(\"📊 Processing compressed file..\")\n",
    "\n",
    "        # Decompressing and reading the CSV file\n",
    "        with gzip.open(BytesIO(response.content), 'rt', encoding='utf-8') as f:\n",
    "            df = pd.read_csv(f)\n",
    "\n",
    "        print(f\"✅ Data downloaded succesfully!\")\n",
    "        print(f\"   📋 Rows: {len(df):,}\")\n",
    "        print(f\"   📋 Columns: {len(df.columns)}\")\n",
    "        print(f\"   📋 Cities: {df['city'].nunique() if 'city' in df.columns else 'N/A'}\")\n",
    "\n",
    "        return df\n",
    "\n",
    "    except Exception as e:\n",
    "        print(f\"❌ Error while downloading data: {e}\")\n",
    "        return None\n",
    "\n",
    "# Creating dataframe from GitHub URL\n",
    "df_raw_1 = load_airbnb_data_from_github(GITHUB_RAW_URL)\n"
   ]
  },
  {
   "cell_type": "markdown",
   "metadata": {},
   "source": [
    "___\n",
    "####  <span style=\"color:#f6f794\"> Checking columns names </span>"
   ]
  },
  {
   "cell_type": "code",
   "execution_count": 5,
   "metadata": {},
   "outputs": [
    {
     "data": {
      "text/plain": [
       "Index(['id', 'name', 'host_id', 'host_name', 'neighbourhood_group',\n",
       "       'neighbourhood', 'latitude', 'longitude', 'room_type', 'price',\n",
       "       'minimum_nights', 'number_of_reviews', 'last_review',\n",
       "       'reviews_per_month', 'calculated_host_listings_count',\n",
       "       'availability_365', 'city'],\n",
       "      dtype='object')"
      ]
     },
     "execution_count": 5,
     "metadata": {},
     "output_type": "execute_result"
    }
   ],
   "source": [
    "df_raw_1.columns"
   ]
  },
  {
   "cell_type": "markdown",
   "metadata": {},
   "source": [
    "####  <span style=\"color:#f6f794\"> Quick check to data </span>"
   ]
  },
  {
   "cell_type": "code",
   "execution_count": 6,
   "metadata": {},
   "outputs": [
    {
     "data": {
      "application/vnd.microsoft.datawrangler.viewer.v0+json": {
       "columns": [
        {
         "name": "index",
         "rawType": "int64",
         "type": "integer"
        },
        {
         "name": "id",
         "rawType": "int64",
         "type": "integer"
        },
        {
         "name": "name",
         "rawType": "object",
         "type": "unknown"
        },
        {
         "name": "host_id",
         "rawType": "int64",
         "type": "integer"
        },
        {
         "name": "host_name",
         "rawType": "object",
         "type": "unknown"
        },
        {
         "name": "neighbourhood_group",
         "rawType": "object",
         "type": "unknown"
        },
        {
         "name": "neighbourhood",
         "rawType": "object",
         "type": "string"
        },
        {
         "name": "latitude",
         "rawType": "float64",
         "type": "float"
        },
        {
         "name": "longitude",
         "rawType": "float64",
         "type": "float"
        },
        {
         "name": "room_type",
         "rawType": "object",
         "type": "string"
        },
        {
         "name": "price",
         "rawType": "int64",
         "type": "integer"
        },
        {
         "name": "minimum_nights",
         "rawType": "int64",
         "type": "integer"
        },
        {
         "name": "number_of_reviews",
         "rawType": "int64",
         "type": "integer"
        },
        {
         "name": "last_review",
         "rawType": "object",
         "type": "unknown"
        },
        {
         "name": "reviews_per_month",
         "rawType": "float64",
         "type": "float"
        },
        {
         "name": "calculated_host_listings_count",
         "rawType": "float64",
         "type": "float"
        },
        {
         "name": "availability_365",
         "rawType": "float64",
         "type": "float"
        },
        {
         "name": "city",
         "rawType": "object",
         "type": "string"
        }
       ],
       "ref": "d0481482-0c0b-4b32-81e1-5f8832828d56",
       "rows": [
        [
         "0",
         "2539",
         "Clean & quiet apt home by the park",
         "2787",
         "John",
         "Brooklyn",
         "Kensington",
         "40.64749",
         "-73.97237",
         "Private room",
         "149",
         "1",
         "9",
         "2018-10-19",
         "0.21",
         "6.0",
         "365.0",
         "Ny"
        ],
        [
         "1",
         "2595",
         "Skylit Midtown Castle",
         "2845",
         "Jennifer",
         "Manhattan",
         "Midtown",
         "40.75362",
         "-73.98377",
         "Entire home/apt",
         "225",
         "1",
         "45",
         "2019-05-21",
         "0.38",
         "2.0",
         "355.0",
         "Ny"
        ],
        [
         "2",
         "3647",
         "THE VILLAGE OF HARLEM....NEW YORK !",
         "4632",
         "Elisabeth",
         "Manhattan",
         "Harlem",
         "40.80902",
         "-73.9419",
         "Private room",
         "150",
         "3",
         "0",
         null,
         null,
         "1.0",
         "365.0",
         "Ny"
        ],
        [
         "3",
         "3831",
         "Cozy Entire Floor of Brownstone",
         "4869",
         "LisaRoxanne",
         "Brooklyn",
         "Clinton Hill",
         "40.68514",
         "-73.95976",
         "Entire home/apt",
         "89",
         "1",
         "270",
         "2019-07-05",
         "4.64",
         "1.0",
         "194.0",
         "Ny"
        ],
        [
         "4",
         "5022",
         "Entire Apt: Spacious Studio/Loft by central park",
         "7192",
         "Laura",
         "Manhattan",
         "East Harlem",
         "40.79851",
         "-73.94399",
         "Entire home/apt",
         "80",
         "10",
         "9",
         "2018-11-19",
         "0.1",
         "1.0",
         "0.0",
         "Ny"
        ],
        [
         "5",
         "5099",
         "Large Cozy 1 BR Apartment In Midtown East",
         "7322",
         "Chris",
         "Manhattan",
         "Murray Hill",
         "40.74767",
         "-73.975",
         "Entire home/apt",
         "200",
         "3",
         "74",
         "2019-06-22",
         "0.59",
         "1.0",
         "129.0",
         "Ny"
        ],
        [
         "6",
         "5121",
         "BlissArtsSpace!",
         "7356",
         "Garon",
         "Brooklyn",
         "Bedford-Stuyvesant",
         "40.68688",
         "-73.95596",
         "Private room",
         "60",
         "45",
         "49",
         "2017-10-05",
         "0.4",
         "1.0",
         "0.0",
         "Ny"
        ],
        [
         "7",
         "5178",
         "Large Furnished Room Near B'way",
         "8967",
         "Shunichi",
         "Manhattan",
         "Hell's Kitchen",
         "40.76489",
         "-73.98493",
         "Private room",
         "79",
         "2",
         "430",
         "2019-06-24",
         "3.47",
         "1.0",
         "220.0",
         "Ny"
        ],
        [
         "8",
         "5203",
         "Cozy Clean Guest Room - Family Apt",
         "7490",
         "MaryEllen",
         "Manhattan",
         "Upper West Side",
         "40.80178",
         "-73.96723",
         "Private room",
         "79",
         "2",
         "118",
         "2017-07-21",
         "0.99",
         "1.0",
         "0.0",
         "Ny"
        ],
        [
         "9",
         "5238",
         "Cute & Cozy Lower East Side 1 bdrm",
         "7549",
         "Ben",
         "Manhattan",
         "Chinatown",
         "40.71344",
         "-73.99037",
         "Entire home/apt",
         "150",
         "1",
         "160",
         "2019-06-09",
         "1.33",
         "4.0",
         "188.0",
         "Ny"
        ],
        [
         "10",
         "5295",
         "Beautiful 1br on Upper West Side",
         "7702",
         "Lena",
         "Manhattan",
         "Upper West Side",
         "40.80316",
         "-73.96545",
         "Entire home/apt",
         "135",
         "5",
         "53",
         "2019-06-22",
         "0.43",
         "1.0",
         "6.0",
         "Ny"
        ],
        [
         "11",
         "5441",
         "Central Manhattan/near Broadway",
         "7989",
         "Kate",
         "Manhattan",
         "Hell's Kitchen",
         "40.76076",
         "-73.98867",
         "Private room",
         "85",
         "2",
         "188",
         "2019-06-23",
         "1.5",
         "1.0",
         "39.0",
         "Ny"
        ],
        [
         "12",
         "5803",
         "Lovely Room 1, Garden, Best Area, Legal rental",
         "9744",
         "Laurie",
         "Brooklyn",
         "South Slope",
         "40.66829",
         "-73.98779",
         "Private room",
         "89",
         "4",
         "167",
         "2019-06-24",
         "1.34",
         "3.0",
         "314.0",
         "Ny"
        ],
        [
         "13",
         "6021",
         "Wonderful Guest Bedroom in Manhattan for SINGLES",
         "11528",
         "Claudio",
         "Manhattan",
         "Upper West Side",
         "40.79826",
         "-73.96113",
         "Private room",
         "85",
         "2",
         "113",
         "2019-07-05",
         "0.91",
         "1.0",
         "333.0",
         "Ny"
        ],
        [
         "14",
         "6090",
         "West Village Nest - Superhost",
         "11975",
         "Alina",
         "Manhattan",
         "West Village",
         "40.7353",
         "-74.00525",
         "Entire home/apt",
         "120",
         "90",
         "27",
         "2018-10-31",
         "0.22",
         "1.0",
         "0.0",
         "Ny"
        ],
        [
         "15",
         "6848",
         "Only 2 stops to Manhattan studio",
         "15991",
         "Allen & Irina",
         "Brooklyn",
         "Williamsburg",
         "40.70837",
         "-73.95352",
         "Entire home/apt",
         "140",
         "2",
         "148",
         "2019-06-29",
         "1.2",
         "1.0",
         "46.0",
         "Ny"
        ],
        [
         "16",
         "7097",
         "Perfect for Your Parents + Garden",
         "17571",
         "Jane",
         "Brooklyn",
         "Fort Greene",
         "40.69169",
         "-73.97185",
         "Entire home/apt",
         "215",
         "2",
         "198",
         "2019-06-28",
         "1.72",
         "1.0",
         "321.0",
         "Ny"
        ],
        [
         "17",
         "7322",
         "Chelsea Perfect",
         "18946",
         "Doti",
         "Manhattan",
         "Chelsea",
         "40.74192",
         "-73.99501",
         "Private room",
         "140",
         "1",
         "260",
         "2019-07-01",
         "2.12",
         "1.0",
         "12.0",
         "Ny"
        ],
        [
         "18",
         "7726",
         "Hip Historic Brownstone Apartment with Backyard",
         "20950",
         "Adam And Charity",
         "Brooklyn",
         "Crown Heights",
         "40.67592",
         "-73.94694",
         "Entire home/apt",
         "99",
         "3",
         "53",
         "2019-06-22",
         "4.44",
         "1.0",
         "21.0",
         "Ny"
        ],
        [
         "19",
         "7750",
         "Huge 2 BR Upper East  Cental Park",
         "17985",
         "Sing",
         "Manhattan",
         "East Harlem",
         "40.79685",
         "-73.94872",
         "Entire home/apt",
         "190",
         "7",
         "0",
         null,
         null,
         "2.0",
         "249.0",
         "Ny"
        ],
        [
         "20",
         "7801",
         "Sweet and Spacious Brooklyn Loft",
         "21207",
         "Chaya",
         "Brooklyn",
         "Williamsburg",
         "40.71842",
         "-73.95718",
         "Entire home/apt",
         "299",
         "3",
         "9",
         "2011-12-28",
         "0.07",
         "1.0",
         "0.0",
         "Ny"
        ],
        [
         "21",
         "8024",
         "CBG CtyBGd HelpsHaiti rm#1:1-4",
         "22486",
         "Lisel",
         "Brooklyn",
         "Park Slope",
         "40.68069",
         "-73.97706",
         "Private room",
         "130",
         "2",
         "130",
         "2019-07-01",
         "1.09",
         "6.0",
         "347.0",
         "Ny"
        ],
        [
         "22",
         "8025",
         "CBG Helps Haiti Room#2.5",
         "22486",
         "Lisel",
         "Brooklyn",
         "Park Slope",
         "40.67989",
         "-73.97798",
         "Private room",
         "80",
         "1",
         "39",
         "2019-01-01",
         "0.37",
         "6.0",
         "364.0",
         "Ny"
        ],
        [
         "23",
         "8110",
         "CBG Helps Haiti Rm #2",
         "22486",
         "Lisel",
         "Brooklyn",
         "Park Slope",
         "40.68001",
         "-73.97865",
         "Private room",
         "110",
         "2",
         "71",
         "2019-07-02",
         "0.61",
         "6.0",
         "304.0",
         "Ny"
        ],
        [
         "24",
         "8490",
         "MAISON DES SIRENES1,bohemian apartment",
         "25183",
         "Nathalie",
         "Brooklyn",
         "Bedford-Stuyvesant",
         "40.68371",
         "-73.94028",
         "Entire home/apt",
         "120",
         "2",
         "88",
         "2019-06-19",
         "0.73",
         "2.0",
         "233.0",
         "Ny"
        ],
        [
         "25",
         "8505",
         "Sunny Bedroom Across Prospect Park",
         "25326",
         "Gregory",
         "Brooklyn",
         "Windsor Terrace",
         "40.65599",
         "-73.97519",
         "Private room",
         "60",
         "1",
         "19",
         "2019-06-23",
         "1.37",
         "2.0",
         "85.0",
         "Ny"
        ],
        [
         "26",
         "8700",
         "Magnifique Suite au N de Manhattan - vue Cloitres",
         "26394",
         "Claude & Sophie",
         "Manhattan",
         "Inwood",
         "40.86754",
         "-73.92639",
         "Private room",
         "80",
         "4",
         "0",
         null,
         null,
         "1.0",
         "0.0",
         "Ny"
        ],
        [
         "27",
         "9357",
         "Midtown Pied-a-terre",
         "30193",
         "Tommi",
         "Manhattan",
         "Hell's Kitchen",
         "40.76715",
         "-73.98533",
         "Entire home/apt",
         "150",
         "10",
         "58",
         "2017-08-13",
         "0.49",
         "1.0",
         "75.0",
         "Ny"
        ],
        [
         "28",
         "9518",
         "SPACIOUS, LOVELY FURNISHED MANHATTAN BEDROOM",
         "31374",
         "Shon",
         "Manhattan",
         "Inwood",
         "40.86482",
         "-73.92106",
         "Private room",
         "44",
         "3",
         "108",
         "2019-06-15",
         "1.11",
         "3.0",
         "311.0",
         "Ny"
        ],
        [
         "29",
         "9657",
         "Modern 1 BR / NYC / EAST VILLAGE",
         "21904",
         "Dana",
         "Manhattan",
         "East Village",
         "40.7292",
         "-73.98542",
         "Entire home/apt",
         "180",
         "14",
         "29",
         "2019-04-19",
         "0.24",
         "1.0",
         "67.0",
         "Ny"
        ],
        [
         "30",
         "9668",
         "front room/double bed",
         "32294",
         "Ssameer Or Trip",
         "Manhattan",
         "Harlem",
         "40.82245",
         "-73.95104",
         "Private room",
         "50",
         "3",
         "242",
         "2019-06-01",
         "2.04",
         "3.0",
         "355.0",
         "Ny"
        ],
        [
         "31",
         "9704",
         "Spacious 1 bedroom in luxe building",
         "32045",
         "Teri",
         "Manhattan",
         "Harlem",
         "40.81305",
         "-73.95466",
         "Private room",
         "52",
         "2",
         "88",
         "2019-06-14",
         "1.42",
         "1.0",
         "255.0",
         "Ny"
        ],
        [
         "32",
         "9782",
         "Loft in Williamsburg Area w/ Roof",
         "32169",
         "Andrea",
         "Brooklyn",
         "Greenpoint",
         "40.72219",
         "-73.93762",
         "Private room",
         "55",
         "4",
         "197",
         "2019-06-15",
         "1.65",
         "3.0",
         "284.0",
         "Ny"
        ],
        [
         "33",
         "9783",
         "back room/bunk beds",
         "32294",
         "Ssameer Or Trip",
         "Manhattan",
         "Harlem",
         "40.8213",
         "-73.95318",
         "Private room",
         "50",
         "3",
         "273",
         "2019-07-01",
         "2.37",
         "3.0",
         "359.0",
         "Ny"
        ],
        [
         "34",
         "10452",
         "Large B&B Style rooms",
         "35935",
         "Angela",
         "Brooklyn",
         "Bedford-Stuyvesant",
         "40.6831",
         "-73.95473",
         "Private room",
         "70",
         "1",
         "74",
         "2019-05-12",
         "0.66",
         "2.0",
         "269.0",
         "Ny"
        ],
        [
         "35",
         "10962",
         "Lovely room 2 & garden; Best area, Legal rental",
         "9744",
         "Laurie",
         "Brooklyn",
         "South Slope",
         "40.66869",
         "-73.9878",
         "Private room",
         "89",
         "4",
         "168",
         "2019-06-21",
         "1.41",
         "3.0",
         "340.0",
         "Ny"
        ],
        [
         "36",
         "11452",
         "Clean and Quiet in Brooklyn",
         "7355",
         "Vt",
         "Brooklyn",
         "Bedford-Stuyvesant",
         "40.68876",
         "-73.94312",
         "Private room",
         "35",
         "60",
         "0",
         null,
         null,
         "1.0",
         "365.0",
         "Ny"
        ],
        [
         "37",
         "11708",
         "Cute apt in artist's home",
         "44145",
         "Tyrome",
         "Brooklyn",
         "Bushwick",
         "40.70186",
         "-73.92745",
         "Entire home/apt",
         "85",
         "2",
         "231",
         "2019-06-22",
         "1.96",
         "2.0",
         "22.0",
         "Ny"
        ],
        [
         "38",
         "11943",
         "Country space in the city",
         "45445",
         "Harriet",
         "Brooklyn",
         "Flatbush",
         "40.63702",
         "-73.96327",
         "Private room",
         "150",
         "1",
         "0",
         null,
         null,
         "1.0",
         "365.0",
         "Ny"
        ],
        [
         "39",
         "12048",
         "LowerEastSide apt share shortterm 1",
         "7549",
         "Ben",
         "Manhattan",
         "Lower East Side",
         "40.71401",
         "-73.98917",
         "Shared room",
         "40",
         "1",
         "214",
         "2019-07-05",
         "1.81",
         "4.0",
         "188.0",
         "Ny"
        ],
        [
         "40",
         "12192",
         "ENJOY Downtown NYC!",
         "46978",
         "Edward",
         "Manhattan",
         "East Village",
         "40.7229",
         "-73.98199",
         "Private room",
         "68",
         "2",
         "245",
         "2019-06-21",
         "2.08",
         "2.0",
         "96.0",
         "Ny"
        ],
        [
         "41",
         "12299",
         "Beautiful Sunny Park Slope Brooklyn",
         "47610",
         "Abdul",
         "Brooklyn",
         "South Slope",
         "40.66278",
         "-73.97966",
         "Entire home/apt",
         "120",
         "3",
         "15",
         "2019-05-27",
         "0.39",
         "1.0",
         "345.0",
         "Ny"
        ],
        [
         "42",
         "12303",
         "1bdr w private bath. in lofty apt",
         "47618",
         "Yolande",
         "Brooklyn",
         "Fort Greene",
         "40.69673",
         "-73.97584",
         "Private room",
         "120",
         "7",
         "25",
         "2018-09-30",
         "0.23",
         "1.0",
         "311.0",
         "Ny"
        ],
        [
         "43",
         "12318",
         "West Side Retreat",
         "16800",
         "Cyn",
         "Manhattan",
         "Upper West Side",
         "40.79009",
         "-73.97927",
         "Private room",
         "135",
         "4",
         "81",
         "2019-06-16",
         "0.69",
         "1.0",
         "273.0",
         "Ny"
        ],
        [
         "44",
         "12343",
         "BEST BET IN HARLEM",
         "47727",
         "Earl",
         "Manhattan",
         "Harlem",
         "40.81175",
         "-73.94478",
         "Entire home/apt",
         "150",
         "7",
         "97",
         "2019-06-13",
         "0.84",
         "1.0",
         "309.0",
         "Ny"
        ],
        [
         "45",
         "12627",
         "Entire apartment in central Brooklyn neighborhood.",
         "49670",
         "Rana",
         "Brooklyn",
         "Prospect-Lefferts Gardens",
         "40.65944",
         "-73.96238",
         "Entire home/apt",
         "150",
         "29",
         "11",
         "2019-06-05",
         "0.49",
         "1.0",
         "95.0",
         "Ny"
        ],
        [
         "46",
         "12937",
         "1 Stop fr. Manhattan! Private Suite,Landmark Block",
         "50124",
         "Orestes",
         "Queens",
         "Long Island City",
         "40.74771",
         "-73.9474",
         "Private room",
         "130",
         "3",
         "248",
         "2019-07-01",
         "2.25",
         "1.0",
         "215.0",
         "Ny"
        ],
        [
         "47",
         "12940",
         "Charming Brownstone 3 - Near PRATT",
         "50148",
         "Adreinne",
         "Brooklyn",
         "Bedford-Stuyvesant",
         "40.68111",
         "-73.95591",
         "Entire home/apt",
         "110",
         "7",
         "61",
         "2019-05-25",
         "0.52",
         "1.0",
         "265.0",
         "Ny"
        ],
        [
         "48",
         "13050",
         "bright and stylish duplex",
         "50846",
         "Jennifer",
         "Brooklyn",
         "Bedford-Stuyvesant",
         "40.68554",
         "-73.9409",
         "Entire home/apt",
         "115",
         "3",
         "11",
         "2017-01-01",
         "0.1",
         "1.0",
         "0.0",
         "Ny"
        ],
        [
         "49",
         "13394",
         "Fort Greene brownstone",
         "52335",
         "Alexander",
         "Brooklyn",
         "Fort Greene",
         "40.69142",
         "-73.97376",
         "Private room",
         "80",
         "3",
         "135",
         "2019-06-17",
         "1.16",
         "2.0",
         "192.0",
         "Ny"
        ]
       ],
       "shape": {
        "columns": 17,
        "rows": 220031
       }
      },
      "text/html": [
       "<div>\n",
       "<style scoped>\n",
       "    .dataframe tbody tr th:only-of-type {\n",
       "        vertical-align: middle;\n",
       "    }\n",
       "\n",
       "    .dataframe tbody tr th {\n",
       "        vertical-align: top;\n",
       "    }\n",
       "\n",
       "    .dataframe thead th {\n",
       "        text-align: right;\n",
       "    }\n",
       "</style>\n",
       "<table border=\"1\" class=\"dataframe\">\n",
       "  <thead>\n",
       "    <tr style=\"text-align: right;\">\n",
       "      <th></th>\n",
       "      <th>id</th>\n",
       "      <th>name</th>\n",
       "      <th>host_id</th>\n",
       "      <th>host_name</th>\n",
       "      <th>neighbourhood_group</th>\n",
       "      <th>neighbourhood</th>\n",
       "      <th>latitude</th>\n",
       "      <th>longitude</th>\n",
       "      <th>room_type</th>\n",
       "      <th>price</th>\n",
       "      <th>minimum_nights</th>\n",
       "      <th>number_of_reviews</th>\n",
       "      <th>last_review</th>\n",
       "      <th>reviews_per_month</th>\n",
       "      <th>calculated_host_listings_count</th>\n",
       "      <th>availability_365</th>\n",
       "      <th>city</th>\n",
       "    </tr>\n",
       "  </thead>\n",
       "  <tbody>\n",
       "    <tr>\n",
       "      <th>0</th>\n",
       "      <td>2539</td>\n",
       "      <td>Clean &amp; quiet apt home by the park</td>\n",
       "      <td>2787</td>\n",
       "      <td>John</td>\n",
       "      <td>Brooklyn</td>\n",
       "      <td>Kensington</td>\n",
       "      <td>40.64749</td>\n",
       "      <td>-73.97237</td>\n",
       "      <td>Private room</td>\n",
       "      <td>149</td>\n",
       "      <td>1</td>\n",
       "      <td>9</td>\n",
       "      <td>2018-10-19</td>\n",
       "      <td>0.21</td>\n",
       "      <td>6.0</td>\n",
       "      <td>365.0</td>\n",
       "      <td>Ny</td>\n",
       "    </tr>\n",
       "    <tr>\n",
       "      <th>1</th>\n",
       "      <td>2595</td>\n",
       "      <td>Skylit Midtown Castle</td>\n",
       "      <td>2845</td>\n",
       "      <td>Jennifer</td>\n",
       "      <td>Manhattan</td>\n",
       "      <td>Midtown</td>\n",
       "      <td>40.75362</td>\n",
       "      <td>-73.98377</td>\n",
       "      <td>Entire home/apt</td>\n",
       "      <td>225</td>\n",
       "      <td>1</td>\n",
       "      <td>45</td>\n",
       "      <td>2019-05-21</td>\n",
       "      <td>0.38</td>\n",
       "      <td>2.0</td>\n",
       "      <td>355.0</td>\n",
       "      <td>Ny</td>\n",
       "    </tr>\n",
       "    <tr>\n",
       "      <th>2</th>\n",
       "      <td>3647</td>\n",
       "      <td>THE VILLAGE OF HARLEM....NEW YORK !</td>\n",
       "      <td>4632</td>\n",
       "      <td>Elisabeth</td>\n",
       "      <td>Manhattan</td>\n",
       "      <td>Harlem</td>\n",
       "      <td>40.80902</td>\n",
       "      <td>-73.94190</td>\n",
       "      <td>Private room</td>\n",
       "      <td>150</td>\n",
       "      <td>3</td>\n",
       "      <td>0</td>\n",
       "      <td>NaN</td>\n",
       "      <td>NaN</td>\n",
       "      <td>1.0</td>\n",
       "      <td>365.0</td>\n",
       "      <td>Ny</td>\n",
       "    </tr>\n",
       "    <tr>\n",
       "      <th>3</th>\n",
       "      <td>3831</td>\n",
       "      <td>Cozy Entire Floor of Brownstone</td>\n",
       "      <td>4869</td>\n",
       "      <td>LisaRoxanne</td>\n",
       "      <td>Brooklyn</td>\n",
       "      <td>Clinton Hill</td>\n",
       "      <td>40.68514</td>\n",
       "      <td>-73.95976</td>\n",
       "      <td>Entire home/apt</td>\n",
       "      <td>89</td>\n",
       "      <td>1</td>\n",
       "      <td>270</td>\n",
       "      <td>2019-07-05</td>\n",
       "      <td>4.64</td>\n",
       "      <td>1.0</td>\n",
       "      <td>194.0</td>\n",
       "      <td>Ny</td>\n",
       "    </tr>\n",
       "    <tr>\n",
       "      <th>4</th>\n",
       "      <td>5022</td>\n",
       "      <td>Entire Apt: Spacious Studio/Loft by central park</td>\n",
       "      <td>7192</td>\n",
       "      <td>Laura</td>\n",
       "      <td>Manhattan</td>\n",
       "      <td>East Harlem</td>\n",
       "      <td>40.79851</td>\n",
       "      <td>-73.94399</td>\n",
       "      <td>Entire home/apt</td>\n",
       "      <td>80</td>\n",
       "      <td>10</td>\n",
       "      <td>9</td>\n",
       "      <td>2018-11-19</td>\n",
       "      <td>0.10</td>\n",
       "      <td>1.0</td>\n",
       "      <td>0.0</td>\n",
       "      <td>Ny</td>\n",
       "    </tr>\n",
       "    <tr>\n",
       "      <th>...</th>\n",
       "      <td>...</td>\n",
       "      <td>...</td>\n",
       "      <td>...</td>\n",
       "      <td>...</td>\n",
       "      <td>...</td>\n",
       "      <td>...</td>\n",
       "      <td>...</td>\n",
       "      <td>...</td>\n",
       "      <td>...</td>\n",
       "      <td>...</td>\n",
       "      <td>...</td>\n",
       "      <td>...</td>\n",
       "      <td>...</td>\n",
       "      <td>...</td>\n",
       "      <td>...</td>\n",
       "      <td>...</td>\n",
       "      <td>...</td>\n",
       "    </tr>\n",
       "    <tr>\n",
       "      <th>220026</th>\n",
       "      <td>49185822</td>\n",
       "      <td>Habitación con TV con Netflix en Lavapiés</td>\n",
       "      <td>172011610</td>\n",
       "      <td>Belaid</td>\n",
       "      <td>Centro</td>\n",
       "      <td>Embajadores</td>\n",
       "      <td>40.40756</td>\n",
       "      <td>-3.69937</td>\n",
       "      <td>Private room</td>\n",
       "      <td>23</td>\n",
       "      <td>30</td>\n",
       "      <td>0</td>\n",
       "      <td>NaN</td>\n",
       "      <td>NaN</td>\n",
       "      <td>8.0</td>\n",
       "      <td>349.0</td>\n",
       "      <td>Madrid</td>\n",
       "    </tr>\n",
       "    <tr>\n",
       "      <th>220027</th>\n",
       "      <td>49186179</td>\n",
       "      <td>Habitación con TV con Netflix en Gaztambide</td>\n",
       "      <td>172011610</td>\n",
       "      <td>Belaid</td>\n",
       "      <td>Chamberí</td>\n",
       "      <td>Gaztambide</td>\n",
       "      <td>40.43706</td>\n",
       "      <td>-3.71364</td>\n",
       "      <td>Private room</td>\n",
       "      <td>21</td>\n",
       "      <td>30</td>\n",
       "      <td>0</td>\n",
       "      <td>NaN</td>\n",
       "      <td>NaN</td>\n",
       "      <td>8.0</td>\n",
       "      <td>350.0</td>\n",
       "      <td>Madrid</td>\n",
       "    </tr>\n",
       "    <tr>\n",
       "      <th>220028</th>\n",
       "      <td>49187258</td>\n",
       "      <td>Habitación con TV con Netflix en Chamberí</td>\n",
       "      <td>172011610</td>\n",
       "      <td>Belaid</td>\n",
       "      <td>Chamberí</td>\n",
       "      <td>Arapiles</td>\n",
       "      <td>40.43857</td>\n",
       "      <td>-3.70715</td>\n",
       "      <td>Private room</td>\n",
       "      <td>22</td>\n",
       "      <td>7</td>\n",
       "      <td>0</td>\n",
       "      <td>NaN</td>\n",
       "      <td>NaN</td>\n",
       "      <td>8.0</td>\n",
       "      <td>364.0</td>\n",
       "      <td>Madrid</td>\n",
       "    </tr>\n",
       "    <tr>\n",
       "      <th>220029</th>\n",
       "      <td>49187471</td>\n",
       "      <td>Habitación con TV con Netflix en Goya</td>\n",
       "      <td>172011610</td>\n",
       "      <td>Belaid</td>\n",
       "      <td>Salamanca</td>\n",
       "      <td>Guindalera</td>\n",
       "      <td>40.43027</td>\n",
       "      <td>-3.66759</td>\n",
       "      <td>Private room</td>\n",
       "      <td>19</td>\n",
       "      <td>30</td>\n",
       "      <td>0</td>\n",
       "      <td>NaN</td>\n",
       "      <td>NaN</td>\n",
       "      <td>8.0</td>\n",
       "      <td>349.0</td>\n",
       "      <td>Madrid</td>\n",
       "    </tr>\n",
       "    <tr>\n",
       "      <th>220030</th>\n",
       "      <td>49187791</td>\n",
       "      <td>Habitación con TV con Netflix en Chamberí</td>\n",
       "      <td>172011610</td>\n",
       "      <td>Belaid</td>\n",
       "      <td>Chamberí</td>\n",
       "      <td>Arapiles</td>\n",
       "      <td>40.43484</td>\n",
       "      <td>-3.70667</td>\n",
       "      <td>Private room</td>\n",
       "      <td>20</td>\n",
       "      <td>30</td>\n",
       "      <td>0</td>\n",
       "      <td>NaN</td>\n",
       "      <td>NaN</td>\n",
       "      <td>8.0</td>\n",
       "      <td>349.0</td>\n",
       "      <td>Madrid</td>\n",
       "    </tr>\n",
       "  </tbody>\n",
       "</table>\n",
       "<p>220031 rows × 17 columns</p>\n",
       "</div>"
      ],
      "text/plain": [
       "              id                                              name    host_id    host_name neighbourhood_group neighbourhood  latitude  longitude        room_type  price  minimum_nights  number_of_reviews last_review  reviews_per_month  calculated_host_listings_count  availability_365    city\n",
       "0           2539                Clean & quiet apt home by the park       2787         John            Brooklyn    Kensington  40.64749  -73.97237     Private room    149               1                  9  2018-10-19               0.21                             6.0             365.0      Ny\n",
       "1           2595                             Skylit Midtown Castle       2845     Jennifer           Manhattan       Midtown  40.75362  -73.98377  Entire home/apt    225               1                 45  2019-05-21               0.38                             2.0             355.0      Ny\n",
       "2           3647               THE VILLAGE OF HARLEM....NEW YORK !       4632    Elisabeth           Manhattan        Harlem  40.80902  -73.94190     Private room    150               3                  0         NaN                NaN                             1.0             365.0      Ny\n",
       "3           3831                   Cozy Entire Floor of Brownstone       4869  LisaRoxanne            Brooklyn  Clinton Hill  40.68514  -73.95976  Entire home/apt     89               1                270  2019-07-05               4.64                             1.0             194.0      Ny\n",
       "4           5022  Entire Apt: Spacious Studio/Loft by central park       7192        Laura           Manhattan   East Harlem  40.79851  -73.94399  Entire home/apt     80              10                  9  2018-11-19               0.10                             1.0               0.0      Ny\n",
       "...          ...                                               ...        ...          ...                 ...           ...       ...        ...              ...    ...             ...                ...         ...                ...                             ...               ...     ...\n",
       "220026  49185822         Habitación con TV con Netflix en Lavapiés  172011610       Belaid              Centro   Embajadores  40.40756   -3.69937     Private room     23              30                  0         NaN                NaN                             8.0             349.0  Madrid\n",
       "220027  49186179       Habitación con TV con Netflix en Gaztambide  172011610       Belaid            Chamberí    Gaztambide  40.43706   -3.71364     Private room     21              30                  0         NaN                NaN                             8.0             350.0  Madrid\n",
       "220028  49187258         Habitación con TV con Netflix en Chamberí  172011610       Belaid            Chamberí      Arapiles  40.43857   -3.70715     Private room     22               7                  0         NaN                NaN                             8.0             364.0  Madrid\n",
       "220029  49187471             Habitación con TV con Netflix en Goya  172011610       Belaid           Salamanca    Guindalera  40.43027   -3.66759     Private room     19              30                  0         NaN                NaN                             8.0             349.0  Madrid\n",
       "220030  49187791         Habitación con TV con Netflix en Chamberí  172011610       Belaid            Chamberí      Arapiles  40.43484   -3.70667     Private room     20              30                  0         NaN                NaN                             8.0             349.0  Madrid\n",
       "\n",
       "[220031 rows x 17 columns]"
      ]
     },
     "execution_count": 6,
     "metadata": {},
     "output_type": "execute_result"
    }
   ],
   "source": [
    "df_raw_1"
   ]
  },
  {
   "cell_type": "markdown",
   "metadata": {},
   "source": [
    "####  <span style=\"color:#fe5608\"> [\"availability_365\"] </span>\n",
    "\n",
    "- Original nulls QTY: 11,466 -- 5.21%\n",
    "- Distribuition with outliers\n",
    "- Tokyo is the only city with no values\n",
    "    - Imputed with the global mean of other cities.\n",
    "\n",
    "TOKYO NEEDS TO BE LOOKED CAREFULLY    "
   ]
  },
  {
   "cell_type": "markdown",
   "metadata": {},
   "source": [
    "####  <span style=\"color:#f6f794\"> Columns Types </span>\n",
    "- Changes:\n",
    "    - [\"last_review\"]\n",
    "        - originally it was like object but since it is a date, it was turn into a datetime type"
   ]
  },
  {
   "cell_type": "code",
   "execution_count": 7,
   "metadata": {},
   "outputs": [
    {
     "data": {
      "application/vnd.microsoft.datawrangler.viewer.v0+json": {
       "columns": [
        {
         "name": "index",
         "rawType": "object",
         "type": "string"
        },
        {
         "name": "0",
         "rawType": "object",
         "type": "unknown"
        }
       ],
       "ref": "3b250d3e-50bc-4ee2-a708-1c65a64f87ee",
       "rows": [
        [
         "id",
         "int64"
        ],
        [
         "name",
         "object"
        ],
        [
         "host_id",
         "int64"
        ],
        [
         "host_name",
         "object"
        ],
        [
         "neighbourhood_group",
         "object"
        ],
        [
         "neighbourhood",
         "object"
        ],
        [
         "latitude",
         "float64"
        ],
        [
         "longitude",
         "float64"
        ],
        [
         "room_type",
         "object"
        ],
        [
         "price",
         "int64"
        ],
        [
         "minimum_nights",
         "int64"
        ],
        [
         "number_of_reviews",
         "int64"
        ],
        [
         "last_review",
         "object"
        ],
        [
         "reviews_per_month",
         "float64"
        ],
        [
         "calculated_host_listings_count",
         "float64"
        ],
        [
         "availability_365",
         "float64"
        ],
        [
         "city",
         "object"
        ]
       ],
       "shape": {
        "columns": 1,
        "rows": 17
       }
      },
      "text/plain": [
       "id                                  int64\n",
       "name                               object\n",
       "host_id                             int64\n",
       "host_name                          object\n",
       "neighbourhood_group                object\n",
       "neighbourhood                      object\n",
       "latitude                          float64\n",
       "longitude                         float64\n",
       "room_type                          object\n",
       "price                               int64\n",
       "minimum_nights                      int64\n",
       "number_of_reviews                   int64\n",
       "last_review                        object\n",
       "reviews_per_month                 float64\n",
       "calculated_host_listings_count    float64\n",
       "availability_365                  float64\n",
       "city                               object\n",
       "dtype: object"
      ]
     },
     "execution_count": 7,
     "metadata": {},
     "output_type": "execute_result"
    }
   ],
   "source": [
    "df_raw_1.dtypes"
   ]
  },
  {
   "cell_type": "code",
   "execution_count": 8,
   "metadata": {},
   "outputs": [],
   "source": [
    "df_raw_1[\"last_review\"] = pd.to_datetime(df_raw_1[\"last_review\"], errors=\"coerce\")\n"
   ]
  },
  {
   "cell_type": "markdown",
   "metadata": {},
   "source": [
    "####  <span style=\"color:#f6f794\"> Changing Column: [\"city\"] data </span>"
   ]
  },
  {
   "cell_type": "code",
   "execution_count": 9,
   "metadata": {},
   "outputs": [
    {
     "data": {
      "text/plain": [
       "array(['Ny', 'London', 'Milan', 'Tokyo', 'Sydney', 'Madrid'], dtype=object)"
      ]
     },
     "execution_count": 9,
     "metadata": {},
     "output_type": "execute_result"
    }
   ],
   "source": [
    "df_raw_1[\"city\"].unique()"
   ]
  },
  {
   "cell_type": "code",
   "execution_count": 10,
   "metadata": {},
   "outputs": [],
   "source": [
    "df_raw_1[\"city\"] = df_raw_1[\"city\"].replace(\"Ny\", \"New York\")"
   ]
  },
  {
   "cell_type": "markdown",
   "metadata": {},
   "source": [
    "####  <span style=\"color:#f6f794\"> Cleaning text </span>\n",
    "\n",
    "- Eliminating with method <u>.strip()</u> white spaces and other \"invisible characters which might become problematic in the future."
   ]
  },
  {
   "cell_type": "code",
   "execution_count": 11,
   "metadata": {},
   "outputs": [],
   "source": [
    "df_raw_1['city'] = df_raw_1['city'].str.strip()\n",
    "df_raw_1['host_name'] = df_raw_1['host_name'].str.strip()\n",
    "df_raw_1['neighbourhood_group'] = df_raw_1['neighbourhood_group'].str.strip()\n",
    "df_raw_1['neighbourhood'] = df_raw_1['neighbourhood'].str.strip()\n"
   ]
  },
  {
   "cell_type": "markdown",
   "metadata": {},
   "source": [
    "####  <span style=\"color:#f6f794\"> Seeking for duplicates </span>\n",
    "\n",
    "- Apparently there are no duplicates rows."
   ]
  },
  {
   "cell_type": "code",
   "execution_count": 12,
   "metadata": {},
   "outputs": [
    {
     "data": {
      "text/plain": [
       "np.int64(0)"
      ]
     },
     "execution_count": 12,
     "metadata": {},
     "output_type": "execute_result"
    }
   ],
   "source": [
    "df_raw_1['id'].duplicated().sum()\n",
    "df_raw_1.duplicated().sum()"
   ]
  },
  {
   "cell_type": "markdown",
   "metadata": {},
   "source": [
    "####  <span style=\"color:#f6f794\"> Seeking for nulls </span>"
   ]
  },
  {
   "cell_type": "code",
   "execution_count": 13,
   "metadata": {},
   "outputs": [
    {
     "data": {
      "application/vnd.microsoft.datawrangler.viewer.v0+json": {
       "columns": [
        {
         "name": "index",
         "rawType": "object",
         "type": "string"
        },
        {
         "name": "0",
         "rawType": "int64",
         "type": "integer"
        }
       ],
       "ref": "0998f491-00d3-4695-9cca-30ed3c0471da",
       "rows": [
        [
         "neighbourhood_group",
         "151518"
        ],
        [
         "last_review",
         "67631"
        ],
        [
         "reviews_per_month",
         "54371"
        ],
        [
         "availability_365",
         "11466"
        ],
        [
         "calculated_host_listings_count",
         "11466"
        ],
        [
         "host_name",
         "706"
        ],
        [
         "name",
         "67"
        ],
        [
         "id",
         "0"
        ],
        [
         "host_id",
         "0"
        ],
        [
         "room_type",
         "0"
        ],
        [
         "longitude",
         "0"
        ],
        [
         "latitude",
         "0"
        ],
        [
         "neighbourhood",
         "0"
        ],
        [
         "number_of_reviews",
         "0"
        ],
        [
         "minimum_nights",
         "0"
        ],
        [
         "price",
         "0"
        ],
        [
         "city",
         "0"
        ]
       ],
       "shape": {
        "columns": 1,
        "rows": 17
       }
      },
      "text/plain": [
       "neighbourhood_group               151518\n",
       "last_review                        67631\n",
       "reviews_per_month                  54371\n",
       "availability_365                   11466\n",
       "calculated_host_listings_count     11466\n",
       "host_name                            706\n",
       "name                                  67\n",
       "id                                     0\n",
       "host_id                                0\n",
       "room_type                              0\n",
       "longitude                              0\n",
       "latitude                               0\n",
       "neighbourhood                          0\n",
       "number_of_reviews                      0\n",
       "minimum_nights                         0\n",
       "price                                  0\n",
       "city                                   0\n",
       "dtype: int64"
      ]
     },
     "execution_count": 13,
     "metadata": {},
     "output_type": "execute_result"
    }
   ],
   "source": [
    "df_raw_1.isna().sum().sort_values(ascending=False)"
   ]
  },
  {
   "cell_type": "markdown",
   "metadata": {},
   "source": [
    "____\n",
    "###  <span style=\"color:#f6f794\"> Imputing nulls </span> \n",
    "\n",
    "- <span style=\"color:#fe5608\">  neighbourhood_group  </span> THIS COLUMN <u>CANNOT</u> BE TAKEN INTO ACCOUNT\n",
    "    - Original nulls: 151,518 \n",
    "    - Imputed by \"Unknown\" \n",
    "        - There are no neighbourhoods_groups for the cities affected\n",
    "        - The only way to impute is:\n",
    "            - to use the geopy library\n",
    "            - study the administrative division in countries affected\n",
    "            - If there is time and this columns is really needed I'll do it\n",
    "        - In the meantime, the column will be imputed with \"Unknown\"\n",
    "\n",
    "- <span style=\"color:#fe5608\">  reviews_per_month </span> THIS COLUMN <u>SHOULD NOT</u> BE TAKEN INTO ACCOUNT\n",
    "    - Original nulls QTY: 54,371\n",
    "        - If there are no \"number_of_reviews\", there are no \"reviews_per_month\" therefore, this will be imputed with 0 when there are no reviews to start with\n",
    "    - Afeter 1st imputation:123 nulls left\n",
    "        - When there are no \"last_reviews\", there are no \"reviews_per_month\", which is logic\n",
    "        - Imputing with zero \"0.0\" when \"number_of_reviews\" is 1 and when \"last_review\" is null\n",
    "            - In order not to false any data and since this column means how many reviews they got per month and since they only got 1, this might mean they got the first and only review when the \"guests\" just left\n",
    "    - After 2nd imputation: 6 nulls left\n",
    "        - Imputed by median\n",
    "- <span style=\"color:#fe5608\">  last_review </span> THIS COLUMN <u>CANNOT</u> BE TAKEN INTO ACCOUNT\n",
    "    - Original nulls: 54,371 \n",
    "        - Imputed with \"1900-01-01\" when \"number_of_reviews\" is 0 and \"reviews_per_month\" is 0.0\n",
    "            - Since a model will be used and it is not possible to have a Nan, it will be imputed with date \"1900-01-01\" \n",
    "            - 54,371 -  13,383 = 40,988 rows where imputed\n",
    "    - After 1st imputation: 13,383 nulls left\n",
    "    - After 2nd imputation:  2,209 nulls left\n",
    "        - There's no way to impute this except by a fake date\n",
    "        - Imputed with \"1900-01-01\" \n",
    "    - After 3rd imputation:      0 nulls left\n",
    "\n",
    "- <span style=\"color:#fe5608\">  availability_365 </span>\n",
    "    - Original nulls QTY: 11,466 -- 5.21%\n",
    "    - Distribuition with outliers\n",
    "    - Tokyo is the only city with no values\n",
    "        - Imputed with the global mean of other cities.\n",
    "\n",
    "    TOKYO NEEDS TO BE LOOKED CAREFULLY \n",
    "- <span style=\"color:#fe5608\">  calculated_host_listings_count </span> NOT TO TAKE INTO ACCOUNT TOKYO in this COLUMN\n",
    "    - Original nulls QTY: 11,466 -- 5.21%\n",
    "    - Tokyo is the city with null values\n",
    "    - Imputed with zero \"0\"\n",
    "    - This column has nothing to do with the appartment and everything to do with the host, since in this dataset there's nothing regarding the host, it has no sense to impute.\n",
    "\n",
    "- <span style=\"color:#fe5608\">  host_name </span>\n",
    "    - Original nulls qty: 706\n",
    "    - host_id : 175128252 has at least 2 different host_names\n",
    "        - It seems the name was changed for company reasons\n",
    "        - It will be changed to \"Team Gospodin\"\n",
    "    - After 1st imputation: qty of nulls: 586\n",
    "    - After 2nd impitation: qty of nulls 0\n",
    "- <span style=\"color:#fe5608\">  name </span>\n",
    "    - Original nulls qty: 67\n",
    "    - Too little to keep BUT, let's keep it for the moment\n",
    "        - Since it is necessary for the rows to be filled for the possible future model, let's impute them with \"Unknown title \""
   ]
  },
  {
   "cell_type": "markdown",
   "metadata": {},
   "source": [
    "####  <span style=\"color:#fe5608\"> [\"neighbourhood_group\"] </span>\n",
    "\n",
    "- Original nulls: 151,518 \n",
    "    - Imputed by \"Unknown\" \n",
    "        - There are no neighbourhoods_groups for the cities affected\n",
    "        - The only way to impute is:\n",
    "            - to use the geopy library\n",
    "            - study the administrative division in countries affected\n",
    "            - If there is time and this columns is really needed I'll do it\n",
    "        - In the meantime, the column will be imputed with \"Unknown\""
   ]
  },
  {
   "cell_type": "code",
   "execution_count": 14,
   "metadata": {},
   "outputs": [
    {
     "data": {
      "text/plain": [
       "array([nan], dtype=object)"
      ]
     },
     "execution_count": 14,
     "metadata": {},
     "output_type": "execute_result"
    }
   ],
   "source": [
    "# Checking what neighbourhood appears when neighbourhood_group is null\n",
    "df_raw_1[df_raw_1['neighbourhood_group'].isnull()][[\"neighbourhood_group\",'neighbourhood', 'city']]\n",
    "\n",
    "# Check if that neighbourhood appears in any other neighbourhood_group\n",
    "nbh_group_map = df_raw_1[['neighbourhood', 'neighbourhood_group']].drop_duplicates()\n",
    "nbh_group_conflicts = nbh_group_map.groupby('neighbourhood')['neighbourhood_group'].nunique() # None\n",
    "\n",
    "# Check which Cities are when the neighbourhood_group is null\n",
    "df_raw_1[df_raw_1['neighbourhood_group'].isnull()]['city'].unique() # ['London', 'Milan', 'Tokyo', 'Sydney']\n",
    "\n",
    "# Check how many neighbourhoods are in each City when neighbourhood_group is null\n",
    "df_raw_1[df_raw_1['neighbourhood_group'].isnull()].groupby('city')['neighbourhood'].nunique() # London: 33, Milan: 87, Tokyo: 38, Sydney: 56\n",
    " \n",
    "# Checking now how many neighbourhoods are in each City when neighbourhood_group is NOT null\n",
    "df_raw_1[df_raw_1['neighbourhood_group'].notnull()].groupby('city')['neighbourhood'].nunique() # Madrid: 128, New York: 221\n",
    "\n",
    "# Checking the lenght of neighbourhood by City when neighbourhood_group is null and when it is not null\n",
    "df_raw_1[df_raw_1['neighbourhood_group'].isnull()].groupby('city')['neighbourhood'].apply(lambda x: len(x.unique())) # London: 33, Milan: 87, Tokyo: 38, Sydney: 56\n",
    "df_raw_1[df_raw_1['neighbourhood'].isnull()].groupby('city')['neighbourhood_group'].apply(lambda x: len(x.unique())) # 0\n",
    "\n",
    "# Checking which neighbourhoods are in each City when neighbourhood_group is null\n",
    "df_raw_1[df_raw_1['neighbourhood_group'].isnull()].groupby('city')['neighbourhood'].unique() # London: 33, Milan: 87, Tokyo: 38, Sydney: 56\n",
    "\n",
    "# Check unique neighbourhood_group values when city is not Madrid or New York\n",
    "df_raw_1[df_raw_1['city'].isin(['London', 'Milan', 'Tokyo', 'Sydney'])]['neighbourhood_group'].unique() # [nan]"
   ]
  },
  {
   "cell_type": "code",
   "execution_count": 15,
   "metadata": {},
   "outputs": [
    {
     "data": {
      "application/vnd.microsoft.datawrangler.viewer.v0+json": {
       "columns": [
        {
         "name": "city",
         "rawType": "object",
         "type": "string"
        },
        {
         "name": "neighbourhood",
         "rawType": "object",
         "type": "unknown"
        }
       ],
       "ref": "d1c5450c-d2bf-4071-a1a8-d492ed503359",
       "rows": [
        [
         "London",
         "['Lambeth', 'Islington', 'Kensington and Chelsea', 'Westminster', 'Wandsworth', 'Croydon', 'Tower Hamlets', 'Hammersmith and Fulham', 'Barnet', 'Merton', 'Hounslow', 'Camden', 'Haringey', 'Richmond upon Thames', 'Southwark', 'Hackney', 'Brent', 'Ealing', 'Waltham Forest', 'Newham', 'Lewisham', 'Enfield', 'City of London', 'Greenwich', 'Bromley', 'Hillingdon', 'Havering', 'Barking and Dagenham', 'Harrow', 'Redbridge', 'Kingston upon Thames', 'Bexley', 'Sutton']"
        ],
        [
         "Milan",
         "['TIBALDI', 'NAVIGLI', 'SARPI', 'VIALE MONZA', 'BUENOS AIRES - VENEZIA', 'MAGENTA - S. VITTORE', 'CENTRALE', 'XXII MARZO', 'BRERA', 'DUOMO', 'TICINESE', 'ISOLA', 'BANDE NERE', 'WASHINGTON', 'UMBRIA - MOLISE', 'PARCO FORLANINI - ORTICA', 'LAMBRATE', 'VILLAPIZZONE', 'GUASTALLA', \"CITTA' STUDI\", 'STADERA', 'S. SIRO', 'S. CRISTOFORO', 'GIAMBELLINO', 'PADOVA', 'LORETO', 'DE ANGELI - MONTE ROSA', 'BOVISASCA', 'PORTA ROMANA', 'TORTONA', 'GRATOSOGLIO - TICINELLO', 'VIGENTINA', 'BICOCCA', 'GARIBALDI REPUBBLICA', 'GHISOLFA', 'RIPAMONTI', 'PORTELLO', 'SACCO', 'PARCO LAMBRO - CIMIANO', 'RONCHETTO SUL NAVIGLIO', 'BOVISA', 'LODI - CORVETTO', 'FORZE ARMATE', 'BAGGIO', 'BARONA', 'PAGANO', 'FARINI', 'SCALO ROMANA', 'CORSICA', 'GRECO', 'GALLARATESE', 'EX OM - MORIVIONE', 'ORTOMERCATO', 'MACIACHINI - MAGGIOLINA', \"NIGUARDA - CA' GRANDA\", 'MAGGIORE - MUSOCCO', 'LORENTEGGIO', 'DERGANO', 'TRE TORRI', 'ADRIANO', 'QUINTO ROMANO', 'QUARTO CAGNINO', 'COMASINA', 'ROGOREDO', 'QT 8', 'SELINUNTE', 'MECENATE', 'QUARTO OGGIARO', 'TRIULZO SUPERIORE', 'AFFORI', 'BRUZZANO', \"PARCO MONLUE' - PONTE LAMBRO\", 'CHIARAVALLE', 'GIARDINI PORTA VENEZIA', 'PARCO SEMPIONE', 'PARCO BOSCO IN CITT', 'PARCO AGRICOLO SUD', 'FIGINO', 'PARCO NORD', 'PARCO DELLE ABBAZIE', 'PARCO DEI NAVIGLI', 'TRENNO', 'CANTALUPA', 'QUINTOSOLE', 'MUGGIANO', 'STEPHENSON', 'CASCINA TRIULZA - EXPO']"
        ],
        [
         "Sydney",
         "['Sydney', 'Manly', 'Leichhardt', 'Woollahra', 'North Sydney', 'Waverley', 'Mosman', 'Pittwater', 'Lane Cove', 'Marrickville', 'The Hills Shire', 'Hornsby', 'Warringah', 'Randwick', 'Sutherland Shire', 'Ku-Ring-Gai', 'Canterbury', 'Blacktown', 'Willoughby', 'Auburn', 'Canada Bay', 'Ashfield', 'City Of Kogarah', 'Parramatta', 'Hurstville', 'Ryde', 'Rockdale', 'Botany Bay', 'Holroyd', 'Penrith', 'Hunters Hill', 'Burwood', 'Campbelltown', 'Strathfield', 'Camden', 'Liverpool', 'Bankstown', 'Fairfield']"
        ],
        [
         "Tokyo",
         "['Shibuya Ku', 'Sumida Ku', 'Nerima Ku', 'Setagaya Ku', 'Arakawa Ku', 'Shinjuku Ku', 'Mitaka Shi', 'Adachi Ku', 'Katsushika Ku', 'Meguro Ku', 'Toshima Ku', 'Minato Ku', 'Shinagawa Ku', 'Suginami Ku', 'Koto Ku', 'Akishima Shi', 'Bunkyo Ku', 'Taito Ku', 'Itabashi Ku', 'Ota Ku', 'Edogawa Ku', 'Machida Shi', 'Kita Ku', 'Higashimurayama Shi', 'Nakano Ku', 'Hino Shi', 'Hachioji Shi', 'Koganei Shi', 'Kokubunji Shi', 'Ogasawara Mura', 'Musashino Shi', 'Okutama Machi', 'Kodaira Shi', 'Akiruno Shi', 'Chiyoda Ku', 'Chuo Ku', 'Fuchu Shi', 'Inagi Shi', 'Fussa Shi', 'Tama Shi', 'Nishitokyo Shi', 'Komae Shi', 'Chofu Shi', 'Hinohara Mura', 'Ome Shi', 'Oshima Machi', 'Kozushima Mura', 'Higashiyamato Shi', 'Hamura Shi', 'Tachikawa Shi', 'Musashimurayama Shi', 'Niijima Mura', 'Hachijo Machi', 'Miyake Mura', 'Kunitachi Shi', 'Higashikurume Shi']"
        ]
       ],
       "shape": {
        "columns": 1,
        "rows": 4
       }
      },
      "text/plain": [
       "city\n",
       "London    [Lambeth, Islington, Kensington and Chelsea, W...\n",
       "Milan     [TIBALDI, NAVIGLI, SARPI, VIALE MONZA, BUENOS ...\n",
       "Sydney    [Sydney, Manly, Leichhardt, Woollahra, North S...\n",
       "Tokyo     [Shibuya Ku, Sumida Ku, Nerima Ku, Setagaya Ku...\n",
       "Name: neighbourhood, dtype: object"
      ]
     },
     "execution_count": 15,
     "metadata": {},
     "output_type": "execute_result"
    }
   ],
   "source": [
    "# Check the nunique neighbourhood grouped by city when neighbourhood_group is null, so we can determine from which neighbourhood_group the neighbourhoods are\n",
    "df_raw_1[df_raw_1['neighbourhood_group'].isnull()] \\\n",
    "    .groupby('city')['neighbourhood'] \\\n",
    "    .unique() \\\n",
    "    .apply(list)"
   ]
  },
  {
   "cell_type": "code",
   "execution_count": 16,
   "metadata": {},
   "outputs": [
    {
     "name": "stdout",
     "output_type": "stream",
     "text": [
      "London: Lambeth, Islington, Kensington and Chelsea, Westminster, Wandsworth, Croydon, Tower Hamlets, Hammersmith and Fulham, Barnet, Merton, Hounslow, Camden, Haringey, Richmond upon Thames, Southwark, Hackney, Brent, Ealing, Waltham Forest, Newham, Lewisham, Enfield, City of London, Greenwich, Bromley, Hillingdon, Havering, Barking and Dagenham, Harrow, Redbridge, Kingston upon Thames, Bexley, Sutton\n",
      "Milan: TIBALDI, NAVIGLI, SARPI, VIALE MONZA, BUENOS AIRES - VENEZIA, MAGENTA - S. VITTORE, CENTRALE, XXII MARZO, BRERA, DUOMO, TICINESE, ISOLA, BANDE NERE, WASHINGTON, UMBRIA - MOLISE, PARCO FORLANINI - ORTICA, LAMBRATE, VILLAPIZZONE, GUASTALLA, CITTA' STUDI, STADERA, S. SIRO, S. CRISTOFORO, GIAMBELLINO, PADOVA, LORETO, DE ANGELI - MONTE ROSA, BOVISASCA, PORTA ROMANA, TORTONA, GRATOSOGLIO - TICINELLO, VIGENTINA, BICOCCA, GARIBALDI REPUBBLICA, GHISOLFA, RIPAMONTI, PORTELLO, SACCO, PARCO LAMBRO - CIMIANO, RONCHETTO SUL NAVIGLIO, BOVISA, LODI - CORVETTO, FORZE ARMATE, BAGGIO, BARONA, PAGANO, FARINI, SCALO ROMANA, CORSICA, GRECO, GALLARATESE, EX OM - MORIVIONE, ORTOMERCATO, MACIACHINI - MAGGIOLINA, NIGUARDA - CA' GRANDA, MAGGIORE - MUSOCCO, LORENTEGGIO, DERGANO, TRE TORRI, ADRIANO, QUINTO ROMANO, QUARTO CAGNINO, COMASINA, ROGOREDO, QT 8, SELINUNTE, MECENATE, QUARTO OGGIARO, TRIULZO SUPERIORE, AFFORI, BRUZZANO, PARCO MONLUE' - PONTE LAMBRO, CHIARAVALLE, GIARDINI PORTA VENEZIA, PARCO SEMPIONE, PARCO BOSCO IN CITT, PARCO AGRICOLO SUD, FIGINO, PARCO NORD, PARCO DELLE ABBAZIE, PARCO DEI NAVIGLI, TRENNO, CANTALUPA, QUINTOSOLE, MUGGIANO, STEPHENSON, CASCINA TRIULZA - EXPO\n",
      "Sydney: Sydney, Manly, Leichhardt, Woollahra, North Sydney, Waverley, Mosman, Pittwater, Lane Cove, Marrickville, The Hills Shire, Hornsby, Warringah, Randwick, Sutherland Shire, Ku-Ring-Gai, Canterbury, Blacktown, Willoughby, Auburn, Canada Bay, Ashfield, City Of Kogarah, Parramatta, Hurstville, Ryde, Rockdale, Botany Bay, Holroyd, Penrith, Hunters Hill, Burwood, Campbelltown, Strathfield, Camden, Liverpool, Bankstown, Fairfield\n",
      "Tokyo: Shibuya Ku, Sumida Ku, Nerima Ku, Setagaya Ku, Arakawa Ku, Shinjuku Ku, Mitaka Shi, Adachi Ku, Katsushika Ku, Meguro Ku, Toshima Ku, Minato Ku, Shinagawa Ku, Suginami Ku, Koto Ku, Akishima Shi, Bunkyo Ku, Taito Ku, Itabashi Ku, Ota Ku, Edogawa Ku, Machida Shi, Kita Ku, Higashimurayama Shi, Nakano Ku, Hino Shi, Hachioji Shi, Koganei Shi, Kokubunji Shi, Ogasawara Mura, Musashino Shi, Okutama Machi, Kodaira Shi, Akiruno Shi, Chiyoda Ku, Chuo Ku, Fuchu Shi, Inagi Shi, Fussa Shi, Tama Shi, Nishitokyo Shi, Komae Shi, Chofu Shi, Hinohara Mura, Ome Shi, Oshima Machi, Kozushima Mura, Higashiyamato Shi, Hamura Shi, Tachikawa Shi, Musashimurayama Shi, Niijima Mura, Hachijo Machi, Miyake Mura, Kunitachi Shi, Higashikurume Shi\n"
     ]
    }
   ],
   "source": [
    "# Checkin the neighbourhoods grouped by city when city is not Madrid or New York\n",
    "df_raw_1[df_raw_1['city'].isin(['London', 'Milan', 'Tokyo', 'Sydney'])] \\\n",
    "    .groupby('city')['neighbourhood'] \\\n",
    "    .unique() \\\n",
    "    .apply(list)\n",
    "\n",
    "# Printing the neighbourhoods grouped by city when neighbourhood_group is null\n",
    "for city, neighbourhoods in df_raw_1[df_raw_1['neighbourhood_group'].isnull()] \\\n",
    "        .groupby('city')['neighbourhood'] \\\n",
    "        .unique() \\\n",
    "        .items():\n",
    "    print(f\"{city}: {', '.join(neighbourhoods)}\")"
   ]
  },
  {
   "cell_type": "code",
   "execution_count": 17,
   "metadata": {},
   "outputs": [],
   "source": [
    "# from geopy.geocoders import Nominatim\n",
    "# from geopy.extra.rate_limiter import RateLimiter\n",
    "# import pandas as pd\n",
    "# import time\n",
    "\n",
    "# # ---------- CONFIGURACIÓN GENERAL ---------- #\n",
    "# geolocator = Nominatim(user_agent=\"geoapiExercises\")\n",
    "# reverse = RateLimiter(geolocator.reverse, min_delay_seconds=1)\n",
    "\n",
    "# # Función para obtener la área administrativa\n",
    "# def get_admin_area(row):\n",
    "#     try:\n",
    "#         location = reverse((row['latitude'], row['longitude']), exactly_one=True)\n",
    "#         if location and 'address' in location.raw:\n",
    "#             address = location.raw['address']\n",
    "#             return address.get('suburb') or address.get('neighbourhood') or address.get('city_district') or address.get('district')\n",
    "#     except Exception as e:\n",
    "#         print(f\"Error: {e}\")\n",
    "#     return None\n",
    "\n",
    "# # ---------- PROCESAMIENTO POR CIUDADES Y CHUNKS ---------- #\n",
    "# # Lista de ciudades a procesar\n",
    "# cities_to_process = ['London', 'Milan', 'Tokyo', 'Sydney']\n",
    "\n",
    "# # Tamaño del chunk\n",
    "# chunk_size = 50\n",
    "\n",
    "# # Recorremos cada ciudad\n",
    "# for city in cities_to_process:\n",
    "#     df_city = df_missing_group[df_missing_group['city'] == city].copy()\n",
    "#     total_rows = len(df_city)\n",
    "#     print(f\"\\n📍 Procesando ciudad: {city} ({total_rows} filas)\\n\")\n",
    "\n",
    "#     # Dividir en chunks\n",
    "#     for start in range(0, total_rows, chunk_size):\n",
    "#         end = min(start + chunk_size, total_rows)\n",
    "#         chunk = df_city.iloc[start:end].copy()\n",
    "\n",
    "#         # Aplicar función\n",
    "#         print(f\"⏳ Procesando filas {start} a {end}...\")\n",
    "#         chunk['admin_area_guess'] = chunk.apply(get_admin_area, axis=1)\n",
    "\n",
    "#         # Guardar chunk procesado\n",
    "#         filename = f\"reverse_{city.lower()}_chunk_{start}_{end}.csv\"\n",
    "#         chunk.to_csv(filename, index=False)\n",
    "#         print(f\"✅ Guardado: {filename}\")\n",
    "\n",
    "#         # Esperar para no sobrecargar el servicio\n",
    "#         time.sleep(1)\n"
   ]
  },
  {
   "cell_type": "code",
   "execution_count": 18,
   "metadata": {},
   "outputs": [],
   "source": [
    "# Imputing with \"Uknown\" for neighbourhood_group when it is null\n",
    "df_raw_1['neighbourhood_group'] = df_raw_1['neighbourhood_group'].fillna(\"Unknown\")"
   ]
  },
  {
   "cell_type": "code",
   "execution_count": 19,
   "metadata": {},
   "outputs": [
    {
     "data": {
      "application/vnd.microsoft.datawrangler.viewer.v0+json": {
       "columns": [
        {
         "name": "neighbourhood_group",
         "rawType": "object",
         "type": "string"
        },
        {
         "name": "count",
         "rawType": "int64",
         "type": "integer"
        }
       ],
       "ref": "89d44555-d393-4c74-a9e8-7e0b5dd0d234",
       "rows": [
        [
         "Unknown",
         "151518"
        ],
        [
         "Manhattan",
         "21661"
        ],
        [
         "Brooklyn",
         "20104"
        ],
        [
         "Centro",
         "8649"
        ],
        [
         "Queens",
         "5666"
        ],
        [
         "Salamanca",
         "1324"
        ],
        [
         "Chamberí",
         "1252"
        ],
        [
         "Arganzuela",
         "1104"
        ],
        [
         "Bronx",
         "1091"
        ],
        [
         "Tetuán",
         "816"
        ],
        [
         "Carabanchel",
         "708"
        ],
        [
         "Retiro",
         "664"
        ],
        [
         "Ciudad Lineal",
         "649"
        ],
        [
         "Puente de Vallecas",
         "617"
        ],
        [
         "Latina",
         "608"
        ],
        [
         "Chamartín",
         "580"
        ],
        [
         "Moncloa - Aravaca",
         "554"
        ],
        [
         "San Blas - Canillejas",
         "497"
        ],
        [
         "Staten Island",
         "373"
        ],
        [
         "Hortaleza",
         "364"
        ],
        [
         "Fuencarral - El Pardo",
         "315"
        ],
        [
         "Usera",
         "280"
        ],
        [
         "Villaverde",
         "177"
        ],
        [
         "Barajas",
         "172"
        ],
        [
         "Moratalaz",
         "118"
        ],
        [
         "Villa de Vallecas",
         "98"
        ],
        [
         "Vicálvaro",
         "72"
        ]
       ],
       "shape": {
        "columns": 1,
        "rows": 27
       }
      },
      "text/plain": [
       "neighbourhood_group\n",
       "Unknown                  151518\n",
       "Manhattan                 21661\n",
       "Brooklyn                  20104\n",
       "Centro                     8649\n",
       "Queens                     5666\n",
       "Salamanca                  1324\n",
       "Chamberí                   1252\n",
       "Arganzuela                 1104\n",
       "Bronx                      1091\n",
       "Tetuán                      816\n",
       "Carabanchel                 708\n",
       "Retiro                      664\n",
       "Ciudad Lineal               649\n",
       "Puente de Vallecas          617\n",
       "Latina                      608\n",
       "Chamartín                   580\n",
       "Moncloa - Aravaca           554\n",
       "San Blas - Canillejas       497\n",
       "Staten Island               373\n",
       "Hortaleza                   364\n",
       "Fuencarral - El Pardo       315\n",
       "Usera                       280\n",
       "Villaverde                  177\n",
       "Barajas                     172\n",
       "Moratalaz                   118\n",
       "Villa de Vallecas            98\n",
       "Vicálvaro                    72\n",
       "Name: count, dtype: int64"
      ]
     },
     "execution_count": 19,
     "metadata": {},
     "output_type": "execute_result"
    }
   ],
   "source": [
    "df_raw_1[\"neighbourhood_group\"].isnull().sum()  # 0\n",
    "df_raw_1[\"neighbourhood_group\"].unique() \n",
    "df_raw_1[\"neighbourhood_group\"].nunique() # 27\n",
    "df_raw_1[\"neighbourhood_group\"].value_counts()"
   ]
  },
  {
   "cell_type": "markdown",
   "metadata": {},
   "source": [
    "#### <span style=\"color:#fe5608\"> [\"reviews_per_month\"] </span>\n",
    "\n",
    "- Original nulls QTY: 54,371\n",
    "    - If there are no \"number_of_reviews\", there are no \"reviews_per_month\" therefore, this will be imputed with 0 when there are no reviews to start with\n",
    "- Afeter 1st imputation:123 nulls left\n",
    "    - When there are no \"last_reviews\", there are no \"reviews_per_month\", which is logic\n",
    "    - Imputing with zero \"0.0\" when \"number_of_reviews\" is 1 and when \"last_review\" is null\n",
    "        - In order not to false any data and since this column means how many reviews they got per month and since they only got 1, this might mean they got the first and only review when the \"guests\" just left\n",
    "- After 2nd imputation: 6 nulls left\n",
    "    - Imputed by median"
   ]
  },
  {
   "cell_type": "code",
   "execution_count": 20,
   "metadata": {},
   "outputs": [],
   "source": [
    "df_raw_1.loc[df_raw_1['number_of_reviews'] == 0, 'reviews_per_month'] = 0"
   ]
  },
  {
   "cell_type": "code",
   "execution_count": 21,
   "metadata": {},
   "outputs": [
    {
     "data": {
      "text/plain": [
       "np.int64(123)"
      ]
     },
     "execution_count": 21,
     "metadata": {},
     "output_type": "execute_result"
    }
   ],
   "source": [
    "df_raw_1[\"reviews_per_month\"].isnull().sum() # 123"
   ]
  },
  {
   "cell_type": "code",
   "execution_count": 22,
   "metadata": {},
   "outputs": [
    {
     "data": {
      "application/vnd.microsoft.datawrangler.viewer.v0+json": {
       "columns": [
        {
         "name": "index",
         "rawType": "int64",
         "type": "integer"
        },
        {
         "name": "id",
         "rawType": "int64",
         "type": "integer"
        },
        {
         "name": "name",
         "rawType": "object",
         "type": "string"
        },
        {
         "name": "number_of_reviews",
         "rawType": "int64",
         "type": "integer"
        },
        {
         "name": "last_review",
         "rawType": "datetime64[ns]",
         "type": "datetime"
        },
        {
         "name": "availability_365",
         "rawType": "float64",
         "type": "float"
        },
        {
         "name": "reviews_per_month",
         "rawType": "float64",
         "type": "float"
        }
       ],
       "ref": "f270da76-3ca8-45f0-ac98-249f04c56d3e",
       "rows": [
        [
         "194084",
         "27943759",
         "Historic Warehouse Apartment",
         "1",
         null,
         "16.0",
         null
        ],
        [
         "196665",
         "29613744",
         "Beachside holiday apartment - close to everything!",
         "1",
         null,
         "24.0",
         null
        ],
        [
         "195196",
         "28748119",
         "Stylish Inner Sydney 2 BR Apartment walk to CBD",
         "1",
         null,
         "97.0",
         null
        ],
        [
         "195402",
         "28880926",
         "burwood 一房一厅一学习房",
         "1",
         null,
         "364.0",
         null
        ],
        [
         "200279",
         "30566263",
         "Sunny and lovely apartment in Sydney!",
         "1",
         null,
         "27.0",
         null
        ],
        [
         "199038",
         "30293227",
         "Manly beachside getaway",
         "1",
         null,
         "7.0",
         null
        ],
        [
         "181728",
         "19946272",
         "Manly Waterfront Apartment",
         "1",
         null,
         "0.0",
         null
        ],
        [
         "192943",
         "26996925",
         "Hodong's guest house",
         "3",
         null,
         "181.0",
         null
        ],
        [
         "199638",
         "30428121",
         "Modern Inner City apartment in perfect location",
         "1",
         null,
         "75.0",
         null
        ],
        [
         "197579",
         "29948387",
         "jo's place",
         "1",
         null,
         "22.0",
         null
        ]
       ],
       "shape": {
        "columns": 6,
        "rows": 10
       }
      },
      "text/html": [
       "<div>\n",
       "<style scoped>\n",
       "    .dataframe tbody tr th:only-of-type {\n",
       "        vertical-align: middle;\n",
       "    }\n",
       "\n",
       "    .dataframe tbody tr th {\n",
       "        vertical-align: top;\n",
       "    }\n",
       "\n",
       "    .dataframe thead th {\n",
       "        text-align: right;\n",
       "    }\n",
       "</style>\n",
       "<table border=\"1\" class=\"dataframe\">\n",
       "  <thead>\n",
       "    <tr style=\"text-align: right;\">\n",
       "      <th></th>\n",
       "      <th>id</th>\n",
       "      <th>name</th>\n",
       "      <th>number_of_reviews</th>\n",
       "      <th>last_review</th>\n",
       "      <th>availability_365</th>\n",
       "      <th>reviews_per_month</th>\n",
       "    </tr>\n",
       "  </thead>\n",
       "  <tbody>\n",
       "    <tr>\n",
       "      <th>194084</th>\n",
       "      <td>27943759</td>\n",
       "      <td>Historic Warehouse Apartment</td>\n",
       "      <td>1</td>\n",
       "      <td>NaT</td>\n",
       "      <td>16.0</td>\n",
       "      <td>NaN</td>\n",
       "    </tr>\n",
       "    <tr>\n",
       "      <th>196665</th>\n",
       "      <td>29613744</td>\n",
       "      <td>Beachside holiday apartment - close to everyth...</td>\n",
       "      <td>1</td>\n",
       "      <td>NaT</td>\n",
       "      <td>24.0</td>\n",
       "      <td>NaN</td>\n",
       "    </tr>\n",
       "    <tr>\n",
       "      <th>195196</th>\n",
       "      <td>28748119</td>\n",
       "      <td>Stylish Inner Sydney 2 BR Apartment walk to CBD</td>\n",
       "      <td>1</td>\n",
       "      <td>NaT</td>\n",
       "      <td>97.0</td>\n",
       "      <td>NaN</td>\n",
       "    </tr>\n",
       "    <tr>\n",
       "      <th>195402</th>\n",
       "      <td>28880926</td>\n",
       "      <td>burwood 一房一厅一学习房</td>\n",
       "      <td>1</td>\n",
       "      <td>NaT</td>\n",
       "      <td>364.0</td>\n",
       "      <td>NaN</td>\n",
       "    </tr>\n",
       "    <tr>\n",
       "      <th>200279</th>\n",
       "      <td>30566263</td>\n",
       "      <td>Sunny and lovely apartment in Sydney!</td>\n",
       "      <td>1</td>\n",
       "      <td>NaT</td>\n",
       "      <td>27.0</td>\n",
       "      <td>NaN</td>\n",
       "    </tr>\n",
       "    <tr>\n",
       "      <th>199038</th>\n",
       "      <td>30293227</td>\n",
       "      <td>Manly beachside getaway</td>\n",
       "      <td>1</td>\n",
       "      <td>NaT</td>\n",
       "      <td>7.0</td>\n",
       "      <td>NaN</td>\n",
       "    </tr>\n",
       "    <tr>\n",
       "      <th>181728</th>\n",
       "      <td>19946272</td>\n",
       "      <td>Manly Waterfront Apartment</td>\n",
       "      <td>1</td>\n",
       "      <td>NaT</td>\n",
       "      <td>0.0</td>\n",
       "      <td>NaN</td>\n",
       "    </tr>\n",
       "    <tr>\n",
       "      <th>192943</th>\n",
       "      <td>26996925</td>\n",
       "      <td>Hodong's guest house</td>\n",
       "      <td>3</td>\n",
       "      <td>NaT</td>\n",
       "      <td>181.0</td>\n",
       "      <td>NaN</td>\n",
       "    </tr>\n",
       "    <tr>\n",
       "      <th>199638</th>\n",
       "      <td>30428121</td>\n",
       "      <td>Modern Inner City apartment in perfect location</td>\n",
       "      <td>1</td>\n",
       "      <td>NaT</td>\n",
       "      <td>75.0</td>\n",
       "      <td>NaN</td>\n",
       "    </tr>\n",
       "    <tr>\n",
       "      <th>197579</th>\n",
       "      <td>29948387</td>\n",
       "      <td>jo's place</td>\n",
       "      <td>1</td>\n",
       "      <td>NaT</td>\n",
       "      <td>22.0</td>\n",
       "      <td>NaN</td>\n",
       "    </tr>\n",
       "  </tbody>\n",
       "</table>\n",
       "</div>"
      ],
      "text/plain": [
       "              id                                               name  number_of_reviews last_review  availability_365  reviews_per_month\n",
       "194084  27943759                       Historic Warehouse Apartment                  1         NaT              16.0                NaN\n",
       "196665  29613744  Beachside holiday apartment - close to everyth...                  1         NaT              24.0                NaN\n",
       "195196  28748119    Stylish Inner Sydney 2 BR Apartment walk to CBD                  1         NaT              97.0                NaN\n",
       "195402  28880926                                   burwood 一房一厅一学习房                  1         NaT             364.0                NaN\n",
       "200279  30566263              Sunny and lovely apartment in Sydney!                  1         NaT              27.0                NaN\n",
       "199038  30293227                            Manly beachside getaway                  1         NaT               7.0                NaN\n",
       "181728  19946272                         Manly Waterfront Apartment                  1         NaT               0.0                NaN\n",
       "192943  26996925                               Hodong's guest house                  3         NaT             181.0                NaN\n",
       "199638  30428121    Modern Inner City apartment in perfect location                  1         NaT              75.0                NaN\n",
       "197579  29948387                                         jo's place                  1         NaT              22.0                NaN"
      ]
     },
     "execution_count": 22,
     "metadata": {},
     "output_type": "execute_result"
    }
   ],
   "source": [
    "# Ver los registros con reviews_per_month nulo\n",
    "null_reviews = df_raw_1[df_raw_1['reviews_per_month'].isnull()]\n",
    "null_reviews[['id', 'name', 'number_of_reviews', 'last_review', 'availability_365', 'reviews_per_month']].sample(10)\n"
   ]
  },
  {
   "cell_type": "code",
   "execution_count": 23,
   "metadata": {},
   "outputs": [
    {
     "data": {
      "application/vnd.microsoft.datawrangler.viewer.v0+json": {
       "columns": [
        {
         "name": "last_review",
         "rawType": "bool",
         "type": "boolean"
        },
        {
         "name": "count",
         "rawType": "int64",
         "type": "integer"
        }
       ],
       "ref": "ef4710e6-3205-4bc7-a334-c9993a78b098",
       "rows": [
        [
         "True",
         "123"
        ]
       ],
       "shape": {
        "columns": 1,
        "rows": 1
       }
      },
      "text/plain": [
       "last_review\n",
       "True    123\n",
       "Name: count, dtype: int64"
      ]
     },
     "execution_count": 23,
     "metadata": {},
     "output_type": "execute_result"
    }
   ],
   "source": [
    "null_reviews['number_of_reviews'].value_counts() # 1: 117, 2:4, 4:1, 3:1\n",
    "null_reviews['last_review'].isnull().value_counts() # 123 It seems number_of_reviews comes from last_review"
   ]
  },
  {
   "cell_type": "code",
   "execution_count": 24,
   "metadata": {},
   "outputs": [],
   "source": [
    "# Imputing reviews_per_month with 0.0 when number_of_reviews is 1 and last_review is null\n",
    "df_raw_1.loc[(df_raw_1['number_of_reviews'] == 1) & (df_raw_1['last_review'].isnull()),'reviews_per_month'] = 0"
   ]
  },
  {
   "cell_type": "code",
   "execution_count": 25,
   "metadata": {},
   "outputs": [
    {
     "data": {
      "text/plain": [
       "np.int64(6)"
      ]
     },
     "execution_count": 25,
     "metadata": {},
     "output_type": "execute_result"
    }
   ],
   "source": [
    "df_raw_1['reviews_per_month'].isnull().sum() # 6 "
   ]
  },
  {
   "cell_type": "code",
   "execution_count": 26,
   "metadata": {},
   "outputs": [],
   "source": [
    "# Imputing the remaining null values in reviews_per_month with the median\n",
    "median_rpm = df_raw_1['reviews_per_month'].median()\n",
    "df_raw_1.fillna({'reviews_per_month':median_rpm}, inplace=True)"
   ]
  },
  {
   "cell_type": "code",
   "execution_count": 27,
   "metadata": {},
   "outputs": [
    {
     "data": {
      "text/plain": [
       "np.int64(0)"
      ]
     },
     "execution_count": 27,
     "metadata": {},
     "output_type": "execute_result"
    }
   ],
   "source": [
    "df_raw_1['reviews_per_month'].isnull().sum() # 0"
   ]
  },
  {
   "cell_type": "markdown",
   "metadata": {},
   "source": [
    "#### <span style=\"color:#fe5608\">  [\"last_review\"] </span>\n",
    "- Original nulls: 54,371\n",
    "    - Imputed with \"1900-01-01\" when \"number_of_reviews\" is 0 and \"reviews_per_month\" is 0.0\n",
    "        - Since a model will be used and it is not possible to have a Nan, it will be imputed with date \"1900-01-01\" \n",
    "        - 54,371 -  13,383 = 40,988 rows where imputed\n",
    "- After 1st imputation: 13,383 nulls left\n",
    "- After 2nd imputation:  2,209 nulls left\n",
    "    - There's no way to impute this except by a fake date\n",
    "    - Imputed with \"1900-01-01\" \n",
    "- After 3rd imputation:      0 nulls left\n",
    "\n",
    "THIS COLUMN CANNOT BE TAKEN INTO ACCOUNT\n",
    "\n",
    "- It is so useless that this column wil be directly eliminated"
   ]
  },
  {
   "cell_type": "code",
   "execution_count": 28,
   "metadata": {},
   "outputs": [
    {
     "data": {
      "application/vnd.microsoft.datawrangler.viewer.v0+json": {
       "columns": [
        {
         "name": "index",
         "rawType": "int64",
         "type": "integer"
        },
        {
         "name": "id",
         "rawType": "int64",
         "type": "integer"
        },
        {
         "name": "name",
         "rawType": "object",
         "type": "string"
        },
        {
         "name": "number_of_reviews",
         "rawType": "int64",
         "type": "integer"
        },
        {
         "name": "reviews_per_month",
         "rawType": "float64",
         "type": "float"
        },
        {
         "name": "last_review",
         "rawType": "datetime64[ns]",
         "type": "datetime"
        }
       ],
       "ref": "3483ba05-6c43-478b-95ce-a9db7850877a",
       "rows": [
        [
         "140505",
         "18572694",
         "Two-room apartment at Navigli",
         "33",
         "0.66",
         null
        ],
        [
         "118636",
         "35739773",
         "16T.124 Samson Plab Academy International Hub",
         "0",
         "0.0",
         null
        ],
        [
         "139586",
         "16564394",
         "NATURE_suite superior with bath in exclusive villa",
         "6",
         "0.16",
         null
        ],
        [
         "162853",
         "34687633",
         "6 min Asakusa/Airport/Barrier-Free/luggage space",
         "0",
         "0.0",
         null
        ],
        [
         "189191",
         "23730118",
         "Large Townhouse Prime Location Surry Hills & City",
         "0",
         "0.0",
         null
        ],
        [
         "191183",
         "25210974",
         "Spacious room, Western Sydney, close to shops",
         "0",
         "0.0",
         null
        ],
        [
         "143549",
         "27898214",
         "Stadio San Siro - a casa di Lu’&Vins",
         "35",
         "1.02",
         null
        ],
        [
         "173221",
         "12092261",
         "Apartment, central for everything!",
         "0",
         "0.0",
         null
        ],
        [
         "88217",
         "22273319",
         "Charming flat, 10 mins on tube to Oxford Street",
         "0",
         "0.0",
         null
        ],
        [
         "120705",
         "36386061",
         "I love Leander Road.",
         "0",
         "0.0",
         null
        ]
       ],
       "shape": {
        "columns": 5,
        "rows": 10
       }
      },
      "text/html": [
       "<div>\n",
       "<style scoped>\n",
       "    .dataframe tbody tr th:only-of-type {\n",
       "        vertical-align: middle;\n",
       "    }\n",
       "\n",
       "    .dataframe tbody tr th {\n",
       "        vertical-align: top;\n",
       "    }\n",
       "\n",
       "    .dataframe thead th {\n",
       "        text-align: right;\n",
       "    }\n",
       "</style>\n",
       "<table border=\"1\" class=\"dataframe\">\n",
       "  <thead>\n",
       "    <tr style=\"text-align: right;\">\n",
       "      <th></th>\n",
       "      <th>id</th>\n",
       "      <th>name</th>\n",
       "      <th>number_of_reviews</th>\n",
       "      <th>reviews_per_month</th>\n",
       "      <th>last_review</th>\n",
       "    </tr>\n",
       "  </thead>\n",
       "  <tbody>\n",
       "    <tr>\n",
       "      <th>140505</th>\n",
       "      <td>18572694</td>\n",
       "      <td>Two-room apartment at Navigli</td>\n",
       "      <td>33</td>\n",
       "      <td>0.66</td>\n",
       "      <td>NaT</td>\n",
       "    </tr>\n",
       "    <tr>\n",
       "      <th>118636</th>\n",
       "      <td>35739773</td>\n",
       "      <td>16T.124 Samson Plab Academy International Hub</td>\n",
       "      <td>0</td>\n",
       "      <td>0.00</td>\n",
       "      <td>NaT</td>\n",
       "    </tr>\n",
       "    <tr>\n",
       "      <th>139586</th>\n",
       "      <td>16564394</td>\n",
       "      <td>NATURE_suite superior with bath in exclusive v...</td>\n",
       "      <td>6</td>\n",
       "      <td>0.16</td>\n",
       "      <td>NaT</td>\n",
       "    </tr>\n",
       "    <tr>\n",
       "      <th>162853</th>\n",
       "      <td>34687633</td>\n",
       "      <td>6 min Asakusa/Airport/Barrier-Free/luggage space</td>\n",
       "      <td>0</td>\n",
       "      <td>0.00</td>\n",
       "      <td>NaT</td>\n",
       "    </tr>\n",
       "    <tr>\n",
       "      <th>189191</th>\n",
       "      <td>23730118</td>\n",
       "      <td>Large Townhouse Prime Location Surry Hills &amp; City</td>\n",
       "      <td>0</td>\n",
       "      <td>0.00</td>\n",
       "      <td>NaT</td>\n",
       "    </tr>\n",
       "    <tr>\n",
       "      <th>191183</th>\n",
       "      <td>25210974</td>\n",
       "      <td>Spacious room, Western Sydney, close to shops</td>\n",
       "      <td>0</td>\n",
       "      <td>0.00</td>\n",
       "      <td>NaT</td>\n",
       "    </tr>\n",
       "    <tr>\n",
       "      <th>143549</th>\n",
       "      <td>27898214</td>\n",
       "      <td>Stadio San Siro - a casa di Lu’&amp;Vins</td>\n",
       "      <td>35</td>\n",
       "      <td>1.02</td>\n",
       "      <td>NaT</td>\n",
       "    </tr>\n",
       "    <tr>\n",
       "      <th>173221</th>\n",
       "      <td>12092261</td>\n",
       "      <td>Apartment, central for everything!</td>\n",
       "      <td>0</td>\n",
       "      <td>0.00</td>\n",
       "      <td>NaT</td>\n",
       "    </tr>\n",
       "    <tr>\n",
       "      <th>88217</th>\n",
       "      <td>22273319</td>\n",
       "      <td>Charming flat, 10 mins on tube to Oxford Street</td>\n",
       "      <td>0</td>\n",
       "      <td>0.00</td>\n",
       "      <td>NaT</td>\n",
       "    </tr>\n",
       "    <tr>\n",
       "      <th>120705</th>\n",
       "      <td>36386061</td>\n",
       "      <td>I love Leander Road.</td>\n",
       "      <td>0</td>\n",
       "      <td>0.00</td>\n",
       "      <td>NaT</td>\n",
       "    </tr>\n",
       "  </tbody>\n",
       "</table>\n",
       "</div>"
      ],
      "text/plain": [
       "              id                                               name  number_of_reviews  reviews_per_month last_review\n",
       "140505  18572694                      Two-room apartment at Navigli                 33               0.66         NaT\n",
       "118636  35739773      16T.124 Samson Plab Academy International Hub                  0               0.00         NaT\n",
       "139586  16564394  NATURE_suite superior with bath in exclusive v...                  6               0.16         NaT\n",
       "162853  34687633   6 min Asakusa/Airport/Barrier-Free/luggage space                  0               0.00         NaT\n",
       "189191  23730118  Large Townhouse Prime Location Surry Hills & City                  0               0.00         NaT\n",
       "191183  25210974      Spacious room, Western Sydney, close to shops                  0               0.00         NaT\n",
       "143549  27898214               Stadio San Siro - a casa di Lu’&Vins                 35               1.02         NaT\n",
       "173221  12092261                 Apartment, central for everything!                  0               0.00         NaT\n",
       "88217   22273319    Charming flat, 10 mins on tube to Oxford Street                  0               0.00         NaT\n",
       "120705  36386061                               I love Leander Road.                  0               0.00         NaT"
      ]
     },
     "execution_count": 28,
     "metadata": {},
     "output_type": "execute_result"
    }
   ],
   "source": [
    "df_raw_1['last_review'].dtypes # M8[ns]\n",
    "df_raw_1['last_review'].sample(10)\n",
    "\n",
    "# Check the number_of_reviews and reviews_per_month when last_review is null\n",
    "df_raw_1[df_raw_1['last_review'].isnull()][['id', 'name', 'number_of_reviews', 'reviews_per_month', 'last_review']].sample(10)"
   ]
  },
  {
   "cell_type": "code",
   "execution_count": 29,
   "metadata": {},
   "outputs": [],
   "source": [
    "# Imputing with \"1900-01-01\" for last_review when \"number_of_reviews\" is 0 and \"reviews_per_month\" is 0.0\n",
    "df_raw_1.loc[(df_raw_1['number_of_reviews'] == 0) & (df_raw_1['reviews_per_month'] == 0.0), 'last_review'] = pd.to_datetime(\"1900-01-01\")"
   ]
  },
  {
   "cell_type": "code",
   "execution_count": 30,
   "metadata": {},
   "outputs": [
    {
     "data": {
      "application/vnd.microsoft.datawrangler.viewer.v0+json": {
       "columns": [
        {
         "name": "index",
         "rawType": "int64",
         "type": "integer"
        },
        {
         "name": "id",
         "rawType": "int64",
         "type": "integer"
        },
        {
         "name": "name",
         "rawType": "object",
         "type": "string"
        },
        {
         "name": "number_of_reviews",
         "rawType": "int64",
         "type": "integer"
        },
        {
         "name": "reviews_per_month",
         "rawType": "float64",
         "type": "float"
        },
        {
         "name": "last_review",
         "rawType": "datetime64[ns]",
         "type": "datetime"
        }
       ],
       "ref": "2664eccd-1a92-4d70-8f46-85a74a50ec52",
       "rows": [
        [
         "147159",
         "37314977",
         "ALTIDO Suite Galleria",
         "21",
         "2.09",
         null
        ],
        [
         "139827",
         "17374751",
         "Nice studio near the city center",
         "3",
         "0.06",
         null
        ],
        [
         "148317",
         "40907616",
         "Delicious Apartment in Shopping District",
         "3",
         "0.17",
         null
        ],
        [
         "147340",
         "38087424",
         "ARISTOTELE 72 - Design Suite with Terrace -",
         "31",
         "1.49",
         null
        ],
        [
         "135059",
         "2661385",
         "Nice and cozy flat in Milan",
         "23",
         "0.27",
         null
        ],
        [
         "142493",
         "24172704",
         "Appartamento in Milano centro Isola Garibaldi",
         "20",
         "0.52",
         null
        ],
        [
         "136203",
         "5540069",
         "Apartment in China Town",
         "4",
         "0.05",
         null
        ],
        [
         "137242",
         "6898937",
         "NuovoTrilocale zona Fiera Milano",
         "28",
         "0.39",
         null
        ],
        [
         "148167",
         "40480250",
         "The house of the eternal sunshine - Private Room",
         "3",
         "0.16",
         null
        ],
        [
         "146189",
         "33699463",
         "Italianway - De Cristoforis 12 Flat",
         "7",
         "0.26",
         null
        ]
       ],
       "shape": {
        "columns": 5,
        "rows": 10
       }
      },
      "text/html": [
       "<div>\n",
       "<style scoped>\n",
       "    .dataframe tbody tr th:only-of-type {\n",
       "        vertical-align: middle;\n",
       "    }\n",
       "\n",
       "    .dataframe tbody tr th {\n",
       "        vertical-align: top;\n",
       "    }\n",
       "\n",
       "    .dataframe thead th {\n",
       "        text-align: right;\n",
       "    }\n",
       "</style>\n",
       "<table border=\"1\" class=\"dataframe\">\n",
       "  <thead>\n",
       "    <tr style=\"text-align: right;\">\n",
       "      <th></th>\n",
       "      <th>id</th>\n",
       "      <th>name</th>\n",
       "      <th>number_of_reviews</th>\n",
       "      <th>reviews_per_month</th>\n",
       "      <th>last_review</th>\n",
       "    </tr>\n",
       "  </thead>\n",
       "  <tbody>\n",
       "    <tr>\n",
       "      <th>147159</th>\n",
       "      <td>37314977</td>\n",
       "      <td>ALTIDO Suite Galleria</td>\n",
       "      <td>21</td>\n",
       "      <td>2.09</td>\n",
       "      <td>NaT</td>\n",
       "    </tr>\n",
       "    <tr>\n",
       "      <th>139827</th>\n",
       "      <td>17374751</td>\n",
       "      <td>Nice studio near the city center</td>\n",
       "      <td>3</td>\n",
       "      <td>0.06</td>\n",
       "      <td>NaT</td>\n",
       "    </tr>\n",
       "    <tr>\n",
       "      <th>148317</th>\n",
       "      <td>40907616</td>\n",
       "      <td>Delicious Apartment in Shopping District</td>\n",
       "      <td>3</td>\n",
       "      <td>0.17</td>\n",
       "      <td>NaT</td>\n",
       "    </tr>\n",
       "    <tr>\n",
       "      <th>147340</th>\n",
       "      <td>38087424</td>\n",
       "      <td>ARISTOTELE 72 - Design Suite with Terrace -</td>\n",
       "      <td>31</td>\n",
       "      <td>1.49</td>\n",
       "      <td>NaT</td>\n",
       "    </tr>\n",
       "    <tr>\n",
       "      <th>135059</th>\n",
       "      <td>2661385</td>\n",
       "      <td>Nice and cozy flat in Milan</td>\n",
       "      <td>23</td>\n",
       "      <td>0.27</td>\n",
       "      <td>NaT</td>\n",
       "    </tr>\n",
       "    <tr>\n",
       "      <th>142493</th>\n",
       "      <td>24172704</td>\n",
       "      <td>Appartamento in Milano centro Isola Garibaldi</td>\n",
       "      <td>20</td>\n",
       "      <td>0.52</td>\n",
       "      <td>NaT</td>\n",
       "    </tr>\n",
       "    <tr>\n",
       "      <th>136203</th>\n",
       "      <td>5540069</td>\n",
       "      <td>Apartment in China Town</td>\n",
       "      <td>4</td>\n",
       "      <td>0.05</td>\n",
       "      <td>NaT</td>\n",
       "    </tr>\n",
       "    <tr>\n",
       "      <th>137242</th>\n",
       "      <td>6898937</td>\n",
       "      <td>NuovoTrilocale zona Fiera Milano</td>\n",
       "      <td>28</td>\n",
       "      <td>0.39</td>\n",
       "      <td>NaT</td>\n",
       "    </tr>\n",
       "    <tr>\n",
       "      <th>148167</th>\n",
       "      <td>40480250</td>\n",
       "      <td>The house of the eternal sunshine - Private Room</td>\n",
       "      <td>3</td>\n",
       "      <td>0.16</td>\n",
       "      <td>NaT</td>\n",
       "    </tr>\n",
       "    <tr>\n",
       "      <th>146189</th>\n",
       "      <td>33699463</td>\n",
       "      <td>Italianway - De Cristoforis 12 Flat</td>\n",
       "      <td>7</td>\n",
       "      <td>0.26</td>\n",
       "      <td>NaT</td>\n",
       "    </tr>\n",
       "  </tbody>\n",
       "</table>\n",
       "</div>"
      ],
      "text/plain": [
       "              id                                              name  number_of_reviews  reviews_per_month last_review\n",
       "147159  37314977                             ALTIDO Suite Galleria                 21               2.09         NaT\n",
       "139827  17374751                  Nice studio near the city center                  3               0.06         NaT\n",
       "148317  40907616          Delicious Apartment in Shopping District                  3               0.17         NaT\n",
       "147340  38087424       ARISTOTELE 72 - Design Suite with Terrace -                 31               1.49         NaT\n",
       "135059   2661385                       Nice and cozy flat in Milan                 23               0.27         NaT\n",
       "142493  24172704     Appartamento in Milano centro Isola Garibaldi                 20               0.52         NaT\n",
       "136203   5540069                           Apartment in China Town                  4               0.05         NaT\n",
       "137242   6898937                  NuovoTrilocale zona Fiera Milano                 28               0.39         NaT\n",
       "148167  40480250  The house of the eternal sunshine - Private Room                  3               0.16         NaT\n",
       "146189  33699463               Italianway - De Cristoforis 12 Flat                  7               0.26         NaT"
      ]
     },
     "execution_count": 30,
     "metadata": {},
     "output_type": "execute_result"
    }
   ],
   "source": [
    "df_raw_1['last_review'].isnull().sum() # 13,383\n",
    "df_raw_1[df_raw_1['last_review'].isnull()][['id', 'name', 'number_of_reviews', 'reviews_per_month', 'last_review']].sample(10)"
   ]
  },
  {
   "cell_type": "code",
   "execution_count": 31,
   "metadata": {},
   "outputs": [
    {
     "data": {
      "application/vnd.microsoft.datawrangler.viewer.v0+json": {
       "columns": [
        {
         "name": "index",
         "rawType": "object",
         "type": "string"
        },
        {
         "name": "last_review",
         "rawType": "object",
         "type": "unknown"
        }
       ],
       "ref": "27dfaf72-d522-4808-9798-0f0d7c2bd806",
       "rows": [
        [
         "count",
         "206648"
        ],
        [
         "mean",
         "1987-10-09 12:57:59.865278272"
        ],
        [
         "min",
         "1900-01-01 00:00:00"
        ],
        [
         "25%",
         "1900-01-01 00:00:00"
        ],
        [
         "50%",
         "2018-11-21 00:00:00"
        ],
        [
         "75%",
         "2019-07-08 00:00:00"
        ],
        [
         "max",
         "2021-04-17 00:00:00"
        ]
       ],
       "shape": {
        "columns": 1,
        "rows": 7
       }
      },
      "text/plain": [
       "count                           206648\n",
       "mean     1987-10-09 12:57:59.865278272\n",
       "min                1900-01-01 00:00:00\n",
       "25%                1900-01-01 00:00:00\n",
       "50%                2018-11-21 00:00:00\n",
       "75%                2019-07-08 00:00:00\n",
       "max                2021-04-17 00:00:00\n",
       "Name: last_review, dtype: object"
      ]
     },
     "execution_count": 31,
     "metadata": {},
     "output_type": "execute_result"
    }
   ],
   "source": [
    "# Ensure the 'last_review' column is in datetime format\n",
    "df_raw_1['last_review'] = pd.to_datetime(df_raw_1['last_review'], errors='coerce')\n",
    "\n",
    "# Display basic statistics of 'last_review' dates\n",
    "df_raw_1['last_review'].describe() # latest date  2021-04-17 00:00:00\n"
   ]
  },
  {
   "cell_type": "code",
   "execution_count": 32,
   "metadata": {},
   "outputs": [
    {
     "data": {
      "image/png": "[encoded data removed]",
      "text/plain": [
       "<Figure size 1200x500 with 1 Axes>"
      ]
     },
     "metadata": {},
     "output_type": "display_data"
    }
   ],
   "source": [
    "# Create a histogram of monthly review counts DO NOT TAKE INTO ACCOUNT the \"1900-01-01\" date which was imputed before\n",
    "df_raw_1['last_review'].dropna().dt.to_period('M').value_counts().sort_index().plot(\n",
    "    kind='bar',\n",
    "    figsize=(12, 5),\n",
    "    title='Monthly distribution of last reviews'\n",
    ")\n",
    "plt.xlabel('Month')\n",
    "plt.ylabel('Number of listings')\n",
    "plt.tight_layout()\n",
    "plt.show()"
   ]
  },
  {
   "cell_type": "code",
   "execution_count": 33,
   "metadata": {},
   "outputs": [],
   "source": [
    "# Create mask excluding '1900-01-01'\n",
    "mask = (\n",
    "    (df_raw_1['last_review'].isnull()) &\n",
    "    (df_raw_1['number_of_reviews'] > 0) &\n",
    "    (df_raw_1['reviews_per_month'] > 0)\n",
    ")\n",
    "\n",
    "# Calculate estimated days of last review based on number of reviews and reviews per month assiming a regular review pattern\n",
    "estimated_months = df_raw_1.loc[mask, 'number_of_reviews'] / df_raw_1.loc[mask, 'reviews_per_month']\n",
    "estimated_days = estimated_months * 30\n",
    "\n",
    "# Impute dates only for rows with null last_review\n",
    "latest_review_date = df_raw_1['last_review'].max()\n",
    "df_raw_1.loc[mask, 'last_review'] = latest_review_date - pd.to_timedelta(estimated_days, unit='D')"
   ]
  },
  {
   "cell_type": "code",
   "execution_count": 34,
   "metadata": {},
   "outputs": [
    {
     "data": {
      "text/plain": [
       "array([0.])"
      ]
     },
     "execution_count": 34,
     "metadata": {},
     "output_type": "execute_result"
    }
   ],
   "source": [
    "df_raw_1['last_review'].isnull().sum() # 2,209\n",
    "# Checking the number_of_reviews and reviews_per_month when last_review is null\n",
    "df_raw_1[df_raw_1['last_review'].isnull()][['id', 'name', 'number_of_reviews', 'reviews_per_month', 'last_review']].sample(10)\n",
    "# Checking the unique values of number_of_reviews and reviews_per_month when last_review is null\n",
    "df_raw_1[df_raw_1['last_review'].isnull()]['number_of_reviews'].unique() # 1\n",
    "df_raw_1[df_raw_1['last_review'].isnull()]['reviews_per_month'].unique() # 0.0"
   ]
  },
  {
   "cell_type": "code",
   "execution_count": 35,
   "metadata": {},
   "outputs": [],
   "source": [
    "df_raw_1.loc[df_raw_1['last_review'].isnull(), 'last_review'] = pd.to_datetime(\"1900-01-01\")"
   ]
  },
  {
   "cell_type": "code",
   "execution_count": 36,
   "metadata": {},
   "outputs": [
    {
     "data": {
      "text/plain": [
       "np.int64(0)"
      ]
     },
     "execution_count": 36,
     "metadata": {},
     "output_type": "execute_result"
    }
   ],
   "source": [
    "df_raw_1['last_review'].isnull().sum() # 0"
   ]
  },
  {
   "cell_type": "code",
   "execution_count": 37,
   "metadata": {},
   "outputs": [],
   "source": [
    "# Eliminating the column \"last_review\" since it has no useful information after the imputations\n",
    "df_raw_1.drop(columns=['last_review'], inplace=True)"
   ]
  },
  {
   "cell_type": "markdown",
   "metadata": {},
   "source": [
    "####  <span style=\"color:#fe5608\"> [\"availability_365\"] </span>\n",
    "\n",
    "- Original nulls QTY: 11,466 -- 5.21%\n",
    "- Distribuition with outliers\n",
    "- Tokyo is the only city with no values\n",
    "    - Imputed with the global mean of other cities.\n",
    "\n",
    "TOKYO NEEDS TO BE LOOKED CAREFULLY    "
   ]
  },
  {
   "cell_type": "code",
   "execution_count": 38,
   "metadata": {},
   "outputs": [
    {
     "data": {
      "text/plain": [
       "np.float64(5.21)"
      ]
     },
     "execution_count": 38,
     "metadata": {},
     "output_type": "execute_result"
    }
   ],
   "source": [
    "# Percentage of null values in columns \"availability_365\" round to 2 decimal places\n",
    "null_availability = df_raw_1['availability_365'].isnull().mean() * 100\n",
    "null_availability.round(2)  # 5.21%"
   ]
  },
  {
   "cell_type": "code",
   "execution_count": 39,
   "metadata": {},
   "outputs": [
    {
     "name": "stdout",
     "output_type": "stream",
     "text": [
      "count    208565.000000\n",
      "mean        120.330918\n",
      "std         134.644491\n",
      "min           0.000000\n",
      "25%           0.000000\n",
      "50%          64.000000\n",
      "75%         244.000000\n",
      "max         365.000000\n",
      "Name: availability_365, dtype: float64\n"
     ]
    },
    {
     "data": {
      "image/png": "[encoded data removed]",
      "text/plain": [
       "<Figure size 640x480 with 1 Axes>"
      ]
     },
     "metadata": {},
     "output_type": "display_data"
    }
   ],
   "source": [
    "print(df_raw_1['availability_365'].describe())\n",
    "\n",
    "\n",
    "df_raw_1['availability_365'].hist(bins=30, edgecolor='black')\n",
    "plt.title('Distribución de availability_365')\n",
    "plt.xlabel('Días disponibles al año')\n",
    "plt.ylabel('Frecuencia')\n",
    "plt.show()"
   ]
  },
  {
   "cell_type": "code",
   "execution_count": 40,
   "metadata": {},
   "outputs": [
    {
     "data": {
      "application/vnd.microsoft.datawrangler.viewer.v0+json": {
       "columns": [
        {
         "name": "room_type",
         "rawType": "object",
         "type": "string"
        },
        {
         "name": "availability_365",
         "rawType": "int64",
         "type": "integer"
        }
       ],
       "ref": "29b075f5-8d61-4781-a2c5-1e20bef74ce5",
       "rows": [
        [
         "Entire home/apt",
         "0"
        ],
        [
         "Private room",
         "0"
        ],
        [
         "Shared room",
         "0"
        ]
       ],
       "shape": {
        "columns": 1,
        "rows": 3
       }
      },
      "text/plain": [
       "room_type\n",
       "Entire home/apt    0\n",
       "Private room       0\n",
       "Shared room        0\n",
       "Name: availability_365, dtype: int64"
      ]
     },
     "execution_count": 40,
     "metadata": {},
     "output_type": "execute_result"
    }
   ],
   "source": [
    "# Check unique values in \"room_type\" column\n",
    "df_raw_1['room_type'].nunique() # 4\n",
    "df_raw_1['room_type'].unique()  # ['Private room', 'Entire home/apt', 'Shared room', 'Hotel room']\n",
    "\n",
    "# Check nulls in availability_365 grouped by City\n",
    "df_raw_1[df_raw_1['availability_365'].isnull()].groupby('city')['availability_365'].count() # Only Tokyo has nulls\n",
    "\n",
    "# Check nulls in availability_365 grouped by room_type\n",
    "df_raw_1[df_raw_1['availability_365'].isnull()].groupby('room_type')['availability_365'].count() # It has only 3 types of room and they are all null. Entire home/apt, Private room & Shared room"
   ]
  },
  {
   "cell_type": "code",
   "execution_count": 41,
   "metadata": {},
   "outputs": [
    {
     "name": "stdout",
     "output_type": "stream",
     "text": [
      "        city        room_type  availability_365\n",
      "0     London  Entire home/apt              48.0\n",
      "1     London       Hotel room             308.0\n",
      "2     London     Private room              64.0\n",
      "3     London      Shared room              90.0\n",
      "4     Madrid  Entire home/apt             147.0\n",
      "5     Madrid       Hotel room             269.0\n",
      "6     Madrid     Private room              90.0\n",
      "7     Madrid      Shared room             104.0\n",
      "8      Milan  Entire home/apt             128.0\n",
      "9      Milan       Hotel room             174.0\n",
      "10     Milan     Private room              90.0\n",
      "11     Milan      Shared room              89.0\n",
      "12  New York  Entire home/apt              42.0\n",
      "13  New York     Private room              45.0\n",
      "14  New York      Shared room              90.0\n",
      "15    Sydney  Entire home/apt              41.0\n",
      "16    Sydney     Private room              27.0\n",
      "17    Sydney      Shared room              34.0\n",
      "18     Tokyo  Entire home/apt               NaN\n",
      "19     Tokyo     Private room               NaN\n",
      "20     Tokyo      Shared room               NaN\n"
     ]
    },
    {
     "data": {
      "image/png": "[encoded data removed]",
      "text/plain": [
       "<Figure size 1200x600 with 1 Axes>"
      ]
     },
     "metadata": {},
     "output_type": "display_data"
    }
   ],
   "source": [
    "# Calcular la mediana de availability_365 por city y room_type\n",
    "availability_medians = df_raw_1.groupby(['city', 'room_type'])['availability_365'].median().reset_index()\n",
    "\n",
    "# Ordenamos para visualización más clara\n",
    "availability_medians = availability_medians.sort_values(by=['city', 'room_type'])\n",
    "\n",
    "# Mostramos el resultado\n",
    "print(availability_medians)\n",
    "\n",
    "\n",
    "plt.figure(figsize=(12,6))\n",
    "sns.boxplot(data=df_raw_1, x='city', y='availability_365', hue='room_type')\n",
    "plt.title('Distribución de availability_365 por ciudad y tipo de habitación')\n",
    "plt.ylabel('Días disponibles al año')\n",
    "plt.xlabel('Ciudad')\n",
    "plt.xticks(rotation=45)\n",
    "plt.tight_layout()\n",
    "plt.show()\n"
   ]
  },
  {
   "cell_type": "code",
   "execution_count": 42,
   "metadata": {},
   "outputs": [],
   "source": [
    "# Compute global mean availability by room type\n",
    "global_availability_means = df_raw_1.groupby('room_type')['availability_365'].mean()\n",
    "\n",
    "# Function to impute Tokyo rows only\n",
    "def impute_tokyo_availability(row):\n",
    "    if pd.notnull(row['availability_365']):\n",
    "        return row['availability_365']\n",
    "    \n",
    "    if row['city'] == 'Tokyo':\n",
    "        room_type = row['room_type']\n",
    "        if room_type in global_availability_means:\n",
    "            return global_availability_means[room_type]\n",
    "    \n",
    "    return row['availability_365']  # Return original (including NaN) for other cities\n",
    "\n",
    "# Calling function\n",
    "df_raw_1['availability_365'] = df_raw_1.apply(impute_tokyo_availability, axis=1)\n"
   ]
  },
  {
   "cell_type": "code",
   "execution_count": 43,
   "metadata": {},
   "outputs": [
    {
     "data": {
      "text/plain": [
       "np.int64(0)"
      ]
     },
     "execution_count": 43,
     "metadata": {},
     "output_type": "execute_result"
    }
   ],
   "source": [
    "df_raw_1['availability_365'].isnull().sum() # 0"
   ]
  },
  {
   "cell_type": "markdown",
   "metadata": {},
   "source": [
    "####  <span style=\"color:#fe5608\"> [\"calculated_host_listings_count\"] </span>\n",
    "\n",
    "- Original nulls QTY: 11,466 -- 5.21%\n",
    "- Tokyo is the city with null values\n",
    "- Imputed with zero \"0\"\n",
    "- This column has nothing to do with the appartment and everything to do with the host, since in this dataset there's nothing regarding the host, it has no sense to impute.\n",
    "- NOT TO TAKE INTO ACCOUNT TOKYO in this COLUMN"
   ]
  },
  {
   "cell_type": "code",
   "execution_count": 44,
   "metadata": {},
   "outputs": [
    {
     "data": {
      "application/vnd.microsoft.datawrangler.viewer.v0+json": {
       "columns": [
        {
         "name": "city",
         "rawType": "object",
         "type": "string"
        },
        {
         "name": "calculated_host_listings_count",
         "rawType": "int64",
         "type": "integer"
        }
       ],
       "ref": "e1d6c41a-9e90-4ea7-8c99-a113361faa78",
       "rows": [
        [
         "Tokyo",
         "0"
        ]
       ],
       "shape": {
        "columns": 1,
        "rows": 1
       }
      },
      "text/plain": [
       "city\n",
       "Tokyo    0\n",
       "Name: calculated_host_listings_count, dtype: int64"
      ]
     },
     "execution_count": 44,
     "metadata": {},
     "output_type": "execute_result"
    }
   ],
   "source": [
    "# Check the nulls groped by city\n",
    "df_raw_1[df_raw_1['calculated_host_listings_count'].isnull()].groupby('city')['calculated_host_listings_count'].count() # Tokyo is completely null"
   ]
  },
  {
   "cell_type": "markdown",
   "metadata": {},
   "source": [
    "####  <span style=\"color:#fe5608\"> [\"host_name\"] </span>\n",
    "\n",
    "- Original nulls qty: 706\n",
    "- host_id : 175128252 has at least 2 different host_names\n",
    "    - It seems the name was changed for company reasons\n",
    "    - It will be changed to \"Team Gospodin\"\n",
    "- After 1st imputation: qty of nulls: 586\n",
    "- After 2nd impitation: qty of nulls 0"
   ]
  },
  {
   "cell_type": "code",
   "execution_count": 45,
   "metadata": {},
   "outputs": [
    {
     "data": {
      "application/vnd.microsoft.datawrangler.viewer.v0+json": {
       "columns": [
        {
         "name": "index",
         "rawType": "int64",
         "type": "integer"
        },
        {
         "name": "host_id",
         "rawType": "int64",
         "type": "integer"
        },
        {
         "name": "host_name",
         "rawType": "object",
         "type": "string"
        }
       ],
       "ref": "e7b1f471-5a58-46c6-80ad-d915610afb0e",
       "rows": [
        [
         "103529",
         "175128252",
         "Gospodin"
        ],
        [
         "219624",
         "175128252",
         "Team Gospodin"
        ]
       ],
       "shape": {
        "columns": 2,
        "rows": 2
       }
      },
      "text/html": [
       "<div>\n",
       "<style scoped>\n",
       "    .dataframe tbody tr th:only-of-type {\n",
       "        vertical-align: middle;\n",
       "    }\n",
       "\n",
       "    .dataframe tbody tr th {\n",
       "        vertical-align: top;\n",
       "    }\n",
       "\n",
       "    .dataframe thead th {\n",
       "        text-align: right;\n",
       "    }\n",
       "</style>\n",
       "<table border=\"1\" class=\"dataframe\">\n",
       "  <thead>\n",
       "    <tr style=\"text-align: right;\">\n",
       "      <th></th>\n",
       "      <th>host_id</th>\n",
       "      <th>host_name</th>\n",
       "    </tr>\n",
       "  </thead>\n",
       "  <tbody>\n",
       "    <tr>\n",
       "      <th>103529</th>\n",
       "      <td>175128252</td>\n",
       "      <td>Gospodin</td>\n",
       "    </tr>\n",
       "    <tr>\n",
       "      <th>219624</th>\n",
       "      <td>175128252</td>\n",
       "      <td>Team Gospodin</td>\n",
       "    </tr>\n",
       "  </tbody>\n",
       "</table>\n",
       "</div>"
      ],
      "text/plain": [
       "          host_id      host_name\n",
       "103529  175128252       Gospodin\n",
       "219624  175128252  Team Gospodin"
      ]
     },
     "execution_count": 45,
     "metadata": {},
     "output_type": "execute_result"
    }
   ],
   "source": [
    "# Check for missing values in 'host_name'\n",
    "host_nulls = df_raw_1[df_raw_1['host_name'].isnull()]\n",
    "\n",
    "# Extracting unique host_ids with null 'host_name'\n",
    "host_ids_with_nulls = host_nulls['host_id'].unique()\n",
    "\n",
    "# Look for host rows where the host has a name in some entries but not in others.\n",
    "recoverable_hosts = df_raw_1[\n",
    "    (df_raw_1['host_id'].isin(host_ids_with_nulls)) &\n",
    "    (df_raw_1['host_name'].notnull())\n",
    "].sort_values('host_id')[['host_id', 'host_name']].drop_duplicates()\n",
    "\n",
    "recoverable_hosts"
   ]
  },
  {
   "cell_type": "code",
   "execution_count": 46,
   "metadata": {},
   "outputs": [],
   "source": [
    "df_raw_1.loc[df_raw_1['host_id'] == 175128252, 'host_name'] = \"Team Gospodin\""
   ]
  },
  {
   "cell_type": "code",
   "execution_count": 47,
   "metadata": {},
   "outputs": [],
   "source": [
    "# Imputing \"Unknown host name\" for rows where host_name is null\n",
    "df_raw_1.fillna({\"host_name\": \"Unknown host name\"}, inplace=True)"
   ]
  },
  {
   "cell_type": "code",
   "execution_count": 48,
   "metadata": {},
   "outputs": [
    {
     "data": {
      "text/plain": [
       "np.int64(0)"
      ]
     },
     "execution_count": 48,
     "metadata": {},
     "output_type": "execute_result"
    }
   ],
   "source": [
    "df_raw_1['host_name'].isnull().sum()  # 0"
   ]
  },
  {
   "cell_type": "markdown",
   "metadata": {},
   "source": [
    "####  <span style=\"color:#fe5608\"> [\"name\"]  </span>\n",
    "\n",
    "- Original nulls qty: 67\n",
    "    - Too little to keep BUT, let's keep it for the moment\n",
    "        - Since it is necessary for the rows to be filled for the possible future model, let's impute them with \"Unknown title \""
   ]
  },
  {
   "cell_type": "code",
   "execution_count": 49,
   "metadata": {},
   "outputs": [
    {
     "data": {
      "application/vnd.microsoft.datawrangler.viewer.v0+json": {
       "columns": [
        {
         "name": "index",
         "rawType": "int64",
         "type": "integer"
        },
        {
         "name": "id",
         "rawType": "int64",
         "type": "integer"
        },
        {
         "name": "name",
         "rawType": "object",
         "type": "string"
        }
       ],
       "ref": "ded2c948-3924-4297-ab6c-50acf84d151b",
       "rows": [],
       "shape": {
        "columns": 2,
        "rows": 0
       }
      },
      "text/html": [
       "<div>\n",
       "<style scoped>\n",
       "    .dataframe tbody tr th:only-of-type {\n",
       "        vertical-align: middle;\n",
       "    }\n",
       "\n",
       "    .dataframe tbody tr th {\n",
       "        vertical-align: top;\n",
       "    }\n",
       "\n",
       "    .dataframe thead th {\n",
       "        text-align: right;\n",
       "    }\n",
       "</style>\n",
       "<table border=\"1\" class=\"dataframe\">\n",
       "  <thead>\n",
       "    <tr style=\"text-align: right;\">\n",
       "      <th></th>\n",
       "      <th>id</th>\n",
       "      <th>name</th>\n",
       "    </tr>\n",
       "  </thead>\n",
       "  <tbody>\n",
       "  </tbody>\n",
       "</table>\n",
       "</div>"
      ],
      "text/plain": [
       "Empty DataFrame\n",
       "Columns: [id, name]\n",
       "Index: []"
      ]
     },
     "execution_count": 49,
     "metadata": {},
     "output_type": "execute_result"
    }
   ],
   "source": [
    "# Ver cuántos nombres están nulos\n",
    "df_raw_1['name'].isnull().sum()\n",
    "\n",
    "# Ver si esos ID están duplicados con algún name no nulo\n",
    "ids_with_null_name = df_raw_1[df_raw_1['name'].isnull()]['id'].unique()\n",
    "\n",
    "# Buscar si esos ID aparecen en otras filas con name no nulo\n",
    "recoverable_names = df_raw_1[\n",
    "    (df_raw_1['id'].isin(ids_with_null_name)) &\n",
    "    (df_raw_1['name'].notnull())\n",
    "][['id', 'name']].drop_duplicates()\n",
    "\n",
    "recoverable_names"
   ]
  },
  {
   "cell_type": "code",
   "execution_count": 50,
   "metadata": {},
   "outputs": [],
   "source": [
    "# Fill missing host names with \"Unknown host\"\n",
    "df_raw_1['name'] = df_raw_1['name'].fillna(\"Unknown title\")"
   ]
  },
  {
   "cell_type": "code",
   "execution_count": 51,
   "metadata": {},
   "outputs": [
    {
     "data": {
      "text/plain": [
       "np.int64(0)"
      ]
     },
     "execution_count": 51,
     "metadata": {},
     "output_type": "execute_result"
    }
   ],
   "source": [
    "df_raw_1['name'].isnull().sum()  # 0"
   ]
  },
  {
   "cell_type": "markdown",
   "metadata": {},
   "source": [
    "____\n",
    "####  <span style=\"color:#f6f794\"> Checking again for nulls </span>"
   ]
  },
  {
   "cell_type": "code",
   "execution_count": 52,
   "metadata": {},
   "outputs": [
    {
     "data": {
      "application/vnd.microsoft.datawrangler.viewer.v0+json": {
       "columns": [
        {
         "name": "index",
         "rawType": "object",
         "type": "string"
        },
        {
         "name": "0",
         "rawType": "int64",
         "type": "integer"
        }
       ],
       "ref": "478ecb59-656d-4a4d-a186-b85cda6c07cc",
       "rows": [
        [
         "calculated_host_listings_count",
         "11466"
        ],
        [
         "id",
         "0"
        ],
        [
         "host_id",
         "0"
        ],
        [
         "name",
         "0"
        ],
        [
         "neighbourhood_group",
         "0"
        ],
        [
         "neighbourhood",
         "0"
        ],
        [
         "latitude",
         "0"
        ],
        [
         "host_name",
         "0"
        ],
        [
         "longitude",
         "0"
        ],
        [
         "room_type",
         "0"
        ],
        [
         "minimum_nights",
         "0"
        ],
        [
         "price",
         "0"
        ],
        [
         "number_of_reviews",
         "0"
        ],
        [
         "reviews_per_month",
         "0"
        ],
        [
         "availability_365",
         "0"
        ],
        [
         "city",
         "0"
        ]
       ],
       "shape": {
        "columns": 1,
        "rows": 16
       }
      },
      "text/plain": [
       "calculated_host_listings_count    11466\n",
       "id                                    0\n",
       "host_id                               0\n",
       "name                                  0\n",
       "neighbourhood_group                   0\n",
       "neighbourhood                         0\n",
       "latitude                              0\n",
       "host_name                             0\n",
       "longitude                             0\n",
       "room_type                             0\n",
       "minimum_nights                        0\n",
       "price                                 0\n",
       "number_of_reviews                     0\n",
       "reviews_per_month                     0\n",
       "availability_365                      0\n",
       "city                                  0\n",
       "dtype: int64"
      ]
     },
     "execution_count": 52,
     "metadata": {},
     "output_type": "execute_result"
    }
   ],
   "source": [
    "df_raw_1.isna().sum().sort_values(ascending=False)"
   ]
  },
  {
   "cell_type": "markdown",
   "metadata": {},
   "source": [
    "____\n",
    "####  <span style=\"color:#f6f794\"> Checking for outliers </span>"
   ]
  },
  {
   "cell_type": "code",
   "execution_count": null,
   "metadata": {},
   "outputs": [],
   "source": []
  },
  {
   "cell_type": "markdown",
   "metadata": {},
   "source": [
    "____\n",
    "####  <span style=\"color:#f6f794\"> Changing price from local to USD </span>"
   ]
  },
  {
   "cell_type": "code",
   "execution_count": 53,
   "metadata": {},
   "outputs": [
    {
     "data": {
      "application/vnd.microsoft.datawrangler.viewer.v0+json": {
       "columns": [
        {
         "name": "city",
         "rawType": "object",
         "type": "string"
        },
        {
         "name": "count",
         "rawType": "float64",
         "type": "float"
        },
        {
         "name": "mean",
         "rawType": "float64",
         "type": "float"
        },
        {
         "name": "std",
         "rawType": "float64",
         "type": "float"
        },
        {
         "name": "min",
         "rawType": "float64",
         "type": "float"
        },
        {
         "name": "25%",
         "rawType": "float64",
         "type": "float"
        },
        {
         "name": "50%",
         "rawType": "float64",
         "type": "float"
        },
        {
         "name": "75%",
         "rawType": "float64",
         "type": "float"
        },
        {
         "name": "max",
         "rawType": "float64",
         "type": "float"
        }
       ],
       "ref": "a6e5fb17-7fea-409c-a446-7bdcc425f5aa",
       "rows": [
        [
         "London",
         "85068.0",
         "122.34",
         "220.75",
         "0.0",
         "47.0",
         "84.0",
         "140.0",
         "12345.0"
        ],
        [
         "Madrid",
         "19618.0",
         "129.27",
         "484.14",
         "0.0",
         "35.0",
         "58.0",
         "100.0",
         "9999.0"
        ],
        [
         "Milan",
         "18322.0",
         "115.09",
         "290.79",
         "8.0",
         "50.0",
         "73.5",
         "110.0",
         "11999.0"
        ],
        [
         "New York",
         "48895.0",
         "152.72",
         "240.15",
         "0.0",
         "69.0",
         "106.0",
         "175.0",
         "10000.0"
        ],
        [
         "Sydney",
         "36662.0",
         "207.69",
         "323.82",
         "0.0",
         "80.0",
         "136.0",
         "223.0",
         "14999.0"
        ],
        [
         "Tokyo",
         "11466.0",
         "14984.7",
         "33273.45",
         "0.0",
         "6026.0",
         "10007.0",
         "17216.0",
         "1000046.0"
        ]
       ],
       "shape": {
        "columns": 8,
        "rows": 6
       }
      },
      "text/html": [
       "<div>\n",
       "<style scoped>\n",
       "    .dataframe tbody tr th:only-of-type {\n",
       "        vertical-align: middle;\n",
       "    }\n",
       "\n",
       "    .dataframe tbody tr th {\n",
       "        vertical-align: top;\n",
       "    }\n",
       "\n",
       "    .dataframe thead th {\n",
       "        text-align: right;\n",
       "    }\n",
       "</style>\n",
       "<table border=\"1\" class=\"dataframe\">\n",
       "  <thead>\n",
       "    <tr style=\"text-align: right;\">\n",
       "      <th></th>\n",
       "      <th>count</th>\n",
       "      <th>mean</th>\n",
       "      <th>std</th>\n",
       "      <th>min</th>\n",
       "      <th>25%</th>\n",
       "      <th>50%</th>\n",
       "      <th>75%</th>\n",
       "      <th>max</th>\n",
       "    </tr>\n",
       "    <tr>\n",
       "      <th>city</th>\n",
       "      <th></th>\n",
       "      <th></th>\n",
       "      <th></th>\n",
       "      <th></th>\n",
       "      <th></th>\n",
       "      <th></th>\n",
       "      <th></th>\n",
       "      <th></th>\n",
       "    </tr>\n",
       "  </thead>\n",
       "  <tbody>\n",
       "    <tr>\n",
       "      <th>London</th>\n",
       "      <td>85068.0</td>\n",
       "      <td>122.34</td>\n",
       "      <td>220.75</td>\n",
       "      <td>0.0</td>\n",
       "      <td>47.0</td>\n",
       "      <td>84.0</td>\n",
       "      <td>140.0</td>\n",
       "      <td>12345.0</td>\n",
       "    </tr>\n",
       "    <tr>\n",
       "      <th>Madrid</th>\n",
       "      <td>19618.0</td>\n",
       "      <td>129.27</td>\n",
       "      <td>484.14</td>\n",
       "      <td>0.0</td>\n",
       "      <td>35.0</td>\n",
       "      <td>58.0</td>\n",
       "      <td>100.0</td>\n",
       "      <td>9999.0</td>\n",
       "    </tr>\n",
       "    <tr>\n",
       "      <th>Milan</th>\n",
       "      <td>18322.0</td>\n",
       "      <td>115.09</td>\n",
       "      <td>290.79</td>\n",
       "      <td>8.0</td>\n",
       "      <td>50.0</td>\n",
       "      <td>73.5</td>\n",
       "      <td>110.0</td>\n",
       "      <td>11999.0</td>\n",
       "    </tr>\n",
       "    <tr>\n",
       "      <th>New York</th>\n",
       "      <td>48895.0</td>\n",
       "      <td>152.72</td>\n",
       "      <td>240.15</td>\n",
       "      <td>0.0</td>\n",
       "      <td>69.0</td>\n",
       "      <td>106.0</td>\n",
       "      <td>175.0</td>\n",
       "      <td>10000.0</td>\n",
       "    </tr>\n",
       "    <tr>\n",
       "      <th>Sydney</th>\n",
       "      <td>36662.0</td>\n",
       "      <td>207.69</td>\n",
       "      <td>323.82</td>\n",
       "      <td>0.0</td>\n",
       "      <td>80.0</td>\n",
       "      <td>136.0</td>\n",
       "      <td>223.0</td>\n",
       "      <td>14999.0</td>\n",
       "    </tr>\n",
       "    <tr>\n",
       "      <th>Tokyo</th>\n",
       "      <td>11466.0</td>\n",
       "      <td>14984.70</td>\n",
       "      <td>33273.45</td>\n",
       "      <td>0.0</td>\n",
       "      <td>6026.0</td>\n",
       "      <td>10007.0</td>\n",
       "      <td>17216.0</td>\n",
       "      <td>1000046.0</td>\n",
       "    </tr>\n",
       "  </tbody>\n",
       "</table>\n",
       "</div>"
      ],
      "text/plain": [
       "            count      mean       std  min     25%      50%      75%        max\n",
       "city                                                                           \n",
       "London    85068.0    122.34    220.75  0.0    47.0     84.0    140.0    12345.0\n",
       "Madrid    19618.0    129.27    484.14  0.0    35.0     58.0    100.0     9999.0\n",
       "Milan     18322.0    115.09    290.79  8.0    50.0     73.5    110.0    11999.0\n",
       "New York  48895.0    152.72    240.15  0.0    69.0    106.0    175.0    10000.0\n",
       "Sydney    36662.0    207.69    323.82  0.0    80.0    136.0    223.0    14999.0\n",
       "Tokyo     11466.0  14984.70  33273.45  0.0  6026.0  10007.0  17216.0  1000046.0"
      ]
     },
     "execution_count": 53,
     "metadata": {},
     "output_type": "execute_result"
    }
   ],
   "source": [
    "# Checking the describe of \"price\" column grouped by \"city\"\n",
    "df_raw_1.groupby('city')['price'].describe().round(2)"
   ]
  },
  {
   "cell_type": "code",
   "execution_count": 55,
   "metadata": {},
   "outputs": [],
   "source": [
    "# Convertion of prices to USD as of last_review's date exchange rate (17 April 2021)\n",
    "\n",
    "def convert_price_to_usd(price, city):\n",
    "    \"\"\"\n",
    "    Convert price to USD based on the city.\n",
    "    \"\"\"\n",
    "    conversion_rates = {\n",
    "        'Madrid':   1.1981314389221223,      # EUR to USD\n",
    "        'New York': 1.00,                    # USD to USD\n",
    "        'London':   1.3834553729076053,      # GBP to USD \n",
    "        'Milan':    1.1981314389221223,      # EUR to USD\n",
    "        'Tokyo':    0.009192860637696393,    # JPY to USD \n",
    "        'Sydney':   0.7735695491590678,      # AUD to USD\n",
    "    }\n",
    "\n",
    "    \n",
    "    if city in conversion_rates:\n",
    "        return price * conversion_rates[city]\n",
    "    else:\n",
    "        return price  # If city not in conversion rates, return original price\n",
    "    \n",
    "\n",
    "# Creating new column \"price_USD\" with the converted prices\n",
    "df_raw_1['price_USD'] = df_raw_1.apply(lambda row: convert_price_to_usd(row['price'], row['city']), axis=1)"
   ]
  },
  {
   "cell_type": "code",
   "execution_count": 56,
   "metadata": {},
   "outputs": [
    {
     "data": {
      "application/vnd.microsoft.datawrangler.viewer.v0+json": {
       "columns": [
        {
         "name": "index",
         "rawType": "int64",
         "type": "integer"
        },
        {
         "name": "price_USD",
         "rawType": "float64",
         "type": "float"
        }
       ],
       "ref": "07b28106-bbcc-4c77-ae02-18f72d5e6fe3",
       "rows": [
        [
         "0",
         "149.0"
        ],
        [
         "1",
         "225.0"
        ],
        [
         "2",
         "150.0"
        ],
        [
         "3",
         "89.0"
        ],
        [
         "4",
         "80.0"
        ],
        [
         "5",
         "200.0"
        ],
        [
         "6",
         "60.0"
        ],
        [
         "7",
         "79.0"
        ],
        [
         "8",
         "79.0"
        ],
        [
         "9",
         "150.0"
        ],
        [
         "10",
         "135.0"
        ],
        [
         "11",
         "85.0"
        ],
        [
         "12",
         "89.0"
        ],
        [
         "13",
         "85.0"
        ],
        [
         "14",
         "120.0"
        ],
        [
         "15",
         "140.0"
        ],
        [
         "16",
         "215.0"
        ],
        [
         "17",
         "140.0"
        ],
        [
         "18",
         "99.0"
        ],
        [
         "19",
         "190.0"
        ],
        [
         "20",
         "299.0"
        ],
        [
         "21",
         "130.0"
        ],
        [
         "22",
         "80.0"
        ],
        [
         "23",
         "110.0"
        ],
        [
         "24",
         "120.0"
        ],
        [
         "25",
         "60.0"
        ],
        [
         "26",
         "80.0"
        ],
        [
         "27",
         "150.0"
        ],
        [
         "28",
         "44.0"
        ],
        [
         "29",
         "180.0"
        ],
        [
         "30",
         "50.0"
        ],
        [
         "31",
         "52.0"
        ],
        [
         "32",
         "55.0"
        ],
        [
         "33",
         "50.0"
        ],
        [
         "34",
         "70.0"
        ],
        [
         "35",
         "89.0"
        ],
        [
         "36",
         "35.0"
        ],
        [
         "37",
         "85.0"
        ],
        [
         "38",
         "150.0"
        ],
        [
         "39",
         "40.0"
        ],
        [
         "40",
         "68.0"
        ],
        [
         "41",
         "120.0"
        ],
        [
         "42",
         "120.0"
        ],
        [
         "43",
         "135.0"
        ],
        [
         "44",
         "150.0"
        ],
        [
         "45",
         "150.0"
        ],
        [
         "46",
         "130.0"
        ],
        [
         "47",
         "110.0"
        ],
        [
         "48",
         "115.0"
        ],
        [
         "49",
         "80.0"
        ]
       ],
       "shape": {
        "columns": 1,
        "rows": 220031
       }
      },
      "text/plain": [
       "0         149.000000\n",
       "1         225.000000\n",
       "2         150.000000\n",
       "3          89.000000\n",
       "4          80.000000\n",
       "             ...    \n",
       "220026     27.557023\n",
       "220027     25.160760\n",
       "220028     26.358892\n",
       "220029     22.764497\n",
       "220030     23.962629\n",
       "Name: price_USD, Length: 220031, dtype: float64"
      ]
     },
     "execution_count": 56,
     "metadata": {},
     "output_type": "execute_result"
    }
   ],
   "source": [
    "df_raw_1['price_USD']"
   ]
  },
  {
   "cell_type": "markdown",
   "metadata": {},
   "source": [
    "___\n",
    "####  <span style=\"color:#f6f794\"> Rearranging columns </span>"
   ]
  },
  {
   "cell_type": "code",
   "execution_count": 62,
   "metadata": {},
   "outputs": [],
   "source": [
    "# Re arrange columns to have 'price_USD' next to 'price'\n",
    "\n",
    "df_raw_1= df_raw_1[['id', 'name', 'host_id', 'host_name', 'city', 'neighbourhood_group', 'neighbourhood', 'latitude', 'longitude',  \n",
    "                     'room_type', 'minimum_nights', 'number_of_reviews', 'reviews_per_month', 'calculated_host_listings_count', 'availability_365', 'price', 'price_USD',]]"
   ]
  },
  {
   "cell_type": "markdown",
   "metadata": {},
   "source": [
    "___\n",
    "###   <span style=\"color:#f6f794\"> 💾 Saving clean data to make a deep analysis. </span>"
   ]
  },
  {
   "cell_type": "code",
   "execution_count": null,
   "metadata": {},
   "outputs": [],
   "source": []
  },
  {
   "cell_type": "code",
   "execution_count": 63,
   "metadata": {},
   "outputs": [
    {
     "data": {
      "application/vnd.microsoft.datawrangler.viewer.v0+json": {
       "columns": [
        {
         "name": "index",
         "rawType": "int64",
         "type": "integer"
        },
        {
         "name": "id",
         "rawType": "int64",
         "type": "integer"
        },
        {
         "name": "name",
         "rawType": "object",
         "type": "string"
        },
        {
         "name": "host_id",
         "rawType": "int64",
         "type": "integer"
        },
        {
         "name": "host_name",
         "rawType": "object",
         "type": "string"
        },
        {
         "name": "city",
         "rawType": "object",
         "type": "string"
        },
        {
         "name": "neighbourhood_group",
         "rawType": "object",
         "type": "string"
        },
        {
         "name": "neighbourhood",
         "rawType": "object",
         "type": "string"
        },
        {
         "name": "latitude",
         "rawType": "float64",
         "type": "float"
        },
        {
         "name": "longitude",
         "rawType": "float64",
         "type": "float"
        },
        {
         "name": "room_type",
         "rawType": "object",
         "type": "string"
        },
        {
         "name": "minimum_nights",
         "rawType": "int64",
         "type": "integer"
        },
        {
         "name": "number_of_reviews",
         "rawType": "int64",
         "type": "integer"
        },
        {
         "name": "reviews_per_month",
         "rawType": "float64",
         "type": "float"
        },
        {
         "name": "calculated_host_listings_count",
         "rawType": "float64",
         "type": "float"
        },
        {
         "name": "availability_365",
         "rawType": "float64",
         "type": "float"
        },
        {
         "name": "price",
         "rawType": "int64",
         "type": "integer"
        },
        {
         "name": "price_USD",
         "rawType": "float64",
         "type": "float"
        }
       ],
       "ref": "885e6384-887d-4444-9fc3-b448cc0efcdb",
       "rows": [
        [
         "0",
         "2539",
         "Clean & quiet apt home by the park",
         "2787",
         "John",
         "New York",
         "Brooklyn",
         "Kensington",
         "40.64749",
         "-73.97237",
         "Private room",
         "1",
         "9",
         "0.21",
         "6.0",
         "365.0",
         "149",
         "149.0"
        ],
        [
         "1",
         "2595",
         "Skylit Midtown Castle",
         "2845",
         "Jennifer",
         "New York",
         "Manhattan",
         "Midtown",
         "40.75362",
         "-73.98377",
         "Entire home/apt",
         "1",
         "45",
         "0.38",
         "2.0",
         "355.0",
         "225",
         "225.0"
        ],
        [
         "2",
         "3647",
         "THE VILLAGE OF HARLEM....NEW YORK !",
         "4632",
         "Elisabeth",
         "New York",
         "Manhattan",
         "Harlem",
         "40.80902",
         "-73.9419",
         "Private room",
         "3",
         "0",
         "0.0",
         "1.0",
         "365.0",
         "150",
         "150.0"
        ],
        [
         "3",
         "3831",
         "Cozy Entire Floor of Brownstone",
         "4869",
         "LisaRoxanne",
         "New York",
         "Brooklyn",
         "Clinton Hill",
         "40.68514",
         "-73.95976",
         "Entire home/apt",
         "1",
         "270",
         "4.64",
         "1.0",
         "194.0",
         "89",
         "89.0"
        ],
        [
         "4",
         "5022",
         "Entire Apt: Spacious Studio/Loft by central park",
         "7192",
         "Laura",
         "New York",
         "Manhattan",
         "East Harlem",
         "40.79851",
         "-73.94399",
         "Entire home/apt",
         "10",
         "9",
         "0.1",
         "1.0",
         "0.0",
         "80",
         "80.0"
        ],
        [
         "5",
         "5099",
         "Large Cozy 1 BR Apartment In Midtown East",
         "7322",
         "Chris",
         "New York",
         "Manhattan",
         "Murray Hill",
         "40.74767",
         "-73.975",
         "Entire home/apt",
         "3",
         "74",
         "0.59",
         "1.0",
         "129.0",
         "200",
         "200.0"
        ],
        [
         "6",
         "5121",
         "BlissArtsSpace!",
         "7356",
         "Garon",
         "New York",
         "Brooklyn",
         "Bedford-Stuyvesant",
         "40.68688",
         "-73.95596",
         "Private room",
         "45",
         "49",
         "0.4",
         "1.0",
         "0.0",
         "60",
         "60.0"
        ],
        [
         "7",
         "5178",
         "Large Furnished Room Near B'way",
         "8967",
         "Shunichi",
         "New York",
         "Manhattan",
         "Hell's Kitchen",
         "40.76489",
         "-73.98493",
         "Private room",
         "2",
         "430",
         "3.47",
         "1.0",
         "220.0",
         "79",
         "79.0"
        ],
        [
         "8",
         "5203",
         "Cozy Clean Guest Room - Family Apt",
         "7490",
         "MaryEllen",
         "New York",
         "Manhattan",
         "Upper West Side",
         "40.80178",
         "-73.96723",
         "Private room",
         "2",
         "118",
         "0.99",
         "1.0",
         "0.0",
         "79",
         "79.0"
        ],
        [
         "9",
         "5238",
         "Cute & Cozy Lower East Side 1 bdrm",
         "7549",
         "Ben",
         "New York",
         "Manhattan",
         "Chinatown",
         "40.71344",
         "-73.99037",
         "Entire home/apt",
         "1",
         "160",
         "1.33",
         "4.0",
         "188.0",
         "150",
         "150.0"
        ],
        [
         "10",
         "5295",
         "Beautiful 1br on Upper West Side",
         "7702",
         "Lena",
         "New York",
         "Manhattan",
         "Upper West Side",
         "40.80316",
         "-73.96545",
         "Entire home/apt",
         "5",
         "53",
         "0.43",
         "1.0",
         "6.0",
         "135",
         "135.0"
        ],
        [
         "11",
         "5441",
         "Central Manhattan/near Broadway",
         "7989",
         "Kate",
         "New York",
         "Manhattan",
         "Hell's Kitchen",
         "40.76076",
         "-73.98867",
         "Private room",
         "2",
         "188",
         "1.5",
         "1.0",
         "39.0",
         "85",
         "85.0"
        ],
        [
         "12",
         "5803",
         "Lovely Room 1, Garden, Best Area, Legal rental",
         "9744",
         "Laurie",
         "New York",
         "Brooklyn",
         "South Slope",
         "40.66829",
         "-73.98779",
         "Private room",
         "4",
         "167",
         "1.34",
         "3.0",
         "314.0",
         "89",
         "89.0"
        ],
        [
         "13",
         "6021",
         "Wonderful Guest Bedroom in Manhattan for SINGLES",
         "11528",
         "Claudio",
         "New York",
         "Manhattan",
         "Upper West Side",
         "40.79826",
         "-73.96113",
         "Private room",
         "2",
         "113",
         "0.91",
         "1.0",
         "333.0",
         "85",
         "85.0"
        ],
        [
         "14",
         "6090",
         "West Village Nest - Superhost",
         "11975",
         "Alina",
         "New York",
         "Manhattan",
         "West Village",
         "40.7353",
         "-74.00525",
         "Entire home/apt",
         "90",
         "27",
         "0.22",
         "1.0",
         "0.0",
         "120",
         "120.0"
        ],
        [
         "15",
         "6848",
         "Only 2 stops to Manhattan studio",
         "15991",
         "Allen & Irina",
         "New York",
         "Brooklyn",
         "Williamsburg",
         "40.70837",
         "-73.95352",
         "Entire home/apt",
         "2",
         "148",
         "1.2",
         "1.0",
         "46.0",
         "140",
         "140.0"
        ],
        [
         "16",
         "7097",
         "Perfect for Your Parents + Garden",
         "17571",
         "Jane",
         "New York",
         "Brooklyn",
         "Fort Greene",
         "40.69169",
         "-73.97185",
         "Entire home/apt",
         "2",
         "198",
         "1.72",
         "1.0",
         "321.0",
         "215",
         "215.0"
        ],
        [
         "17",
         "7322",
         "Chelsea Perfect",
         "18946",
         "Doti",
         "New York",
         "Manhattan",
         "Chelsea",
         "40.74192",
         "-73.99501",
         "Private room",
         "1",
         "260",
         "2.12",
         "1.0",
         "12.0",
         "140",
         "140.0"
        ],
        [
         "18",
         "7726",
         "Hip Historic Brownstone Apartment with Backyard",
         "20950",
         "Adam And Charity",
         "New York",
         "Brooklyn",
         "Crown Heights",
         "40.67592",
         "-73.94694",
         "Entire home/apt",
         "3",
         "53",
         "4.44",
         "1.0",
         "21.0",
         "99",
         "99.0"
        ],
        [
         "19",
         "7750",
         "Huge 2 BR Upper East  Cental Park",
         "17985",
         "Sing",
         "New York",
         "Manhattan",
         "East Harlem",
         "40.79685",
         "-73.94872",
         "Entire home/apt",
         "7",
         "0",
         "0.0",
         "2.0",
         "249.0",
         "190",
         "190.0"
        ],
        [
         "20",
         "7801",
         "Sweet and Spacious Brooklyn Loft",
         "21207",
         "Chaya",
         "New York",
         "Brooklyn",
         "Williamsburg",
         "40.71842",
         "-73.95718",
         "Entire home/apt",
         "3",
         "9",
         "0.07",
         "1.0",
         "0.0",
         "299",
         "299.0"
        ],
        [
         "21",
         "8024",
         "CBG CtyBGd HelpsHaiti rm#1:1-4",
         "22486",
         "Lisel",
         "New York",
         "Brooklyn",
         "Park Slope",
         "40.68069",
         "-73.97706",
         "Private room",
         "2",
         "130",
         "1.09",
         "6.0",
         "347.0",
         "130",
         "130.0"
        ],
        [
         "22",
         "8025",
         "CBG Helps Haiti Room#2.5",
         "22486",
         "Lisel",
         "New York",
         "Brooklyn",
         "Park Slope",
         "40.67989",
         "-73.97798",
         "Private room",
         "1",
         "39",
         "0.37",
         "6.0",
         "364.0",
         "80",
         "80.0"
        ],
        [
         "23",
         "8110",
         "CBG Helps Haiti Rm #2",
         "22486",
         "Lisel",
         "New York",
         "Brooklyn",
         "Park Slope",
         "40.68001",
         "-73.97865",
         "Private room",
         "2",
         "71",
         "0.61",
         "6.0",
         "304.0",
         "110",
         "110.0"
        ],
        [
         "24",
         "8490",
         "MAISON DES SIRENES1,bohemian apartment",
         "25183",
         "Nathalie",
         "New York",
         "Brooklyn",
         "Bedford-Stuyvesant",
         "40.68371",
         "-73.94028",
         "Entire home/apt",
         "2",
         "88",
         "0.73",
         "2.0",
         "233.0",
         "120",
         "120.0"
        ],
        [
         "25",
         "8505",
         "Sunny Bedroom Across Prospect Park",
         "25326",
         "Gregory",
         "New York",
         "Brooklyn",
         "Windsor Terrace",
         "40.65599",
         "-73.97519",
         "Private room",
         "1",
         "19",
         "1.37",
         "2.0",
         "85.0",
         "60",
         "60.0"
        ],
        [
         "26",
         "8700",
         "Magnifique Suite au N de Manhattan - vue Cloitres",
         "26394",
         "Claude & Sophie",
         "New York",
         "Manhattan",
         "Inwood",
         "40.86754",
         "-73.92639",
         "Private room",
         "4",
         "0",
         "0.0",
         "1.0",
         "0.0",
         "80",
         "80.0"
        ],
        [
         "27",
         "9357",
         "Midtown Pied-a-terre",
         "30193",
         "Tommi",
         "New York",
         "Manhattan",
         "Hell's Kitchen",
         "40.76715",
         "-73.98533",
         "Entire home/apt",
         "10",
         "58",
         "0.49",
         "1.0",
         "75.0",
         "150",
         "150.0"
        ],
        [
         "28",
         "9518",
         "SPACIOUS, LOVELY FURNISHED MANHATTAN BEDROOM",
         "31374",
         "Shon",
         "New York",
         "Manhattan",
         "Inwood",
         "40.86482",
         "-73.92106",
         "Private room",
         "3",
         "108",
         "1.11",
         "3.0",
         "311.0",
         "44",
         "44.0"
        ],
        [
         "29",
         "9657",
         "Modern 1 BR / NYC / EAST VILLAGE",
         "21904",
         "Dana",
         "New York",
         "Manhattan",
         "East Village",
         "40.7292",
         "-73.98542",
         "Entire home/apt",
         "14",
         "29",
         "0.24",
         "1.0",
         "67.0",
         "180",
         "180.0"
        ],
        [
         "30",
         "9668",
         "front room/double bed",
         "32294",
         "Ssameer Or Trip",
         "New York",
         "Manhattan",
         "Harlem",
         "40.82245",
         "-73.95104",
         "Private room",
         "3",
         "242",
         "2.04",
         "3.0",
         "355.0",
         "50",
         "50.0"
        ],
        [
         "31",
         "9704",
         "Spacious 1 bedroom in luxe building",
         "32045",
         "Teri",
         "New York",
         "Manhattan",
         "Harlem",
         "40.81305",
         "-73.95466",
         "Private room",
         "2",
         "88",
         "1.42",
         "1.0",
         "255.0",
         "52",
         "52.0"
        ],
        [
         "32",
         "9782",
         "Loft in Williamsburg Area w/ Roof",
         "32169",
         "Andrea",
         "New York",
         "Brooklyn",
         "Greenpoint",
         "40.72219",
         "-73.93762",
         "Private room",
         "4",
         "197",
         "1.65",
         "3.0",
         "284.0",
         "55",
         "55.0"
        ],
        [
         "33",
         "9783",
         "back room/bunk beds",
         "32294",
         "Ssameer Or Trip",
         "New York",
         "Manhattan",
         "Harlem",
         "40.8213",
         "-73.95318",
         "Private room",
         "3",
         "273",
         "2.37",
         "3.0",
         "359.0",
         "50",
         "50.0"
        ],
        [
         "34",
         "10452",
         "Large B&B Style rooms",
         "35935",
         "Angela",
         "New York",
         "Brooklyn",
         "Bedford-Stuyvesant",
         "40.6831",
         "-73.95473",
         "Private room",
         "1",
         "74",
         "0.66",
         "2.0",
         "269.0",
         "70",
         "70.0"
        ],
        [
         "35",
         "10962",
         "Lovely room 2 & garden; Best area, Legal rental",
         "9744",
         "Laurie",
         "New York",
         "Brooklyn",
         "South Slope",
         "40.66869",
         "-73.9878",
         "Private room",
         "4",
         "168",
         "1.41",
         "3.0",
         "340.0",
         "89",
         "89.0"
        ],
        [
         "36",
         "11452",
         "Clean and Quiet in Brooklyn",
         "7355",
         "Vt",
         "New York",
         "Brooklyn",
         "Bedford-Stuyvesant",
         "40.68876",
         "-73.94312",
         "Private room",
         "60",
         "0",
         "0.0",
         "1.0",
         "365.0",
         "35",
         "35.0"
        ],
        [
         "37",
         "11708",
         "Cute apt in artist's home",
         "44145",
         "Tyrome",
         "New York",
         "Brooklyn",
         "Bushwick",
         "40.70186",
         "-73.92745",
         "Entire home/apt",
         "2",
         "231",
         "1.96",
         "2.0",
         "22.0",
         "85",
         "85.0"
        ],
        [
         "38",
         "11943",
         "Country space in the city",
         "45445",
         "Harriet",
         "New York",
         "Brooklyn",
         "Flatbush",
         "40.63702",
         "-73.96327",
         "Private room",
         "1",
         "0",
         "0.0",
         "1.0",
         "365.0",
         "150",
         "150.0"
        ],
        [
         "39",
         "12048",
         "LowerEastSide apt share shortterm 1",
         "7549",
         "Ben",
         "New York",
         "Manhattan",
         "Lower East Side",
         "40.71401",
         "-73.98917",
         "Shared room",
         "1",
         "214",
         "1.81",
         "4.0",
         "188.0",
         "40",
         "40.0"
        ],
        [
         "40",
         "12192",
         "ENJOY Downtown NYC!",
         "46978",
         "Edward",
         "New York",
         "Manhattan",
         "East Village",
         "40.7229",
         "-73.98199",
         "Private room",
         "2",
         "245",
         "2.08",
         "2.0",
         "96.0",
         "68",
         "68.0"
        ],
        [
         "41",
         "12299",
         "Beautiful Sunny Park Slope Brooklyn",
         "47610",
         "Abdul",
         "New York",
         "Brooklyn",
         "South Slope",
         "40.66278",
         "-73.97966",
         "Entire home/apt",
         "3",
         "15",
         "0.39",
         "1.0",
         "345.0",
         "120",
         "120.0"
        ],
        [
         "42",
         "12303",
         "1bdr w private bath. in lofty apt",
         "47618",
         "Yolande",
         "New York",
         "Brooklyn",
         "Fort Greene",
         "40.69673",
         "-73.97584",
         "Private room",
         "7",
         "25",
         "0.23",
         "1.0",
         "311.0",
         "120",
         "120.0"
        ],
        [
         "43",
         "12318",
         "West Side Retreat",
         "16800",
         "Cyn",
         "New York",
         "Manhattan",
         "Upper West Side",
         "40.79009",
         "-73.97927",
         "Private room",
         "4",
         "81",
         "0.69",
         "1.0",
         "273.0",
         "135",
         "135.0"
        ],
        [
         "44",
         "12343",
         "BEST BET IN HARLEM",
         "47727",
         "Earl",
         "New York",
         "Manhattan",
         "Harlem",
         "40.81175",
         "-73.94478",
         "Entire home/apt",
         "7",
         "97",
         "0.84",
         "1.0",
         "309.0",
         "150",
         "150.0"
        ],
        [
         "45",
         "12627",
         "Entire apartment in central Brooklyn neighborhood.",
         "49670",
         "Rana",
         "New York",
         "Brooklyn",
         "Prospect-Lefferts Gardens",
         "40.65944",
         "-73.96238",
         "Entire home/apt",
         "29",
         "11",
         "0.49",
         "1.0",
         "95.0",
         "150",
         "150.0"
        ],
        [
         "46",
         "12937",
         "1 Stop fr. Manhattan! Private Suite,Landmark Block",
         "50124",
         "Orestes",
         "New York",
         "Queens",
         "Long Island City",
         "40.74771",
         "-73.9474",
         "Private room",
         "3",
         "248",
         "2.25",
         "1.0",
         "215.0",
         "130",
         "130.0"
        ],
        [
         "47",
         "12940",
         "Charming Brownstone 3 - Near PRATT",
         "50148",
         "Adreinne",
         "New York",
         "Brooklyn",
         "Bedford-Stuyvesant",
         "40.68111",
         "-73.95591",
         "Entire home/apt",
         "7",
         "61",
         "0.52",
         "1.0",
         "265.0",
         "110",
         "110.0"
        ],
        [
         "48",
         "13050",
         "bright and stylish duplex",
         "50846",
         "Jennifer",
         "New York",
         "Brooklyn",
         "Bedford-Stuyvesant",
         "40.68554",
         "-73.9409",
         "Entire home/apt",
         "3",
         "11",
         "0.1",
         "1.0",
         "0.0",
         "115",
         "115.0"
        ],
        [
         "49",
         "13394",
         "Fort Greene brownstone",
         "52335",
         "Alexander",
         "New York",
         "Brooklyn",
         "Fort Greene",
         "40.69142",
         "-73.97376",
         "Private room",
         "3",
         "135",
         "1.16",
         "2.0",
         "192.0",
         "80",
         "80.0"
        ]
       ],
       "shape": {
        "columns": 17,
        "rows": 220031
       }
      },
      "text/html": [
       "<div>\n",
       "<style scoped>\n",
       "    .dataframe tbody tr th:only-of-type {\n",
       "        vertical-align: middle;\n",
       "    }\n",
       "\n",
       "    .dataframe tbody tr th {\n",
       "        vertical-align: top;\n",
       "    }\n",
       "\n",
       "    .dataframe thead th {\n",
       "        text-align: right;\n",
       "    }\n",
       "</style>\n",
       "<table border=\"1\" class=\"dataframe\">\n",
       "  <thead>\n",
       "    <tr style=\"text-align: right;\">\n",
       "      <th></th>\n",
       "      <th>id</th>\n",
       "      <th>name</th>\n",
       "      <th>host_id</th>\n",
       "      <th>host_name</th>\n",
       "      <th>city</th>\n",
       "      <th>neighbourhood_group</th>\n",
       "      <th>neighbourhood</th>\n",
       "      <th>latitude</th>\n",
       "      <th>longitude</th>\n",
       "      <th>room_type</th>\n",
       "      <th>minimum_nights</th>\n",
       "      <th>number_of_reviews</th>\n",
       "      <th>reviews_per_month</th>\n",
       "      <th>calculated_host_listings_count</th>\n",
       "      <th>availability_365</th>\n",
       "      <th>price</th>\n",
       "      <th>price_USD</th>\n",
       "    </tr>\n",
       "  </thead>\n",
       "  <tbody>\n",
       "    <tr>\n",
       "      <th>0</th>\n",
       "      <td>2539</td>\n",
       "      <td>Clean &amp; quiet apt home by the park</td>\n",
       "      <td>2787</td>\n",
       "      <td>John</td>\n",
       "      <td>New York</td>\n",
       "      <td>Brooklyn</td>\n",
       "      <td>Kensington</td>\n",
       "      <td>40.64749</td>\n",
       "      <td>-73.97237</td>\n",
       "      <td>Private room</td>\n",
       "      <td>1</td>\n",
       "      <td>9</td>\n",
       "      <td>0.21</td>\n",
       "      <td>6.0</td>\n",
       "      <td>365.0</td>\n",
       "      <td>149</td>\n",
       "      <td>149.000000</td>\n",
       "    </tr>\n",
       "    <tr>\n",
       "      <th>1</th>\n",
       "      <td>2595</td>\n",
       "      <td>Skylit Midtown Castle</td>\n",
       "      <td>2845</td>\n",
       "      <td>Jennifer</td>\n",
       "      <td>New York</td>\n",
       "      <td>Manhattan</td>\n",
       "      <td>Midtown</td>\n",
       "      <td>40.75362</td>\n",
       "      <td>-73.98377</td>\n",
       "      <td>Entire home/apt</td>\n",
       "      <td>1</td>\n",
       "      <td>45</td>\n",
       "      <td>0.38</td>\n",
       "      <td>2.0</td>\n",
       "      <td>355.0</td>\n",
       "      <td>225</td>\n",
       "      <td>225.000000</td>\n",
       "    </tr>\n",
       "    <tr>\n",
       "      <th>2</th>\n",
       "      <td>3647</td>\n",
       "      <td>THE VILLAGE OF HARLEM....NEW YORK !</td>\n",
       "      <td>4632</td>\n",
       "      <td>Elisabeth</td>\n",
       "      <td>New York</td>\n",
       "      <td>Manhattan</td>\n",
       "      <td>Harlem</td>\n",
       "      <td>40.80902</td>\n",
       "      <td>-73.94190</td>\n",
       "      <td>Private room</td>\n",
       "      <td>3</td>\n",
       "      <td>0</td>\n",
       "      <td>0.00</td>\n",
       "      <td>1.0</td>\n",
       "      <td>365.0</td>\n",
       "      <td>150</td>\n",
       "      <td>150.000000</td>\n",
       "    </tr>\n",
       "    <tr>\n",
       "      <th>3</th>\n",
       "      <td>3831</td>\n",
       "      <td>Cozy Entire Floor of Brownstone</td>\n",
       "      <td>4869</td>\n",
       "      <td>LisaRoxanne</td>\n",
       "      <td>New York</td>\n",
       "      <td>Brooklyn</td>\n",
       "      <td>Clinton Hill</td>\n",
       "      <td>40.68514</td>\n",
       "      <td>-73.95976</td>\n",
       "      <td>Entire home/apt</td>\n",
       "      <td>1</td>\n",
       "      <td>270</td>\n",
       "      <td>4.64</td>\n",
       "      <td>1.0</td>\n",
       "      <td>194.0</td>\n",
       "      <td>89</td>\n",
       "      <td>89.000000</td>\n",
       "    </tr>\n",
       "    <tr>\n",
       "      <th>4</th>\n",
       "      <td>5022</td>\n",
       "      <td>Entire Apt: Spacious Studio/Loft by central park</td>\n",
       "      <td>7192</td>\n",
       "      <td>Laura</td>\n",
       "      <td>New York</td>\n",
       "      <td>Manhattan</td>\n",
       "      <td>East Harlem</td>\n",
       "      <td>40.79851</td>\n",
       "      <td>-73.94399</td>\n",
       "      <td>Entire home/apt</td>\n",
       "      <td>10</td>\n",
       "      <td>9</td>\n",
       "      <td>0.10</td>\n",
       "      <td>1.0</td>\n",
       "      <td>0.0</td>\n",
       "      <td>80</td>\n",
       "      <td>80.000000</td>\n",
       "    </tr>\n",
       "    <tr>\n",
       "      <th>...</th>\n",
       "      <td>...</td>\n",
       "      <td>...</td>\n",
       "      <td>...</td>\n",
       "      <td>...</td>\n",
       "      <td>...</td>\n",
       "      <td>...</td>\n",
       "      <td>...</td>\n",
       "      <td>...</td>\n",
       "      <td>...</td>\n",
       "      <td>...</td>\n",
       "      <td>...</td>\n",
       "      <td>...</td>\n",
       "      <td>...</td>\n",
       "      <td>...</td>\n",
       "      <td>...</td>\n",
       "      <td>...</td>\n",
       "      <td>...</td>\n",
       "    </tr>\n",
       "    <tr>\n",
       "      <th>220026</th>\n",
       "      <td>49185822</td>\n",
       "      <td>Habitación con TV con Netflix en Lavapiés</td>\n",
       "      <td>172011610</td>\n",
       "      <td>Belaid</td>\n",
       "      <td>Madrid</td>\n",
       "      <td>Centro</td>\n",
       "      <td>Embajadores</td>\n",
       "      <td>40.40756</td>\n",
       "      <td>-3.69937</td>\n",
       "      <td>Private room</td>\n",
       "      <td>30</td>\n",
       "      <td>0</td>\n",
       "      <td>0.00</td>\n",
       "      <td>8.0</td>\n",
       "      <td>349.0</td>\n",
       "      <td>23</td>\n",
       "      <td>27.557023</td>\n",
       "    </tr>\n",
       "    <tr>\n",
       "      <th>220027</th>\n",
       "      <td>49186179</td>\n",
       "      <td>Habitación con TV con Netflix en Gaztambide</td>\n",
       "      <td>172011610</td>\n",
       "      <td>Belaid</td>\n",
       "      <td>Madrid</td>\n",
       "      <td>Chamberí</td>\n",
       "      <td>Gaztambide</td>\n",
       "      <td>40.43706</td>\n",
       "      <td>-3.71364</td>\n",
       "      <td>Private room</td>\n",
       "      <td>30</td>\n",
       "      <td>0</td>\n",
       "      <td>0.00</td>\n",
       "      <td>8.0</td>\n",
       "      <td>350.0</td>\n",
       "      <td>21</td>\n",
       "      <td>25.160760</td>\n",
       "    </tr>\n",
       "    <tr>\n",
       "      <th>220028</th>\n",
       "      <td>49187258</td>\n",
       "      <td>Habitación con TV con Netflix en Chamberí</td>\n",
       "      <td>172011610</td>\n",
       "      <td>Belaid</td>\n",
       "      <td>Madrid</td>\n",
       "      <td>Chamberí</td>\n",
       "      <td>Arapiles</td>\n",
       "      <td>40.43857</td>\n",
       "      <td>-3.70715</td>\n",
       "      <td>Private room</td>\n",
       "      <td>7</td>\n",
       "      <td>0</td>\n",
       "      <td>0.00</td>\n",
       "      <td>8.0</td>\n",
       "      <td>364.0</td>\n",
       "      <td>22</td>\n",
       "      <td>26.358892</td>\n",
       "    </tr>\n",
       "    <tr>\n",
       "      <th>220029</th>\n",
       "      <td>49187471</td>\n",
       "      <td>Habitación con TV con Netflix en Goya</td>\n",
       "      <td>172011610</td>\n",
       "      <td>Belaid</td>\n",
       "      <td>Madrid</td>\n",
       "      <td>Salamanca</td>\n",
       "      <td>Guindalera</td>\n",
       "      <td>40.43027</td>\n",
       "      <td>-3.66759</td>\n",
       "      <td>Private room</td>\n",
       "      <td>30</td>\n",
       "      <td>0</td>\n",
       "      <td>0.00</td>\n",
       "      <td>8.0</td>\n",
       "      <td>349.0</td>\n",
       "      <td>19</td>\n",
       "      <td>22.764497</td>\n",
       "    </tr>\n",
       "    <tr>\n",
       "      <th>220030</th>\n",
       "      <td>49187791</td>\n",
       "      <td>Habitación con TV con Netflix en Chamberí</td>\n",
       "      <td>172011610</td>\n",
       "      <td>Belaid</td>\n",
       "      <td>Madrid</td>\n",
       "      <td>Chamberí</td>\n",
       "      <td>Arapiles</td>\n",
       "      <td>40.43484</td>\n",
       "      <td>-3.70667</td>\n",
       "      <td>Private room</td>\n",
       "      <td>30</td>\n",
       "      <td>0</td>\n",
       "      <td>0.00</td>\n",
       "      <td>8.0</td>\n",
       "      <td>349.0</td>\n",
       "      <td>20</td>\n",
       "      <td>23.962629</td>\n",
       "    </tr>\n",
       "  </tbody>\n",
       "</table>\n",
       "<p>220031 rows × 17 columns</p>\n",
       "</div>"
      ],
      "text/plain": [
       "              id                                              name    host_id    host_name      city neighbourhood_group neighbourhood  latitude  longitude        room_type  minimum_nights  number_of_reviews  reviews_per_month  calculated_host_listings_count  availability_365  price   price_USD\n",
       "0           2539                Clean & quiet apt home by the park       2787         John  New York            Brooklyn    Kensington  40.64749  -73.97237     Private room               1                  9               0.21                             6.0             365.0    149  149.000000\n",
       "1           2595                             Skylit Midtown Castle       2845     Jennifer  New York           Manhattan       Midtown  40.75362  -73.98377  Entire home/apt               1                 45               0.38                             2.0             355.0    225  225.000000\n",
       "2           3647               THE VILLAGE OF HARLEM....NEW YORK !       4632    Elisabeth  New York           Manhattan        Harlem  40.80902  -73.94190     Private room               3                  0               0.00                             1.0             365.0    150  150.000000\n",
       "3           3831                   Cozy Entire Floor of Brownstone       4869  LisaRoxanne  New York            Brooklyn  Clinton Hill  40.68514  -73.95976  Entire home/apt               1                270               4.64                             1.0             194.0     89   89.000000\n",
       "4           5022  Entire Apt: Spacious Studio/Loft by central park       7192        Laura  New York           Manhattan   East Harlem  40.79851  -73.94399  Entire home/apt              10                  9               0.10                             1.0               0.0     80   80.000000\n",
       "...          ...                                               ...        ...          ...       ...                 ...           ...       ...        ...              ...             ...                ...                ...                             ...               ...    ...         ...\n",
       "220026  49185822         Habitación con TV con Netflix en Lavapiés  172011610       Belaid    Madrid              Centro   Embajadores  40.40756   -3.69937     Private room              30                  0               0.00                             8.0             349.0     23   27.557023\n",
       "220027  49186179       Habitación con TV con Netflix en Gaztambide  172011610       Belaid    Madrid            Chamberí    Gaztambide  40.43706   -3.71364     Private room              30                  0               0.00                             8.0             350.0     21   25.160760\n",
       "220028  49187258         Habitación con TV con Netflix en Chamberí  172011610       Belaid    Madrid            Chamberí      Arapiles  40.43857   -3.70715     Private room               7                  0               0.00                             8.0             364.0     22   26.358892\n",
       "220029  49187471             Habitación con TV con Netflix en Goya  172011610       Belaid    Madrid           Salamanca    Guindalera  40.43027   -3.66759     Private room              30                  0               0.00                             8.0             349.0     19   22.764497\n",
       "220030  49187791         Habitación con TV con Netflix en Chamberí  172011610       Belaid    Madrid            Chamberí      Arapiles  40.43484   -3.70667     Private room              30                  0               0.00                             8.0             349.0     20   23.962629\n",
       "\n",
       "[220031 rows x 17 columns]"
      ]
     },
     "execution_count": 63,
     "metadata": {},
     "output_type": "execute_result"
    }
   ],
   "source": [
    "df_raw_1"
   ]
  },
  {
   "cell_type": "markdown",
   "metadata": {},
   "source": [
    "___\n",
    "####   <span style=\"color:#f6f794\"> Dictionary updated: </span>\n",
    "\n",
    "| Columns Name                      | Meaning                                                                           | \n",
    "|-----------------------------------|-----------------------------------------------------------------------------------|\n",
    "| `id`                              | ID of the announcement                                                            |\n",
    "| `name`                            | Name of title of the announcement                                                 |\n",
    "| `host_id`                         | ID of the host of the Airbnb                                                      |\n",
    "| `host_name`                       | Name of the person who host the Airbnb                                            |\n",
    "| `city`                            | City where the Airbnb is located.                                                 |\n",
    "| `neighbourhood_group`             | Depending on how the administrative states work                                   |\n",
    "| `neighbourhood`                   | Lorem ipsum     |\n",
    "| `latitude`                        | Latitud of the appartment's location                                              |\n",
    "| `longitude`                       | Longitud of the appartment's location                                             |\n",
    "| `room_type`                       | Type of appartment                                                                |\n",
    "| `minimum_nights`                  | Minimum nights requested to stay at the appartment by the host                    |\n",
    "| `number_of_reviews`               | Number of reviews received to the appartment                                      |\n",
    "| `reviews_per_month`               | Number of reviews received by month                                               |\n",
    "| `calculated_host_listings_count`  | Number of active listings a host has at data collection time. It shows whether a host is casual (one listing) or managing multiple properties (a small business)     |\n",
    "| `availability_365`                | Number of days the appartment is available by                                     |\n",
    "| `price`                           | Price per night in local currency (original dataset price)                        |\n",
    "| `price_USD`                       | Price per night in USD currency (converted on rate exchange of 17/april/2021)     |"
   ]
  }
 ],
 "metadata": {
  "kernelspec": {
   "display_name": ".venv",
   "language": "python",
   "name": "python3"
  },
  "language_info": {
   "codemirror_mode": {
    "name": "ipython",
    "version": 3
   },
   "file_extension": ".py",
   "mimetype": "text/x-python",
   "name": "python",
   "nbconvert_exporter": "python",
   "pygments_lexer": "ipython3",
   "version": "3.13.2"
  }
 },
 "nbformat": 4,
 "nbformat_minor": 2
}
