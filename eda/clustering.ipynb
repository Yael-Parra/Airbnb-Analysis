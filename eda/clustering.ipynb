{
  "nbformat": 4,
  "nbformat_minor": 0,
  "metadata": {
    "colab": {
      "provenance": []
    },
    "kernelspec": {
      "name": "python3",
      "display_name": "Python 3"
    },
    "language_info": {
      "name": "python"
    }
  },
  "cells": [
    {
      "cell_type": "markdown",
      "source": [
        "## Carga de datos"
      ],
      "metadata": {
        "id": "F0zBm60IPWNC"
      }
    },
    {
      "cell_type": "code",
      "execution_count": 56,
      "metadata": {
        "id": "nFDophSWH9sW",
        "colab": {
          "base_uri": "https://localhost:8080/"
        },
        "outputId": "c8200bc8-2763-4347-a993-a6655ba04fca"
      },
      "outputs": [
        {
          "output_type": "stream",
          "name": "stdout",
          "text": [
            "🔗 Descargando datos desde GitHub...\n",
            "🔗 Datos cargados exitosamente (220,031 filas, 17 columnas)\n"
          ]
        }
      ],
      "source": [
        "import pandas as pd\n",
        "import numpy as np\n",
        "import matplotlib.pyplot as plt\n",
        "import seaborn as sns\n",
        "import requests\n",
        "import gzip\n",
        "from io import BytesIO\n",
        "from sklearn.decomposition import PCA\n",
        "from sklearn.preprocessing import StandardScaler\n",
        "from sklearn.cluster import MiniBatchKMeans\n",
        "from sklearn.metrics import silhouette_score\n",
        "import time\n",
        "import warnings\n",
        "warnings.filterwarnings('ignore')\n",
        "\n",
        "plt.style.use('default')\n",
        "sns.set_palette(\"husl\")\n",
        "\n",
        "GITHUB_RAW_URL = \"https://raw.githubusercontent.com/Yael-Parra/Airbnb-Analysis/dev/data/airbnb_cleaned.csv.gz\"\n",
        "\n",
        "def load_airbnb_data_from_github(url):\n",
        "    print(\"🔗 Descargando datos desde GitHub...\")\n",
        "    try:\n",
        "        response = requests.get(url)\n",
        "        response.raise_for_status()\n",
        "        with gzip.open(BytesIO(response.content), 'rt', encoding='utf-8') as f:\n",
        "            df = pd.read_csv(f)\n",
        "        print(f\"🔗 Datos cargados exitosamente ({df.shape[0]:,} filas, {df.shape[1]} columnas)\")\n",
        "        return df\n",
        "    except Exception as e:\n",
        "        print(f\"❌ Error al cargar datos: {e}\")\n",
        "        return None\n",
        "\n",
        "df = load_airbnb_data_from_github(GITHUB_RAW_URL)"
      ]
    },
    {
      "cell_type": "markdown",
      "source": [
        "## Función del análisis PCA"
      ],
      "metadata": {
        "id": "pjtNrsxxPruH"
      }
    },
    {
      "cell_type": "code",
      "source": [
        "def pca_analysis(df, feature_columns, n_components=5):\n",
        "    print(\"📊 Realizando PCA...\")\n",
        "    start_time = time.time()\n",
        "\n",
        "    X = df[feature_columns].fillna(df[feature_columns].median())\n",
        "    scaler = StandardScaler()\n",
        "    X_scaled = scaler.fit_transform(X)\n",
        "\n",
        "    pca = PCA(n_components=n_components)\n",
        "    X_pca = pca.fit_transform(X_scaled)\n",
        "\n",
        "    elapsed = time.time() - start_time\n",
        "    print(f\"✅ PCA completado en {elapsed:.2f}s\")\n",
        "\n",
        "    for i, var in enumerate(pca.explained_variance_ratio_):\n",
        "        print(f\"   PC{i+1}: {var:.3f} ({var*100:.1f}%)\")\n",
        "\n",
        "    return pca, scaler, X_pca, X_scaled\n"
      ],
      "metadata": {
        "id": "MskUxElgPxRd"
      },
      "execution_count": 58,
      "outputs": []
    },
    {
      "cell_type": "markdown",
      "source": [
        "## Extracción de las variables más influyentes por componente"
      ],
      "metadata": {
        "id": "o32-Av62Pzh3"
      }
    },
    {
      "cell_type": "code",
      "source": [
        "def extract_key_features(pca_model, feature_names, n_components=2):\n",
        "    print(\"🔍 Extrayendo variables clave por componente...\")\n",
        "    key_features = {}\n",
        "\n",
        "    for i in range(n_components):\n",
        "        loadings = pca_model.components_[i]\n",
        "        top_indices = np.argsort(np.abs(loadings))[-3:][::-1]\n",
        "        print(f\" PC{i+1}:\")\n",
        "        for j in top_indices:\n",
        "            print(f\"   - {feature_names[j]}: {loadings[j]:.3f}\")\n",
        "        key_features[f\"PC{i+1}\"] = [(feature_names[j], loadings[j]) for j in top_indices]\n",
        "\n",
        "    return key_features\n"
      ],
      "metadata": {
        "id": "3Otb_IsWRQFw"
      },
      "execution_count": 59,
      "outputs": []
    },
    {
      "cell_type": "markdown",
      "source": [
        "## Búsqueda optimizada del número de clusters\n",
        "\n",
        "Se usa MiniBatchKMeans para mejor rendimiento y silhouette_score solo sobre una muestra de datos para reducir el coste computacional."
      ],
      "metadata": {
        "id": "DaRzaelkRQkM"
      }
    },
    {
      "cell_type": "code",
      "source": [
        "def find_optimal_clusters(pca_data, max_k=8, sample_size=2000):\n",
        "    print(\"🔎 Buscando número óptimo de clusters...\")\n",
        "    start_time = time.time()\n",
        "\n",
        "    k_range = range(2, max_k + 1)\n",
        "    silhouette_scores = []\n",
        "    inertias = []\n",
        "\n",
        "    sample = pca_data[np.random.choice(pca_data.shape[0], size=sample_size, replace=False)]\n",
        "\n",
        "    for k in k_range:\n",
        "        kmeans = MiniBatchKMeans(n_clusters=k, random_state=42, batch_size=1024)\n",
        "        labels = kmeans.fit_predict(sample)\n",
        "        silhouette = silhouette_score(sample, labels)\n",
        "        silhouette_scores.append(silhouette)\n",
        "        inertias.append(kmeans.inertia_)\n",
        "        print(f\"   k={k} → silhouette={silhouette:.3f}, inertia={kmeans.inertia_:.0f}\")\n",
        "\n",
        "    best_k = k_range[np.argmax(silhouette_scores)]\n",
        "    print(f\"✅ Mejor k: {best_k} con Silhouette={max(silhouette_scores):.3f}\")\n",
        "    print(f\"⌛ Evaluación completada en {time.time() - start_time:.2f}s\")\n",
        "    return best_k, silhouette_scores, inertias\n"
      ],
      "metadata": {
        "id": "xC2I_ijGRU7I"
      },
      "execution_count": 60,
      "outputs": []
    },
    {
      "cell_type": "markdown",
      "source": [
        "## Clustering final y análisis de distribución"
      ],
      "metadata": {
        "id": "qKI2KWmtRdmN"
      }
    },
    {
      "cell_type": "code",
      "source": [
        "def clustering_analysis(pca_data, n_clusters):\n",
        "    print(f\"📌 Aplicando MiniBatchKMeans con k={n_clusters}...\")\n",
        "    start = time.time()\n",
        "\n",
        "    kmeans = MiniBatchKMeans(n_clusters=n_clusters, random_state=42, batch_size=1024)\n",
        "    clusters = kmeans.fit_predict(pca_data)\n",
        "    silhouette = silhouette_score(pca_data, clusters)\n",
        "\n",
        "    print(f\"✅ Clustering en {time.time() - start:.2f}s. Silhouette: {silhouette:.3f}\")\n",
        "    for cluster_id in np.unique(clusters):\n",
        "        count = np.sum(clusters == cluster_id)\n",
        "        print(f\"   Cluster {cluster_id}: {count} muestras ({count/len(clusters)*100:.1f}%)\")\n",
        "    return clusters, kmeans\n"
      ],
      "metadata": {
        "id": "HE_dgYXIRhB3"
      },
      "execution_count": 61,
      "outputs": []
    },
    {
      "cell_type": "markdown",
      "source": [
        "## Visualización de clusters en el espacio PCA"
      ],
      "metadata": {
        "id": "zqs0xORNRjAr"
      }
    },
    {
      "cell_type": "code",
      "source": [
        "def visualize_clusters_simple(pca_data, clusters, kmeans_model):\n",
        "    plt.figure(figsize=(10, 6))\n",
        "    scatter = plt.scatter(pca_data[:, 0], pca_data[:, 1], c=clusters, cmap='tab10', alpha=0.6, s=10)\n",
        "    plt.scatter(kmeans_model.cluster_centers_[:, 0], kmeans_model.cluster_centers_[:, 1],\n",
        "                c='black', marker='x', s=200, label='Centroides')\n",
        "    plt.title(\"Distribución de Clusters en Espacio PCA\")\n",
        "    plt.xlabel(\"PC1\")\n",
        "    plt.ylabel(\"PC2\")\n",
        "    plt.legend()\n",
        "    plt.grid(True)\n",
        "    plt.colorbar(scatter)\n",
        "    plt.show()\n"
      ],
      "metadata": {
        "id": "YsnDmmMZRpva"
      },
      "execution_count": 62,
      "outputs": []
    },
    {
      "cell_type": "markdown",
      "source": [
        "## Análisis de características por cluster"
      ],
      "metadata": {
        "id": "ZwVrZUUQRqVc"
      }
    },
    {
      "cell_type": "code",
      "source": [
        "def analyze_cluster_characteristics(df, clusters, feature_columns):\n",
        "    df_temp = df[feature_columns].copy()\n",
        "    df_temp[\"Cluster\"] = clusters\n",
        "\n",
        "    cluster_means = df_temp.groupby(\"Cluster\").mean()\n",
        "    global_means = df_temp[feature_columns].mean()\n",
        "\n",
        "    print(\"📊 Características destacadas por cluster (vs. media global):\")\n",
        "    for cluster_id in cluster_means.index:\n",
        "        diffs = ((cluster_means.loc[cluster_id] - global_means) / global_means * 100).sort_values(key=abs, ascending=False)\n",
        "        print(f\"\\nCluster {cluster_id}:\")\n",
        "        for feature in diffs.head(3).index:\n",
        "            sign = \"↑\" if diffs[feature] > 0 else \"↓\"\n",
        "            print(f\"   {sign} {feature}: {diffs[feature]:+.1f}%\")\n"
      ],
      "metadata": {
        "id": "jppmWOG_RuAU"
      },
      "execution_count": 63,
      "outputs": []
    },
    {
      "cell_type": "markdown",
      "source": [
        "## Ejecución del análisis completo"
      ],
      "metadata": {
        "id": "P_Wj2F1nRwjA"
      }
    },
    {
      "cell_type": "code",
      "source": [
        "numeric_cols = [\n",
        "    'minimum_nights', 'number_of_reviews', 'reviews_per_month',\n",
        "    'calculated_host_listings_count', 'availability_365', 'price_USD'\n",
        "]\n",
        "\n",
        "results = {}\n",
        "\n",
        "pca, scaler, X_pca, X_scaled = pca_analysis(df, numeric_cols)\n",
        "key_features = extract_key_features(pca, numeric_cols)\n",
        "best_k, sil_scores, inertias = find_optimal_clusters(X_pca[:, :2])\n",
        "clusters, kmeans_model = clustering_analysis(X_pca[:, :2], best_k)\n",
        "visualize_clusters_simple(X_pca[:, :2], clusters, kmeans_model)\n",
        "analyze_cluster_characteristics(df, clusters, numeric_cols)\n",
        "\n",
        "# Guardamos resultados\n",
        "results.update({\n",
        "    'pca': pca,\n",
        "    'scaler': scaler,\n",
        "    'clusters': clusters,\n",
        "    'key_features': key_features,\n",
        "    'best_k': best_k,\n",
        "    'silhouette_scores': sil_scores\n",
        "})"
      ],
      "metadata": {
        "colab": {
          "base_uri": "https://localhost:8080/",
          "height": 1000
        },
        "id": "szXHEn__bcxb",
        "outputId": "ea3caa3b-7d07-441c-bb2f-f09c814f86d1"
      },
      "execution_count": 65,
      "outputs": [
        {
          "output_type": "stream",
          "name": "stdout",
          "text": [
            "📊 Realizando PCA...\n",
            "✅ PCA completado en 0.07s\n",
            "   PC1: 0.278 (27.8%)\n",
            "   PC2: 0.188 (18.8%)\n",
            "   PC3: 0.170 (17.0%)\n",
            "   PC4: 0.154 (15.4%)\n",
            "   PC5: 0.146 (14.6%)\n",
            "🔍 Extrayendo variables clave por componente...\n",
            " PC1:\n",
            "   - reviews_per_month: 0.680\n",
            "   - number_of_reviews: 0.680\n",
            "   - availability_365: 0.208\n",
            " PC2:\n",
            "   - price_USD: 0.571\n",
            "   - availability_365: 0.570\n",
            "   - minimum_nights: 0.456\n",
            "🔎 Buscando número óptimo de clusters...\n",
            "   k=2 → silhouette=0.462, inertia=3403\n",
            "   k=3 → silhouette=0.512, inertia=2048\n",
            "   k=4 → silhouette=0.449, inertia=1742\n",
            "   k=5 → silhouette=0.373, inertia=1515\n",
            "   k=6 → silhouette=0.399, inertia=1117\n",
            "   k=7 → silhouette=0.421, inertia=933\n",
            "   k=8 → silhouette=0.420, inertia=757\n",
            "✅ Mejor k: 3 con Silhouette=0.512\n",
            "⌛ Evaluación completada en 0.51s\n",
            "📌 Aplicando MiniBatchKMeans con k=3...\n",
            "✅ Clustering en 593.68s. Silhouette: 0.505\n",
            "   Cluster 0: 134256 muestras (61.0%)\n",
            "   Cluster 1: 54295 muestras (24.7%)\n",
            "   Cluster 2: 31480 muestras (14.3%)\n"
          ]
        },
        {
          "output_type": "display_data",
          "data": {
            "text/plain": [
              "<Figure size 1000x600 with 2 Axes>"
            ],
            "image/png": "[encoded data removed]"
          },
          "metadata": {}
        },
        {
          "output_type": "stream",
          "name": "stdout",
          "text": [
            "📊 Características destacadas por cluster (vs. media global):\n",
            "\n",
            "Cluster 0:\n",
            "   ↓ calculated_host_listings_count: -70.7%\n",
            "   ↓ availability_365: -63.7%\n",
            "   ↓ number_of_reviews: -61.1%\n",
            "\n",
            "Cluster 1:\n",
            "   ↑ calculated_host_listings_count: +212.5%\n",
            "   ↑ availability_365: +137.7%\n",
            "   ↑ minimum_nights: +115.2%\n",
            "\n",
            "Cluster 2:\n",
            "   ↑ number_of_reviews: +352.6%\n",
            "   ↑ reviews_per_month: +281.0%\n",
            "   ↓ calculated_host_listings_count: -65.1%\n"
          ]
        }
      ]
    },
    {
      "cell_type": "markdown",
      "source": [
        "## **Análisis de los resultados**\n",
        "\n",
        "### **Contexto**\n",
        "El mercado de alojamientos de Airbnb presenta una gran heterogeneidad en términos de tipos de propiedades, estrategias de pricing, y patrones de uso. La segmentación de estos listings permite:\n",
        "\n",
        "- Identificar diferentes modelos de negocio\n",
        "- Comprender patrones de comportamiento de hosts\n",
        "- Optimizar estrategias de marketing y pricing\n",
        "- Detectar oportunidades de mercado\n",
        "---\n",
        "\n",
        "### **Objetivos Específicos**\n",
        "- Reducir la dimensionalidad de las variables numéricas clave\n",
        "- Identificar el número óptimo de clusters\n",
        "- Caracterizar cada segmento identificado\n",
        "- Proporcionar insights accionables para stakeholders\n",
        "---\n",
        "\n",
        "### **Variables Seleccionadas para el Análisis**\n",
        "\n",
        "- `minimum_nights`: Número mínimo de noches requeridas\n",
        "- `number_of_reviews`: Total de reseñas recibidas\n",
        "- `reviews_per_month`: Promedio de reseñas por mes\n",
        "- `calculated_host_listings_count`: Número de listings del host\n",
        "- `availability_365`: Días disponibles en el año\n",
        "- `price_USD`: Precio por noche en dólares\n",
        "---\n",
        "\n",
        "### **Preprocesamiento de los datos**\n",
        "- Se aplica StandardScaler para normalizar todas las variables, necesario para PCA y clustering debido a diferentes escalas (precio vs. número de reseñas)\n",
        "---\n",
        "\n",
        "### **PCA: Análisis de componentes principales**\n",
        "- Número de componentes: 5 (para análisis completo)\n",
        "- Uso de los primeros 2 componentes para clustering (optimización computacional)\n",
        "\n",
        "**Resultados:**\n",
        "\n",
        "| Componente | Varianza Individual | Varianza Acumulada |\n",
        "| ---------- | ------------------- | ------------------ |\n",
        "| PC1        | 27.8%               | 27.8%              |\n",
        "| PC2        | 18.8%               | 46.6%              |\n",
        "| PC3        | 17.0%               | 63.6%              |\n",
        "| PC4        | 15.4%               | 79.0%              |\n",
        "| PC5        | 14.6%               | 93.6%              |\n",
        "\n",
        "**PC1 - Dimensión de \"Popularidad y Actividad\" (27.8% varianza):**\n",
        "- `reviews_per_month`: 0.680 (contribución principal)\n",
        "- `number_of_reviews`: 0.680 (contribución principal)\n",
        "- `availability_365`: 0.208 (contribución menor)\n",
        "\n",
        "*Interpretación*: Este componente captura la actividad y popularidad del listing. Valores altos indican propiedades con alta rotación de huéspedes y feedback frecuente.\n",
        "\n",
        "**PC2 - Dimensión de \"Estrategia Comercial\" (18.8% varianza):**\n",
        "\n",
        "- `price_USD`: 0.571 (contribución principal)\n",
        "- `availability_365`: 0.570 (contribución principal)\n",
        "- `minimum_nights`: 0.456 (contribución moderada)\n",
        "\n",
        "*Interpretación*: Representa la estrategia de pricing y disponibilidad. Valores altos sugieren propiedades con precios elevados, alta disponibilidad y requisitos de estancia mínima.\n",
        "\n",
        "\n",
        "**Limitaciones Identificadas:**\n",
        "\n",
        "- Los primeros dos componentes explican solo el 46.6% de la varianza total\n",
        "- Existe información significativa en los componentes restantes\n",
        "- Posible pérdida de información al usar solo PC1 y PC2 para clustering\n",
        "\n",
        "**Patrones Identificados:**\n",
        "\n",
        "- Separación clara entre listings orientados a volumen vs. premium\n",
        "- Correlación entre actividad de reseñas y éxito del listing\n",
        "- Estrategias diferenciadas de pricing y disponibilidad\n",
        "---\n",
        "\n",
        "### **Análisis de clustering**\n",
        "\n",
        "#### **Cluster 0: \"Hosts Casuales/Ocasionales\" (61.0% del mercado)**\n",
        "\n",
        "**Características Distintivas:**\n",
        "\n",
        "- Listings por host: -70.7% vs. media global\n",
        "- Disponibilidad anual: -63.7% vs. media global\n",
        "- Número de reseñas: -61.1% vs. media global\n",
        "\n",
        "**Perfil del Segmento:**\n",
        "\n",
        "- **Tipo de Host:** Propietarios individuales, uso ocasional\n",
        "- **Estrategia:** Alquiler esporádico, posiblemente para financiar vacaciones propias\n",
        "- **Características:** Pocas propiedades, disponibilidad limitada, menor experiencia\n",
        "- **Oportunidades:** Educación sobre optimización de listings, herramientas de gestión simplificadas\n",
        "\n",
        "#### **Cluster 1: \"Operadores Profesionales/Comerciales\" (24.7% del mercado)**\n",
        "\n",
        "**Características Distintivas:**\n",
        "\n",
        "- Listings por host: +212.5% vs. media global\n",
        "- Disponibilidad anual: +137.7% vs. media global\n",
        "- Noches mínimas: +115.2% vs. media global\n",
        "\n",
        "**Perfil del Segmento:**\n",
        "\n",
        "- **Tipo de Host:** Gestores profesionales, empresas de property management\n",
        "- **Estrategia:** Maximización de ingresos, gestión de múltiples propiedades\n",
        "- **Características:** Portafolios extensos, alta disponibilidad, requisitos de estancia mínima\n",
        "- **Oportunidades:** Herramientas de gestión avanzadas, optimización de pricing dinámico\n",
        "\n",
        "#### **Cluster 2: \"Hosts Exitosos/Establecidos\" (14.3% del mercado)**\n",
        "\n",
        "**Características Distintivas:**\n",
        "\n",
        "- Número de reseñas: +352.6% vs. media global\n",
        "- Reseñas por mes: +281.0% vs. media global\n",
        "- Listings por host: -65.1% vs. media global\n",
        "\n",
        "**Perfil del Segmento:**\n",
        "\n",
        "- **Tipo de Host:** Propietarios experimentados, alta calidad de servicio\n",
        "- **Estrategia:** Foco en calidad y experiencia del huésped\n",
        "- **Características:** Pocas propiedades pero muy exitosas, alta rotación de huéspedes\n",
        "- **Oportunidades:** Programas de hosts destacados, expansión controlada\n",
        "---\n",
        "\n",
        "### **Insights de Mercado**\n",
        "\n",
        "**Concentración del Mercado:**\n",
        "\n",
        "- El 61% del mercado está dominado por hosts casuales\n",
        "- Solo el 14.3% representa hosts verdaderamente exitosos\n",
        "- Existe una clara profesionalización del 24.7% del mercado\n",
        "\n",
        "**Patrones de Comportamiento:**\n",
        "\n",
        "- Los hosts profesionales priorizan volumen sobre calidad de servicio\n",
        "- Los hosts exitosos mantienen portafolios pequeños pero altamente optimizados\n",
        "- La mayoría de hosts opera de manera casual y subóptima\n",
        "---\n",
        "\n",
        "### **Conclusiones**:\n",
        "\n",
        "El análisis de clustering de listings de Airbnb ha revelado tres segmentos claramente diferenciados que representan diferentes estrategias y niveles de madurez en el mercado de alojamientos de corta duración:\n",
        "\n",
        "1. **Hosts Casuales (61%):** Representan la mayoría del mercado pero con menor optimización\n",
        "2. **Operadores Profesionales (24.7%):** Enfocados en escala y volumen\n",
        "3. **Hosts Exitosos (14.3%):** Optimizados para calidad y experiencia del huésped\n",
        "\n",
        "Esta segmentación proporciona una base sólida para estrategias differentiated de producto, marketing y soporte, permitiendo a Airbnb y otros stakeholders del ecosistema desarrollar enfoques específicos para cada segmento.\n",
        "\n",
        "Los resultados demuestran la efectividad de combinar PCA con clustering para identificar patrones en datasets grandes y complejos, aunque se identifican oportunidades significativas para mejorar tanto la metodología como la profundidad del análisis.\n"
      ],
      "metadata": {
        "id": "5L4ApS-vhWRr"
      }
    }
  ]
}